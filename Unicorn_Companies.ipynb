{
 "cells": [
  {
   "cell_type": "code",
   "execution_count": 7,
   "metadata": {
    "colab": {
     "base_uri": "https://localhost:8080/"
    },
    "executionInfo": {
     "elapsed": 4229,
     "status": "ok",
     "timestamp": 1677258201082,
     "user": {
      "displayName": "Shloke Maheshwari",
      "userId": "14292175972920513536"
     },
     "user_tz": -330
    },
    "id": "XsnlfkQuGcR9",
    "outputId": "21eb707e-c472-4dfa-f07c-511e85188f53"
   },
   "outputs": [
    {
     "ename": "ModuleNotFoundError",
     "evalue": "No module named 'google.colab'",
     "output_type": "error",
     "traceback": [
      "\u001b[1;31m---------------------------------------------------------------------------\u001b[0m",
      "\u001b[1;31mModuleNotFoundError\u001b[0m                       Traceback (most recent call last)",
      "Cell \u001b[1;32mIn[7], line 6\u001b[0m\n\u001b[0;32m      4\u001b[0m \u001b[38;5;28;01mimport\u001b[39;00m \u001b[38;5;21;01mseaborn\u001b[39;00m \u001b[38;5;28;01mas\u001b[39;00m \u001b[38;5;21;01msns\u001b[39;00m\n\u001b[0;32m      5\u001b[0m \u001b[38;5;28;01mimport\u001b[39;00m \u001b[38;5;21;01mplotly\u001b[39;00m\u001b[38;5;21;01m.\u001b[39;00m\u001b[38;5;21;01mexpress\u001b[39;00m \u001b[38;5;28;01mas\u001b[39;00m \u001b[38;5;21;01mpx\u001b[39;00m\n\u001b[1;32m----> 6\u001b[0m \u001b[38;5;28;01mfrom\u001b[39;00m \u001b[38;5;21;01mgoogle\u001b[39;00m\u001b[38;5;21;01m.\u001b[39;00m\u001b[38;5;21;01mcolab\u001b[39;00m \u001b[38;5;28;01mimport\u001b[39;00m drive\n\u001b[0;32m      7\u001b[0m drive\u001b[38;5;241m.\u001b[39mmount(\u001b[38;5;124m'\u001b[39m\u001b[38;5;124m/content/gdrive\u001b[39m\u001b[38;5;124m'\u001b[39m)\n\u001b[0;32m      8\u001b[0m df\u001b[38;5;241m=\u001b[39mpd\u001b[38;5;241m.\u001b[39mread_csv(\u001b[38;5;124m'\u001b[39m\u001b[38;5;124m/content/gdrive/My Drive/Colab Notebooks/EDA(Project 1 Sigma)/Unicorn_Companies.csv\u001b[39m\u001b[38;5;124m'\u001b[39m)\n",
      "\u001b[1;31mModuleNotFoundError\u001b[0m: No module named 'google.colab'"
     ]
    }
   ],
   "source": [
    "import pandas as pd\n",
    "import numpy as np\n",
    "import matplotlib.pyplot as plt\n",
    "import seaborn as sns\n",
    "import plotly.express as px\n",
    "from google.colab import drive\n",
    "drive.mount('/content/gdrive')\n",
    "df=pd.read_csv('/content/gdrive/My Drive/Colab Notebooks/EDA(Project 1 Sigma)/Unicorn_Companies.csv')"
   ]
  },
  {
   "cell_type": "code",
   "execution_count": null,
   "metadata": {
    "colab": {
     "base_uri": "https://localhost:8080/",
     "height": 350
    },
    "executionInfo": {
     "elapsed": 34,
     "status": "ok",
     "timestamp": 1677258201082,
     "user": {
      "displayName": "Shloke Maheshwari",
      "userId": "14292175972920513536"
     },
     "user_tz": -330
    },
    "id": "0mkTjpCpGn77",
    "outputId": "e4c25ef2-119a-4f56-e6ab-89608ff38270"
   },
   "outputs": [],
   "source": [
    "df.head()"
   ]
  },
  {
   "cell_type": "code",
   "execution_count": null,
   "metadata": {
    "colab": {
     "base_uri": "https://localhost:8080/",
     "height": 350
    },
    "executionInfo": {
     "elapsed": 31,
     "status": "ok",
     "timestamp": 1677258201082,
     "user": {
      "displayName": "Shloke Maheshwari",
      "userId": "14292175972920513536"
     },
     "user_tz": -330
    },
    "id": "3C-USrG0Gpqk",
    "outputId": "5ab9e8c1-fd53-42cf-a9ad-4733ff8005ee"
   },
   "outputs": [],
   "source": [
    "df.tail()"
   ]
  },
  {
   "cell_type": "code",
   "execution_count": null,
   "metadata": {
    "colab": {
     "base_uri": "https://localhost:8080/"
    },
    "executionInfo": {
     "elapsed": 29,
     "status": "ok",
     "timestamp": 1677258201082,
     "user": {
      "displayName": "Shloke Maheshwari",
      "userId": "14292175972920513536"
     },
     "user_tz": -330
    },
    "id": "3r9dB_qzGsDb",
    "outputId": "f08a42df-9b1c-43e3-8324-92e533f92122"
   },
   "outputs": [],
   "source": [
    "df.isnull().sum()"
   ]
  },
  {
   "cell_type": "code",
   "execution_count": null,
   "metadata": {
    "colab": {
     "base_uri": "https://localhost:8080/"
    },
    "executionInfo": {
     "elapsed": 22,
     "status": "ok",
     "timestamp": 1677258201082,
     "user": {
      "displayName": "Shloke Maheshwari",
      "userId": "14292175972920513536"
     },
     "user_tz": -330
    },
    "id": "699Xmoh_Gv8J",
    "outputId": "68d6e57b-4628-45e8-fdb8-302a5f89ffe1"
   },
   "outputs": [],
   "source": [
    "df.dtypes"
   ]
  },
  {
   "cell_type": "code",
   "execution_count": null,
   "metadata": {
    "colab": {
     "base_uri": "https://localhost:8080/",
     "height": 650
    },
    "executionInfo": {
     "elapsed": 17,
     "status": "ok",
     "timestamp": 1677258201083,
     "user": {
      "displayName": "Shloke Maheshwari",
      "userId": "14292175972920513536"
     },
     "user_tz": -330
    },
    "id": "lKVWhEjcGzBA",
    "outputId": "3b568845-2222-4b9d-eebe-e021270d62d5"
   },
   "outputs": [],
   "source": [
    "df=df.drop(df[df[\"Founded Year\"]==\"None\"].index)\n",
    "df=df.drop(df[df[\"Total Raised\"]==\"None\"].index)\n",
    "df=df.drop(df[df[\"Investors Count\"]==\"None\"].index)\n",
    "df=df.drop(df[df[\"Select Inverstors\"]==\"None\"].index)\n",
    "df"
   ]
  },
  {
   "cell_type": "code",
   "execution_count": null,
   "metadata": {
    "colab": {
     "base_uri": "https://localhost:8080/",
     "height": 650
    },
    "executionInfo": {
     "elapsed": 16,
     "status": "ok",
     "timestamp": 1677258201083,
     "user": {
      "displayName": "Shloke Maheshwari",
      "userId": "14292175972920513536"
     },
     "user_tz": -330
    },
    "id": "9YSnzXr5G0Um",
    "outputId": "eac423f5-988e-4579-ba31-976546b18bed"
   },
   "outputs": [],
   "source": [
    "df=df.drop([\"Financial Stage\",\"Portfolio Exits\"],axis=1)\n",
    "df"
   ]
  },
  {
   "cell_type": "code",
   "execution_count": null,
   "metadata": {
    "colab": {
     "base_uri": "https://localhost:8080/",
     "height": 738
    },
    "executionInfo": {
     "elapsed": 15,
     "status": "ok",
     "timestamp": 1677258201083,
     "user": {
      "displayName": "Shloke Maheshwari",
      "userId": "14292175972920513536"
     },
     "user_tz": -330
    },
    "id": "MTr2YyYXG2av",
    "outputId": "e1034ad3-2d1c-495a-8976-d309914c84e1"
   },
   "outputs": [],
   "source": [
    "df[\"Valuation ($B)\"]=df[\"Valuation ($B)\"].str.replace(\"$\",\" \")\n",
    "df[\"Industry\"]=df[\"Industry\"].str.replace(\"Artificial intelligence\",\"Artificial Intelligence\")\n",
    "df[\"Industry\"]=df[\"Industry\"].str.replace(\"Finttech\",\"Fintech\")\n",
    "df[\"Valuation ($B)\"]=df[\"Valuation ($B)\"].astype(float)\n",
    "df[\"Investors Count\"]=df[\"Investors Count\"].astype(int)\n",
    "df"
   ]
  },
  {
   "cell_type": "code",
   "execution_count": null,
   "metadata": {
    "colab": {
     "base_uri": "https://localhost:8080/",
     "height": 650
    },
    "executionInfo": {
     "elapsed": 728,
     "status": "ok",
     "timestamp": 1677258201802,
     "user": {
      "displayName": "Shloke Maheshwari",
      "userId": "14292175972920513536"
     },
     "user_tz": -330
    },
    "id": "u8Ia_8s4G74w",
    "outputId": "458227bf-272c-44a8-c757-1fdbf302ea67"
   },
   "outputs": [],
   "source": [
    "df[\"Total Raised Unit\"] = df[\"Total Raised\"].str[-1]\n",
    "\n",
    "df[\"Total Raised\"] = df[\"Total Raised\"].replace({\"\\$\":\"\", \"B$\":\"\", \"M$\":\"\", \"None\":np.nan, \"K$\":\"\"}, regex = True)\n",
    "df[\"Total Raised\"] = df[\"Total Raised\"].astype(float)\n",
    "\n",
    "for i, row in df.iterrows():\n",
    "  if row[\"Total Raised Unit\"] == \"B\":\n",
    "    df.loc[i , \"Total Raised\"] = row[\"Total Raised\"] * 1_000_000_000\n",
    "\n",
    "  elif row[\"Total Raised Unit\"] == \"M\":\n",
    "    df.loc[i, \"Total Raised\"] = row[\"Total Raised\"] * 1_000_000\n",
    "\n",
    "  elif row[\"Total Raised Unit\"] == \"K\":\n",
    "    df.loc[i, \"Total Raised\"] = row[\"Total Raised\"] * 1_000\n",
    "\n",
    "df = df.drop(\"Total Raised Unit\", axis=1)\n",
    "\n",
    "df"
   ]
  },
  {
   "cell_type": "code",
   "execution_count": null,
   "metadata": {
    "colab": {
     "base_uri": "https://localhost:8080/",
     "height": 650
    },
    "executionInfo": {
     "elapsed": 37,
     "status": "ok",
     "timestamp": 1677258201803,
     "user": {
      "displayName": "Shloke Maheshwari",
      "userId": "14292175972920513536"
     },
     "user_tz": -330
    },
    "id": "cXoguld3HHXY",
    "outputId": "bfbe0887-8b5b-42f9-850d-3d9a3459e7ba"
   },
   "outputs": [],
   "source": [
    "df[['Date','Month','Year']]=df['Date Joined'].str.split('/',expand=True)\n",
    "df"
   ]
  },
  {
   "cell_type": "code",
   "execution_count": null,
   "metadata": {
    "id": "s9QHg2rgHM2q"
   },
   "outputs": [],
   "source": [
    "from datetime import datetime\n",
    "df[\"Date Joined\"]=pd.to_datetime(df[\"Date Joined\"])"
   ]
  },
  {
   "cell_type": "code",
   "execution_count": null,
   "metadata": {
    "id": "biCoWO7AHR9g"
   },
   "outputs": [],
   "source": [
    "df[\"Date\"]=df[\"Date\"].astype(int)\n",
    "df[\"Month\"]=df[\"Month\"].astype(int)\n",
    "df[\"Year\"]=df[\"Year\"].astype(int)\n",
    "df[\"Founded Year\"]=df[\"Founded Year\"].astype(int)"
   ]
  },
  {
   "cell_type": "code",
   "execution_count": null,
   "metadata": {
    "colab": {
     "base_uri": "https://localhost:8080/"
    },
    "executionInfo": {
     "elapsed": 34,
     "status": "ok",
     "timestamp": 1677258201803,
     "user": {
      "displayName": "Shloke Maheshwari",
      "userId": "14292175972920513536"
     },
     "user_tz": -330
    },
    "id": "tl1gJz7zHbkq",
    "outputId": "8b7a2048-ef60-443e-d4e5-5d2ae32ddb10"
   },
   "outputs": [],
   "source": [
    "df.dtypes"
   ]
  },
  {
   "cell_type": "code",
   "execution_count": null,
   "metadata": {
    "colab": {
     "base_uri": "https://localhost:8080/",
     "height": 735
    },
    "executionInfo": {
     "elapsed": 27,
     "status": "ok",
     "timestamp": 1677258201803,
     "user": {
      "displayName": "Shloke Maheshwari",
      "userId": "14292175972920513536"
     },
     "user_tz": -330
    },
    "id": "N0xzh-KCHe40",
    "outputId": "19ceec5b-8536-499b-ff99-72dfac16d3a9"
   },
   "outputs": [],
   "source": [
    "df['Years Taken to become Unicorn'] = df['Year'] - df['Founded Year']\n",
    "df['Years Taken to become Unicorn']=df['Years Taken to become Unicorn'].astype(int)\n",
    "df"
   ]
  },
  {
   "cell_type": "code",
   "execution_count": 5,
   "metadata": {
    "colab": {
     "base_uri": "https://localhost:8080/"
    },
    "executionInfo": {
     "elapsed": 26,
     "status": "ok",
     "timestamp": 1677258201803,
     "user": {
      "displayName": "Shloke Maheshwari",
      "userId": "14292175972920513536"
     },
     "user_tz": -330
    },
    "id": "GRyAIk1IH5Ra",
    "outputId": "7d340755-ca3e-4bcb-f4cb-5da92d13e4db"
   },
   "outputs": [
    {
     "ename": "NameError",
     "evalue": "name 'df' is not defined",
     "output_type": "error",
     "traceback": [
      "\u001b[1;31m---------------------------------------------------------------------------\u001b[0m",
      "\u001b[1;31mNameError\u001b[0m                                 Traceback (most recent call last)",
      "Cell \u001b[1;32mIn[5], line 1\u001b[0m\n\u001b[1;32m----> 1\u001b[0m \u001b[43mdf\u001b[49m\u001b[38;5;241m.\u001b[39mshape\n",
      "\u001b[1;31mNameError\u001b[0m: name 'df' is not defined"
     ]
    }
   ],
   "source": [
    "df.shape"
   ]
  },
  {
   "cell_type": "code",
   "execution_count": null,
   "metadata": {
    "colab": {
     "base_uri": "https://localhost:8080/",
     "height": 297
    },
    "executionInfo": {
     "elapsed": 21,
     "status": "ok",
     "timestamp": 1677258201804,
     "user": {
      "displayName": "Shloke Maheshwari",
      "userId": "14292175972920513536"
     },
     "user_tz": -330
    },
    "id": "kgF3ThcZH69N",
    "outputId": "90d0ad1f-d021-42bd-b2ec-1c07f152b483"
   },
   "outputs": [],
   "source": [
    "df.describe()"
   ]
  },
  {
   "cell_type": "code",
   "execution_count": null,
   "metadata": {
    "colab": {
     "base_uri": "https://localhost:8080/"
    },
    "executionInfo": {
     "elapsed": 20,
     "status": "ok",
     "timestamp": 1677258201804,
     "user": {
      "displayName": "Shloke Maheshwari",
      "userId": "14292175972920513536"
     },
     "user_tz": -330
    },
    "id": "uoKPnW3nH9Ra",
    "outputId": "46bbd691-a80d-4496-ead3-c294b0d8b5fb"
   },
   "outputs": [],
   "source": [
    "df.nunique()"
   ]
  },
  {
   "cell_type": "markdown",
   "metadata": {
    "id": "tbs-oRGP0NFc"
   },
   "source": [
    "COUNTRY WISE ANALYSIS"
   ]
  },
  {
   "cell_type": "markdown",
   "metadata": {
    "id": "-AcRcHd3IFCC"
   },
   "source": [
    "Top Countries wrt the Total Valuation and Number of Unicorns"
   ]
  },
  {
   "cell_type": "code",
   "execution_count": 4,
   "metadata": {
    "colab": {
     "base_uri": "https://localhost:8080/",
     "height": 266
    },
    "executionInfo": {
     "elapsed": 15,
     "status": "ok",
     "timestamp": 1677258201804,
     "user": {
      "displayName": "Shloke Maheshwari",
      "userId": "14292175972920513536"
     },
     "user_tz": -330
    },
    "id": "EyfGtUX0IAmr",
    "outputId": "e1f73f73-9c73-4bbf-8372-791680f4a113"
   },
   "outputs": [
    {
     "ename": "NameError",
     "evalue": "name 'df' is not defined",
     "output_type": "error",
     "traceback": [
      "\u001b[1;31m---------------------------------------------------------------------------\u001b[0m",
      "\u001b[1;31mNameError\u001b[0m                                 Traceback (most recent call last)",
      "Cell \u001b[1;32mIn[4], line 1\u001b[0m\n\u001b[1;32m----> 1\u001b[0m temp\u001b[38;5;241m=\u001b[39m\u001b[43mdf\u001b[49m\u001b[38;5;241m.\u001b[39mgroupby(by\u001b[38;5;241m=\u001b[39m[\u001b[38;5;124m'\u001b[39m\u001b[38;5;124mCountry\u001b[39m\u001b[38;5;124m'\u001b[39m])\u001b[38;5;241m.\u001b[39magg({\u001b[38;5;124m'\u001b[39m\u001b[38;5;124mCompany\u001b[39m\u001b[38;5;124m'\u001b[39m:[\u001b[38;5;124m'\u001b[39m\u001b[38;5;124mcount\u001b[39m\u001b[38;5;124m'\u001b[39m],\u001b[38;5;124m'\u001b[39m\u001b[38;5;124mValuation ($B)\u001b[39m\u001b[38;5;124m'\u001b[39m: [\u001b[38;5;124m'\u001b[39m\u001b[38;5;124msum\u001b[39m\u001b[38;5;124m'\u001b[39m]})\n\u001b[0;32m      2\u001b[0m temp\u001b[38;5;241m=\u001b[39mtemp\u001b[38;5;241m.\u001b[39msort_values([(\u001b[38;5;124m'\u001b[39m\u001b[38;5;124mCompany\u001b[39m\u001b[38;5;124m'\u001b[39m, \u001b[38;5;124m'\u001b[39m\u001b[38;5;124mcount\u001b[39m\u001b[38;5;124m'\u001b[39m)], ascending\u001b[38;5;241m=\u001b[39m\u001b[38;5;28;01mFalse\u001b[39;00m)[:\u001b[38;5;241m5\u001b[39m]\n\u001b[0;32m      3\u001b[0m temp\n",
      "\u001b[1;31mNameError\u001b[0m: name 'df' is not defined"
     ]
    }
   ],
   "source": [
    "temp=df.groupby(by=['Country']).agg({'Company':['count'],'Valuation ($B)': ['sum']})\n",
    "temp=temp.sort_values([('Company', 'count')], ascending=False)[:5]\n",
    "temp"
   ]
  },
  {
   "cell_type": "code",
   "execution_count": null,
   "metadata": {
    "colab": {
     "base_uri": "https://localhost:8080/",
     "height": 542
    },
    "executionInfo": {
     "elapsed": 13,
     "status": "ok",
     "timestamp": 1677258201804,
     "user": {
      "displayName": "Shloke Maheshwari",
      "userId": "14292175972920513536"
     },
     "user_tz": -330
    },
    "id": "U_F9UiwjUGIj",
    "outputId": "406b7c05-d4f8-4690-decf-57fc2701ae79"
   },
   "outputs": [],
   "source": [
    "fig=px.bar(x=temp[('Valuation ($B)','sum')],y=temp.index,title=\"Top Countries wrt Total Valuation and the Number of Unicorns\",text_auto=True,color=temp[('Company', 'count')], labels={\n",
    "                     \"y\": \"Country\",\n",
    "                     \"x\": \"Total Valuation($B)\",\n",
    "                     \"color\":\"Number of Unicorns\"})\n",
    "fig.show()"
   ]
  },
  {
   "cell_type": "markdown",
   "metadata": {
    "id": "uyFVCKxnOsbv"
   },
   "source": [
    "Average Years taken to become Unicorn wrt Country"
   ]
  },
  {
   "cell_type": "code",
   "execution_count": null,
   "metadata": {
    "colab": {
     "base_uri": "https://localhost:8080/",
     "height": 607
    },
    "executionInfo": {
     "elapsed": 385,
     "status": "ok",
     "timestamp": 1677271155464,
     "user": {
      "displayName": "Shloke Maheshwari",
      "userId": "14292175972920513536"
     },
     "user_tz": -330
    },
    "id": "PJLNwHD6OwMq",
    "outputId": "99a8ff01-d074-4b50-c309-8959995d070d"
   },
   "outputs": [],
   "source": [
    "temp=df.groupby(by=['Country']).agg({'Years Taken to become Unicorn':['mean']})\n",
    "temp=temp.sort_values([('Years Taken to become Unicorn', 'mean')], ascending=False)[9:25]\n",
    "temp"
   ]
  },
  {
   "cell_type": "code",
   "execution_count": 2,
   "metadata": {
    "colab": {
     "base_uri": "https://localhost:8080/",
     "height": 542
    },
    "executionInfo": {
     "elapsed": 434,
     "status": "ok",
     "timestamp": 1677271447013,
     "user": {
      "displayName": "Shloke Maheshwari",
      "userId": "14292175972920513536"
     },
     "user_tz": -330
    },
    "id": "w3Iyjj3XJvtR",
    "outputId": "5e35e0b0-16b5-4e74-acc1-47be511d508b"
   },
   "outputs": [
    {
     "ename": "NameError",
     "evalue": "name 'px' is not defined",
     "output_type": "error",
     "traceback": [
      "\u001b[1;31m---------------------------------------------------------------------------\u001b[0m",
      "\u001b[1;31mNameError\u001b[0m                                 Traceback (most recent call last)",
      "Cell \u001b[1;32mIn[2], line 1\u001b[0m\n\u001b[1;32m----> 1\u001b[0m fig\u001b[38;5;241m=\u001b[39m\u001b[43mpx\u001b[49m\u001b[38;5;241m.\u001b[39mscatter(y\u001b[38;5;241m=\u001b[39mtemp[(\u001b[38;5;124m'\u001b[39m\u001b[38;5;124mYears Taken to become Unicorn\u001b[39m\u001b[38;5;124m'\u001b[39m,\u001b[38;5;124m'\u001b[39m\u001b[38;5;124mmean\u001b[39m\u001b[38;5;124m'\u001b[39m)],x\u001b[38;5;241m=\u001b[39mtemp\u001b[38;5;241m.\u001b[39mindex,size\u001b[38;5;241m=\u001b[39mtemp[(\u001b[38;5;124m'\u001b[39m\u001b[38;5;124mYears Taken to become Unicorn\u001b[39m\u001b[38;5;124m'\u001b[39m, \u001b[38;5;124m'\u001b[39m\u001b[38;5;124mmean\u001b[39m\u001b[38;5;124m'\u001b[39m)],size_max\u001b[38;5;241m=\u001b[39m\u001b[38;5;241m30\u001b[39m,color\u001b[38;5;241m=\u001b[39mtemp\u001b[38;5;241m.\u001b[39mindex,title\u001b[38;5;241m=\u001b[39m\u001b[38;5;124m\"\u001b[39m\u001b[38;5;124mAverage years taken to become Unicorn wrt Country\u001b[39m\u001b[38;5;124m\"\u001b[39m,labels\u001b[38;5;241m=\u001b[39m{\u001b[38;5;124m\"\u001b[39m\u001b[38;5;124my\u001b[39m\u001b[38;5;124m\"\u001b[39m:\u001b[38;5;124m\"\u001b[39m\u001b[38;5;124mYears Taken\u001b[39m\u001b[38;5;124m\"\u001b[39m,\u001b[38;5;124m\"\u001b[39m\u001b[38;5;124mx\u001b[39m\u001b[38;5;124m\"\u001b[39m:\u001b[38;5;124m\"\u001b[39m\u001b[38;5;124mCountry\u001b[39m\u001b[38;5;124m\"\u001b[39m, \u001b[38;5;124m\"\u001b[39m\u001b[38;5;124mcolor\u001b[39m\u001b[38;5;124m\"\u001b[39m: \u001b[38;5;124m\"\u001b[39m\u001b[38;5;124mCountry\u001b[39m\u001b[38;5;124m\"\u001b[39m})\n\u001b[0;32m      2\u001b[0m fig\u001b[38;5;241m.\u001b[39mshow()\n",
      "\u001b[1;31mNameError\u001b[0m: name 'px' is not defined"
     ]
    }
   ],
   "source": [
    "fig=px.scatter(y=temp[('Years Taken to become Unicorn','mean')],x=temp.index,size=temp[('Years Taken to become Unicorn', 'mean')],size_max=30,color=temp.index,title=\"Average years taken to become Unicorn wrt Country\",labels={\"y\":\"Years Taken\",\"x\":\"Country\", \"color\": \"Country\"})\n",
    "fig.show()"
   ]
  },
  {
   "cell_type": "code",
   "execution_count": 3,
   "metadata": {
    "colab": {
     "base_uri": "https://localhost:8080/",
     "height": 542
    },
    "executionInfo": {
     "elapsed": 4,
     "status": "ok",
     "timestamp": 1677259359961,
     "user": {
      "displayName": "Shloke Maheshwari",
      "userId": "14292175972920513536"
     },
     "user_tz": -330
    },
    "id": "D9ICZsjqIDm2",
    "outputId": "dd8d03cc-37ef-4e50-c5fc-c21bf75e59de"
   },
   "outputs": [
    {
     "ename": "NameError",
     "evalue": "name 'px' is not defined",
     "output_type": "error",
     "traceback": [
      "\u001b[1;31m---------------------------------------------------------------------------\u001b[0m",
      "\u001b[1;31mNameError\u001b[0m                                 Traceback (most recent call last)",
      "Cell \u001b[1;32mIn[3], line 1\u001b[0m\n\u001b[1;32m----> 1\u001b[0m fig\u001b[38;5;241m=\u001b[39m\u001b[43mpx\u001b[49m\u001b[38;5;241m.\u001b[39mline(y\u001b[38;5;241m=\u001b[39mtemp[(\u001b[38;5;124m'\u001b[39m\u001b[38;5;124mYears Taken to become Unicorn\u001b[39m\u001b[38;5;124m'\u001b[39m,\u001b[38;5;124m'\u001b[39m\u001b[38;5;124mmean\u001b[39m\u001b[38;5;124m'\u001b[39m)],x\u001b[38;5;241m=\u001b[39mtemp\u001b[38;5;241m.\u001b[39mindex,labels\u001b[38;5;241m=\u001b[39m{\n\u001b[0;32m      2\u001b[0m                      \u001b[38;5;124m\"\u001b[39m\u001b[38;5;124mx\u001b[39m\u001b[38;5;124m\"\u001b[39m: \u001b[38;5;124m\"\u001b[39m\u001b[38;5;124mCountry\u001b[39m\u001b[38;5;124m\"\u001b[39m,\n\u001b[0;32m      3\u001b[0m                      \u001b[38;5;124m\"\u001b[39m\u001b[38;5;124my\u001b[39m\u001b[38;5;124m\"\u001b[39m: \u001b[38;5;124m\"\u001b[39m\u001b[38;5;124mAverage Years Taken\u001b[39m\u001b[38;5;124m\"\u001b[39m},title\u001b[38;5;241m=\u001b[39m\u001b[38;5;124m\"\u001b[39m\u001b[38;5;124mAverage Years taken to become Unicorn wrt Country\u001b[39m\u001b[38;5;124m\"\u001b[39m)\n\u001b[0;32m      4\u001b[0m fig\u001b[38;5;241m.\u001b[39mupdate_traces(line_color\u001b[38;5;241m=\u001b[39m\u001b[38;5;124m\"\u001b[39m\u001b[38;5;124mblue\u001b[39m\u001b[38;5;124m\"\u001b[39m)\n\u001b[0;32m      5\u001b[0m fig\u001b[38;5;241m.\u001b[39mshow()\n",
      "\u001b[1;31mNameError\u001b[0m: name 'px' is not defined"
     ]
    }
   ],
   "source": [
    "\n",
    "fig=px.line(y=temp[('Years Taken to become Unicorn','mean')],x=temp.index,labels={\n",
    "                     \"x\": \"Country\",\n",
    "                     \"y\": \"Average Years Taken\"},title=\"Average Years taken to become Unicorn wrt Country\")\n",
    "fig.update_traces(line_color=\"blue\")\n",
    "fig.show()"
   ]
  },
  {
   "cell_type": "markdown",
   "metadata": {
    "id": "49cuY9Xg186I"
   },
   "source": [
    "Top Countries wrt Total Money raised"
   ]
  },
  {
   "cell_type": "code",
   "execution_count": null,
   "metadata": {
    "colab": {
     "base_uri": "https://localhost:8080/",
     "height": 297
    },
    "executionInfo": {
     "elapsed": 403,
     "status": "ok",
     "timestamp": 1677269811427,
     "user": {
      "displayName": "Shloke Maheshwari",
      "userId": "14292175972920513536"
     },
     "user_tz": -330
    },
    "id": "-DBpizeg2E3M",
    "outputId": "75e6e0ee-f74d-4eae-95c7-a4614b77bf36"
   },
   "outputs": [
    {
     "data": {
      "text/html": [
       "\n",
       "  <div id=\"df-3c333169-3d97-41a1-93b9-d0b6fc7d7c9d\">\n",
       "    <div class=\"colab-df-container\">\n",
       "      <div>\n",
       "<style scoped>\n",
       "    .dataframe tbody tr th:only-of-type {\n",
       "        vertical-align: middle;\n",
       "    }\n",
       "\n",
       "    .dataframe tbody tr th {\n",
       "        vertical-align: top;\n",
       "    }\n",
       "\n",
       "    .dataframe thead tr th {\n",
       "        text-align: left;\n",
       "    }\n",
       "\n",
       "    .dataframe thead tr:last-of-type th {\n",
       "        text-align: right;\n",
       "    }\n",
       "</style>\n",
       "<table border=\"1\" class=\"dataframe\">\n",
       "  <thead>\n",
       "    <tr>\n",
       "      <th></th>\n",
       "      <th>Total Raised</th>\n",
       "    </tr>\n",
       "    <tr>\n",
       "      <th></th>\n",
       "      <th>sum</th>\n",
       "    </tr>\n",
       "    <tr>\n",
       "      <th>Country</th>\n",
       "      <th></th>\n",
       "    </tr>\n",
       "  </thead>\n",
       "  <tbody>\n",
       "    <tr>\n",
       "      <th>United States</th>\n",
       "      <td>2.606510e+11</td>\n",
       "    </tr>\n",
       "    <tr>\n",
       "      <th>China</th>\n",
       "      <td>1.156116e+11</td>\n",
       "    </tr>\n",
       "    <tr>\n",
       "      <th>India</th>\n",
       "      <td>4.409539e+10</td>\n",
       "    </tr>\n",
       "    <tr>\n",
       "      <th>United Kingdom</th>\n",
       "      <td>2.825431e+10</td>\n",
       "    </tr>\n",
       "    <tr>\n",
       "      <th>Germany</th>\n",
       "      <td>1.781735e+10</td>\n",
       "    </tr>\n",
       "    <tr>\n",
       "      <th>France</th>\n",
       "      <td>1.252762e+10</td>\n",
       "    </tr>\n",
       "  </tbody>\n",
       "</table>\n",
       "</div>\n",
       "      <button class=\"colab-df-convert\" onclick=\"convertToInteractive('df-3c333169-3d97-41a1-93b9-d0b6fc7d7c9d')\"\n",
       "              title=\"Convert this dataframe to an interactive table.\"\n",
       "              style=\"display:none;\">\n",
       "        \n",
       "  <svg xmlns=\"http://www.w3.org/2000/svg\" height=\"24px\"viewBox=\"0 0 24 24\"\n",
       "       width=\"24px\">\n",
       "    <path d=\"M0 0h24v24H0V0z\" fill=\"none\"/>\n",
       "    <path d=\"M18.56 5.44l.94 2.06.94-2.06 2.06-.94-2.06-.94-.94-2.06-.94 2.06-2.06.94zm-11 1L8.5 8.5l.94-2.06 2.06-.94-2.06-.94L8.5 2.5l-.94 2.06-2.06.94zm10 10l.94 2.06.94-2.06 2.06-.94-2.06-.94-.94-2.06-.94 2.06-2.06.94z\"/><path d=\"M17.41 7.96l-1.37-1.37c-.4-.4-.92-.59-1.43-.59-.52 0-1.04.2-1.43.59L10.3 9.45l-7.72 7.72c-.78.78-.78 2.05 0 2.83L4 21.41c.39.39.9.59 1.41.59.51 0 1.02-.2 1.41-.59l7.78-7.78 2.81-2.81c.8-.78.8-2.07 0-2.86zM5.41 20L4 18.59l7.72-7.72 1.47 1.35L5.41 20z\"/>\n",
       "  </svg>\n",
       "      </button>\n",
       "      \n",
       "  <style>\n",
       "    .colab-df-container {\n",
       "      display:flex;\n",
       "      flex-wrap:wrap;\n",
       "      gap: 12px;\n",
       "    }\n",
       "\n",
       "    .colab-df-convert {\n",
       "      background-color: #E8F0FE;\n",
       "      border: none;\n",
       "      border-radius: 50%;\n",
       "      cursor: pointer;\n",
       "      display: none;\n",
       "      fill: #1967D2;\n",
       "      height: 32px;\n",
       "      padding: 0 0 0 0;\n",
       "      width: 32px;\n",
       "    }\n",
       "\n",
       "    .colab-df-convert:hover {\n",
       "      background-color: #E2EBFA;\n",
       "      box-shadow: 0px 1px 2px rgba(60, 64, 67, 0.3), 0px 1px 3px 1px rgba(60, 64, 67, 0.15);\n",
       "      fill: #174EA6;\n",
       "    }\n",
       "\n",
       "    [theme=dark] .colab-df-convert {\n",
       "      background-color: #3B4455;\n",
       "      fill: #D2E3FC;\n",
       "    }\n",
       "\n",
       "    [theme=dark] .colab-df-convert:hover {\n",
       "      background-color: #434B5C;\n",
       "      box-shadow: 0px 1px 3px 1px rgba(0, 0, 0, 0.15);\n",
       "      filter: drop-shadow(0px 1px 2px rgba(0, 0, 0, 0.3));\n",
       "      fill: #FFFFFF;\n",
       "    }\n",
       "  </style>\n",
       "\n",
       "      <script>\n",
       "        const buttonEl =\n",
       "          document.querySelector('#df-3c333169-3d97-41a1-93b9-d0b6fc7d7c9d button.colab-df-convert');\n",
       "        buttonEl.style.display =\n",
       "          google.colab.kernel.accessAllowed ? 'block' : 'none';\n",
       "\n",
       "        async function convertToInteractive(key) {\n",
       "          const element = document.querySelector('#df-3c333169-3d97-41a1-93b9-d0b6fc7d7c9d');\n",
       "          const dataTable =\n",
       "            await google.colab.kernel.invokeFunction('convertToInteractive',\n",
       "                                                     [key], {});\n",
       "          if (!dataTable) return;\n",
       "\n",
       "          const docLinkHtml = 'Like what you see? Visit the ' +\n",
       "            '<a target=\"_blank\" href=https://colab.research.google.com/notebooks/data_table.ipynb>data table notebook</a>'\n",
       "            + ' to learn more about interactive tables.';\n",
       "          element.innerHTML = '';\n",
       "          dataTable['output_type'] = 'display_data';\n",
       "          await google.colab.output.renderOutput(dataTable, element);\n",
       "          const docLink = document.createElement('div');\n",
       "          docLink.innerHTML = docLinkHtml;\n",
       "          element.appendChild(docLink);\n",
       "        }\n",
       "      </script>\n",
       "    </div>\n",
       "  </div>\n",
       "  "
      ],
      "text/plain": [
       "                Total Raised\n",
       "                         sum\n",
       "Country                     \n",
       "United States   2.606510e+11\n",
       "China           1.156116e+11\n",
       "India           4.409539e+10\n",
       "United Kingdom  2.825431e+10\n",
       "Germany         1.781735e+10\n",
       "France          1.252762e+10"
      ]
     },
     "execution_count": 204,
     "metadata": {},
     "output_type": "execute_result"
    }
   ],
   "source": [
    "temp=df.groupby(by=['Country']).agg({'Total Raised':['sum']})\n",
    "temp=temp.sort_values([('Total Raised', 'sum')], ascending=False)[:6]\n",
    "temp"
   ]
  },
  {
   "cell_type": "code",
   "execution_count": null,
   "metadata": {
    "colab": {
     "base_uri": "https://localhost:8080/",
     "height": 542
    },
    "executionInfo": {
     "elapsed": 668,
     "status": "ok",
     "timestamp": 1677271046102,
     "user": {
      "displayName": "Shloke Maheshwari",
      "userId": "14292175972920513536"
     },
     "user_tz": -330
    },
    "id": "JOq0KPHCET8R",
    "outputId": "1e56d23c-54aa-4a91-d0f8-2e8a975c080a"
   },
   "outputs": [
    {
     "data": {
      "text/html": [
       "<html>\n",
       "<head><meta charset=\"utf-8\" /></head>\n",
       "<body>\n",
       "    <div>            <script src=\"https://cdnjs.cloudflare.com/ajax/libs/mathjax/2.7.5/MathJax.js?config=TeX-AMS-MML_SVG\"></script><script type=\"text/javascript\">if (window.MathJax) {MathJax.Hub.Config({SVG: {font: \"STIX-Web\"}});}</script>                <script type=\"text/javascript\">window.PlotlyConfig = {MathJaxConfig: 'local'};</script>\n",
       "        <script src=\"https://cdn.plot.ly/plotly-2.8.3.min.js\"></script>                <div id=\"32c5cd23-2d1d-4209-a052-8c6944f415b1\" class=\"plotly-graph-div\" style=\"height:525px; width:100%;\"></div>            <script type=\"text/javascript\">                                    window.PLOTLYENV=window.PLOTLYENV || {};                                    if (document.getElementById(\"32c5cd23-2d1d-4209-a052-8c6944f415b1\")) {                    Plotly.newPlot(                        \"32c5cd23-2d1d-4209-a052-8c6944f415b1\",                        [{\"hovertemplate\":\"Country=%{x}<br>Total Raised($B)=%{y}<extra></extra>\",\"legendgroup\":\"\",\"line\":{\"color\":\"blue\",\"dash\":\"solid\"},\"marker\":{\"symbol\":\"circle\"},\"mode\":\"lines\",\"name\":\"\",\"orientation\":\"v\",\"showlegend\":false,\"x\":[\"United States\",\"China\",\"India\",\"United Kingdom\",\"Germany\",\"France\"],\"xaxis\":\"x\",\"y\":[260651050000.0,115611550000.0,44095390000.0,28254310000.0,17817350000.0,12527620000.0],\"yaxis\":\"y\",\"type\":\"scatter\"}],                        {\"template\":{\"data\":{\"bar\":[{\"error_x\":{\"color\":\"#2a3f5f\"},\"error_y\":{\"color\":\"#2a3f5f\"},\"marker\":{\"line\":{\"color\":\"#E5ECF6\",\"width\":0.5},\"pattern\":{\"fillmode\":\"overlay\",\"size\":10,\"solidity\":0.2}},\"type\":\"bar\"}],\"barpolar\":[{\"marker\":{\"line\":{\"color\":\"#E5ECF6\",\"width\":0.5},\"pattern\":{\"fillmode\":\"overlay\",\"size\":10,\"solidity\":0.2}},\"type\":\"barpolar\"}],\"carpet\":[{\"aaxis\":{\"endlinecolor\":\"#2a3f5f\",\"gridcolor\":\"white\",\"linecolor\":\"white\",\"minorgridcolor\":\"white\",\"startlinecolor\":\"#2a3f5f\"},\"baxis\":{\"endlinecolor\":\"#2a3f5f\",\"gridcolor\":\"white\",\"linecolor\":\"white\",\"minorgridcolor\":\"white\",\"startlinecolor\":\"#2a3f5f\"},\"type\":\"carpet\"}],\"choropleth\":[{\"colorbar\":{\"outlinewidth\":0,\"ticks\":\"\"},\"type\":\"choropleth\"}],\"contour\":[{\"colorbar\":{\"outlinewidth\":0,\"ticks\":\"\"},\"colorscale\":[[0.0,\"#0d0887\"],[0.1111111111111111,\"#46039f\"],[0.2222222222222222,\"#7201a8\"],[0.3333333333333333,\"#9c179e\"],[0.4444444444444444,\"#bd3786\"],[0.5555555555555556,\"#d8576b\"],[0.6666666666666666,\"#ed7953\"],[0.7777777777777778,\"#fb9f3a\"],[0.8888888888888888,\"#fdca26\"],[1.0,\"#f0f921\"]],\"type\":\"contour\"}],\"contourcarpet\":[{\"colorbar\":{\"outlinewidth\":0,\"ticks\":\"\"},\"type\":\"contourcarpet\"}],\"heatmap\":[{\"colorbar\":{\"outlinewidth\":0,\"ticks\":\"\"},\"colorscale\":[[0.0,\"#0d0887\"],[0.1111111111111111,\"#46039f\"],[0.2222222222222222,\"#7201a8\"],[0.3333333333333333,\"#9c179e\"],[0.4444444444444444,\"#bd3786\"],[0.5555555555555556,\"#d8576b\"],[0.6666666666666666,\"#ed7953\"],[0.7777777777777778,\"#fb9f3a\"],[0.8888888888888888,\"#fdca26\"],[1.0,\"#f0f921\"]],\"type\":\"heatmap\"}],\"heatmapgl\":[{\"colorbar\":{\"outlinewidth\":0,\"ticks\":\"\"},\"colorscale\":[[0.0,\"#0d0887\"],[0.1111111111111111,\"#46039f\"],[0.2222222222222222,\"#7201a8\"],[0.3333333333333333,\"#9c179e\"],[0.4444444444444444,\"#bd3786\"],[0.5555555555555556,\"#d8576b\"],[0.6666666666666666,\"#ed7953\"],[0.7777777777777778,\"#fb9f3a\"],[0.8888888888888888,\"#fdca26\"],[1.0,\"#f0f921\"]],\"type\":\"heatmapgl\"}],\"histogram\":[{\"marker\":{\"pattern\":{\"fillmode\":\"overlay\",\"size\":10,\"solidity\":0.2}},\"type\":\"histogram\"}],\"histogram2d\":[{\"colorbar\":{\"outlinewidth\":0,\"ticks\":\"\"},\"colorscale\":[[0.0,\"#0d0887\"],[0.1111111111111111,\"#46039f\"],[0.2222222222222222,\"#7201a8\"],[0.3333333333333333,\"#9c179e\"],[0.4444444444444444,\"#bd3786\"],[0.5555555555555556,\"#d8576b\"],[0.6666666666666666,\"#ed7953\"],[0.7777777777777778,\"#fb9f3a\"],[0.8888888888888888,\"#fdca26\"],[1.0,\"#f0f921\"]],\"type\":\"histogram2d\"}],\"histogram2dcontour\":[{\"colorbar\":{\"outlinewidth\":0,\"ticks\":\"\"},\"colorscale\":[[0.0,\"#0d0887\"],[0.1111111111111111,\"#46039f\"],[0.2222222222222222,\"#7201a8\"],[0.3333333333333333,\"#9c179e\"],[0.4444444444444444,\"#bd3786\"],[0.5555555555555556,\"#d8576b\"],[0.6666666666666666,\"#ed7953\"],[0.7777777777777778,\"#fb9f3a\"],[0.8888888888888888,\"#fdca26\"],[1.0,\"#f0f921\"]],\"type\":\"histogram2dcontour\"}],\"mesh3d\":[{\"colorbar\":{\"outlinewidth\":0,\"ticks\":\"\"},\"type\":\"mesh3d\"}],\"parcoords\":[{\"line\":{\"colorbar\":{\"outlinewidth\":0,\"ticks\":\"\"}},\"type\":\"parcoords\"}],\"pie\":[{\"automargin\":true,\"type\":\"pie\"}],\"scatter\":[{\"marker\":{\"colorbar\":{\"outlinewidth\":0,\"ticks\":\"\"}},\"type\":\"scatter\"}],\"scatter3d\":[{\"line\":{\"colorbar\":{\"outlinewidth\":0,\"ticks\":\"\"}},\"marker\":{\"colorbar\":{\"outlinewidth\":0,\"ticks\":\"\"}},\"type\":\"scatter3d\"}],\"scattercarpet\":[{\"marker\":{\"colorbar\":{\"outlinewidth\":0,\"ticks\":\"\"}},\"type\":\"scattercarpet\"}],\"scattergeo\":[{\"marker\":{\"colorbar\":{\"outlinewidth\":0,\"ticks\":\"\"}},\"type\":\"scattergeo\"}],\"scattergl\":[{\"marker\":{\"colorbar\":{\"outlinewidth\":0,\"ticks\":\"\"}},\"type\":\"scattergl\"}],\"scattermapbox\":[{\"marker\":{\"colorbar\":{\"outlinewidth\":0,\"ticks\":\"\"}},\"type\":\"scattermapbox\"}],\"scatterpolar\":[{\"marker\":{\"colorbar\":{\"outlinewidth\":0,\"ticks\":\"\"}},\"type\":\"scatterpolar\"}],\"scatterpolargl\":[{\"marker\":{\"colorbar\":{\"outlinewidth\":0,\"ticks\":\"\"}},\"type\":\"scatterpolargl\"}],\"scatterternary\":[{\"marker\":{\"colorbar\":{\"outlinewidth\":0,\"ticks\":\"\"}},\"type\":\"scatterternary\"}],\"surface\":[{\"colorbar\":{\"outlinewidth\":0,\"ticks\":\"\"},\"colorscale\":[[0.0,\"#0d0887\"],[0.1111111111111111,\"#46039f\"],[0.2222222222222222,\"#7201a8\"],[0.3333333333333333,\"#9c179e\"],[0.4444444444444444,\"#bd3786\"],[0.5555555555555556,\"#d8576b\"],[0.6666666666666666,\"#ed7953\"],[0.7777777777777778,\"#fb9f3a\"],[0.8888888888888888,\"#fdca26\"],[1.0,\"#f0f921\"]],\"type\":\"surface\"}],\"table\":[{\"cells\":{\"fill\":{\"color\":\"#EBF0F8\"},\"line\":{\"color\":\"white\"}},\"header\":{\"fill\":{\"color\":\"#C8D4E3\"},\"line\":{\"color\":\"white\"}},\"type\":\"table\"}]},\"layout\":{\"annotationdefaults\":{\"arrowcolor\":\"#2a3f5f\",\"arrowhead\":0,\"arrowwidth\":1},\"autotypenumbers\":\"strict\",\"coloraxis\":{\"colorbar\":{\"outlinewidth\":0,\"ticks\":\"\"}},\"colorscale\":{\"diverging\":[[0,\"#8e0152\"],[0.1,\"#c51b7d\"],[0.2,\"#de77ae\"],[0.3,\"#f1b6da\"],[0.4,\"#fde0ef\"],[0.5,\"#f7f7f7\"],[0.6,\"#e6f5d0\"],[0.7,\"#b8e186\"],[0.8,\"#7fbc41\"],[0.9,\"#4d9221\"],[1,\"#276419\"]],\"sequential\":[[0.0,\"#0d0887\"],[0.1111111111111111,\"#46039f\"],[0.2222222222222222,\"#7201a8\"],[0.3333333333333333,\"#9c179e\"],[0.4444444444444444,\"#bd3786\"],[0.5555555555555556,\"#d8576b\"],[0.6666666666666666,\"#ed7953\"],[0.7777777777777778,\"#fb9f3a\"],[0.8888888888888888,\"#fdca26\"],[1.0,\"#f0f921\"]],\"sequentialminus\":[[0.0,\"#0d0887\"],[0.1111111111111111,\"#46039f\"],[0.2222222222222222,\"#7201a8\"],[0.3333333333333333,\"#9c179e\"],[0.4444444444444444,\"#bd3786\"],[0.5555555555555556,\"#d8576b\"],[0.6666666666666666,\"#ed7953\"],[0.7777777777777778,\"#fb9f3a\"],[0.8888888888888888,\"#fdca26\"],[1.0,\"#f0f921\"]]},\"colorway\":[\"#636efa\",\"#EF553B\",\"#00cc96\",\"#ab63fa\",\"#FFA15A\",\"#19d3f3\",\"#FF6692\",\"#B6E880\",\"#FF97FF\",\"#FECB52\"],\"font\":{\"color\":\"#2a3f5f\"},\"geo\":{\"bgcolor\":\"white\",\"lakecolor\":\"white\",\"landcolor\":\"#E5ECF6\",\"showlakes\":true,\"showland\":true,\"subunitcolor\":\"white\"},\"hoverlabel\":{\"align\":\"left\"},\"hovermode\":\"closest\",\"mapbox\":{\"style\":\"light\"},\"paper_bgcolor\":\"white\",\"plot_bgcolor\":\"#E5ECF6\",\"polar\":{\"angularaxis\":{\"gridcolor\":\"white\",\"linecolor\":\"white\",\"ticks\":\"\"},\"bgcolor\":\"#E5ECF6\",\"radialaxis\":{\"gridcolor\":\"white\",\"linecolor\":\"white\",\"ticks\":\"\"}},\"scene\":{\"xaxis\":{\"backgroundcolor\":\"#E5ECF6\",\"gridcolor\":\"white\",\"gridwidth\":2,\"linecolor\":\"white\",\"showbackground\":true,\"ticks\":\"\",\"zerolinecolor\":\"white\"},\"yaxis\":{\"backgroundcolor\":\"#E5ECF6\",\"gridcolor\":\"white\",\"gridwidth\":2,\"linecolor\":\"white\",\"showbackground\":true,\"ticks\":\"\",\"zerolinecolor\":\"white\"},\"zaxis\":{\"backgroundcolor\":\"#E5ECF6\",\"gridcolor\":\"white\",\"gridwidth\":2,\"linecolor\":\"white\",\"showbackground\":true,\"ticks\":\"\",\"zerolinecolor\":\"white\"}},\"shapedefaults\":{\"line\":{\"color\":\"#2a3f5f\"}},\"ternary\":{\"aaxis\":{\"gridcolor\":\"white\",\"linecolor\":\"white\",\"ticks\":\"\"},\"baxis\":{\"gridcolor\":\"white\",\"linecolor\":\"white\",\"ticks\":\"\"},\"bgcolor\":\"#E5ECF6\",\"caxis\":{\"gridcolor\":\"white\",\"linecolor\":\"white\",\"ticks\":\"\"}},\"title\":{\"x\":0.05},\"xaxis\":{\"automargin\":true,\"gridcolor\":\"white\",\"linecolor\":\"white\",\"ticks\":\"\",\"title\":{\"standoff\":15},\"zerolinecolor\":\"white\",\"zerolinewidth\":2},\"yaxis\":{\"automargin\":true,\"gridcolor\":\"white\",\"linecolor\":\"white\",\"ticks\":\"\",\"title\":{\"standoff\":15},\"zerolinecolor\":\"white\",\"zerolinewidth\":2}}},\"xaxis\":{\"anchor\":\"y\",\"domain\":[0.0,1.0],\"title\":{\"text\":\"Country\"}},\"yaxis\":{\"anchor\":\"x\",\"domain\":[0.0,1.0],\"title\":{\"text\":\"Total Raised($B)\"}},\"legend\":{\"tracegroupgap\":0},\"title\":{\"text\":\"Top Countries wrt Total Money raised\"}},                        {\"responsive\": true}                    ).then(function(){\n",
       "                            \n",
       "var gd = document.getElementById('32c5cd23-2d1d-4209-a052-8c6944f415b1');\n",
       "var x = new MutationObserver(function (mutations, observer) {{\n",
       "        var display = window.getComputedStyle(gd).display;\n",
       "        if (!display || display === 'none') {{\n",
       "            console.log([gd, 'removed!']);\n",
       "            Plotly.purge(gd);\n",
       "            observer.disconnect();\n",
       "        }}\n",
       "}});\n",
       "\n",
       "// Listen for the removal of the full notebook cells\n",
       "var notebookContainer = gd.closest('#notebook-container');\n",
       "if (notebookContainer) {{\n",
       "    x.observe(notebookContainer, {childList: true});\n",
       "}}\n",
       "\n",
       "// Listen for the clearing of the current output cell\n",
       "var outputEl = gd.closest('.output');\n",
       "if (outputEl) {{\n",
       "    x.observe(outputEl, {childList: true});\n",
       "}}\n",
       "\n",
       "                        })                };                            </script>        </div>\n",
       "</body>\n",
       "</html>"
      ]
     },
     "metadata": {},
     "output_type": "display_data"
    }
   ],
   "source": [
    "fig=px.line(y=temp[('Total Raised', 'sum')],x=temp.index,title=\"Top Countries wrt Total Money raised\",labels={\"y\":\"Total Raised($B)\",\"x\":\"Country\"})\n",
    "fig.update_traces(line_color=\"blue\")\n",
    "fig.show()"
   ]
  },
  {
   "cell_type": "markdown",
   "metadata": {
    "id": "3RgoaNtL2Iy_"
   },
   "source": [
    "CITY WISE ANALYSIS"
   ]
  },
  {
   "cell_type": "markdown",
   "metadata": {
    "id": "oZ8Xj7oHIMuv"
   },
   "source": [
    "Top Cities wrt the Total Valuation and Number of Unicorns"
   ]
  },
  {
   "cell_type": "code",
   "execution_count": null,
   "metadata": {
    "colab": {
     "base_uri": "https://localhost:8080/",
     "height": 328
    },
    "executionInfo": {
     "elapsed": 13,
     "status": "ok",
     "timestamp": 1677258201804,
     "user": {
      "displayName": "Shloke Maheshwari",
      "userId": "14292175972920513536"
     },
     "user_tz": -330
    },
    "id": "iEWG6snvIMii",
    "outputId": "e903669d-b8e7-4d20-b93d-f63dab512efb"
   },
   "outputs": [
    {
     "data": {
      "text/html": [
       "\n",
       "  <div id=\"df-15e1cab3-f22b-4679-9824-31c0d27bdb98\">\n",
       "    <div class=\"colab-df-container\">\n",
       "      <div>\n",
       "<style scoped>\n",
       "    .dataframe tbody tr th:only-of-type {\n",
       "        vertical-align: middle;\n",
       "    }\n",
       "\n",
       "    .dataframe tbody tr th {\n",
       "        vertical-align: top;\n",
       "    }\n",
       "\n",
       "    .dataframe thead tr th {\n",
       "        text-align: left;\n",
       "    }\n",
       "\n",
       "    .dataframe thead tr:last-of-type th {\n",
       "        text-align: right;\n",
       "    }\n",
       "</style>\n",
       "<table border=\"1\" class=\"dataframe\">\n",
       "  <thead>\n",
       "    <tr>\n",
       "      <th></th>\n",
       "      <th>Company</th>\n",
       "      <th>Valuation ($B)</th>\n",
       "    </tr>\n",
       "    <tr>\n",
       "      <th></th>\n",
       "      <th>count</th>\n",
       "      <th>sum</th>\n",
       "    </tr>\n",
       "    <tr>\n",
       "      <th>City</th>\n",
       "      <th></th>\n",
       "      <th></th>\n",
       "    </tr>\n",
       "  </thead>\n",
       "  <tbody>\n",
       "    <tr>\n",
       "      <th>San Francisco</th>\n",
       "      <td>135</td>\n",
       "      <td>644.53</td>\n",
       "    </tr>\n",
       "    <tr>\n",
       "      <th>Beijing</th>\n",
       "      <td>59</td>\n",
       "      <td>293.72</td>\n",
       "    </tr>\n",
       "    <tr>\n",
       "      <th>New York</th>\n",
       "      <td>91</td>\n",
       "      <td>212.65</td>\n",
       "    </tr>\n",
       "    <tr>\n",
       "      <th>London</th>\n",
       "      <td>30</td>\n",
       "      <td>146.93</td>\n",
       "    </tr>\n",
       "    <tr>\n",
       "      <th>Hawthorne</th>\n",
       "      <td>2</td>\n",
       "      <td>101.65</td>\n",
       "    </tr>\n",
       "    <tr>\n",
       "      <th>Shanghai</th>\n",
       "      <td>37</td>\n",
       "      <td>96.71</td>\n",
       "    </tr>\n",
       "    <tr>\n",
       "      <th>Bengaluru</th>\n",
       "      <td>26</td>\n",
       "      <td>88.49</td>\n",
       "    </tr>\n",
       "  </tbody>\n",
       "</table>\n",
       "</div>\n",
       "      <button class=\"colab-df-convert\" onclick=\"convertToInteractive('df-15e1cab3-f22b-4679-9824-31c0d27bdb98')\"\n",
       "              title=\"Convert this dataframe to an interactive table.\"\n",
       "              style=\"display:none;\">\n",
       "        \n",
       "  <svg xmlns=\"http://www.w3.org/2000/svg\" height=\"24px\"viewBox=\"0 0 24 24\"\n",
       "       width=\"24px\">\n",
       "    <path d=\"M0 0h24v24H0V0z\" fill=\"none\"/>\n",
       "    <path d=\"M18.56 5.44l.94 2.06.94-2.06 2.06-.94-2.06-.94-.94-2.06-.94 2.06-2.06.94zm-11 1L8.5 8.5l.94-2.06 2.06-.94-2.06-.94L8.5 2.5l-.94 2.06-2.06.94zm10 10l.94 2.06.94-2.06 2.06-.94-2.06-.94-.94-2.06-.94 2.06-2.06.94z\"/><path d=\"M17.41 7.96l-1.37-1.37c-.4-.4-.92-.59-1.43-.59-.52 0-1.04.2-1.43.59L10.3 9.45l-7.72 7.72c-.78.78-.78 2.05 0 2.83L4 21.41c.39.39.9.59 1.41.59.51 0 1.02-.2 1.41-.59l7.78-7.78 2.81-2.81c.8-.78.8-2.07 0-2.86zM5.41 20L4 18.59l7.72-7.72 1.47 1.35L5.41 20z\"/>\n",
       "  </svg>\n",
       "      </button>\n",
       "      \n",
       "  <style>\n",
       "    .colab-df-container {\n",
       "      display:flex;\n",
       "      flex-wrap:wrap;\n",
       "      gap: 12px;\n",
       "    }\n",
       "\n",
       "    .colab-df-convert {\n",
       "      background-color: #E8F0FE;\n",
       "      border: none;\n",
       "      border-radius: 50%;\n",
       "      cursor: pointer;\n",
       "      display: none;\n",
       "      fill: #1967D2;\n",
       "      height: 32px;\n",
       "      padding: 0 0 0 0;\n",
       "      width: 32px;\n",
       "    }\n",
       "\n",
       "    .colab-df-convert:hover {\n",
       "      background-color: #E2EBFA;\n",
       "      box-shadow: 0px 1px 2px rgba(60, 64, 67, 0.3), 0px 1px 3px 1px rgba(60, 64, 67, 0.15);\n",
       "      fill: #174EA6;\n",
       "    }\n",
       "\n",
       "    [theme=dark] .colab-df-convert {\n",
       "      background-color: #3B4455;\n",
       "      fill: #D2E3FC;\n",
       "    }\n",
       "\n",
       "    [theme=dark] .colab-df-convert:hover {\n",
       "      background-color: #434B5C;\n",
       "      box-shadow: 0px 1px 3px 1px rgba(0, 0, 0, 0.15);\n",
       "      filter: drop-shadow(0px 1px 2px rgba(0, 0, 0, 0.3));\n",
       "      fill: #FFFFFF;\n",
       "    }\n",
       "  </style>\n",
       "\n",
       "      <script>\n",
       "        const buttonEl =\n",
       "          document.querySelector('#df-15e1cab3-f22b-4679-9824-31c0d27bdb98 button.colab-df-convert');\n",
       "        buttonEl.style.display =\n",
       "          google.colab.kernel.accessAllowed ? 'block' : 'none';\n",
       "\n",
       "        async function convertToInteractive(key) {\n",
       "          const element = document.querySelector('#df-15e1cab3-f22b-4679-9824-31c0d27bdb98');\n",
       "          const dataTable =\n",
       "            await google.colab.kernel.invokeFunction('convertToInteractive',\n",
       "                                                     [key], {});\n",
       "          if (!dataTable) return;\n",
       "\n",
       "          const docLinkHtml = 'Like what you see? Visit the ' +\n",
       "            '<a target=\"_blank\" href=https://colab.research.google.com/notebooks/data_table.ipynb>data table notebook</a>'\n",
       "            + ' to learn more about interactive tables.';\n",
       "          element.innerHTML = '';\n",
       "          dataTable['output_type'] = 'display_data';\n",
       "          await google.colab.output.renderOutput(dataTable, element);\n",
       "          const docLink = document.createElement('div');\n",
       "          docLink.innerHTML = docLinkHtml;\n",
       "          element.appendChild(docLink);\n",
       "        }\n",
       "      </script>\n",
       "    </div>\n",
       "  </div>\n",
       "  "
      ],
      "text/plain": [
       "              Company Valuation ($B)\n",
       "                count            sum\n",
       "City                                \n",
       "San Francisco     135         644.53\n",
       "Beijing            59         293.72\n",
       "New York           91         212.65\n",
       "London             30         146.93\n",
       "Hawthorne           2         101.65\n",
       "Shanghai           37          96.71\n",
       "Bengaluru          26          88.49"
      ]
     },
     "execution_count": 75,
     "metadata": {},
     "output_type": "execute_result"
    }
   ],
   "source": [
    "temp=df.groupby(by=['City']).agg({'Company':['count'],'Valuation ($B)': ['sum']})\n",
    "temp=temp.sort_values([('Valuation ($B)', 'sum')], ascending=False)[:7]\n",
    "temp"
   ]
  },
  {
   "cell_type": "code",
   "execution_count": null,
   "metadata": {
    "colab": {
     "base_uri": "https://localhost:8080/",
     "height": 542
    },
    "executionInfo": {
     "elapsed": 12,
     "status": "ok",
     "timestamp": 1677258201804,
     "user": {
      "displayName": "Shloke Maheshwari",
      "userId": "14292175972920513536"
     },
     "user_tz": -330
    },
    "id": "jrtNwJRzElFy",
    "outputId": "88c145d2-67eb-49c9-e1ef-74fd06f2d28a"
   },
   "outputs": [
    {
     "data": {
      "text/html": [
       "<html>\n",
       "<head><meta charset=\"utf-8\" /></head>\n",
       "<body>\n",
       "    <div>            <script src=\"https://cdnjs.cloudflare.com/ajax/libs/mathjax/2.7.5/MathJax.js?config=TeX-AMS-MML_SVG\"></script><script type=\"text/javascript\">if (window.MathJax) {MathJax.Hub.Config({SVG: {font: \"STIX-Web\"}});}</script>                <script type=\"text/javascript\">window.PlotlyConfig = {MathJaxConfig: 'local'};</script>\n",
       "        <script src=\"https://cdn.plot.ly/plotly-2.8.3.min.js\"></script>                <div id=\"a0713e2f-e51e-4f45-9ef1-33b3c3d56c37\" class=\"plotly-graph-div\" style=\"height:525px; width:100%;\"></div>            <script type=\"text/javascript\">                                    window.PLOTLYENV=window.PLOTLYENV || {};                                    if (document.getElementById(\"a0713e2f-e51e-4f45-9ef1-33b3c3d56c37\")) {                    Plotly.newPlot(                        \"a0713e2f-e51e-4f45-9ef1-33b3c3d56c37\",                        [{\"alignmentgroup\":\"True\",\"hovertemplate\":\"Total Valuation($B)=%{x}<br>City=%{y}<br>Number of Unicorns=%{marker.color}<extra></extra>\",\"legendgroup\":\"\",\"marker\":{\"color\":[135,59,91,30,2,37,26],\"coloraxis\":\"coloraxis\",\"pattern\":{\"shape\":\"\"}},\"name\":\"\",\"offsetgroup\":\"\",\"orientation\":\"h\",\"showlegend\":false,\"textposition\":\"auto\",\"texttemplate\":\"%{x}\",\"x\":[644.53,293.72,212.65,146.93,101.64999999999999,96.71,88.49],\"xaxis\":\"x\",\"y\":[\"San Francisco\",\"Beijing\",\"New York\",\"London\",\"Hawthorne\",\"Shanghai\",\"Bengaluru\"],\"yaxis\":\"y\",\"type\":\"bar\"}],                        {\"template\":{\"data\":{\"bar\":[{\"error_x\":{\"color\":\"#2a3f5f\"},\"error_y\":{\"color\":\"#2a3f5f\"},\"marker\":{\"line\":{\"color\":\"#E5ECF6\",\"width\":0.5},\"pattern\":{\"fillmode\":\"overlay\",\"size\":10,\"solidity\":0.2}},\"type\":\"bar\"}],\"barpolar\":[{\"marker\":{\"line\":{\"color\":\"#E5ECF6\",\"width\":0.5},\"pattern\":{\"fillmode\":\"overlay\",\"size\":10,\"solidity\":0.2}},\"type\":\"barpolar\"}],\"carpet\":[{\"aaxis\":{\"endlinecolor\":\"#2a3f5f\",\"gridcolor\":\"white\",\"linecolor\":\"white\",\"minorgridcolor\":\"white\",\"startlinecolor\":\"#2a3f5f\"},\"baxis\":{\"endlinecolor\":\"#2a3f5f\",\"gridcolor\":\"white\",\"linecolor\":\"white\",\"minorgridcolor\":\"white\",\"startlinecolor\":\"#2a3f5f\"},\"type\":\"carpet\"}],\"choropleth\":[{\"colorbar\":{\"outlinewidth\":0,\"ticks\":\"\"},\"type\":\"choropleth\"}],\"contour\":[{\"colorbar\":{\"outlinewidth\":0,\"ticks\":\"\"},\"colorscale\":[[0.0,\"#0d0887\"],[0.1111111111111111,\"#46039f\"],[0.2222222222222222,\"#7201a8\"],[0.3333333333333333,\"#9c179e\"],[0.4444444444444444,\"#bd3786\"],[0.5555555555555556,\"#d8576b\"],[0.6666666666666666,\"#ed7953\"],[0.7777777777777778,\"#fb9f3a\"],[0.8888888888888888,\"#fdca26\"],[1.0,\"#f0f921\"]],\"type\":\"contour\"}],\"contourcarpet\":[{\"colorbar\":{\"outlinewidth\":0,\"ticks\":\"\"},\"type\":\"contourcarpet\"}],\"heatmap\":[{\"colorbar\":{\"outlinewidth\":0,\"ticks\":\"\"},\"colorscale\":[[0.0,\"#0d0887\"],[0.1111111111111111,\"#46039f\"],[0.2222222222222222,\"#7201a8\"],[0.3333333333333333,\"#9c179e\"],[0.4444444444444444,\"#bd3786\"],[0.5555555555555556,\"#d8576b\"],[0.6666666666666666,\"#ed7953\"],[0.7777777777777778,\"#fb9f3a\"],[0.8888888888888888,\"#fdca26\"],[1.0,\"#f0f921\"]],\"type\":\"heatmap\"}],\"heatmapgl\":[{\"colorbar\":{\"outlinewidth\":0,\"ticks\":\"\"},\"colorscale\":[[0.0,\"#0d0887\"],[0.1111111111111111,\"#46039f\"],[0.2222222222222222,\"#7201a8\"],[0.3333333333333333,\"#9c179e\"],[0.4444444444444444,\"#bd3786\"],[0.5555555555555556,\"#d8576b\"],[0.6666666666666666,\"#ed7953\"],[0.7777777777777778,\"#fb9f3a\"],[0.8888888888888888,\"#fdca26\"],[1.0,\"#f0f921\"]],\"type\":\"heatmapgl\"}],\"histogram\":[{\"marker\":{\"pattern\":{\"fillmode\":\"overlay\",\"size\":10,\"solidity\":0.2}},\"type\":\"histogram\"}],\"histogram2d\":[{\"colorbar\":{\"outlinewidth\":0,\"ticks\":\"\"},\"colorscale\":[[0.0,\"#0d0887\"],[0.1111111111111111,\"#46039f\"],[0.2222222222222222,\"#7201a8\"],[0.3333333333333333,\"#9c179e\"],[0.4444444444444444,\"#bd3786\"],[0.5555555555555556,\"#d8576b\"],[0.6666666666666666,\"#ed7953\"],[0.7777777777777778,\"#fb9f3a\"],[0.8888888888888888,\"#fdca26\"],[1.0,\"#f0f921\"]],\"type\":\"histogram2d\"}],\"histogram2dcontour\":[{\"colorbar\":{\"outlinewidth\":0,\"ticks\":\"\"},\"colorscale\":[[0.0,\"#0d0887\"],[0.1111111111111111,\"#46039f\"],[0.2222222222222222,\"#7201a8\"],[0.3333333333333333,\"#9c179e\"],[0.4444444444444444,\"#bd3786\"],[0.5555555555555556,\"#d8576b\"],[0.6666666666666666,\"#ed7953\"],[0.7777777777777778,\"#fb9f3a\"],[0.8888888888888888,\"#fdca26\"],[1.0,\"#f0f921\"]],\"type\":\"histogram2dcontour\"}],\"mesh3d\":[{\"colorbar\":{\"outlinewidth\":0,\"ticks\":\"\"},\"type\":\"mesh3d\"}],\"parcoords\":[{\"line\":{\"colorbar\":{\"outlinewidth\":0,\"ticks\":\"\"}},\"type\":\"parcoords\"}],\"pie\":[{\"automargin\":true,\"type\":\"pie\"}],\"scatter\":[{\"marker\":{\"colorbar\":{\"outlinewidth\":0,\"ticks\":\"\"}},\"type\":\"scatter\"}],\"scatter3d\":[{\"line\":{\"colorbar\":{\"outlinewidth\":0,\"ticks\":\"\"}},\"marker\":{\"colorbar\":{\"outlinewidth\":0,\"ticks\":\"\"}},\"type\":\"scatter3d\"}],\"scattercarpet\":[{\"marker\":{\"colorbar\":{\"outlinewidth\":0,\"ticks\":\"\"}},\"type\":\"scattercarpet\"}],\"scattergeo\":[{\"marker\":{\"colorbar\":{\"outlinewidth\":0,\"ticks\":\"\"}},\"type\":\"scattergeo\"}],\"scattergl\":[{\"marker\":{\"colorbar\":{\"outlinewidth\":0,\"ticks\":\"\"}},\"type\":\"scattergl\"}],\"scattermapbox\":[{\"marker\":{\"colorbar\":{\"outlinewidth\":0,\"ticks\":\"\"}},\"type\":\"scattermapbox\"}],\"scatterpolar\":[{\"marker\":{\"colorbar\":{\"outlinewidth\":0,\"ticks\":\"\"}},\"type\":\"scatterpolar\"}],\"scatterpolargl\":[{\"marker\":{\"colorbar\":{\"outlinewidth\":0,\"ticks\":\"\"}},\"type\":\"scatterpolargl\"}],\"scatterternary\":[{\"marker\":{\"colorbar\":{\"outlinewidth\":0,\"ticks\":\"\"}},\"type\":\"scatterternary\"}],\"surface\":[{\"colorbar\":{\"outlinewidth\":0,\"ticks\":\"\"},\"colorscale\":[[0.0,\"#0d0887\"],[0.1111111111111111,\"#46039f\"],[0.2222222222222222,\"#7201a8\"],[0.3333333333333333,\"#9c179e\"],[0.4444444444444444,\"#bd3786\"],[0.5555555555555556,\"#d8576b\"],[0.6666666666666666,\"#ed7953\"],[0.7777777777777778,\"#fb9f3a\"],[0.8888888888888888,\"#fdca26\"],[1.0,\"#f0f921\"]],\"type\":\"surface\"}],\"table\":[{\"cells\":{\"fill\":{\"color\":\"#EBF0F8\"},\"line\":{\"color\":\"white\"}},\"header\":{\"fill\":{\"color\":\"#C8D4E3\"},\"line\":{\"color\":\"white\"}},\"type\":\"table\"}]},\"layout\":{\"annotationdefaults\":{\"arrowcolor\":\"#2a3f5f\",\"arrowhead\":0,\"arrowwidth\":1},\"autotypenumbers\":\"strict\",\"coloraxis\":{\"colorbar\":{\"outlinewidth\":0,\"ticks\":\"\"}},\"colorscale\":{\"diverging\":[[0,\"#8e0152\"],[0.1,\"#c51b7d\"],[0.2,\"#de77ae\"],[0.3,\"#f1b6da\"],[0.4,\"#fde0ef\"],[0.5,\"#f7f7f7\"],[0.6,\"#e6f5d0\"],[0.7,\"#b8e186\"],[0.8,\"#7fbc41\"],[0.9,\"#4d9221\"],[1,\"#276419\"]],\"sequential\":[[0.0,\"#0d0887\"],[0.1111111111111111,\"#46039f\"],[0.2222222222222222,\"#7201a8\"],[0.3333333333333333,\"#9c179e\"],[0.4444444444444444,\"#bd3786\"],[0.5555555555555556,\"#d8576b\"],[0.6666666666666666,\"#ed7953\"],[0.7777777777777778,\"#fb9f3a\"],[0.8888888888888888,\"#fdca26\"],[1.0,\"#f0f921\"]],\"sequentialminus\":[[0.0,\"#0d0887\"],[0.1111111111111111,\"#46039f\"],[0.2222222222222222,\"#7201a8\"],[0.3333333333333333,\"#9c179e\"],[0.4444444444444444,\"#bd3786\"],[0.5555555555555556,\"#d8576b\"],[0.6666666666666666,\"#ed7953\"],[0.7777777777777778,\"#fb9f3a\"],[0.8888888888888888,\"#fdca26\"],[1.0,\"#f0f921\"]]},\"colorway\":[\"#636efa\",\"#EF553B\",\"#00cc96\",\"#ab63fa\",\"#FFA15A\",\"#19d3f3\",\"#FF6692\",\"#B6E880\",\"#FF97FF\",\"#FECB52\"],\"font\":{\"color\":\"#2a3f5f\"},\"geo\":{\"bgcolor\":\"white\",\"lakecolor\":\"white\",\"landcolor\":\"#E5ECF6\",\"showlakes\":true,\"showland\":true,\"subunitcolor\":\"white\"},\"hoverlabel\":{\"align\":\"left\"},\"hovermode\":\"closest\",\"mapbox\":{\"style\":\"light\"},\"paper_bgcolor\":\"white\",\"plot_bgcolor\":\"#E5ECF6\",\"polar\":{\"angularaxis\":{\"gridcolor\":\"white\",\"linecolor\":\"white\",\"ticks\":\"\"},\"bgcolor\":\"#E5ECF6\",\"radialaxis\":{\"gridcolor\":\"white\",\"linecolor\":\"white\",\"ticks\":\"\"}},\"scene\":{\"xaxis\":{\"backgroundcolor\":\"#E5ECF6\",\"gridcolor\":\"white\",\"gridwidth\":2,\"linecolor\":\"white\",\"showbackground\":true,\"ticks\":\"\",\"zerolinecolor\":\"white\"},\"yaxis\":{\"backgroundcolor\":\"#E5ECF6\",\"gridcolor\":\"white\",\"gridwidth\":2,\"linecolor\":\"white\",\"showbackground\":true,\"ticks\":\"\",\"zerolinecolor\":\"white\"},\"zaxis\":{\"backgroundcolor\":\"#E5ECF6\",\"gridcolor\":\"white\",\"gridwidth\":2,\"linecolor\":\"white\",\"showbackground\":true,\"ticks\":\"\",\"zerolinecolor\":\"white\"}},\"shapedefaults\":{\"line\":{\"color\":\"#2a3f5f\"}},\"ternary\":{\"aaxis\":{\"gridcolor\":\"white\",\"linecolor\":\"white\",\"ticks\":\"\"},\"baxis\":{\"gridcolor\":\"white\",\"linecolor\":\"white\",\"ticks\":\"\"},\"bgcolor\":\"#E5ECF6\",\"caxis\":{\"gridcolor\":\"white\",\"linecolor\":\"white\",\"ticks\":\"\"}},\"title\":{\"x\":0.05},\"xaxis\":{\"automargin\":true,\"gridcolor\":\"white\",\"linecolor\":\"white\",\"ticks\":\"\",\"title\":{\"standoff\":15},\"zerolinecolor\":\"white\",\"zerolinewidth\":2},\"yaxis\":{\"automargin\":true,\"gridcolor\":\"white\",\"linecolor\":\"white\",\"ticks\":\"\",\"title\":{\"standoff\":15},\"zerolinecolor\":\"white\",\"zerolinewidth\":2}}},\"xaxis\":{\"anchor\":\"y\",\"domain\":[0.0,1.0],\"title\":{\"text\":\"Total Valuation($B)\"}},\"yaxis\":{\"anchor\":\"x\",\"domain\":[0.0,1.0],\"title\":{\"text\":\"City\"}},\"coloraxis\":{\"colorbar\":{\"title\":{\"text\":\"Number of Unicorns\"}},\"colorscale\":[[0.0,\"#0d0887\"],[0.1111111111111111,\"#46039f\"],[0.2222222222222222,\"#7201a8\"],[0.3333333333333333,\"#9c179e\"],[0.4444444444444444,\"#bd3786\"],[0.5555555555555556,\"#d8576b\"],[0.6666666666666666,\"#ed7953\"],[0.7777777777777778,\"#fb9f3a\"],[0.8888888888888888,\"#fdca26\"],[1.0,\"#f0f921\"]]},\"legend\":{\"tracegroupgap\":0},\"title\":{\"text\":\"Top Cities wrt Total Valuation and the Number of Unicorns\"},\"barmode\":\"relative\"},                        {\"responsive\": true}                    ).then(function(){\n",
       "                            \n",
       "var gd = document.getElementById('a0713e2f-e51e-4f45-9ef1-33b3c3d56c37');\n",
       "var x = new MutationObserver(function (mutations, observer) {{\n",
       "        var display = window.getComputedStyle(gd).display;\n",
       "        if (!display || display === 'none') {{\n",
       "            console.log([gd, 'removed!']);\n",
       "            Plotly.purge(gd);\n",
       "            observer.disconnect();\n",
       "        }}\n",
       "}});\n",
       "\n",
       "// Listen for the removal of the full notebook cells\n",
       "var notebookContainer = gd.closest('#notebook-container');\n",
       "if (notebookContainer) {{\n",
       "    x.observe(notebookContainer, {childList: true});\n",
       "}}\n",
       "\n",
       "// Listen for the clearing of the current output cell\n",
       "var outputEl = gd.closest('.output');\n",
       "if (outputEl) {{\n",
       "    x.observe(outputEl, {childList: true});\n",
       "}}\n",
       "\n",
       "                        })                };                            </script>        </div>\n",
       "</body>\n",
       "</html>"
      ]
     },
     "metadata": {},
     "output_type": "display_data"
    }
   ],
   "source": [
    "fig=px.bar(x=temp[('Valuation ($B)','sum')],y=temp.index,title=\"Top Cities wrt Total Valuation and the Number of Unicorns\",text_auto=True,color=temp[('Company', 'count')], labels={\n",
    "                     \"y\": \"City\",\n",
    "                     \"x\": \"Total Valuation($B)\",\n",
    "                     \"color\":\"Number of Unicorns\"})\n",
    "fig.show()"
   ]
  },
  {
   "cell_type": "markdown",
   "metadata": {
    "id": "2FUwmwHs22ID"
   },
   "source": [
    "Years taken to become Unicorn wrt Country and City"
   ]
  },
  {
   "cell_type": "code",
   "execution_count": null,
   "metadata": {
    "colab": {
     "base_uri": "https://localhost:8080/",
     "height": 542
    },
    "executionInfo": {
     "elapsed": 1748,
     "status": "ok",
     "timestamp": 1677266249070,
     "user": {
      "displayName": "Shloke Maheshwari",
      "userId": "14292175972920513536"
     },
     "user_tz": -330
    },
    "id": "gxmpYDZm29FI",
    "outputId": "a4030f30-c58e-40fd-cd71-2d31dc70d2a4"
   },
   "outputs": [
    {
     "data": {
      "text/html": [
       "<html>\n",
       "<head><meta charset=\"utf-8\" /></head>\n",
       "<body>\n",
       "    <div>            <script src=\"https://cdnjs.cloudflare.com/ajax/libs/mathjax/2.7.5/MathJax.js?config=TeX-AMS-MML_SVG\"></script><script type=\"text/javascript\">if (window.MathJax) {MathJax.Hub.Config({SVG: {font: \"STIX-Web\"}});}</script>                <script type=\"text/javascript\">window.PlotlyConfig = {MathJaxConfig: 'local'};</script>\n",
       "        <script src=\"https://cdn.plot.ly/plotly-2.8.3.min.js\"></script>                <div id=\"0ca6fd97-6506-4564-999b-ef6ca1116b3f\" class=\"plotly-graph-div\" style=\"height:525px; width:100%;\"></div>            <script type=\"text/javascript\">                                    window.PLOTLYENV=window.PLOTLYENV || {};                                    if (document.getElementById(\"0ca6fd97-6506-4564-999b-ef6ca1116b3f\")) {                    Plotly.newPlot(                        \"0ca6fd97-6506-4564-999b-ef6ca1116b3f\",                        [{\"customdata\":[[\"Beijing\"],[\"Beijing\"],[\"Beijing\"],[\"Beijing\"],[\"Beijing\"],[\"Beijing\"],[\"Beijing\"],[\"Beijing\"],[\"Beijing\"],[\"Beijing\"],[\"Beijing\"],[\"Beijing\"],[\"Beijing\"],[\"Beijing\"],[\"Beijing\"],[\"Beijing\"],[\"Beijing\"],[\"Beijing\"],[\"Beijing\"],[\"Beijing\"],[\"Beijing\"],[\"Beijing\"],[\"Beijing\"],[\"Beijing\"],[\"Beijing\"],[\"Beijing\"],[\"Beijing\"],[\"Beijing\"],[\"Beijing\"],[\"Beijing\"],[\"Beijing\"],[\"Beijing\"],[\"Beijing\"],[\"Beijing\"],[\"Beijing\"],[\"Beijing\"],[\"Beijing\"],[\"Beijing\"],[\"Beijing\"],[\"Beijing\"],[\"Beijing\"],[\"Beijing\"],[\"Beijing\"],[\"Beijing\"],[\"Beijing\"],[\"Beijing\"],[\"Beijing\"],[\"Beijing\"],[\"Beijing\"],[\"Beijing\"],[\"Beijing\"],[\"Beijing\"],[\"Beijing\"],[\"Beijing\"],[\"Beijing\"],[\"Beijing\"],[\"Beijing\"],[\"Beijing\"],[\"Beijing\"]],\"hovertemplate\":\"City=%{customdata[0]}<br>Years Taken to become Unicorn=%{x}<br>Country=%{y}<extra></extra>\",\"legendgroup\":\"Beijing\",\"marker\":{\"color\":\"#636efa\",\"symbol\":\"circle\"},\"mode\":\"markers\",\"name\":\"Beijing\",\"orientation\":\"h\",\"showlegend\":true,\"x\":[5,5,4,3,1,7,19,15,4,3,4,6,4,4,2,16,3,3,9,6,22,19,6,1,8,4,4,5,4,4,-4,6,8,6,3,4,4,5,5,3,5,6,4,4,1,6,5,2,4,8,4,4,2,3,3,5,4,6,2],\"xaxis\":\"x\",\"y\":[\"China\",\"China\",\"China\",\"China\",\"China\",\"China\",\"China\",\"China\",\"China\",\"China\",\"China\",\"China\",\"China\",\"China\",\"China\",\"China\",\"China\",\"China\",\"China\",\"China\",\"China\",\"China\",\"China\",\"China\",\"China\",\"China\",\"China\",\"China\",\"China\",\"China\",\"China\",\"China\",\"China\",\"China\",\"China\",\"China\",\"China\",\"China\",\"China\",\"China\",\"China\",\"China\",\"China\",\"China\",\"China\",\"China\",\"China\",\"China\",\"China\",\"China\",\"China\",\"China\",\"China\",\"China\",\"China\",\"China\",\"China\",\"China\",\"China\"],\"yaxis\":\"y\",\"type\":\"scatter\"},{\"customdata\":[[\"Hawthorne\"],[\"Hawthorne\"]],\"hovertemplate\":\"City=%{customdata[0]}<br>Years Taken to become Unicorn=%{x}<br>Country=%{y}<extra></extra>\",\"legendgroup\":\"Hawthorne\",\"marker\":{\"color\":\"#EF553B\",\"symbol\":\"circle\"},\"mode\":\"markers\",\"name\":\"Hawthorne\",\"orientation\":\"h\",\"showlegend\":true,\"x\":[10,4],\"xaxis\":\"x\",\"y\":[\"United States\",\"United States\"],\"yaxis\":\"y\",\"type\":\"scatter\"},{\"customdata\":[[\"San Francisco\"],[\"San Francisco\"],[\"San Francisco\"],[\"San Francisco\"],[\"San Francisco\"],[\"San Francisco\"],[\"San Francisco\"],[\"San Francisco\"],[\"San Francisco\"],[\"San Francisco\"],[\"San Francisco\"],[\"San Francisco\"],[\"San Francisco\"],[\"San Francisco\"],[\"San Francisco\"],[\"San Francisco\"],[\"San Francisco\"],[\"San Francisco\"],[\"San Francisco\"],[\"San Francisco\"],[\"San Francisco\"],[\"San Francisco\"],[\"San Francisco\"],[\"San Francisco\"],[\"San Francisco\"],[\"San Francisco\"],[\"San Francisco\"],[\"San Francisco\"],[\"San Francisco\"],[\"San Francisco\"],[\"San Francisco\"],[\"San Francisco\"],[\"San Francisco\"],[\"San Francisco\"],[\"San Francisco\"],[\"San Francisco\"],[\"San Francisco\"],[\"San Francisco\"],[\"San Francisco\"],[\"San Francisco\"],[\"San Francisco\"],[\"San Francisco\"],[\"San Francisco\"],[\"San Francisco\"],[\"San Francisco\"],[\"San Francisco\"],[\"San Francisco\"],[\"San Francisco\"],[\"San Francisco\"],[\"San Francisco\"],[\"San Francisco\"],[\"San Francisco\"],[\"San Francisco\"],[\"San Francisco\"],[\"San Francisco\"],[\"San Francisco\"],[\"San Francisco\"],[\"San Francisco\"],[\"San Francisco\"],[\"San Francisco\"],[\"San Francisco\"],[\"San Francisco\"],[\"San Francisco\"],[\"San Francisco\"],[\"San Francisco\"],[\"San Francisco\"],[\"San Francisco\"],[\"San Francisco\"],[\"San Francisco\"],[\"San Francisco\"],[\"San Francisco\"],[\"San Francisco\"],[\"San Francisco\"],[\"San Francisco\"],[\"San Francisco\"],[\"San Francisco\"],[\"San Francisco\"],[\"San Francisco\"],[\"San Francisco\"],[\"San Francisco\"],[\"San Francisco\"],[\"San Francisco\"],[\"San Francisco\"],[\"San Francisco\"],[\"San Francisco\"],[\"San Francisco\"],[\"San Francisco\"],[\"San Francisco\"],[\"San Francisco\"],[\"San Francisco\"],[\"San Francisco\"],[\"San Francisco\"],[\"San Francisco\"],[\"San Francisco\"],[\"San Francisco\"],[\"San Francisco\"],[\"San Francisco\"],[\"San Francisco\"],[\"San Francisco\"],[\"San Francisco\"],[\"San Francisco\"],[\"San Francisco\"],[\"San Francisco\"],[\"San Francisco\"],[\"San Francisco\"],[\"San Francisco\"],[\"San Francisco\"],[\"San Francisco\"],[\"San Francisco\"],[\"San Francisco\"],[\"San Francisco\"],[\"San Francisco\"],[\"San Francisco\"],[\"San Francisco\"],[\"San Francisco\"],[\"San Francisco\"],[\"San Francisco\"],[\"San Francisco\"],[\"San Francisco\"],[\"San Francisco\"],[\"San Francisco\"],[\"San Francisco\"],[\"San Francisco\"],[\"San Francisco\"],[\"San Francisco\"],[\"San Francisco\"],[\"San Francisco\"],[\"San Francisco\"],[\"San Francisco\"],[\"San Francisco\"],[\"San Francisco\"],[\"San Francisco\"],[\"San Francisco\"],[\"San Francisco\"],[\"San Francisco\"]],\"hovertemplate\":\"City=%{customdata[0]}<br>Years Taken to become Unicorn=%{x}<br>Country=%{y}<extra></extra>\",\"legendgroup\":\"San Francisco\",\"marker\":{\"color\":\"#00cc96\",\"symbol\":\"circle\"},\"mode\":\"markers\",\"name\":\"San Francisco\",\"orientation\":\"h\",\"showlegend\":true,\"x\":[4,2,6,6,11,7,6,10,2,1,2,5,7,4,8,4,12,7,4,2,5,7,6,3,2,6,9,8,6,3,5,8,7,8,4,4,7,6,7,7,4,6,6,4,5,6,5,8,4,6,9,8,4,6,6,8,6,9,9,9,7,9,5,8,2,8,10,4,3,4,21,8,9,11,10,8,2,6,17,2,9,5,6,11,9,4,11,3,4,1,6,3,9,13,10,6,3,3,5,7,7,6,8,9,4,1,9,4,4,6,6,4,8,4,7,12,6,5,15,5,4,10,10,6,8,3,8,3,5,1,6,8,5,5,11],\"xaxis\":\"x\",\"y\":[\"United States\",\"United States\",\"United States\",\"United States\",\"United States\",\"United States\",\"United States\",\"United States\",\"United States\",\"United States\",\"United States\",\"United States\",\"United States\",\"United States\",\"United States\",\"United States\",\"United States\",\"United States\",\"United States\",\"United States\",\"United States\",\"United States\",\"United States\",\"United States\",\"United States\",\"United States\",\"United States\",\"United States\",\"United States\",\"United States\",\"United States\",\"United States\",\"United States\",\"United States\",\"United States\",\"United States\",\"United States\",\"United States\",\"United States\",\"United States\",\"United States\",\"United States\",\"United States\",\"United States\",\"United States\",\"United States\",\"United States\",\"United States\",\"United States\",\"United States\",\"United States\",\"United States\",\"United States\",\"United States\",\"United States\",\"United States\",\"United States\",\"United States\",\"United States\",\"United States\",\"United States\",\"United States\",\"United States\",\"United States\",\"United States\",\"United States\",\"United States\",\"United States\",\"United States\",\"United States\",\"United States\",\"United States\",\"United States\",\"United States\",\"United States\",\"United States\",\"United States\",\"United States\",\"United States\",\"United States\",\"United States\",\"United States\",\"United States\",\"United States\",\"United States\",\"United States\",\"United States\",\"United States\",\"United States\",\"United States\",\"United States\",\"United States\",\"United States\",\"United States\",\"United States\",\"United States\",\"United States\",\"United States\",\"United States\",\"United States\",\"United States\",\"United States\",\"United States\",\"United States\",\"United States\",\"United States\",\"United States\",\"United States\",\"United States\",\"United States\",\"United States\",\"United States\",\"United States\",\"United States\",\"United States\",\"United States\",\"United States\",\"United States\",\"United States\",\"United States\",\"United States\",\"United States\",\"United States\",\"United States\",\"United States\",\"United States\",\"United States\",\"United States\",\"United States\",\"United States\",\"United States\",\"United States\",\"United States\",\"United States\",\"United States\"],\"yaxis\":\"y\",\"type\":\"scatter\"},{\"customdata\":[[\"Stockholm\"],[\"Stockholm\"],[\"Stockholm\"],[\"Stockholm\"],[\"Stockholm\"],[\"Stockholm\"]],\"hovertemplate\":\"City=%{customdata[0]}<br>Years Taken to become Unicorn=%{x}<br>Country=%{y}<extra></extra>\",\"legendgroup\":\"Stockholm\",\"marker\":{\"color\":\"#ab63fa\",\"symbol\":\"circle\"},\"mode\":\"markers\",\"name\":\"Stockholm\",\"orientation\":\"h\",\"showlegend\":true,\"x\":[6,3,7,5,12,3],\"xaxis\":\"x\",\"y\":[\"Sweden\",\"Sweden\",\"Sweden\",\"Sweden\",\"Sweden\",\"Sweden\"],\"yaxis\":\"y\",\"type\":\"scatter\"},{\"customdata\":[[\"Cary\"]],\"hovertemplate\":\"City=%{customdata[0]}<br>Years Taken to become Unicorn=%{x}<br>Country=%{y}<extra></extra>\",\"legendgroup\":\"Cary\",\"marker\":{\"color\":\"#FFA15A\",\"symbol\":\"circle\"},\"mode\":\"markers\",\"name\":\"Cary\",\"orientation\":\"h\",\"showlegend\":true,\"x\":[27],\"xaxis\":\"x\",\"y\":[\"United States\"],\"yaxis\":\"y\",\"type\":\"scatter\"},{\"customdata\":[[\"Surry Hills\"]],\"hovertemplate\":\"City=%{customdata[0]}<br>Years Taken to become Unicorn=%{x}<br>Country=%{y}<extra></extra>\",\"legendgroup\":\"Surry Hills\",\"marker\":{\"color\":\"#19d3f3\",\"symbol\":\"circle\"},\"mode\":\"markers\",\"name\":\"Surry Hills\",\"orientation\":\"h\",\"showlegend\":true,\"x\":[6],\"xaxis\":\"x\",\"y\":[\"Australia\"],\"yaxis\":\"y\",\"type\":\"scatter\"},{\"customdata\":[[\"London\"],[\"London\"],[\"London\"],[\"London\"],[\"London\"],[\"London\"],[\"London\"],[\"London\"],[\"London\"],[\"London\"],[\"London\"],[\"London\"],[\"London\"],[\"London\"],[\"London\"],[\"London\"],[\"London\"],[\"London\"],[\"London\"],[\"London\"],[\"London\"],[\"London\"],[\"London\"],[\"London\"],[\"London\"],[\"London\"],[\"London\"],[\"London\"],[\"London\"],[\"London\"]],\"hovertemplate\":\"City=%{customdata[0]}<br>Years Taken to become Unicorn=%{x}<br>Country=%{y}<extra></extra>\",\"legendgroup\":\"London\",\"marker\":{\"color\":\"#FF6692\",\"symbol\":\"circle\"},\"mode\":\"markers\",\"name\":\"London\",\"orientation\":\"h\",\"showlegend\":true,\"x\":[7,3,18,3,10,26,11,2,7,9,11,5,6,3,7,6,5,4,4,5,3,2,8,8,15,7,5,16,7,4],\"xaxis\":\"x\",\"y\":[\"United Kingdom\",\"United Kingdom\",\"United Kingdom\",\"United Kingdom\",\"United Kingdom\",\"United Kingdom\",\"United Kingdom\",\"United Kingdom\",\"United Kingdom\",\"United Kingdom\",\"United Kingdom\",\"United Kingdom\",\"United Kingdom\",\"United Kingdom\",\"United Kingdom\",\"United Kingdom\",\"United Kingdom\",\"United Kingdom\",\"United Kingdom\",\"United Kingdom\",\"United Kingdom\",\"United Kingdom\",\"United Kingdom\",\"United Kingdom\",\"United Kingdom\",\"United Kingdom\",\"United Kingdom\",\"United Kingdom\",\"United Kingdom\",\"United Kingdom\"],\"yaxis\":\"y\",\"type\":\"scatter\"},{\"customdata\":[[\"Jacksonville\"]],\"hovertemplate\":\"City=%{customdata[0]}<br>Years Taken to become Unicorn=%{x}<br>Country=%{y}<extra></extra>\",\"legendgroup\":\"Jacksonville\",\"marker\":{\"color\":\"#B6E880\",\"symbol\":\"circle\"},\"mode\":\"markers\",\"name\":\"Jacksonville\",\"orientation\":\"h\",\"showlegend\":true,\"x\":[17],\"xaxis\":\"x\",\"y\":[\"United States\"],\"yaxis\":\"y\",\"type\":\"scatter\"},{\"customdata\":[[\"Bengaluru\"],[\"Bengaluru\"],[\"Bengaluru\"],[\"Bengaluru\"],[\"Bengaluru\"],[\"Bengaluru\"],[\"Bengaluru\"],[\"Bengaluru\"],[\"Bengaluru\"],[\"Bengaluru\"],[\"Bengaluru\"],[\"Bengaluru\"],[\"Bengaluru\"],[\"Bengaluru\"],[\"Bengaluru\"],[\"Bengaluru\"],[\"Bengaluru\"],[\"Bengaluru\"],[\"Bengaluru\"],[\"Bengaluru\"],[\"Bengaluru\"],[\"Bengaluru\"],[\"Bengaluru\"],[\"Bengaluru\"],[\"Bengaluru\"],[\"Bengaluru\"]],\"hovertemplate\":\"City=%{customdata[0]}<br>Years Taken to become Unicorn=%{x}<br>Country=%{y}<extra></extra>\",\"legendgroup\":\"Bengaluru\",\"marker\":{\"color\":\"#FF97FF\",\"symbol\":\"circle\"},\"mode\":\"markers\",\"name\":\"Bengaluru\",\"orientation\":\"h\",\"showlegend\":true,\"x\":[9,4,7,0,6,6,5,5,2,13,4,3,3,4,5,7,2,5,7,6,7,6,0,7,6,5],\"xaxis\":\"x\",\"y\":[\"India\",\"India\",\"India\",\"India\",\"India\",\"India\",\"India\",\"India\",\"India\",\"India\",\"India\",\"India\",\"India\",\"India\",\"India\",\"India\",\"India\",\"India\",\"India\",\"India\",\"India\",\"India\",\"India\",\"India\",\"India\",\"India\"],\"yaxis\":\"y\",\"type\":\"scatter\"},{\"customdata\":[[\"Shanghai\"],[\"Shanghai\"],[\"Shanghai\"],[\"Shanghai\"],[\"Shanghai\"],[\"Shanghai\"],[\"Shanghai\"],[\"Shanghai\"],[\"Shanghai\"],[\"Shanghai\"],[\"Shanghai\"],[\"Shanghai\"],[\"Shanghai\"],[\"Shanghai\"],[\"Shanghai\"],[\"Shanghai\"],[\"Shanghai\"],[\"Shanghai\"],[\"Shanghai\"],[\"Shanghai\"],[\"Shanghai\"],[\"Shanghai\"],[\"Shanghai\"],[\"Shanghai\"],[\"Shanghai\"],[\"Shanghai\"],[\"Shanghai\"],[\"Shanghai\"],[\"Shanghai\"],[\"Shanghai\"],[\"Shanghai\"],[\"Shanghai\"],[\"Shanghai\"],[\"Shanghai\"],[\"Shanghai\"],[\"Shanghai\"],[\"Shanghai\"]],\"hovertemplate\":\"City=%{customdata[0]}<br>Years Taken to become Unicorn=%{x}<br>Country=%{y}<extra></extra>\",\"legendgroup\":\"Shanghai\",\"marker\":{\"color\":\"#FECB52\",\"symbol\":\"circle\"},\"mode\":\"markers\",\"name\":\"Shanghai\",\"orientation\":\"h\",\"showlegend\":true,\"x\":[3,8,6,2,4,4,7,1,14,7,6,4,5,4,1,6,5,7,6,3,4,4,5,3,11,4,7,14,17,5,5,3,6,11,1,6,8],\"xaxis\":\"x\",\"y\":[\"China\",\"China\",\"China\",\"China\",\"China\",\"China\",\"China\",\"China\",\"China\",\"China\",\"China\",\"China\",\"China\",\"China\",\"China\",\"China\",\"China\",\"China\",\"China\",\"China\",\"China\",\"China\",\"China\",\"China\",\"China\",\"China\",\"China\",\"China\",\"China\",\"China\",\"China\",\"China\",\"China\",\"China\",\"China\",\"China\",\"China\"],\"yaxis\":\"y\",\"type\":\"scatter\"},{\"customdata\":[[\"Jakarta\"],[\"Jakarta\"],[\"Jakarta\"],[\"Jakarta\"],[\"Jakarta\"],[\"Jakarta\"],[\"Jakarta\"]],\"hovertemplate\":\"City=%{customdata[0]}<br>Years Taken to become Unicorn=%{x}<br>Country=%{y}<extra></extra>\",\"legendgroup\":\"Jakarta\",\"marker\":{\"color\":\"#636efa\",\"symbol\":\"circle\"},\"mode\":\"markers\",\"name\":\"Jakarta\",\"orientation\":\"h\",\"showlegend\":true,\"x\":[6,5,2,8,7,3,4],\"xaxis\":\"x\",\"y\":[\"Indonesia\",\"Indonesia\",\"Indonesia\",\"Indonesia\",\"Indonesia\",\"Indonesia\",\"Indonesia\"],\"yaxis\":\"y\",\"type\":\"scatter\"},{\"customdata\":[[\"Shenzhen\"],[\"Shenzhen\"],[\"Shenzhen\"],[\"Shenzhen\"],[\"Shenzhen\"],[\"Shenzhen\"],[\"Shenzhen\"],[\"Shenzhen\"],[\"Shenzhen\"],[\"Shenzhen\"],[\"Shenzhen\"],[\"Shenzhen\"],[\"Shenzhen\"],[\"Shenzhen\"],[\"Shenzhen\"],[\"Shenzhen\"],[\"Shenzhen\"]],\"hovertemplate\":\"City=%{customdata[0]}<br>Years Taken to become Unicorn=%{x}<br>Country=%{y}<extra></extra>\",\"legendgroup\":\"Shenzhen\",\"marker\":{\"color\":\"#EF553B\",\"symbol\":\"circle\"},\"mode\":\"markers\",\"name\":\"Shenzhen\",\"orientation\":\"h\",\"showlegend\":true,\"x\":[9,10,7,3,4,10,5,7,12,3,2,4,1,20,5,5,4],\"xaxis\":\"x\",\"y\":[\"China\",\"China\",\"China\",\"China\",\"China\",\"China\",\"China\",\"China\",\"China\",\"China\",\"China\",\"China\",\"China\",\"China\",\"China\",\"China\",\"China\"],\"yaxis\":\"y\",\"type\":\"scatter\"},{\"customdata\":[[\"Philadelphia\"],[\"Philadelphia\"]],\"hovertemplate\":\"City=%{customdata[0]}<br>Years Taken to become Unicorn=%{x}<br>Country=%{y}<extra></extra>\",\"legendgroup\":\"Philadelphia\",\"marker\":{\"color\":\"#00cc96\",\"symbol\":\"circle\"},\"mode\":\"markers\",\"name\":\"Philadelphia\",\"orientation\":\"h\",\"showlegend\":true,\"x\":[7,5],\"xaxis\":\"x\",\"y\":[\"United States\",\"United States\"],\"yaxis\":\"y\",\"type\":\"scatter\"},{\"customdata\":[[\"New York\"],[\"New York\"],[\"New York\"],[\"New York\"],[\"New York\"],[\"New York\"],[\"New York\"],[\"New York\"],[\"New York\"],[\"New York\"],[\"New York\"],[\"New York\"],[\"New York\"],[\"New York\"],[\"New York\"],[\"New York\"],[\"New York\"],[\"New York\"],[\"New York\"],[\"New York\"],[\"New York\"],[\"New York\"],[\"New York\"],[\"New York\"],[\"New York\"],[\"New York\"],[\"New York\"],[\"New York\"],[\"New York\"],[\"New York\"],[\"New York\"],[\"New York\"],[\"New York\"],[\"New York\"],[\"New York\"],[\"New York\"],[\"New York\"],[\"New York\"],[\"New York\"],[\"New York\"],[\"New York\"],[\"New York\"],[\"New York\"],[\"New York\"],[\"New York\"],[\"New York\"],[\"New York\"],[\"New York\"],[\"New York\"],[\"New York\"],[\"New York\"],[\"New York\"],[\"New York\"],[\"New York\"],[\"New York\"],[\"New York\"],[\"New York\"],[\"New York\"],[\"New York\"],[\"New York\"],[\"New York\"],[\"New York\"],[\"New York\"],[\"New York\"],[\"New York\"],[\"New York\"],[\"New York\"],[\"New York\"],[\"New York\"],[\"New York\"],[\"New York\"],[\"New York\"],[\"New York\"],[\"New York\"],[\"New York\"],[\"New York\"],[\"New York\"],[\"New York\"],[\"New York\"],[\"New York\"],[\"New York\"],[\"New York\"],[\"New York\"],[\"New York\"],[\"New York\"],[\"New York\"],[\"New York\"],[\"New York\"],[\"New York\"],[\"New York\"],[\"New York\"]],\"hovertemplate\":\"City=%{customdata[0]}<br>Years Taken to become Unicorn=%{x}<br>Country=%{y}<extra></extra>\",\"legendgroup\":\"New York\",\"marker\":{\"color\":\"#ab63fa\",\"symbol\":\"circle\"},\"mode\":\"markers\",\"name\":\"New York\",\"orientation\":\"h\",\"showlegend\":true,\"x\":[4,3,3,2,6,3,2,8,6,6,9,6,9,3,6,4,15,5,5,7,7,7,8,6,6,6,7,3,5,5,6,9,6,8,5,5,7,7,5,7,0,5,4,8,3,4,10,6,6,12,11,8,8,5,5,13,4,5,0,16,4,7,3,11,2,7,8,3,5,5,28,6,7,9,8,7,7,4,2,10,9,3,5,13,1,13,10,7,8,7,5],\"xaxis\":\"x\",\"y\":[\"United States\",\"United States\",\"United States\",\"United States\",\"United States\",\"United States\",\"United States\",\"United States\",\"United States\",\"United States\",\"United States\",\"United States\",\"United States\",\"United States\",\"United States\",\"United States\",\"United States\",\"United States\",\"United States\",\"United States\",\"United States\",\"United States\",\"United States\",\"United States\",\"United States\",\"United States\",\"United States\",\"United States\",\"United States\",\"United States\",\"United States\",\"United States\",\"United States\",\"United States\",\"United States\",\"United States\",\"United States\",\"United States\",\"United States\",\"United States\",\"United States\",\"United States\",\"United States\",\"United States\",\"United States\",\"United States\",\"United States\",\"United States\",\"United States\",\"United States\",\"United States\",\"United States\",\"United States\",\"United States\",\"United States\",\"United States\",\"United States\",\"United States\",\"United States\",\"United States\",\"United States\",\"United States\",\"United States\",\"United States\",\"United States\",\"United States\",\"United States\",\"United States\",\"United States\",\"United States\",\"United States\",\"United States\",\"United States\",\"United States\",\"United States\",\"United States\",\"United States\",\"United States\",\"United States\",\"United States\",\"United States\",\"United States\",\"United States\",\"United States\",\"United States\",\"United States\",\"United States\",\"United States\",\"United States\",\"United States\",\"United States\"],\"yaxis\":\"y\",\"type\":\"scatter\"},{\"customdata\":[[\"Waltham\"],[\"Waltham\"]],\"hovertemplate\":\"City=%{customdata[0]}<br>Years Taken to become Unicorn=%{x}<br>Country=%{y}<extra></extra>\",\"legendgroup\":\"Waltham\",\"marker\":{\"color\":\"#FFA15A\",\"symbol\":\"circle\"},\"mode\":\"markers\",\"name\":\"Waltham\",\"orientation\":\"h\",\"showlegend\":true,\"x\":[1,4],\"xaxis\":\"x\",\"y\":[\"United States\",\"United States\"],\"yaxis\":\"y\",\"type\":\"scatter\"},{\"customdata\":[[\"San Diego\"],[\"San Diego\"],[\"San Diego\"],[\"San Diego\"],[\"San Diego\"],[\"San Diego\"]],\"hovertemplate\":\"City=%{customdata[0]}<br>Years Taken to become Unicorn=%{x}<br>Country=%{y}<extra></extra>\",\"legendgroup\":\"San Diego\",\"marker\":{\"color\":\"#19d3f3\",\"symbol\":\"circle\"},\"mode\":\"markers\",\"name\":\"San Diego\",\"orientation\":\"h\",\"showlegend\":true,\"x\":[10,3,8,13,6,1],\"xaxis\":\"x\",\"y\":[\"United States\",\"United States\",\"United States\",\"United States\",\"United States\",\"United States\"],\"yaxis\":\"y\",\"type\":\"scatter\"},{\"customdata\":[[\"Roseville\"]],\"hovertemplate\":\"City=%{customdata[0]}<br>Years Taken to become Unicorn=%{x}<br>Country=%{y}<extra></extra>\",\"legendgroup\":\"Roseville\",\"marker\":{\"color\":\"#FF6692\",\"symbol\":\"circle\"},\"mode\":\"markers\",\"name\":\"Roseville\",\"orientation\":\"h\",\"showlegend\":true,\"x\":[18],\"xaxis\":\"x\",\"y\":[\"United States\"],\"yaxis\":\"y\",\"type\":\"scatter\"},{\"customdata\":[[\"Munich\"],[\"Munich\"],[\"Munich\"],[\"Munich\"],[\"Munich\"]],\"hovertemplate\":\"City=%{customdata[0]}<br>Years Taken to become Unicorn=%{x}<br>Country=%{y}<extra></extra>\",\"legendgroup\":\"Munich\",\"marker\":{\"color\":\"#B6E880\",\"symbol\":\"circle\"},\"mode\":\"markers\",\"name\":\"Munich\",\"orientation\":\"h\",\"showlegend\":true,\"x\":[7,6,6,7,3],\"xaxis\":\"x\",\"y\":[\"Germany\",\"Germany\",\"Germany\",\"Germany\",\"Germany\"],\"yaxis\":\"y\",\"type\":\"scatter\"},{\"customdata\":[[\"Cheung Sha Wan\"]],\"hovertemplate\":\"City=%{customdata[0]}<br>Years Taken to become Unicorn=%{x}<br>Country=%{y}<extra></extra>\",\"legendgroup\":\"Cheung Sha Wan\",\"marker\":{\"color\":\"#FF97FF\",\"symbol\":\"circle\"},\"mode\":\"markers\",\"name\":\"Cheung Sha Wan\",\"orientation\":\"h\",\"showlegend\":true,\"x\":[6],\"xaxis\":\"x\",\"y\":[\"Hong Kong\"],\"yaxis\":\"y\",\"type\":\"scatter\"},{\"customdata\":[[\"Walpole\"]],\"hovertemplate\":\"City=%{customdata[0]}<br>Years Taken to become Unicorn=%{x}<br>Country=%{y}<extra></extra>\",\"legendgroup\":\"Walpole\",\"marker\":{\"color\":\"#FECB52\",\"symbol\":\"circle\"},\"mode\":\"markers\",\"name\":\"Walpole\",\"orientation\":\"h\",\"showlegend\":true,\"x\":[2],\"xaxis\":\"x\",\"y\":[\"United States\"],\"yaxis\":\"y\",\"type\":\"scatter\"},{\"customdata\":[[\"Boston\"],[\"Boston\"],[\"Boston\"],[\"Boston\"],[\"Boston\"],[\"Boston\"],[\"Boston\"],[\"Boston\"],[\"Boston\"],[\"Boston\"],[\"Boston\"],[\"Boston\"],[\"Boston\"],[\"Boston\"],[\"Boston\"]],\"hovertemplate\":\"City=%{customdata[0]}<br>Years Taken to become Unicorn=%{x}<br>Country=%{y}<extra></extra>\",\"legendgroup\":\"Boston\",\"marker\":{\"color\":\"#636efa\",\"symbol\":\"circle\"},\"mode\":\"markers\",\"name\":\"Boston\",\"orientation\":\"h\",\"showlegend\":true,\"x\":[17,8,5,7,10,19,8,3,5,7,8,9,21,12,4],\"xaxis\":\"x\",\"y\":[\"United States\",\"United States\",\"United States\",\"United States\",\"United States\",\"United States\",\"United States\",\"United States\",\"United States\",\"United States\",\"United States\",\"United States\",\"United States\",\"United States\",\"United States\"],\"yaxis\":\"y\",\"type\":\"scatter\"},{\"customdata\":[[\"Glendale\"],[\"Glendale\"]],\"hovertemplate\":\"City=%{customdata[0]}<br>Years Taken to become Unicorn=%{x}<br>Country=%{y}<extra></extra>\",\"legendgroup\":\"Glendale\",\"marker\":{\"color\":\"#EF553B\",\"symbol\":\"circle\"},\"mode\":\"markers\",\"name\":\"Glendale\",\"orientation\":\"h\",\"showlegend\":true,\"x\":[6,9],\"xaxis\":\"x\",\"y\":[\"United States\",\"United States\"],\"yaxis\":\"y\",\"type\":\"scatter\"},{\"customdata\":[[\"Berlin\"],[\"Berlin\"],[\"Berlin\"],[\"Berlin\"],[\"Berlin\"],[\"Berlin\"],[\"Berlin\"],[\"Berlin\"],[\"Berlin\"],[\"Berlin\"],[\"Berlin\"],[\"Berlin\"],[\"Berlin\"],[\"Berlin\"],[\"Berlin\"],[\"Berlin\"],[\"Berlin\"]],\"hovertemplate\":\"City=%{customdata[0]}<br>Years Taken to become Unicorn=%{x}<br>Country=%{y}<extra></extra>\",\"legendgroup\":\"Berlin\",\"marker\":{\"color\":\"#00cc96\",\"symbol\":\"circle\"},\"mode\":\"markers\",\"name\":\"Berlin\",\"orientation\":\"h\",\"showlegend\":true,\"x\":[6,6,8,1,0,3,5,5,5,10,6,4,5,16,1,1,8],\"xaxis\":\"x\",\"y\":[\"Germany\",\"Germany\",\"Germany\",\"Germany\",\"Germany\",\"Germany\",\"Germany\",\"Germany\",\"Germany\",\"Germany\",\"Germany\",\"Germany\",\"Germany\",\"Germany\",\"Germany\",\"Germany\",\"Germany\"],\"yaxis\":\"y\",\"type\":\"scatter\"},{\"customdata\":[[\"Kirkland\"]],\"hovertemplate\":\"City=%{customdata[0]}<br>Years Taken to become Unicorn=%{x}<br>Country=%{y}<extra></extra>\",\"legendgroup\":\"Kirkland\",\"marker\":{\"color\":\"#ab63fa\",\"symbol\":\"circle\"},\"mode\":\"markers\",\"name\":\"Kirkland\",\"orientation\":\"h\",\"showlegend\":true,\"x\":[8],\"xaxis\":\"x\",\"y\":[\"United States\"],\"yaxis\":\"y\",\"type\":\"scatter\"},{\"customdata\":[[\"Gurugram\"],[\"Gurugram\"],[\"Gurugram\"],[\"Gurugram\"]],\"hovertemplate\":\"City=%{customdata[0]}<br>Years Taken to become Unicorn=%{x}<br>Country=%{y}<extra></extra>\",\"legendgroup\":\"Gurugram\",\"marker\":{\"color\":\"#FFA15A\",\"symbol\":\"circle\"},\"mode\":\"markers\",\"name\":\"Gurugram\",\"orientation\":\"h\",\"showlegend\":true,\"x\":[6,6,3,12],\"xaxis\":\"x\",\"y\":[\"India\",\"India\",\"India\",\"India\"],\"yaxis\":\"y\",\"type\":\"scatter\"},{\"customdata\":[[\"Lerma de Villada\"]],\"hovertemplate\":\"City=%{customdata[0]}<br>Years Taken to become Unicorn=%{x}<br>Country=%{y}<extra></extra>\",\"legendgroup\":\"Lerma de Villada\",\"marker\":{\"color\":\"#19d3f3\",\"symbol\":\"circle\"},\"mode\":\"markers\",\"name\":\"Lerma de Villada\",\"orientation\":\"h\",\"showlegend\":true,\"x\":[4],\"xaxis\":\"x\",\"y\":[\"Mexico\"],\"yaxis\":\"y\",\"type\":\"scatter\"},{\"customdata\":[[\"Mountain View\"],[\"Mountain View\"],[\"Mountain View\"],[\"Mountain View\"],[\"Mountain View\"],[\"Mountain View\"],[\"Mountain View\"],[\"Mountain View\"],[\"Mountain View\"],[\"Mountain View\"],[\"Mountain View\"],[\"Mountain View\"],[\"Mountain View\"],[\"Mountain View\"],[\"Mountain View\"]],\"hovertemplate\":\"City=%{customdata[0]}<br>Years Taken to become Unicorn=%{x}<br>Country=%{y}<extra></extra>\",\"legendgroup\":\"Mountain View\",\"marker\":{\"color\":\"#FF6692\",\"symbol\":\"circle\"},\"mode\":\"markers\",\"name\":\"Mountain View\",\"orientation\":\"h\",\"showlegend\":true,\"x\":[3,8,3,13,12,5,8,9,10,6,5,10,5,6,5],\"xaxis\":\"x\",\"y\":[\"United States\",\"United States\",\"United States\",\"United States\",\"United States\",\"United States\",\"United States\",\"United States\",\"United States\",\"United States\",\"United States\",\"United States\",\"United States\",\"United States\",\"United States\"],\"yaxis\":\"y\",\"type\":\"scatter\"},{\"customdata\":[[\"Tallinn\"],[\"Tallinn\"]],\"hovertemplate\":\"City=%{customdata[0]}<br>Years Taken to become Unicorn=%{x}<br>Country=%{y}<extra></extra>\",\"legendgroup\":\"Tallinn\",\"marker\":{\"color\":\"#B6E880\",\"symbol\":\"circle\"},\"mode\":\"markers\",\"name\":\"Tallinn\",\"orientation\":\"h\",\"showlegend\":true,\"x\":[5,7],\"xaxis\":\"x\",\"y\":[\"Estonia\",\"Estonia\"],\"yaxis\":\"y\",\"type\":\"scatter\"},{\"customdata\":[[\"San Jose\"],[\"San Jose\"],[\"San Jose\"],[\"San Jose\"],[\"San Jose\"],[\"San Jose\"],[\"San Jose\"]],\"hovertemplate\":\"City=%{customdata[0]}<br>Years Taken to become Unicorn=%{x}<br>Country=%{y}<extra></extra>\",\"legendgroup\":\"San Jose\",\"marker\":{\"color\":\"#FF97FF\",\"symbol\":\"circle\"},\"mode\":\"markers\",\"name\":\"San Jose\",\"orientation\":\"h\",\"showlegend\":true,\"x\":[6,15,5,10,10,11,15],\"xaxis\":\"x\",\"y\":[\"United States\",\"United States\",\"United States\",\"United States\",\"United States\",\"United States\",\"United States\"],\"yaxis\":\"y\",\"type\":\"scatter\"},{\"customdata\":[[\"San Mateo\"],[\"San Mateo\"],[\"San Mateo\"],[\"San Mateo\"],[\"San Mateo\"],[\"San Mateo\"],[\"San Mateo\"],[\"San Mateo\"],[\"San Mateo\"],[\"San Mateo\"]],\"hovertemplate\":\"City=%{customdata[0]}<br>Years Taken to become Unicorn=%{x}<br>Country=%{y}<extra></extra>\",\"legendgroup\":\"San Mateo\",\"marker\":{\"color\":\"#FECB52\",\"symbol\":\"circle\"},\"mode\":\"markers\",\"name\":\"San Mateo\",\"orientation\":\"h\",\"showlegend\":true,\"x\":[10,3,14,4,6,8,9,12,15,14],\"xaxis\":\"x\",\"y\":[\"United States\",\"United States\",\"United States\",\"United States\",\"United States\",\"United States\",\"United States\",\"United States\",\"United States\",\"United States\"],\"yaxis\":\"y\",\"type\":\"scatter\"},{\"customdata\":[[\"Chicago\"],[\"Chicago\"],[\"Chicago\"],[\"Chicago\"],[\"Chicago\"],[\"Chicago\"],[\"Chicago\"],[\"Chicago\"],[\"Chicago\"],[\"Chicago\"],[\"Chicago\"],[\"Chicago\"],[\"Chicago\"],[\"Chicago\"],[\"Chicago\"]],\"hovertemplate\":\"City=%{customdata[0]}<br>Years Taken to become Unicorn=%{x}<br>Country=%{y}<extra></extra>\",\"legendgroup\":\"Chicago\",\"marker\":{\"color\":\"#636efa\",\"symbol\":\"circle\"},\"mode\":\"markers\",\"name\":\"Chicago\",\"orientation\":\"h\",\"showlegend\":true,\"x\":[3,20,18,7,1,39,6,8,9,13,5,5,7,4,9],\"xaxis\":\"x\",\"y\":[\"United States\",\"United States\",\"United States\",\"United States\",\"United States\",\"United States\",\"United States\",\"United States\",\"United States\",\"United States\",\"United States\",\"United States\",\"United States\",\"United States\",\"United States\"],\"yaxis\":\"y\",\"type\":\"scatter\"},{\"customdata\":[[\"Changsha\"],[\"Changsha\"]],\"hovertemplate\":\"City=%{customdata[0]}<br>Years Taken to become Unicorn=%{x}<br>Country=%{y}<extra></extra>\",\"legendgroup\":\"Changsha\",\"marker\":{\"color\":\"#EF553B\",\"symbol\":\"circle\"},\"mode\":\"markers\",\"name\":\"Changsha\",\"orientation\":\"h\",\"showlegend\":true,\"x\":[11,5],\"xaxis\":\"x\",\"y\":[\"China\",\"China\"],\"yaxis\":\"y\",\"type\":\"scatter\"},{\"customdata\":[[\"Mumbai\"],[\"Mumbai\"],[\"Mumbai\"],[\"Mumbai\"],[\"Mumbai\"],[\"Mumbai\"],[\"Mumbai\"]],\"hovertemplate\":\"City=%{customdata[0]}<br>Years Taken to become Unicorn=%{x}<br>Country=%{y}<extra></extra>\",\"legendgroup\":\"Mumbai\",\"marker\":{\"color\":\"#00cc96\",\"symbol\":\"circle\"},\"mode\":\"markers\",\"name\":\"Mumbai\",\"orientation\":\"h\",\"showlegend\":true,\"x\":[12,28,11,11,6,6,22],\"xaxis\":\"x\",\"y\":[\"India\",\"India\",\"India\",\"India\",\"India\",\"India\",\"India\"],\"yaxis\":\"y\",\"type\":\"scatter\"},{\"customdata\":[[\"Irving\"]],\"hovertemplate\":\"City=%{customdata[0]}<br>Years Taken to become Unicorn=%{x}<br>Country=%{y}<extra></extra>\",\"legendgroup\":\"Irving\",\"marker\":{\"color\":\"#ab63fa\",\"symbol\":\"circle\"},\"mode\":\"markers\",\"name\":\"Irving\",\"orientation\":\"h\",\"showlegend\":true,\"x\":[25],\"xaxis\":\"x\",\"y\":[\"United States\"],\"yaxis\":\"y\",\"type\":\"scatter\"},{\"customdata\":[[\"Vancouver\"],[\"Vancouver\"],[\"Vancouver\"],[\"Vancouver\"],[\"Vancouver\"]],\"hovertemplate\":\"City=%{customdata[0]}<br>Years Taken to become Unicorn=%{x}<br>Country=%{y}<extra></extra>\",\"legendgroup\":\"Vancouver\",\"marker\":{\"color\":\"#FFA15A\",\"symbol\":\"circle\"},\"mode\":\"markers\",\"name\":\"Vancouver\",\"orientation\":\"h\",\"showlegend\":true,\"x\":[3,7,10,1,11],\"xaxis\":\"x\",\"y\":[\"Canada\",\"Canada\",\"Canada\",\"Canada\",\"Canada\"],\"yaxis\":\"y\",\"type\":\"scatter\"},{\"customdata\":[[\"Istanbul\"],[\"Istanbul\"],[\"Istanbul\"]],\"hovertemplate\":\"City=%{customdata[0]}<br>Years Taken to become Unicorn=%{x}<br>Country=%{y}<extra></extra>\",\"legendgroup\":\"Istanbul\",\"marker\":{\"color\":\"#19d3f3\",\"symbol\":\"circle\"},\"mode\":\"markers\",\"name\":\"Istanbul\",\"orientation\":\"h\",\"showlegend\":true,\"x\":[6,2,10],\"xaxis\":\"x\",\"y\":[\"Turkey\",\"Turkey\",\"Turkey\"],\"yaxis\":\"y\",\"type\":\"scatter\"},{\"customdata\":[[\"Santa Clara\"],[\"Santa Clara\"],[\"Santa Clara\"],[\"Santa Clara\"],[\"Santa Clara\"]],\"hovertemplate\":\"City=%{customdata[0]}<br>Years Taken to become Unicorn=%{x}<br>Country=%{y}<extra></extra>\",\"legendgroup\":\"Santa Clara\",\"marker\":{\"color\":\"#FF6692\",\"symbol\":\"circle\"},\"mode\":\"markers\",\"name\":\"Santa Clara\",\"orientation\":\"h\",\"showlegend\":true,\"x\":[6,4,13,7,6],\"xaxis\":\"x\",\"y\":[\"United States\",\"United States\",\"United States\",\"United States\",\"United States\"],\"yaxis\":\"y\",\"type\":\"scatter\"},{\"customdata\":[[\"Seoul\"],[\"Seoul\"],[\"Seoul\"],[\"Seoul\"],[\"Seoul\"],[\"Seoul\"],[\"Seoul\"],[\"Seoul\"],[\"Seoul\"],[\"Seoul\"]],\"hovertemplate\":\"City=%{customdata[0]}<br>Years Taken to become Unicorn=%{x}<br>Country=%{y}<extra></extra>\",\"legendgroup\":\"Seoul\",\"marker\":{\"color\":\"#B6E880\",\"symbol\":\"circle\"},\"mode\":\"markers\",\"name\":\"Seoul\",\"orientation\":\"h\",\"showlegend\":true,\"x\":[5,2,7,6,18,14,15,7,14,9],\"xaxis\":\"x\",\"y\":[\"South Korea\",\"South Korea\",\"South Korea\",\"South Korea\",\"South Korea\",\"South Korea\",\"South Korea\",\"South Korea\",\"South Korea\",\"South Korea\"],\"yaxis\":\"y\",\"type\":\"scatter\"},{\"customdata\":[[\"Palo Alto\"],[\"Palo Alto\"],[\"Palo Alto\"],[\"Palo Alto\"],[\"Palo Alto\"],[\"Palo Alto\"],[\"Palo Alto\"],[\"Palo Alto\"],[\"Palo Alto\"],[\"Palo Alto\"],[\"Palo Alto\"],[\"Palo Alto\"],[\"Palo Alto\"],[\"Palo Alto\"],[\"Palo Alto\"],[\"Palo Alto\"]],\"hovertemplate\":\"City=%{customdata[0]}<br>Years Taken to become Unicorn=%{x}<br>Country=%{y}<extra></extra>\",\"legendgroup\":\"Palo Alto\",\"marker\":{\"color\":\"#FF97FF\",\"symbol\":\"circle\"},\"mode\":\"markers\",\"name\":\"Palo Alto\",\"orientation\":\"h\",\"showlegend\":true,\"x\":[5,3,4,6,3,3,5,6,14,8,6,5,3,2,1,8],\"xaxis\":\"x\",\"y\":[\"United States\",\"United States\",\"United States\",\"United States\",\"United States\",\"United States\",\"United States\",\"United States\",\"United States\",\"United States\",\"United States\",\"United States\",\"United States\",\"United States\",\"United States\",\"United States\"],\"yaxis\":\"y\",\"type\":\"scatter\"},{\"customdata\":[[\"Hangzhou\"],[\"Hangzhou\"],[\"Hangzhou\"],[\"Hangzhou\"],[\"Hangzhou\"],[\"Hangzhou\"],[\"Hangzhou\"],[\"Hangzhou\"],[\"Hangzhou\"],[\"Hangzhou\"],[\"Hangzhou\"],[\"Hangzhou\"],[\"Hangzhou\"]],\"hovertemplate\":\"City=%{customdata[0]}<br>Years Taken to become Unicorn=%{x}<br>Country=%{y}<extra></extra>\",\"legendgroup\":\"Hangzhou\",\"marker\":{\"color\":\"#FECB52\",\"symbol\":\"circle\"},\"mode\":\"markers\",\"name\":\"Hangzhou\",\"orientation\":\"h\",\"showlegend\":true,\"x\":[5,5,3,8,3,2,10,6,3,4,18,9,7],\"xaxis\":\"x\",\"y\":[\"China\",\"China\",\"China\",\"China\",\"China\",\"China\",\"China\",\"China\",\"China\",\"China\",\"China\",\"China\",\"China\"],\"yaxis\":\"y\",\"type\":\"scatter\"},{\"customdata\":[[\"Toronto\"],[\"Toronto\"],[\"Toronto\"],[\"Toronto\"],[\"Toronto\"],[\"Toronto\"]],\"hovertemplate\":\"City=%{customdata[0]}<br>Years Taken to become Unicorn=%{x}<br>Country=%{y}<extra></extra>\",\"legendgroup\":\"Toronto\",\"marker\":{\"color\":\"#636efa\",\"symbol\":\"circle\"},\"mode\":\"markers\",\"name\":\"Toronto\",\"orientation\":\"h\",\"showlegend\":true,\"x\":[16,6,3,5,5,17],\"xaxis\":\"x\",\"y\":[\"Canada\",\"Canada\",\"Canada\",\"Canada\",\"Canada\",\"Canada\"],\"yaxis\":\"y\",\"type\":\"scatter\"},{\"customdata\":[[\"Amsterdam\"],[\"Amsterdam\"],[\"Amsterdam\"],[\"Amsterdam\"],[\"Amsterdam\"],[\"Amsterdam\"]],\"hovertemplate\":\"City=%{customdata[0]}<br>Years Taken to become Unicorn=%{x}<br>Country=%{y}<extra></extra>\",\"legendgroup\":\"Amsterdam\",\"marker\":{\"color\":\"#EF553B\",\"symbol\":\"circle\"},\"mode\":\"markers\",\"name\":\"Amsterdam\",\"orientation\":\"h\",\"showlegend\":true,\"x\":[16,10,9,8,7,9],\"xaxis\":\"x\",\"y\":[\"Netherlands\",\"Netherlands\",\"Netherlands\",\"Netherlands\",\"Netherlands\",\"Netherlands\"],\"yaxis\":\"y\",\"type\":\"scatter\"},{\"customdata\":[[\"Los Angeles\"],[\"Los Angeles\"],[\"Los Angeles\"],[\"Los Angeles\"],[\"Los Angeles\"],[\"Los Angeles\"],[\"Los Angeles\"]],\"hovertemplate\":\"City=%{customdata[0]}<br>Years Taken to become Unicorn=%{x}<br>Country=%{y}<extra></extra>\",\"legendgroup\":\"Los Angeles\",\"marker\":{\"color\":\"#00cc96\",\"symbol\":\"circle\"},\"mode\":\"markers\",\"name\":\"Los Angeles\",\"orientation\":\"h\",\"showlegend\":true,\"x\":[1,5,2,3,7,8,5],\"xaxis\":\"x\",\"y\":[\"United States\",\"United States\",\"United States\",\"United States\",\"United States\",\"United States\",\"United States\"],\"yaxis\":\"y\",\"type\":\"scatter\"},{\"customdata\":[[\"Tel Aviv\"],[\"Tel Aviv\"],[\"Tel Aviv\"],[\"Tel Aviv\"],[\"Tel Aviv\"],[\"Tel Aviv\"],[\"Tel Aviv\"],[\"Tel Aviv\"],[\"Tel Aviv\"],[\"Tel Aviv\"],[\"Tel Aviv\"]],\"hovertemplate\":\"City=%{customdata[0]}<br>Years Taken to become Unicorn=%{x}<br>Country=%{y}<extra></extra>\",\"legendgroup\":\"Tel Aviv\",\"marker\":{\"color\":\"#ab63fa\",\"symbol\":\"circle\"},\"mode\":\"markers\",\"name\":\"Tel Aviv\",\"orientation\":\"h\",\"showlegend\":true,\"x\":[1,5,7,5,5,6,3,3,4,8,10],\"xaxis\":\"x\",\"y\":[\"Israel\",\"Israel\",\"Israel\",\"Israel\",\"Israel\",\"Israel\",\"Israel\",\"Israel\",\"Israel\",\"Israel\",\"Israel\"],\"yaxis\":\"y\",\"type\":\"scatter\"},{\"customdata\":[[\"Noida\"]],\"hovertemplate\":\"City=%{customdata[0]}<br>Years Taken to become Unicorn=%{x}<br>Country=%{y}<extra></extra>\",\"legendgroup\":\"Noida\",\"marker\":{\"color\":\"#FFA15A\",\"symbol\":\"circle\"},\"mode\":\"markers\",\"name\":\"Noida\",\"orientation\":\"h\",\"showlegend\":true,\"x\":[22],\"xaxis\":\"x\",\"y\":[\"India\"],\"yaxis\":\"y\",\"type\":\"scatter\"},{\"customdata\":[[\"Hoboken\"],[\"Hoboken\"]],\"hovertemplate\":\"City=%{customdata[0]}<br>Years Taken to become Unicorn=%{x}<br>Country=%{y}<extra></extra>\",\"legendgroup\":\"Hoboken\",\"marker\":{\"color\":\"#19d3f3\",\"symbol\":\"circle\"},\"mode\":\"markers\",\"name\":\"Hoboken\",\"orientation\":\"h\",\"showlegend\":true,\"x\":[4,4],\"xaxis\":\"x\",\"y\":[\"United States\",\"United States\"],\"yaxis\":\"y\",\"type\":\"scatter\"},{\"customdata\":[[\"Brooklyn\"],[\"Brooklyn\"]],\"hovertemplate\":\"City=%{customdata[0]}<br>Years Taken to become Unicorn=%{x}<br>Country=%{y}<extra></extra>\",\"legendgroup\":\"Brooklyn\",\"marker\":{\"color\":\"#FF6692\",\"symbol\":\"circle\"},\"mode\":\"markers\",\"name\":\"Brooklyn\",\"orientation\":\"h\",\"showlegend\":true,\"x\":[17,3],\"xaxis\":\"x\",\"y\":[\"United States\",\"United States\"],\"yaxis\":\"y\",\"type\":\"scatter\"},{\"customdata\":[[\"Paris\"],[\"Paris\"],[\"Paris\"],[\"Paris\"],[\"Paris\"],[\"Paris\"],[\"Paris\"],[\"Paris\"],[\"Paris\"],[\"Paris\"],[\"Paris\"],[\"Paris\"],[\"Paris\"],[\"Paris\"],[\"Paris\"],[\"Paris\"],[\"Paris\"],[\"Paris\"],[\"Paris\"]],\"hovertemplate\":\"City=%{customdata[0]}<br>Years Taken to become Unicorn=%{x}<br>Country=%{y}<extra></extra>\",\"legendgroup\":\"Paris\",\"marker\":{\"color\":\"#B6E880\",\"symbol\":\"circle\"},\"mode\":\"markers\",\"name\":\"Paris\",\"orientation\":\"h\",\"showlegend\":true,\"x\":[7,6,2,9,9,8,7,3,9,12,5,7,7,11,6,3,7,7,10],\"xaxis\":\"x\",\"y\":[\"France\",\"France\",\"France\",\"France\",\"France\",\"France\",\"France\",\"France\",\"France\",\"France\",\"France\",\"France\",\"France\",\"France\",\"France\",\"France\",\"France\",\"France\",\"France\"],\"yaxis\":\"y\",\"type\":\"scatter\"},{\"customdata\":[[\"Helsinki\"],[\"Helsinki\"]],\"hovertemplate\":\"City=%{customdata[0]}<br>Years Taken to become Unicorn=%{x}<br>Country=%{y}<extra></extra>\",\"legendgroup\":\"Helsinki\",\"marker\":{\"color\":\"#FF97FF\",\"symbol\":\"circle\"},\"mode\":\"markers\",\"name\":\"Helsinki\",\"orientation\":\"h\",\"showlegend\":true,\"x\":[17,5],\"xaxis\":\"x\",\"y\":[\"Finland\",\"Finland\"],\"yaxis\":\"y\",\"type\":\"scatter\"},{\"customdata\":[[\"Oakland\"],[\"Oakland\"],[\"Oakland\"]],\"hovertemplate\":\"City=%{customdata[0]}<br>Years Taken to become Unicorn=%{x}<br>Country=%{y}<extra></extra>\",\"legendgroup\":\"Oakland\",\"marker\":{\"color\":\"#FECB52\",\"symbol\":\"circle\"},\"mode\":\"markers\",\"name\":\"Oakland\",\"orientation\":\"h\",\"showlegend\":true,\"x\":[8,7,11],\"xaxis\":\"x\",\"y\":[\"United States\",\"United States\",\"United States\"],\"yaxis\":\"y\",\"type\":\"scatter\"},{\"customdata\":[[\"Fremont\"],[\"Fremont\"]],\"hovertemplate\":\"City=%{customdata[0]}<br>Years Taken to become Unicorn=%{x}<br>Country=%{y}<extra></extra>\",\"legendgroup\":\"Fremont\",\"marker\":{\"color\":\"#636efa\",\"symbol\":\"circle\"},\"mode\":\"markers\",\"name\":\"Fremont\",\"orientation\":\"h\",\"showlegend\":true,\"x\":[2,6],\"xaxis\":\"x\",\"y\":[\"United States\",\"United States\"],\"yaxis\":\"y\",\"type\":\"scatter\"},{\"customdata\":[[\"Bogota\"],[\"Bogota\"]],\"hovertemplate\":\"City=%{customdata[0]}<br>Years Taken to become Unicorn=%{x}<br>Country=%{y}<extra></extra>\",\"legendgroup\":\"Bogota\",\"marker\":{\"color\":\"#EF553B\",\"symbol\":\"circle\"},\"mode\":\"markers\",\"name\":\"Bogota\",\"orientation\":\"h\",\"showlegend\":true,\"x\":[3,4],\"xaxis\":\"x\",\"y\":[\"Colombia\",\"Colombia\"],\"yaxis\":\"y\",\"type\":\"scatter\"},{\"customdata\":[[\"Brussels\"]],\"hovertemplate\":\"City=%{customdata[0]}<br>Years Taken to become Unicorn=%{x}<br>Country=%{y}<extra></extra>\",\"legendgroup\":\"Brussels\",\"marker\":{\"color\":\"#00cc96\",\"symbol\":\"circle\"},\"mode\":\"markers\",\"name\":\"Brussels\",\"orientation\":\"h\",\"showlegend\":true,\"x\":[11],\"xaxis\":\"x\",\"y\":[\"Belgium\"],\"yaxis\":\"y\",\"type\":\"scatter\"},{\"customdata\":[[\"Atlanta\"],[\"Atlanta\"],[\"Atlanta\"],[\"Atlanta\"],[\"Atlanta\"],[\"Atlanta\"],[\"Atlanta\"]],\"hovertemplate\":\"City=%{customdata[0]}<br>Years Taken to become Unicorn=%{x}<br>Country=%{y}<extra></extra>\",\"legendgroup\":\"Atlanta\",\"marker\":{\"color\":\"#ab63fa\",\"symbol\":\"circle\"},\"mode\":\"markers\",\"name\":\"Atlanta\",\"orientation\":\"h\",\"showlegend\":true,\"x\":[3,4,8,6,7,6,9],\"xaxis\":\"x\",\"y\":[\"United States\",\"United States\",\"United States\",\"United States\",\"United States\",\"United States\",\"United States\"],\"yaxis\":\"y\",\"type\":\"scatter\"},{\"customdata\":[[\"Campinas\"]],\"hovertemplate\":\"City=%{customdata[0]}<br>Years Taken to become Unicorn=%{x}<br>Country=%{y}<extra></extra>\",\"legendgroup\":\"Campinas\",\"marker\":{\"color\":\"#FFA15A\",\"symbol\":\"circle\"},\"mode\":\"markers\",\"name\":\"Campinas\",\"orientation\":\"h\",\"showlegend\":true,\"x\":[7],\"xaxis\":\"x\",\"y\":[\"Brazil\"],\"yaxis\":\"y\",\"type\":\"scatter\"},{\"customdata\":[[\"Melbourne\"]],\"hovertemplate\":\"City=%{customdata[0]}<br>Years Taken to become Unicorn=%{x}<br>Country=%{y}<extra></extra>\",\"legendgroup\":\"Melbourne\",\"marker\":{\"color\":\"#19d3f3\",\"symbol\":\"circle\"},\"mode\":\"markers\",\"name\":\"Melbourne\",\"orientation\":\"h\",\"showlegend\":true,\"x\":[4],\"xaxis\":\"x\",\"y\":[\"Australia\"],\"yaxis\":\"y\",\"type\":\"scatter\"},{\"customdata\":[[\"Gurgaon\"],[\"Gurgaon\"],[\"Gurgaon\"],[\"Gurgaon\"],[\"Gurgaon\"],[\"Gurgaon\"],[\"Gurgaon\"],[\"Gurgaon\"]],\"hovertemplate\":\"City=%{customdata[0]}<br>Years Taken to become Unicorn=%{x}<br>Country=%{y}<extra></extra>\",\"legendgroup\":\"Gurgaon\",\"marker\":{\"color\":\"#FF6692\",\"symbol\":\"circle\"},\"mode\":\"markers\",\"name\":\"Gurgaon\",\"orientation\":\"h\",\"showlegend\":true,\"x\":[6,5,8,11,7,5,5,8],\"xaxis\":\"x\",\"y\":[\"India\",\"India\",\"India\",\"India\",\"India\",\"India\",\"India\",\"India\"],\"yaxis\":\"y\",\"type\":\"scatter\"},{\"customdata\":[[\"Bellevue\"],[\"Bellevue\"],[\"Bellevue\"],[\"Bellevue\"],[\"Bellevue\"]],\"hovertemplate\":\"City=%{customdata[0]}<br>Years Taken to become Unicorn=%{x}<br>Country=%{y}<extra></extra>\",\"legendgroup\":\"Bellevue\",\"marker\":{\"color\":\"#B6E880\",\"symbol\":\"circle\"},\"mode\":\"markers\",\"name\":\"Bellevue\",\"orientation\":\"h\",\"showlegend\":true,\"x\":[10,10,3,5,5],\"xaxis\":\"x\",\"y\":[\"United States\",\"United States\",\"United States\",\"United States\",\"United States\"],\"yaxis\":\"y\",\"type\":\"scatter\"},{\"customdata\":[[\"Montreal\"]],\"hovertemplate\":\"City=%{customdata[0]}<br>Years Taken to become Unicorn=%{x}<br>Country=%{y}<extra></extra>\",\"legendgroup\":\"Montreal\",\"marker\":{\"color\":\"#FF97FF\",\"symbol\":\"circle\"},\"mode\":\"markers\",\"name\":\"Montreal\",\"orientation\":\"h\",\"showlegend\":true,\"x\":[14],\"xaxis\":\"x\",\"y\":[\"Canada\"],\"yaxis\":\"y\",\"type\":\"scatter\"},{\"customdata\":[[\"Sao Paulo\"],[\"Sao Paulo\"],[\"Sao Paulo\"],[\"Sao Paulo\"],[\"Sao Paulo\"],[\"Sao Paulo\"],[\"Sao Paulo\"],[\"Sao Paulo\"],[\"Sao Paulo\"],[\"Sao Paulo\"]],\"hovertemplate\":\"City=%{customdata[0]}<br>Years Taken to become Unicorn=%{x}<br>Country=%{y}<extra></extra>\",\"legendgroup\":\"Sao Paulo\",\"marker\":{\"color\":\"#FECB52\",\"symbol\":\"circle\"},\"mode\":\"markers\",\"name\":\"Sao Paulo\",\"orientation\":\"h\",\"showlegend\":true,\"x\":[8,10,8,2,8,6,6,20,14,6],\"xaxis\":\"x\",\"y\":[\"Brazil\",\"Brazil\",\"Brazil\",\"Brazil\",\"Brazil\",\"Brazil\",\"Brazil\",\"Brazil\",\"Brazil\",\"Brazil\"],\"yaxis\":\"y\",\"type\":\"scatter\"},{\"customdata\":[[\"Copenhagen\"]],\"hovertemplate\":\"City=%{customdata[0]}<br>Years Taken to become Unicorn=%{x}<br>Country=%{y}<extra></extra>\",\"legendgroup\":\"Copenhagen\",\"marker\":{\"color\":\"#636efa\",\"symbol\":\"circle\"},\"mode\":\"markers\",\"name\":\"Copenhagen\",\"orientation\":\"h\",\"showlegend\":true,\"x\":[6],\"xaxis\":\"x\",\"y\":[\"Denmark\"],\"yaxis\":\"y\",\"type\":\"scatter\"},{\"customdata\":[[\"Irvine\"],[\"Irvine\"]],\"hovertemplate\":\"City=%{customdata[0]}<br>Years Taken to become Unicorn=%{x}<br>Country=%{y}<extra></extra>\",\"legendgroup\":\"Irvine\",\"marker\":{\"color\":\"#EF553B\",\"symbol\":\"circle\"},\"mode\":\"markers\",\"name\":\"Irvine\",\"orientation\":\"h\",\"showlegend\":true,\"x\":[2,11],\"xaxis\":\"x\",\"y\":[\"United States\",\"United States\"],\"yaxis\":\"y\",\"type\":\"scatter\"},{\"customdata\":[[\"Burlingame\"],[\"Burlingame\"]],\"hovertemplate\":\"City=%{customdata[0]}<br>Years Taken to become Unicorn=%{x}<br>Country=%{y}<extra></extra>\",\"legendgroup\":\"Burlingame\",\"marker\":{\"color\":\"#00cc96\",\"symbol\":\"circle\"},\"mode\":\"markers\",\"name\":\"Burlingame\",\"orientation\":\"h\",\"showlegend\":true,\"x\":[5,8],\"xaxis\":\"x\",\"y\":[\"United States\",\"United States\"],\"yaxis\":\"y\",\"type\":\"scatter\"},{\"customdata\":[[\"Zhuhai\"]],\"hovertemplate\":\"City=%{customdata[0]}<br>Years Taken to become Unicorn=%{x}<br>Country=%{y}<extra></extra>\",\"legendgroup\":\"Zhuhai\",\"marker\":{\"color\":\"#ab63fa\",\"symbol\":\"circle\"},\"mode\":\"markers\",\"name\":\"Zhuhai\",\"orientation\":\"h\",\"showlegend\":true,\"x\":[11],\"xaxis\":\"x\",\"y\":[\"China\"],\"yaxis\":\"y\",\"type\":\"scatter\"},{\"customdata\":[[\"Vilnius\"]],\"hovertemplate\":\"City=%{customdata[0]}<br>Years Taken to become Unicorn=%{x}<br>Country=%{y}<extra></extra>\",\"legendgroup\":\"Vilnius\",\"marker\":{\"color\":\"#FFA15A\",\"symbol\":\"circle\"},\"mode\":\"markers\",\"name\":\"Vilnius\",\"orientation\":\"h\",\"showlegend\":true,\"x\":[11],\"xaxis\":\"x\",\"y\":[\"Lithuania\"],\"yaxis\":\"y\",\"type\":\"scatter\"},{\"customdata\":[[\"Seattle\"],[\"Seattle\"],[\"Seattle\"],[\"Seattle\"],[\"Seattle\"],[\"Seattle\"],[\"Seattle\"]],\"hovertemplate\":\"City=%{customdata[0]}<br>Years Taken to become Unicorn=%{x}<br>Country=%{y}<extra></extra>\",\"legendgroup\":\"Seattle\",\"marker\":{\"color\":\"#19d3f3\",\"symbol\":\"circle\"},\"mode\":\"markers\",\"name\":\"Seattle\",\"orientation\":\"h\",\"showlegend\":true,\"x\":[8,5,8,3,8,7,5],\"xaxis\":\"x\",\"y\":[\"United States\",\"United States\",\"United States\",\"United States\",\"United States\",\"United States\",\"United States\"],\"yaxis\":\"y\",\"type\":\"scatter\"},{\"customdata\":[[\"Guangzhou\"],[\"Guangzhou\"],[\"Guangzhou\"],[\"Guangzhou\"]],\"hovertemplate\":\"City=%{customdata[0]}<br>Years Taken to become Unicorn=%{x}<br>Country=%{y}<extra></extra>\",\"legendgroup\":\"Guangzhou\",\"marker\":{\"color\":\"#FF6692\",\"symbol\":\"circle\"},\"mode\":\"markers\",\"name\":\"Guangzhou\",\"orientation\":\"h\",\"showlegend\":true,\"x\":[3,3,6,5],\"xaxis\":\"x\",\"y\":[\"China\",\"China\",\"China\",\"China\"],\"yaxis\":\"y\",\"type\":\"scatter\"},{\"customdata\":[[\"Eden Prairie\"]],\"hovertemplate\":\"City=%{customdata[0]}<br>Years Taken to become Unicorn=%{x}<br>Country=%{y}<extra></extra>\",\"legendgroup\":\"Eden Prairie\",\"marker\":{\"color\":\"#B6E880\",\"symbol\":\"circle\"},\"mode\":\"markers\",\"name\":\"Eden Prairie\",\"orientation\":\"h\",\"showlegend\":true,\"x\":[8],\"xaxis\":\"x\",\"y\":[\"United States\"],\"yaxis\":\"y\",\"type\":\"scatter\"},{\"customdata\":[[\"Inglewood\"]],\"hovertemplate\":\"City=%{customdata[0]}<br>Years Taken to become Unicorn=%{x}<br>Country=%{y}<extra></extra>\",\"legendgroup\":\"Inglewood\",\"marker\":{\"color\":\"#FF97FF\",\"symbol\":\"circle\"},\"mode\":\"markers\",\"name\":\"Inglewood\",\"orientation\":\"h\",\"showlegend\":true,\"x\":[4],\"xaxis\":\"x\",\"y\":[\"United States\"],\"yaxis\":\"y\",\"type\":\"scatter\"},{\"customdata\":[[\"Sunnyvale\"],[\"Sunnyvale\"],[\"Sunnyvale\"],[\"Sunnyvale\"],[\"Sunnyvale\"],[\"Sunnyvale\"]],\"hovertemplate\":\"City=%{customdata[0]}<br>Years Taken to become Unicorn=%{x}<br>Country=%{y}<extra></extra>\",\"legendgroup\":\"Sunnyvale\",\"marker\":{\"color\":\"#FECB52\",\"symbol\":\"circle\"},\"mode\":\"markers\",\"name\":\"Sunnyvale\",\"orientation\":\"h\",\"showlegend\":true,\"x\":[6,3,2,12,9,5],\"xaxis\":\"x\",\"y\":[\"United States\",\"United States\",\"United States\",\"United States\",\"United States\",\"United States\"],\"yaxis\":\"y\",\"type\":\"scatter\"},{\"customdata\":[[\"Vienna\"],[\"Vienna\"]],\"hovertemplate\":\"City=%{customdata[0]}<br>Years Taken to become Unicorn=%{x}<br>Country=%{y}<extra></extra>\",\"legendgroup\":\"Vienna\",\"marker\":{\"color\":\"#636efa\",\"symbol\":\"circle\"},\"mode\":\"markers\",\"name\":\"Vienna\",\"orientation\":\"h\",\"showlegend\":true,\"x\":[7,4],\"xaxis\":\"x\",\"y\":[\"Austria\",\"Austria\"],\"yaxis\":\"y\",\"type\":\"scatter\"},{\"customdata\":[[\"Redwood City\"],[\"Redwood City\"],[\"Redwood City\"],[\"Redwood City\"],[\"Redwood City\"],[\"Redwood City\"],[\"Redwood City\"],[\"Redwood City\"],[\"Redwood City\"],[\"Redwood City\"]],\"hovertemplate\":\"City=%{customdata[0]}<br>Years Taken to become Unicorn=%{x}<br>Country=%{y}<extra></extra>\",\"legendgroup\":\"Redwood City\",\"marker\":{\"color\":\"#EF553B\",\"symbol\":\"circle\"},\"mode\":\"markers\",\"name\":\"Redwood City\",\"orientation\":\"h\",\"showlegend\":true,\"x\":[8,4,14,2,10,10,9,19,7,8],\"xaxis\":\"x\",\"y\":[\"United States\",\"United States\",\"United States\",\"United States\",\"United States\",\"United States\",\"United States\",\"United States\",\"United States\",\"United States\"],\"yaxis\":\"y\",\"type\":\"scatter\"},{\"customdata\":[[\"El Segundo\"],[\"El Segundo\"],[\"El Segundo\"],[\"El Segundo\"],[\"El Segundo\"]],\"hovertemplate\":\"City=%{customdata[0]}<br>Years Taken to become Unicorn=%{x}<br>Country=%{y}<extra></extra>\",\"legendgroup\":\"El Segundo\",\"marker\":{\"color\":\"#00cc96\",\"symbol\":\"circle\"},\"mode\":\"markers\",\"name\":\"El Segundo\",\"orientation\":\"h\",\"showlegend\":true,\"x\":[7,4,3,4,3],\"xaxis\":\"x\",\"y\":[\"United States\",\"United States\",\"United States\",\"United States\",\"United States\"],\"yaxis\":\"y\",\"type\":\"scatter\"},{\"customdata\":[[\"Mississauga\"]],\"hovertemplate\":\"City=%{customdata[0]}<br>Years Taken to become Unicorn=%{x}<br>Country=%{y}<extra></extra>\",\"legendgroup\":\"Mississauga\",\"marker\":{\"color\":\"#ab63fa\",\"symbol\":\"circle\"},\"mode\":\"markers\",\"name\":\"Mississauga\",\"orientation\":\"h\",\"showlegend\":true,\"x\":[21],\"xaxis\":\"x\",\"y\":[\"Canada\"],\"yaxis\":\"y\",\"type\":\"scatter\"},{\"customdata\":[[\"Dublin\"],[\"Dublin\"],[\"Dublin\"],[\"Dublin\"],[\"Dublin\"],[\"Dublin\"]],\"hovertemplate\":\"City=%{customdata[0]}<br>Years Taken to become Unicorn=%{x}<br>Country=%{y}<extra></extra>\",\"legendgroup\":\"Dublin\",\"marker\":{\"color\":\"#FFA15A\",\"symbol\":\"circle\"},\"mode\":\"markers\",\"name\":\"Dublin\",\"orientation\":\"h\",\"showlegend\":true,\"x\":[10,3,7,21,6,12],\"xaxis\":\"x\",\"y\":[\"Ireland\",\"Ireland\",\"Ireland\",\"Ireland\",\"Ireland\",\"United States\"],\"yaxis\":\"y\",\"type\":\"scatter\"},{\"customdata\":[[\"Columbus\"]],\"hovertemplate\":\"City=%{customdata[0]}<br>Years Taken to become Unicorn=%{x}<br>Country=%{y}<extra></extra>\",\"legendgroup\":\"Columbus\",\"marker\":{\"color\":\"#19d3f3\",\"symbol\":\"circle\"},\"mode\":\"markers\",\"name\":\"Columbus\",\"orientation\":\"h\",\"showlegend\":true,\"x\":[8],\"xaxis\":\"x\",\"y\":[\"United States\"],\"yaxis\":\"y\",\"type\":\"scatter\"},{\"customdata\":[[\"Carlsbad\"]],\"hovertemplate\":\"City=%{customdata[0]}<br>Years Taken to become Unicorn=%{x}<br>Country=%{y}<extra></extra>\",\"legendgroup\":\"Carlsbad\",\"marker\":{\"color\":\"#FF6692\",\"symbol\":\"circle\"},\"mode\":\"markers\",\"name\":\"Carlsbad\",\"orientation\":\"h\",\"showlegend\":true,\"x\":[6],\"xaxis\":\"x\",\"y\":[\"United States\"],\"yaxis\":\"y\",\"type\":\"scatter\"},{\"customdata\":[[\"Los Altos\"],[\"Los Altos\"],[\"Los Altos\"]],\"hovertemplate\":\"City=%{customdata[0]}<br>Years Taken to become Unicorn=%{x}<br>Country=%{y}<extra></extra>\",\"legendgroup\":\"Los Altos\",\"marker\":{\"color\":\"#B6E880\",\"symbol\":\"circle\"},\"mode\":\"markers\",\"name\":\"Los Altos\",\"orientation\":\"h\",\"showlegend\":true,\"x\":[2,7,6],\"xaxis\":\"x\",\"y\":[\"United States\",\"United States\",\"United States\"],\"yaxis\":\"y\",\"type\":\"scatter\"},{\"customdata\":[[\"San Carlos\"]],\"hovertemplate\":\"City=%{customdata[0]}<br>Years Taken to become Unicorn=%{x}<br>Country=%{y}<extra></extra>\",\"legendgroup\":\"San Carlos\",\"marker\":{\"color\":\"#FF97FF\",\"symbol\":\"circle\"},\"mode\":\"markers\",\"name\":\"San Carlos\",\"orientation\":\"h\",\"showlegend\":true,\"x\":[6],\"xaxis\":\"x\",\"y\":[\"United States\"],\"yaxis\":\"y\",\"type\":\"scatter\"},{\"customdata\":[[\"Chengdu\"],[\"Chengdu\"],[\"Chengdu\"],[\"Chengdu\"]],\"hovertemplate\":\"City=%{customdata[0]}<br>Years Taken to become Unicorn=%{x}<br>Country=%{y}<extra></extra>\",\"legendgroup\":\"Chengdu\",\"marker\":{\"color\":\"#FECB52\",\"symbol\":\"circle\"},\"mode\":\"markers\",\"name\":\"Chengdu\",\"orientation\":\"h\",\"showlegend\":true,\"x\":[4,11,7,2],\"xaxis\":\"x\",\"y\":[\"China\",\"China\",\"China\",\"China\"],\"yaxis\":\"y\",\"type\":\"scatter\"},{\"customdata\":[[\"Detroit\"]],\"hovertemplate\":\"City=%{customdata[0]}<br>Years Taken to become Unicorn=%{x}<br>Country=%{y}<extra></extra>\",\"legendgroup\":\"Detroit\",\"marker\":{\"color\":\"#636efa\",\"symbol\":\"circle\"},\"mode\":\"markers\",\"name\":\"Detroit\",\"orientation\":\"h\",\"showlegend\":true,\"x\":[3],\"xaxis\":\"x\",\"y\":[\"United States\"],\"yaxis\":\"y\",\"type\":\"scatter\"},{\"customdata\":[[\"Denver\"],[\"Denver\"],[\"Denver\"],[\"Denver\"],[\"Denver\"]],\"hovertemplate\":\"City=%{customdata[0]}<br>Years Taken to become Unicorn=%{x}<br>Country=%{y}<extra></extra>\",\"legendgroup\":\"Denver\",\"marker\":{\"color\":\"#EF553B\",\"symbol\":\"circle\"},\"mode\":\"markers\",\"name\":\"Denver\",\"orientation\":\"h\",\"showlegend\":true,\"x\":[4,8,7,3,8],\"xaxis\":\"x\",\"y\":[\"United States\",\"United States\",\"United States\",\"United States\",\"United States\"],\"yaxis\":\"y\",\"type\":\"scatter\"},{\"customdata\":[[\"Bend\"]],\"hovertemplate\":\"City=%{customdata[0]}<br>Years Taken to become Unicorn=%{x}<br>Country=%{y}<extra></extra>\",\"legendgroup\":\"Bend\",\"marker\":{\"color\":\"#00cc96\",\"symbol\":\"circle\"},\"mode\":\"markers\",\"name\":\"Bend\",\"orientation\":\"h\",\"showlegend\":true,\"x\":[4],\"xaxis\":\"x\",\"y\":[\"United States\"],\"yaxis\":\"y\",\"type\":\"scatter\"},{\"customdata\":[[\"Culver City\"],[\"Culver City\"]],\"hovertemplate\":\"City=%{customdata[0]}<br>Years Taken to become Unicorn=%{x}<br>Country=%{y}<extra></extra>\",\"legendgroup\":\"Culver City\",\"marker\":{\"color\":\"#ab63fa\",\"symbol\":\"circle\"},\"mode\":\"markers\",\"name\":\"Culver City\",\"orientation\":\"h\",\"showlegend\":true,\"x\":[5,8],\"xaxis\":\"x\",\"y\":[\"United States\",\"United States\"],\"yaxis\":\"y\",\"type\":\"scatter\"},{\"customdata\":[[\"Carson City\"]],\"hovertemplate\":\"City=%{customdata[0]}<br>Years Taken to become Unicorn=%{x}<br>Country=%{y}<extra></extra>\",\"legendgroup\":\"Carson City\",\"marker\":{\"color\":\"#FFA15A\",\"symbol\":\"circle\"},\"mode\":\"markers\",\"name\":\"Carson City\",\"orientation\":\"h\",\"showlegend\":true,\"x\":[4],\"xaxis\":\"x\",\"y\":[\"United States\"],\"yaxis\":\"y\",\"type\":\"scatter\"},{\"customdata\":[[\"Duderstadt\"]],\"hovertemplate\":\"City=%{customdata[0]}<br>Years Taken to become Unicorn=%{x}<br>Country=%{y}<extra></extra>\",\"legendgroup\":\"Duderstadt\",\"marker\":{\"color\":\"#19d3f3\",\"symbol\":\"circle\"},\"mode\":\"markers\",\"name\":\"Duderstadt\",\"orientation\":\"h\",\"showlegend\":true,\"x\":[98],\"xaxis\":\"x\",\"y\":[\"Germany\"],\"yaxis\":\"y\",\"type\":\"scatter\"},{\"customdata\":[[\"San Ramon\"]],\"hovertemplate\":\"City=%{customdata[0]}<br>Years Taken to become Unicorn=%{x}<br>Country=%{y}<extra></extra>\",\"legendgroup\":\"San Ramon\",\"marker\":{\"color\":\"#FF6692\",\"symbol\":\"circle\"},\"mode\":\"markers\",\"name\":\"San Ramon\",\"orientation\":\"h\",\"showlegend\":true,\"x\":[4],\"xaxis\":\"x\",\"y\":[\"United States\"],\"yaxis\":\"y\",\"type\":\"scatter\"},{\"customdata\":[[\"Walnut\"]],\"hovertemplate\":\"City=%{customdata[0]}<br>Years Taken to become Unicorn=%{x}<br>Country=%{y}<extra></extra>\",\"legendgroup\":\"Walnut\",\"marker\":{\"color\":\"#B6E880\",\"symbol\":\"circle\"},\"mode\":\"markers\",\"name\":\"Walnut\",\"orientation\":\"h\",\"showlegend\":true,\"x\":[10],\"xaxis\":\"x\",\"y\":[\"United States\"],\"yaxis\":\"y\",\"type\":\"scatter\"},{\"customdata\":[[\"Miami\"],[\"Miami\"],[\"Miami\"],[\"Miami\"],[\"Miami\"]],\"hovertemplate\":\"City=%{customdata[0]}<br>Years Taken to become Unicorn=%{x}<br>Country=%{y}<extra></extra>\",\"legendgroup\":\"Miami\",\"marker\":{\"color\":\"#FF97FF\",\"symbol\":\"circle\"},\"mode\":\"markers\",\"name\":\"Miami\",\"orientation\":\"h\",\"showlegend\":true,\"x\":[2,19,2,5,3],\"xaxis\":\"x\",\"y\":[\"United States\",\"United States\",\"United States\",\"United States\",\"United States\"],\"yaxis\":\"y\",\"type\":\"scatter\"},{\"customdata\":[[\"Englewood Cliffs\"]],\"hovertemplate\":\"City=%{customdata[0]}<br>Years Taken to become Unicorn=%{x}<br>Country=%{y}<extra></extra>\",\"legendgroup\":\"Englewood Cliffs\",\"marker\":{\"color\":\"#FECB52\",\"symbol\":\"circle\"},\"mode\":\"markers\",\"name\":\"Englewood Cliffs\",\"orientation\":\"h\",\"showlegend\":true,\"x\":[6],\"xaxis\":\"x\",\"y\":[\"United States\"],\"yaxis\":\"y\",\"type\":\"scatter\"},{\"customdata\":[[\"Wuhan\"],[\"Wuhan\"]],\"hovertemplate\":\"City=%{customdata[0]}<br>Years Taken to become Unicorn=%{x}<br>Country=%{y}<extra></extra>\",\"legendgroup\":\"Wuhan\",\"marker\":{\"color\":\"#636efa\",\"symbol\":\"circle\"},\"mode\":\"markers\",\"name\":\"Wuhan\",\"orientation\":\"h\",\"showlegend\":true,\"x\":[4,4],\"xaxis\":\"x\",\"y\":[\"China\",\"China\"],\"yaxis\":\"y\",\"type\":\"scatter\"},{\"customdata\":[[\"Alameda\"]],\"hovertemplate\":\"City=%{customdata[0]}<br>Years Taken to become Unicorn=%{x}<br>Country=%{y}<extra></extra>\",\"legendgroup\":\"Alameda\",\"marker\":{\"color\":\"#EF553B\",\"symbol\":\"circle\"},\"mode\":\"markers\",\"name\":\"Alameda\",\"orientation\":\"h\",\"showlegend\":true,\"x\":[8],\"xaxis\":\"x\",\"y\":[\"United States\"],\"yaxis\":\"y\",\"type\":\"scatter\"},{\"customdata\":[[\"Sacramento\"]],\"hovertemplate\":\"City=%{customdata[0]}<br>Years Taken to become Unicorn=%{x}<br>Country=%{y}<extra></extra>\",\"legendgroup\":\"Sacramento\",\"marker\":{\"color\":\"#00cc96\",\"symbol\":\"circle\"},\"mode\":\"markers\",\"name\":\"Sacramento\",\"orientation\":\"h\",\"showlegend\":true,\"x\":[8],\"xaxis\":\"x\",\"y\":[\"United States\"],\"yaxis\":\"y\",\"type\":\"scatter\"},{\"customdata\":[[\"Houston\"],[\"Houston\"],[\"Houston\"]],\"hovertemplate\":\"City=%{customdata[0]}<br>Years Taken to become Unicorn=%{x}<br>Country=%{y}<extra></extra>\",\"legendgroup\":\"Houston\",\"marker\":{\"color\":\"#ab63fa\",\"symbol\":\"circle\"},\"mode\":\"markers\",\"name\":\"Houston\",\"orientation\":\"h\",\"showlegend\":true,\"x\":[14,5,5],\"xaxis\":\"x\",\"y\":[\"United States\",\"United States\",\"United States\"],\"yaxis\":\"y\",\"type\":\"scatter\"},{\"customdata\":[[\"Peterborough\"]],\"hovertemplate\":\"City=%{customdata[0]}<br>Years Taken to become Unicorn=%{x}<br>Country=%{y}<extra></extra>\",\"legendgroup\":\"Peterborough\",\"marker\":{\"color\":\"#FFA15A\",\"symbol\":\"circle\"},\"mode\":\"markers\",\"name\":\"Peterborough\",\"orientation\":\"h\",\"showlegend\":true,\"x\":[25],\"xaxis\":\"x\",\"y\":[\"United Kingdom\"],\"yaxis\":\"y\",\"type\":\"scatter\"},{\"customdata\":[[\"Kitchener\"]],\"hovertemplate\":\"City=%{customdata[0]}<br>Years Taken to become Unicorn=%{x}<br>Country=%{y}<extra></extra>\",\"legendgroup\":\"Kitchener\",\"marker\":{\"color\":\"#19d3f3\",\"symbol\":\"circle\"},\"mode\":\"markers\",\"name\":\"Kitchener\",\"orientation\":\"h\",\"showlegend\":true,\"x\":[5],\"xaxis\":\"x\",\"y\":[\"Canada\"],\"yaxis\":\"y\",\"type\":\"scatter\"},{\"customdata\":[[\"Jersey City\"]],\"hovertemplate\":\"City=%{customdata[0]}<br>Years Taken to become Unicorn=%{x}<br>Country=%{y}<extra></extra>\",\"legendgroup\":\"Jersey City\",\"marker\":{\"color\":\"#FF6692\",\"symbol\":\"circle\"},\"mode\":\"markers\",\"name\":\"Jersey City\",\"orientation\":\"h\",\"showlegend\":true,\"x\":[4],\"xaxis\":\"x\",\"y\":[\"United States\"],\"yaxis\":\"y\",\"type\":\"scatter\"},{\"customdata\":[[\"Cambridge\"],[\"Cambridge\"],[\"Cambridge\"],[\"Cambridge\"],[\"Cambridge\"],[\"Cambridge\"],[\"Cambridge\"]],\"hovertemplate\":\"City=%{customdata[0]}<br>Years Taken to become Unicorn=%{x}<br>Country=%{y}<extra></extra>\",\"legendgroup\":\"Cambridge\",\"marker\":{\"color\":\"#B6E880\",\"symbol\":\"circle\"},\"mode\":\"markers\",\"name\":\"Cambridge\",\"orientation\":\"h\",\"showlegend\":true,\"x\":[5,8,10,1,5,2,4],\"xaxis\":\"x\",\"y\":[\"United Kingdom\",\"United States\",\"United States\",\"United States\",\"United States\",\"United States\",\"United States\"],\"yaxis\":\"y\",\"type\":\"scatter\"},{\"customdata\":[[\"South Jordan\"]],\"hovertemplate\":\"City=%{customdata[0]}<br>Years Taken to become Unicorn=%{x}<br>Country=%{y}<extra></extra>\",\"legendgroup\":\"South Jordan\",\"marker\":{\"color\":\"#FF97FF\",\"symbol\":\"circle\"},\"mode\":\"markers\",\"name\":\"South Jordan\",\"orientation\":\"h\",\"showlegend\":true,\"x\":[11],\"xaxis\":\"x\",\"y\":[\"United States\"],\"yaxis\":\"y\",\"type\":\"scatter\"},{\"customdata\":[[\"Ho Chi Minh City\"],[\"Ho Chi Minh City\"]],\"hovertemplate\":\"City=%{customdata[0]}<br>Years Taken to become Unicorn=%{x}<br>Country=%{y}<extra></extra>\",\"legendgroup\":\"Ho Chi Minh City\",\"marker\":{\"color\":\"#FECB52\",\"symbol\":\"circle\"},\"mode\":\"markers\",\"name\":\"Ho Chi Minh City\",\"orientation\":\"h\",\"showlegend\":true,\"x\":[2,8],\"xaxis\":\"x\",\"y\":[\"Vietnam\",\"Vietnam\"],\"yaxis\":\"y\",\"type\":\"scatter\"},{\"customdata\":[[\"Westerville\"]],\"hovertemplate\":\"City=%{customdata[0]}<br>Years Taken to become Unicorn=%{x}<br>Country=%{y}<extra></extra>\",\"legendgroup\":\"Westerville\",\"marker\":{\"color\":\"#636efa\",\"symbol\":\"circle\"},\"mode\":\"markers\",\"name\":\"Westerville\",\"orientation\":\"h\",\"showlegend\":true,\"x\":[10],\"xaxis\":\"x\",\"y\":[\"United States\"],\"yaxis\":\"y\",\"type\":\"scatter\"},{\"customdata\":[[\"Lehi\"],[\"Lehi\"],[\"Lehi\"],[\"Lehi\"]],\"hovertemplate\":\"City=%{customdata[0]}<br>Years Taken to become Unicorn=%{x}<br>Country=%{y}<extra></extra>\",\"legendgroup\":\"Lehi\",\"marker\":{\"color\":\"#EF553B\",\"symbol\":\"circle\"},\"mode\":\"markers\",\"name\":\"Lehi\",\"orientation\":\"h\",\"showlegend\":true,\"x\":[6,8,11,4],\"xaxis\":\"x\",\"y\":[\"United States\",\"United States\",\"United States\",\"United States\"],\"yaxis\":\"y\",\"type\":\"scatter\"},{\"customdata\":[[\"Austin\"],[\"Austin\"],[\"Austin\"],[\"Austin\"],[\"Austin\"]],\"hovertemplate\":\"City=%{customdata[0]}<br>Years Taken to become Unicorn=%{x}<br>Country=%{y}<extra></extra>\",\"legendgroup\":\"Austin\",\"marker\":{\"color\":\"#00cc96\",\"symbol\":\"circle\"},\"mode\":\"markers\",\"name\":\"Austin\",\"orientation\":\"h\",\"showlegend\":true,\"x\":[5,6,9,5,9],\"xaxis\":\"x\",\"y\":[\"United States\",\"United States\",\"United States\",\"United States\",\"United States\"],\"yaxis\":\"y\",\"type\":\"scatter\"},{\"customdata\":[[\"New Delhi\"],[\"New Delhi\"],[\"New Delhi\"]],\"hovertemplate\":\"City=%{customdata[0]}<br>Years Taken to become Unicorn=%{x}<br>Country=%{y}<extra></extra>\",\"legendgroup\":\"New Delhi\",\"marker\":{\"color\":\"#ab63fa\",\"symbol\":\"circle\"},\"mode\":\"markers\",\"name\":\"New Delhi\",\"orientation\":\"h\",\"showlegend\":true,\"x\":[3,0,6],\"xaxis\":\"x\",\"y\":[\"India\",\"India\",\"India\"],\"yaxis\":\"y\",\"type\":\"scatter\"},{\"customdata\":[[\"Chatham\"]],\"hovertemplate\":\"City=%{customdata[0]}<br>Years Taken to become Unicorn=%{x}<br>Country=%{y}<extra></extra>\",\"legendgroup\":\"Chatham\",\"marker\":{\"color\":\"#FFA15A\",\"symbol\":\"circle\"},\"mode\":\"markers\",\"name\":\"Chatham\",\"orientation\":\"h\",\"showlegend\":true,\"x\":[9],\"xaxis\":\"x\",\"y\":[\"United States\"],\"yaxis\":\"y\",\"type\":\"scatter\"},{\"customdata\":[[\"South San Francisco\"]],\"hovertemplate\":\"City=%{customdata[0]}<br>Years Taken to become Unicorn=%{x}<br>Country=%{y}<extra></extra>\",\"legendgroup\":\"South San Francisco\",\"marker\":{\"color\":\"#19d3f3\",\"symbol\":\"circle\"},\"mode\":\"markers\",\"name\":\"South San Francisco\",\"orientation\":\"h\",\"showlegend\":true,\"x\":[5],\"xaxis\":\"x\",\"y\":[\"United States\"],\"yaxis\":\"y\",\"type\":\"scatter\"},{\"customdata\":[[\"Bristol\"],[\"Bristol\"]],\"hovertemplate\":\"City=%{customdata[0]}<br>Years Taken to become Unicorn=%{x}<br>Country=%{y}<extra></extra>\",\"legendgroup\":\"Bristol\",\"marker\":{\"color\":\"#FF6692\",\"symbol\":\"circle\"},\"mode\":\"markers\",\"name\":\"Bristol\",\"orientation\":\"h\",\"showlegend\":true,\"x\":[2,10],\"xaxis\":\"x\",\"y\":[\"United Kingdom\",\"United Kingdom\"],\"yaxis\":\"y\",\"type\":\"scatter\"},{\"customdata\":[[\"Scottsdale\"],[\"Scottsdale\"],[\"Scottsdale\"]],\"hovertemplate\":\"City=%{customdata[0]}<br>Years Taken to become Unicorn=%{x}<br>Country=%{y}<extra></extra>\",\"legendgroup\":\"Scottsdale\",\"marker\":{\"color\":\"#B6E880\",\"symbol\":\"circle\"},\"mode\":\"markers\",\"name\":\"Scottsdale\",\"orientation\":\"h\",\"showlegend\":true,\"x\":[13,5,2],\"xaxis\":\"x\",\"y\":[\"United States\",\"United States\",\"United States\"],\"yaxis\":\"y\",\"type\":\"scatter\"},{\"customdata\":[[\"Dallas\"],[\"Dallas\"]],\"hovertemplate\":\"City=%{customdata[0]}<br>Years Taken to become Unicorn=%{x}<br>Country=%{y}<extra></extra>\",\"legendgroup\":\"Dallas\",\"marker\":{\"color\":\"#FF97FF\",\"symbol\":\"circle\"},\"mode\":\"markers\",\"name\":\"Dallas\",\"orientation\":\"h\",\"showlegend\":true,\"x\":[11,10],\"xaxis\":\"x\",\"y\":[\"United States\",\"United States\"],\"yaxis\":\"y\",\"type\":\"scatter\"},{\"customdata\":[[\"Raleigh\"]],\"hovertemplate\":\"City=%{customdata[0]}<br>Years Taken to become Unicorn=%{x}<br>Country=%{y}<extra></extra>\",\"legendgroup\":\"Raleigh\",\"marker\":{\"color\":\"#FECB52\",\"symbol\":\"circle\"},\"mode\":\"markers\",\"name\":\"Raleigh\",\"orientation\":\"h\",\"showlegend\":true,\"x\":[6],\"xaxis\":\"x\",\"y\":[\"United States\"],\"yaxis\":\"y\",\"type\":\"scatter\"},{\"customdata\":[[\"Louisville\"]],\"hovertemplate\":\"City=%{customdata[0]}<br>Years Taken to become Unicorn=%{x}<br>Country=%{y}<extra></extra>\",\"legendgroup\":\"Louisville\",\"marker\":{\"color\":\"#636efa\",\"symbol\":\"circle\"},\"mode\":\"markers\",\"name\":\"Louisville\",\"orientation\":\"h\",\"showlegend\":true,\"x\":[9],\"xaxis\":\"x\",\"y\":[\"United States\"],\"yaxis\":\"y\",\"type\":\"scatter\"},{\"customdata\":[[\"Dubai\"],[\"Dubai\"],[\"Dubai\"]],\"hovertemplate\":\"City=%{customdata[0]}<br>Years Taken to become Unicorn=%{x}<br>Country=%{y}<extra></extra>\",\"legendgroup\":\"Dubai\",\"marker\":{\"color\":\"#EF553B\",\"symbol\":\"circle\"},\"mode\":\"markers\",\"name\":\"Dubai\",\"orientation\":\"h\",\"showlegend\":true,\"x\":[13,5,3],\"xaxis\":\"x\",\"y\":[\"United Arab Emirates\",\"United Arab Emirates\",\"United Arab Emirates\"],\"yaxis\":\"y\",\"type\":\"scatter\"},{\"customdata\":[[\"Nanjing\"],[\"Nanjing\"]],\"hovertemplate\":\"City=%{customdata[0]}<br>Years Taken to become Unicorn=%{x}<br>Country=%{y}<extra></extra>\",\"legendgroup\":\"Nanjing\",\"marker\":{\"color\":\"#00cc96\",\"symbol\":\"circle\"},\"mode\":\"markers\",\"name\":\"Nanjing\",\"orientation\":\"h\",\"showlegend\":true,\"x\":[2,9],\"xaxis\":\"x\",\"y\":[\"China\",\"China\"],\"yaxis\":\"y\",\"type\":\"scatter\"},{\"customdata\":[[\"Schaffhausen\"]],\"hovertemplate\":\"City=%{customdata[0]}<br>Years Taken to become Unicorn=%{x}<br>Country=%{y}<extra></extra>\",\"legendgroup\":\"Schaffhausen\",\"marker\":{\"color\":\"#ab63fa\",\"symbol\":\"circle\"},\"mode\":\"markers\",\"name\":\"Schaffhausen\",\"orientation\":\"h\",\"showlegend\":true,\"x\":[16],\"xaxis\":\"x\",\"y\":[\"Switzerland\"],\"yaxis\":\"y\",\"type\":\"scatter\"},{\"customdata\":[[\"Faridabad\"]],\"hovertemplate\":\"City=%{customdata[0]}<br>Years Taken to become Unicorn=%{x}<br>Country=%{y}<extra></extra>\",\"legendgroup\":\"Faridabad\",\"marker\":{\"color\":\"#FFA15A\",\"symbol\":\"circle\"},\"mode\":\"markers\",\"name\":\"Faridabad\",\"orientation\":\"h\",\"showlegend\":true,\"x\":[11],\"xaxis\":\"x\",\"y\":[\"India\"],\"yaxis\":\"y\",\"type\":\"scatter\"},{\"customdata\":[[\"Thane\"]],\"hovertemplate\":\"City=%{customdata[0]}<br>Years Taken to become Unicorn=%{x}<br>Country=%{y}<extra></extra>\",\"legendgroup\":\"Thane\",\"marker\":{\"color\":\"#19d3f3\",\"symbol\":\"circle\"},\"mode\":\"markers\",\"name\":\"Thane\",\"orientation\":\"h\",\"showlegend\":true,\"x\":[5],\"xaxis\":\"x\",\"y\":[\"India\"],\"yaxis\":\"y\",\"type\":\"scatter\"},{\"customdata\":[[\"Burlington\"]],\"hovertemplate\":\"City=%{customdata[0]}<br>Years Taken to become Unicorn=%{x}<br>Country=%{y}<extra></extra>\",\"legendgroup\":\"Burlington\",\"marker\":{\"color\":\"#FF6692\",\"symbol\":\"circle\"},\"mode\":\"markers\",\"name\":\"Burlington\",\"orientation\":\"h\",\"showlegend\":true,\"x\":[2],\"xaxis\":\"x\",\"y\":[\"United States\"],\"yaxis\":\"y\",\"type\":\"scatter\"},{\"customdata\":[[\"McLean\"],[\"McLean\"]],\"hovertemplate\":\"City=%{customdata[0]}<br>Years Taken to become Unicorn=%{x}<br>Country=%{y}<extra></extra>\",\"legendgroup\":\"McLean\",\"marker\":{\"color\":\"#B6E880\",\"symbol\":\"circle\"},\"mode\":\"markers\",\"name\":\"McLean\",\"orientation\":\"h\",\"showlegend\":true,\"x\":[6,11],\"xaxis\":\"x\",\"y\":[\"United States\",\"United States\"],\"yaxis\":\"y\",\"type\":\"scatter\"},{\"customdata\":[[\"Buenos Aires\"]],\"hovertemplate\":\"City=%{customdata[0]}<br>Years Taken to become Unicorn=%{x}<br>Country=%{y}<extra></extra>\",\"legendgroup\":\"Buenos Aires\",\"marker\":{\"color\":\"#FF97FF\",\"symbol\":\"circle\"},\"mode\":\"markers\",\"name\":\"Buenos Aires\",\"orientation\":\"h\",\"showlegend\":true,\"x\":[4],\"xaxis\":\"x\",\"y\":[\"Argentina\"],\"yaxis\":\"y\",\"type\":\"scatter\"},{\"customdata\":[[\"Changzhou\"],[\"Changzhou\"]],\"hovertemplate\":\"City=%{customdata[0]}<br>Years Taken to become Unicorn=%{x}<br>Country=%{y}<extra></extra>\",\"legendgroup\":\"Changzhou\",\"marker\":{\"color\":\"#FECB52\",\"symbol\":\"circle\"},\"mode\":\"markers\",\"name\":\"Changzhou\",\"orientation\":\"h\",\"showlegend\":true,\"x\":[7,2],\"xaxis\":\"x\",\"y\":[\"China\",\"China\"],\"yaxis\":\"y\",\"type\":\"scatter\"},{\"customdata\":[[\"Foster City\"]],\"hovertemplate\":\"City=%{customdata[0]}<br>Years Taken to become Unicorn=%{x}<br>Country=%{y}<extra></extra>\",\"legendgroup\":\"Foster City\",\"marker\":{\"color\":\"#636efa\",\"symbol\":\"circle\"},\"mode\":\"markers\",\"name\":\"Foster City\",\"orientation\":\"h\",\"showlegend\":true,\"x\":[8],\"xaxis\":\"x\",\"y\":[\"United States\"],\"yaxis\":\"y\",\"type\":\"scatter\"},{\"customdata\":[[\"Madrid\"],[\"Madrid\"]],\"hovertemplate\":\"City=%{customdata[0]}<br>Years Taken to become Unicorn=%{x}<br>Country=%{y}<extra></extra>\",\"legendgroup\":\"Madrid\",\"marker\":{\"color\":\"#EF553B\",\"symbol\":\"circle\"},\"mode\":\"markers\",\"name\":\"Madrid\",\"orientation\":\"h\",\"showlegend\":true,\"x\":[12,7],\"xaxis\":\"x\",\"y\":[\"Spain\",\"Spain\"],\"yaxis\":\"y\",\"type\":\"scatter\"},{\"customdata\":[[\"Santa Monica\"]],\"hovertemplate\":\"City=%{customdata[0]}<br>Years Taken to become Unicorn=%{x}<br>Country=%{y}<extra></extra>\",\"legendgroup\":\"Santa Monica\",\"marker\":{\"color\":\"#00cc96\",\"symbol\":\"circle\"},\"mode\":\"markers\",\"name\":\"Santa Monica\",\"orientation\":\"h\",\"showlegend\":true,\"x\":[10],\"xaxis\":\"x\",\"y\":[\"United States\"],\"yaxis\":\"y\",\"type\":\"scatter\"},{\"customdata\":[[\"Louvain-la-Neuve\"]],\"hovertemplate\":\"City=%{customdata[0]}<br>Years Taken to become Unicorn=%{x}<br>Country=%{y}<extra></extra>\",\"legendgroup\":\"Louvain-la-Neuve\",\"marker\":{\"color\":\"#ab63fa\",\"symbol\":\"circle\"},\"mode\":\"markers\",\"name\":\"Louvain-la-Neuve\",\"orientation\":\"h\",\"showlegend\":true,\"x\":[16],\"xaxis\":\"x\",\"y\":[\"Belgium\"],\"yaxis\":\"y\",\"type\":\"scatter\"},{\"customdata\":[[\"Mexico City\"],[\"Mexico City\"],[\"Mexico City\"],[\"Mexico City\"],[\"Mexico City\"]],\"hovertemplate\":\"City=%{customdata[0]}<br>Years Taken to become Unicorn=%{x}<br>Country=%{y}<extra></extra>\",\"legendgroup\":\"Mexico City\",\"marker\":{\"color\":\"#FFA15A\",\"symbol\":\"circle\"},\"mode\":\"markers\",\"name\":\"Mexico City\",\"orientation\":\"h\",\"showlegend\":true,\"x\":[7,9,8,1,1],\"xaxis\":\"x\",\"y\":[\"Mexico\",\"Mexico\",\"Mexico\",\"Mexico\",\"Mexico\"],\"yaxis\":\"y\",\"type\":\"scatter\"},{\"customdata\":[[\"Colchester\"]],\"hovertemplate\":\"City=%{customdata[0]}<br>Years Taken to become Unicorn=%{x}<br>Country=%{y}<extra></extra>\",\"legendgroup\":\"Colchester\",\"marker\":{\"color\":\"#19d3f3\",\"symbol\":\"circle\"},\"mode\":\"markers\",\"name\":\"Colchester\",\"orientation\":\"h\",\"showlegend\":true,\"x\":[4],\"xaxis\":\"x\",\"y\":[\"United Kingdom\"],\"yaxis\":\"y\",\"type\":\"scatter\"},{\"customdata\":[[\"Pune\"],[\"Pune\"],[\"Pune\"],[\"Pune\"]],\"hovertemplate\":\"City=%{customdata[0]}<br>Years Taken to become Unicorn=%{x}<br>Country=%{y}<extra></extra>\",\"legendgroup\":\"Pune\",\"marker\":{\"color\":\"#FF6692\",\"symbol\":\"circle\"},\"mode\":\"markers\",\"name\":\"Pune\",\"orientation\":\"h\",\"showlegend\":true,\"x\":[10,6,10,10],\"xaxis\":\"x\",\"y\":[\"India\",\"India\",\"India\",\"India\"],\"yaxis\":\"y\",\"type\":\"scatter\"},{\"customdata\":[[\"Kowloon\"]],\"hovertemplate\":\"City=%{customdata[0]}<br>Years Taken to become Unicorn=%{x}<br>Country=%{y}<extra></extra>\",\"legendgroup\":\"Kowloon\",\"marker\":{\"color\":\"#B6E880\",\"symbol\":\"circle\"},\"mode\":\"markers\",\"name\":\"Kowloon\",\"orientation\":\"h\",\"showlegend\":true,\"x\":[13],\"xaxis\":\"x\",\"y\":[\"Hong Kong\"],\"yaxis\":\"y\",\"type\":\"scatter\"},{\"customdata\":[[\"Tokyo\"],[\"Tokyo\"],[\"Tokyo\"],[\"Tokyo\"],[\"Tokyo\"]],\"hovertemplate\":\"City=%{customdata[0]}<br>Years Taken to become Unicorn=%{x}<br>Country=%{y}<extra></extra>\",\"legendgroup\":\"Tokyo\",\"marker\":{\"color\":\"#FF97FF\",\"symbol\":\"circle\"},\"mode\":\"markers\",\"name\":\"Tokyo\",\"orientation\":\"h\",\"showlegend\":true,\"x\":[4,7,8,5,0],\"xaxis\":\"x\",\"y\":[\"Japan\",\"Japan\",\"Japan\",\"Japan\",\"Japan\"],\"yaxis\":\"y\",\"type\":\"scatter\"},{\"customdata\":[[\"Somerville\"]],\"hovertemplate\":\"City=%{customdata[0]}<br>Years Taken to become Unicorn=%{x}<br>Country=%{y}<extra></extra>\",\"legendgroup\":\"Somerville\",\"marker\":{\"color\":\"#FECB52\",\"symbol\":\"circle\"},\"mode\":\"markers\",\"name\":\"Somerville\",\"orientation\":\"h\",\"showlegend\":true,\"x\":[7],\"xaxis\":\"x\",\"y\":[\"United States\"],\"yaxis\":\"y\",\"type\":\"scatter\"},{\"customdata\":[[\"Giv'atayim\"]],\"hovertemplate\":\"City=%{customdata[0]}<br>Years Taken to become Unicorn=%{x}<br>Country=%{y}<extra></extra>\",\"legendgroup\":\"Giv'atayim\",\"marker\":{\"color\":\"#636efa\",\"symbol\":\"circle\"},\"mode\":\"markers\",\"name\":\"Giv'atayim\",\"orientation\":\"h\",\"showlegend\":true,\"x\":[20],\"xaxis\":\"x\",\"y\":[\"Israel\"],\"yaxis\":\"y\",\"type\":\"scatter\"},{\"customdata\":[[\"Leudelange\"]],\"hovertemplate\":\"City=%{customdata[0]}<br>Years Taken to become Unicorn=%{x}<br>Country=%{y}<extra></extra>\",\"legendgroup\":\"Leudelange\",\"marker\":{\"color\":\"#EF553B\",\"symbol\":\"circle\"},\"mode\":\"markers\",\"name\":\"Leudelange\",\"orientation\":\"h\",\"showlegend\":true,\"x\":[7],\"xaxis\":\"x\",\"y\":[\"Luxembourg\"],\"yaxis\":\"y\",\"type\":\"scatter\"},{\"customdata\":[[\"Goleta\"]],\"hovertemplate\":\"City=%{customdata[0]}<br>Years Taken to become Unicorn=%{x}<br>Country=%{y}<extra></extra>\",\"legendgroup\":\"Goleta\",\"marker\":{\"color\":\"#00cc96\",\"symbol\":\"circle\"},\"mode\":\"markers\",\"name\":\"Goleta\",\"orientation\":\"h\",\"showlegend\":true,\"x\":[8],\"xaxis\":\"x\",\"y\":[\"United States\"],\"yaxis\":\"y\",\"type\":\"scatter\"},{\"customdata\":[[\"Lagos\"]],\"hovertemplate\":\"City=%{customdata[0]}<br>Years Taken to become Unicorn=%{x}<br>Country=%{y}<extra></extra>\",\"legendgroup\":\"Lagos\",\"marker\":{\"color\":\"#ab63fa\",\"symbol\":\"circle\"},\"mode\":\"markers\",\"name\":\"Lagos\",\"orientation\":\"h\",\"showlegend\":true,\"x\":[3],\"xaxis\":\"x\",\"y\":[\"Nigeria\"],\"yaxis\":\"y\",\"type\":\"scatter\"},{\"customdata\":[[\"Pennsauken\"]],\"hovertemplate\":\"City=%{customdata[0]}<br>Years Taken to become Unicorn=%{x}<br>Country=%{y}<extra></extra>\",\"legendgroup\":\"Pennsauken\",\"marker\":{\"color\":\"#FFA15A\",\"symbol\":\"circle\"},\"mode\":\"markers\",\"name\":\"Pennsauken\",\"orientation\":\"h\",\"showlegend\":true,\"x\":[3],\"xaxis\":\"x\",\"y\":[\"United States\"],\"yaxis\":\"y\",\"type\":\"scatter\"},{\"customdata\":[[\"Plantation\"]],\"hovertemplate\":\"City=%{customdata[0]}<br>Years Taken to become Unicorn=%{x}<br>Country=%{y}<extra></extra>\",\"legendgroup\":\"Plantation\",\"marker\":{\"color\":\"#19d3f3\",\"symbol\":\"circle\"},\"mode\":\"markers\",\"name\":\"Plantation\",\"orientation\":\"h\",\"showlegend\":true,\"x\":[4],\"xaxis\":\"x\",\"y\":[\"United States\"],\"yaxis\":\"y\",\"type\":\"scatter\"},{\"customdata\":[[\"Portola Valley\"]],\"hovertemplate\":\"City=%{customdata[0]}<br>Years Taken to become Unicorn=%{x}<br>Country=%{y}<extra></extra>\",\"legendgroup\":\"Portola Valley\",\"marker\":{\"color\":\"#FF6692\",\"symbol\":\"circle\"},\"mode\":\"markers\",\"name\":\"Portola Valley\",\"orientation\":\"h\",\"showlegend\":true,\"x\":[0],\"xaxis\":\"x\",\"y\":[\"United States\"],\"yaxis\":\"y\",\"type\":\"scatter\"},{\"customdata\":[[\"Taguig City\"]],\"hovertemplate\":\"City=%{customdata[0]}<br>Years Taken to become Unicorn=%{x}<br>Country=%{y}<extra></extra>\",\"legendgroup\":\"Taguig City\",\"marker\":{\"color\":\"#B6E880\",\"symbol\":\"circle\"},\"mode\":\"markers\",\"name\":\"Taguig City\",\"orientation\":\"h\",\"showlegend\":true,\"x\":[6],\"xaxis\":\"x\",\"y\":[\"Philippines\"],\"yaxis\":\"y\",\"type\":\"scatter\"},{\"customdata\":[[\"Netanya\"]],\"hovertemplate\":\"City=%{customdata[0]}<br>Years Taken to become Unicorn=%{x}<br>Country=%{y}<extra></extra>\",\"legendgroup\":\"Netanya\",\"marker\":{\"color\":\"#FF97FF\",\"symbol\":\"circle\"},\"mode\":\"markers\",\"name\":\"Netanya\",\"orientation\":\"h\",\"showlegend\":true,\"x\":[3],\"xaxis\":\"x\",\"y\":[\"Israel\"],\"yaxis\":\"y\",\"type\":\"scatter\"},{\"customdata\":[[\"Croix\"]],\"hovertemplate\":\"City=%{customdata[0]}<br>Years Taken to become Unicorn=%{x}<br>Country=%{y}<extra></extra>\",\"legendgroup\":\"Croix\",\"marker\":{\"color\":\"#FECB52\",\"symbol\":\"circle\"},\"mode\":\"markers\",\"name\":\"Croix\",\"orientation\":\"h\",\"showlegend\":true,\"x\":[7],\"xaxis\":\"x\",\"y\":[\"France\"],\"yaxis\":\"y\",\"type\":\"scatter\"},{\"customdata\":[[\"Bethesda\"]],\"hovertemplate\":\"City=%{customdata[0]}<br>Years Taken to become Unicorn=%{x}<br>Country=%{y}<extra></extra>\",\"legendgroup\":\"Bethesda\",\"marker\":{\"color\":\"#636efa\",\"symbol\":\"circle\"},\"mode\":\"markers\",\"name\":\"Bethesda\",\"orientation\":\"h\",\"showlegend\":true,\"x\":[7],\"xaxis\":\"x\",\"y\":[\"United States\"],\"yaxis\":\"y\",\"type\":\"scatter\"},{\"customdata\":[[\"Bangalore\"]],\"hovertemplate\":\"City=%{customdata[0]}<br>Years Taken to become Unicorn=%{x}<br>Country=%{y}<extra></extra>\",\"legendgroup\":\"Bangalore\",\"marker\":{\"color\":\"#EF553B\",\"symbol\":\"circle\"},\"mode\":\"markers\",\"name\":\"Bangalore\",\"orientation\":\"h\",\"showlegend\":true,\"x\":[4],\"xaxis\":\"x\",\"y\":[\"India\"],\"yaxis\":\"y\",\"type\":\"scatter\"},{\"customdata\":[[\"Jerusalem\"],[\"Jerusalem\"]],\"hovertemplate\":\"City=%{customdata[0]}<br>Years Taken to become Unicorn=%{x}<br>Country=%{y}<extra></extra>\",\"legendgroup\":\"Jerusalem\",\"marker\":{\"color\":\"#00cc96\",\"symbol\":\"circle\"},\"mode\":\"markers\",\"name\":\"Jerusalem\",\"orientation\":\"h\",\"showlegend\":true,\"x\":[6,8],\"xaxis\":\"x\",\"y\":[\"Israel\",\"Israel\"],\"yaxis\":\"y\",\"type\":\"scatter\"},{\"customdata\":[[\"Portland\"]],\"hovertemplate\":\"City=%{customdata[0]}<br>Years Taken to become Unicorn=%{x}<br>Country=%{y}<extra></extra>\",\"legendgroup\":\"Portland\",\"marker\":{\"color\":\"#ab63fa\",\"symbol\":\"circle\"},\"mode\":\"markers\",\"name\":\"Portland\",\"orientation\":\"h\",\"showlegend\":true,\"x\":[2],\"xaxis\":\"x\",\"y\":[\"United States\"],\"yaxis\":\"y\",\"type\":\"scatter\"},{\"customdata\":[[\"Hanover\"]],\"hovertemplate\":\"City=%{customdata[0]}<br>Years Taken to become Unicorn=%{x}<br>Country=%{y}<extra></extra>\",\"legendgroup\":\"Hanover\",\"marker\":{\"color\":\"#FFA15A\",\"symbol\":\"circle\"},\"mode\":\"markers\",\"name\":\"Hanover\",\"orientation\":\"h\",\"showlegend\":true,\"x\":[5],\"xaxis\":\"x\",\"y\":[\"United States\"],\"yaxis\":\"y\",\"type\":\"scatter\"},{\"customdata\":[[\"Selangor\"]],\"hovertemplate\":\"City=%{customdata[0]}<br>Years Taken to become Unicorn=%{x}<br>Country=%{y}<extra></extra>\",\"legendgroup\":\"Selangor\",\"marker\":{\"color\":\"#19d3f3\",\"symbol\":\"circle\"},\"mode\":\"markers\",\"name\":\"Selangor\",\"orientation\":\"h\",\"showlegend\":true,\"x\":[6],\"xaxis\":\"x\",\"y\":[\"Malaysia\"],\"yaxis\":\"y\",\"type\":\"scatter\"},{\"customdata\":[[\"Norfolk\"]],\"hovertemplate\":\"City=%{customdata[0]}<br>Years Taken to become Unicorn=%{x}<br>Country=%{y}<extra></extra>\",\"legendgroup\":\"Norfolk\",\"marker\":{\"color\":\"#FF6692\",\"symbol\":\"circle\"},\"mode\":\"markers\",\"name\":\"Norfolk\",\"orientation\":\"h\",\"showlegend\":true,\"x\":[6],\"xaxis\":\"x\",\"y\":[\"United States\"],\"yaxis\":\"y\",\"type\":\"scatter\"},{\"customdata\":[[\"Hamilton\"]],\"hovertemplate\":\"City=%{customdata[0]}<br>Years Taken to become Unicorn=%{x}<br>Country=%{y}<extra></extra>\",\"legendgroup\":\"Hamilton\",\"marker\":{\"color\":\"#B6E880\",\"symbol\":\"circle\"},\"mode\":\"markers\",\"name\":\"Hamilton\",\"orientation\":\"h\",\"showlegend\":true,\"x\":[11],\"xaxis\":\"x\",\"y\":[\"Bermuda\"],\"yaxis\":\"y\",\"type\":\"scatter\"},{\"customdata\":[[\"Burnaby\"]],\"hovertemplate\":\"City=%{customdata[0]}<br>Years Taken to become Unicorn=%{x}<br>Country=%{y}<extra></extra>\",\"legendgroup\":\"Burnaby\",\"marker\":{\"color\":\"#FF97FF\",\"symbol\":\"circle\"},\"mode\":\"markers\",\"name\":\"Burnaby\",\"orientation\":\"h\",\"showlegend\":true,\"x\":[13],\"xaxis\":\"x\",\"y\":[\"Canada\"],\"yaxis\":\"y\",\"type\":\"scatter\"},{\"customdata\":[[\"Sydney\"]],\"hovertemplate\":\"City=%{customdata[0]}<br>Years Taken to become Unicorn=%{x}<br>Country=%{y}<extra></extra>\",\"legendgroup\":\"Sydney\",\"marker\":{\"color\":\"#FECB52\",\"symbol\":\"circle\"},\"mode\":\"markers\",\"name\":\"Sydney\",\"orientation\":\"h\",\"showlegend\":true,\"x\":[17],\"xaxis\":\"x\",\"y\":[\"Australia\"],\"yaxis\":\"y\",\"type\":\"scatter\"},{\"customdata\":[[\"Lysaker\"]],\"hovertemplate\":\"City=%{customdata[0]}<br>Years Taken to become Unicorn=%{x}<br>Country=%{y}<extra></extra>\",\"legendgroup\":\"Lysaker\",\"marker\":{\"color\":\"#636efa\",\"symbol\":\"circle\"},\"mode\":\"markers\",\"name\":\"Lysaker\",\"orientation\":\"h\",\"showlegend\":true,\"x\":[5],\"xaxis\":\"x\",\"y\":[\"Norway\"],\"yaxis\":\"y\",\"type\":\"scatter\"},{\"customdata\":[[\"Hayward\"]],\"hovertemplate\":\"City=%{customdata[0]}<br>Years Taken to become Unicorn=%{x}<br>Country=%{y}<extra></extra>\",\"legendgroup\":\"Hayward\",\"marker\":{\"color\":\"#EF553B\",\"symbol\":\"circle\"},\"mode\":\"markers\",\"name\":\"Hayward\",\"orientation\":\"h\",\"showlegend\":true,\"x\":[5],\"xaxis\":\"x\",\"y\":[\"United States\"],\"yaxis\":\"y\",\"type\":\"scatter\"},{\"customdata\":[[\"Bryanston\"]],\"hovertemplate\":\"City=%{customdata[0]}<br>Years Taken to become Unicorn=%{x}<br>Country=%{y}<extra></extra>\",\"legendgroup\":\"Bryanston\",\"marker\":{\"color\":\"#00cc96\",\"symbol\":\"circle\"},\"mode\":\"markers\",\"name\":\"Bryanston\",\"orientation\":\"h\",\"showlegend\":true,\"x\":[37],\"xaxis\":\"x\",\"y\":[\"South Africa\"],\"yaxis\":\"y\",\"type\":\"scatter\"},{\"customdata\":[[\"Hunan\"]],\"hovertemplate\":\"City=%{customdata[0]}<br>Years Taken to become Unicorn=%{x}<br>Country=%{y}<extra></extra>\",\"legendgroup\":\"Hunan\",\"marker\":{\"color\":\"#ab63fa\",\"symbol\":\"circle\"},\"mode\":\"markers\",\"name\":\"Hunan\",\"orientation\":\"h\",\"showlegend\":true,\"x\":[8],\"xaxis\":\"x\",\"y\":[\"China\"],\"yaxis\":\"y\",\"type\":\"scatter\"},{\"customdata\":[[\"Northbrook\"]],\"hovertemplate\":\"City=%{customdata[0]}<br>Years Taken to become Unicorn=%{x}<br>Country=%{y}<extra></extra>\",\"legendgroup\":\"Northbrook\",\"marker\":{\"color\":\"#FFA15A\",\"symbol\":\"circle\"},\"mode\":\"markers\",\"name\":\"Northbrook\",\"orientation\":\"h\",\"showlegend\":true,\"x\":[9],\"xaxis\":\"x\",\"y\":[\"United States\"],\"yaxis\":\"y\",\"type\":\"scatter\"},{\"customdata\":[[\"Santa Barbara\"]],\"hovertemplate\":\"City=%{customdata[0]}<br>Years Taken to become Unicorn=%{x}<br>Country=%{y}<extra></extra>\",\"legendgroup\":\"Santa Barbara\",\"marker\":{\"color\":\"#19d3f3\",\"symbol\":\"circle\"},\"mode\":\"markers\",\"name\":\"Santa Barbara\",\"orientation\":\"h\",\"showlegend\":true,\"x\":[13],\"xaxis\":\"x\",\"y\":[\"United States\"],\"yaxis\":\"y\",\"type\":\"scatter\"},{\"customdata\":[[\"Santiago\"],[\"Santiago\"]],\"hovertemplate\":\"City=%{customdata[0]}<br>Years Taken to become Unicorn=%{x}<br>Country=%{y}<extra></extra>\",\"legendgroup\":\"Santiago\",\"marker\":{\"color\":\"#FF6692\",\"symbol\":\"circle\"},\"mode\":\"markers\",\"name\":\"Santiago\",\"orientation\":\"h\",\"showlegend\":true,\"x\":[6,4],\"xaxis\":\"x\",\"y\":[\"Chile\",\"Chile\"],\"yaxis\":\"y\",\"type\":\"scatter\"},{\"customdata\":[[\"Richmond\"]],\"hovertemplate\":\"City=%{customdata[0]}<br>Years Taken to become Unicorn=%{x}<br>Country=%{y}<extra></extra>\",\"legendgroup\":\"Richmond\",\"marker\":{\"color\":\"#B6E880\",\"symbol\":\"circle\"},\"mode\":\"markers\",\"name\":\"Richmond\",\"orientation\":\"h\",\"showlegend\":true,\"x\":[10],\"xaxis\":\"x\",\"y\":[\"Australia\"],\"yaxis\":\"y\",\"type\":\"scatter\"},{\"customdata\":[[\"Draper\"]],\"hovertemplate\":\"City=%{customdata[0]}<br>Years Taken to become Unicorn=%{x}<br>Country=%{y}<extra></extra>\",\"legendgroup\":\"Draper\",\"marker\":{\"color\":\"#FF97FF\",\"symbol\":\"circle\"},\"mode\":\"markers\",\"name\":\"Draper\",\"orientation\":\"h\",\"showlegend\":true,\"x\":[3],\"xaxis\":\"x\",\"y\":[\"United States\"],\"yaxis\":\"y\",\"type\":\"scatter\"},{\"customdata\":[[\"Cincinnati\"]],\"hovertemplate\":\"City=%{customdata[0]}<br>Years Taken to become Unicorn=%{x}<br>Country=%{y}<extra></extra>\",\"legendgroup\":\"Cincinnati\",\"marker\":{\"color\":\"#FECB52\",\"symbol\":\"circle\"},\"mode\":\"markers\",\"name\":\"Cincinnati\",\"orientation\":\"h\",\"showlegend\":true,\"x\":[1],\"xaxis\":\"x\",\"y\":[\"United States\"],\"yaxis\":\"y\",\"type\":\"scatter\"},{\"customdata\":[[\"Zephyr Cove\"]],\"hovertemplate\":\"City=%{customdata[0]}<br>Years Taken to become Unicorn=%{x}<br>Country=%{y}<extra></extra>\",\"legendgroup\":\"Zephyr Cove\",\"marker\":{\"color\":\"#636efa\",\"symbol\":\"circle\"},\"mode\":\"markers\",\"name\":\"Zephyr Cove\",\"orientation\":\"h\",\"showlegend\":true,\"x\":[4],\"xaxis\":\"x\",\"y\":[\"United States\"],\"yaxis\":\"y\",\"type\":\"scatter\"},{\"customdata\":[[\"Altrincham\"]],\"hovertemplate\":\"City=%{customdata[0]}<br>Years Taken to become Unicorn=%{x}<br>Country=%{y}<extra></extra>\",\"legendgroup\":\"Altrincham\",\"marker\":{\"color\":\"#EF553B\",\"symbol\":\"circle\"},\"mode\":\"markers\",\"name\":\"Altrincham\",\"orientation\":\"h\",\"showlegend\":true,\"x\":[10],\"xaxis\":\"x\",\"y\":[\"United Kingdom\"],\"yaxis\":\"y\",\"type\":\"scatter\"},{\"customdata\":[[\"Marina del Rey\"]],\"hovertemplate\":\"City=%{customdata[0]}<br>Years Taken to become Unicorn=%{x}<br>Country=%{y}<extra></extra>\",\"legendgroup\":\"Marina del Rey\",\"marker\":{\"color\":\"#00cc96\",\"symbol\":\"circle\"},\"mode\":\"markers\",\"name\":\"Marina del Rey\",\"orientation\":\"h\",\"showlegend\":true,\"x\":[2],\"xaxis\":\"x\",\"y\":[\"United States\"],\"yaxis\":\"y\",\"type\":\"scatter\"},{\"customdata\":[[\"Bangkok\"],[\"Bangkok\"]],\"hovertemplate\":\"City=%{customdata[0]}<br>Years Taken to become Unicorn=%{x}<br>Country=%{y}<extra></extra>\",\"legendgroup\":\"Bangkok\",\"marker\":{\"color\":\"#ab63fa\",\"symbol\":\"circle\"},\"mode\":\"markers\",\"name\":\"Bangkok\",\"orientation\":\"h\",\"showlegend\":true,\"x\":[8,4],\"xaxis\":\"x\",\"y\":[\"Thailand\",\"Thailand\"],\"yaxis\":\"y\",\"type\":\"scatter\"},{\"customdata\":[[\"Nashville\"]],\"hovertemplate\":\"City=%{customdata[0]}<br>Years Taken to become Unicorn=%{x}<br>Country=%{y}<extra></extra>\",\"legendgroup\":\"Nashville\",\"marker\":{\"color\":\"#FFA15A\",\"symbol\":\"circle\"},\"mode\":\"markers\",\"name\":\"Nashville\",\"orientation\":\"h\",\"showlegend\":true,\"x\":[6],\"xaxis\":\"x\",\"y\":[\"United States\"],\"yaxis\":\"y\",\"type\":\"scatter\"},{\"customdata\":[[\"Curitiba\"],[\"Curitiba\"]],\"hovertemplate\":\"City=%{customdata[0]}<br>Years Taken to become Unicorn=%{x}<br>Country=%{y}<extra></extra>\",\"legendgroup\":\"Curitiba\",\"marker\":{\"color\":\"#19d3f3\",\"symbol\":\"circle\"},\"mode\":\"markers\",\"name\":\"Curitiba\",\"orientation\":\"h\",\"showlegend\":true,\"x\":[6,7],\"xaxis\":\"x\",\"y\":[\"Brazil\",\"Brazil\"],\"yaxis\":\"y\",\"type\":\"scatter\"},{\"customdata\":[[\"Herzliya\"]],\"hovertemplate\":\"City=%{customdata[0]}<br>Years Taken to become Unicorn=%{x}<br>Country=%{y}<extra></extra>\",\"legendgroup\":\"Herzliya\",\"marker\":{\"color\":\"#FF6692\",\"symbol\":\"circle\"},\"mode\":\"markers\",\"name\":\"Herzliya\",\"orientation\":\"h\",\"showlegend\":true,\"x\":[10],\"xaxis\":\"x\",\"y\":[\"Israel\"],\"yaxis\":\"y\",\"type\":\"scatter\"},{\"customdata\":[[\"Boulder\"]],\"hovertemplate\":\"City=%{customdata[0]}<br>Years Taken to become Unicorn=%{x}<br>Country=%{y}<extra></extra>\",\"legendgroup\":\"Boulder\",\"marker\":{\"color\":\"#B6E880\",\"symbol\":\"circle\"},\"mode\":\"markers\",\"name\":\"Boulder\",\"orientation\":\"h\",\"showlegend\":true,\"x\":[5],\"xaxis\":\"x\",\"y\":[\"United States\"],\"yaxis\":\"y\",\"type\":\"scatter\"},{\"customdata\":[[\"Hefei\"]],\"hovertemplate\":\"City=%{customdata[0]}<br>Years Taken to become Unicorn=%{x}<br>Country=%{y}<extra></extra>\",\"legendgroup\":\"Hefei\",\"marker\":{\"color\":\"#FF97FF\",\"symbol\":\"circle\"},\"mode\":\"markers\",\"name\":\"Hefei\",\"orientation\":\"h\",\"showlegend\":true,\"x\":[2],\"xaxis\":\"x\",\"y\":[\"China\"],\"yaxis\":\"y\",\"type\":\"scatter\"},{\"customdata\":[[\"Solihull\"]],\"hovertemplate\":\"City=%{customdata[0]}<br>Years Taken to become Unicorn=%{x}<br>Country=%{y}<extra></extra>\",\"legendgroup\":\"Solihull\",\"marker\":{\"color\":\"#FECB52\",\"symbol\":\"circle\"},\"mode\":\"markers\",\"name\":\"Solihull\",\"orientation\":\"h\",\"showlegend\":true,\"x\":[8],\"xaxis\":\"x\",\"y\":[\"United Kingdom\"],\"yaxis\":\"y\",\"type\":\"scatter\"},{\"customdata\":[[\"Ghent\"]],\"hovertemplate\":\"City=%{customdata[0]}<br>Years Taken to become Unicorn=%{x}<br>Country=%{y}<extra></extra>\",\"legendgroup\":\"Ghent\",\"marker\":{\"color\":\"#636efa\",\"symbol\":\"circle\"},\"mode\":\"markers\",\"name\":\"Ghent\",\"orientation\":\"h\",\"showlegend\":true,\"x\":[4],\"xaxis\":\"x\",\"y\":[\"Belgium\"],\"yaxis\":\"y\",\"type\":\"scatter\"},{\"customdata\":[[\"Chennai\"]],\"hovertemplate\":\"City=%{customdata[0]}<br>Years Taken to become Unicorn=%{x}<br>Country=%{y}<extra></extra>\",\"legendgroup\":\"Chennai\",\"marker\":{\"color\":\"#EF553B\",\"symbol\":\"circle\"},\"mode\":\"markers\",\"name\":\"Chennai\",\"orientation\":\"h\",\"showlegend\":true,\"x\":[37],\"xaxis\":\"x\",\"y\":[\"India\"],\"yaxis\":\"y\",\"type\":\"scatter\"},{\"customdata\":[[\"Ambler\"]],\"hovertemplate\":\"City=%{customdata[0]}<br>Years Taken to become Unicorn=%{x}<br>Country=%{y}<extra></extra>\",\"legendgroup\":\"Ambler\",\"marker\":{\"color\":\"#00cc96\",\"symbol\":\"circle\"},\"mode\":\"markers\",\"name\":\"Ambler\",\"orientation\":\"h\",\"showlegend\":true,\"x\":[10],\"xaxis\":\"x\",\"y\":[\"United States\"],\"yaxis\":\"y\",\"type\":\"scatter\"},{\"customdata\":[[\"Pleasanton\"]],\"hovertemplate\":\"City=%{customdata[0]}<br>Years Taken to become Unicorn=%{x}<br>Country=%{y}<extra></extra>\",\"legendgroup\":\"Pleasanton\",\"marker\":{\"color\":\"#ab63fa\",\"symbol\":\"circle\"},\"mode\":\"markers\",\"name\":\"Pleasanton\",\"orientation\":\"h\",\"showlegend\":true,\"x\":[9],\"xaxis\":\"x\",\"y\":[\"United States\"],\"yaxis\":\"y\",\"type\":\"scatter\"},{\"customdata\":[[\"Central\"]],\"hovertemplate\":\"City=%{customdata[0]}<br>Years Taken to become Unicorn=%{x}<br>Country=%{y}<extra></extra>\",\"legendgroup\":\"Central\",\"marker\":{\"color\":\"#FFA15A\",\"symbol\":\"circle\"},\"mode\":\"markers\",\"name\":\"Central\",\"orientation\":\"h\",\"showlegend\":true,\"x\":[4],\"xaxis\":\"x\",\"y\":[\"Hong Kong\"],\"yaxis\":\"y\",\"type\":\"scatter\"},{\"customdata\":[[\"Framingham\"]],\"hovertemplate\":\"City=%{customdata[0]}<br>Years Taken to become Unicorn=%{x}<br>Country=%{y}<extra></extra>\",\"legendgroup\":\"Framingham\",\"marker\":{\"color\":\"#19d3f3\",\"symbol\":\"circle\"},\"mode\":\"markers\",\"name\":\"Framingham\",\"orientation\":\"h\",\"showlegend\":true,\"x\":[7],\"xaxis\":\"x\",\"y\":[\"United States\"],\"yaxis\":\"y\",\"type\":\"scatter\"},{\"customdata\":[[\"Tirat Carmel\"]],\"hovertemplate\":\"City=%{customdata[0]}<br>Years Taken to become Unicorn=%{x}<br>Country=%{y}<extra></extra>\",\"legendgroup\":\"Tirat Carmel\",\"marker\":{\"color\":\"#FF6692\",\"symbol\":\"circle\"},\"mode\":\"markers\",\"name\":\"Tirat Carmel\",\"orientation\":\"h\",\"showlegend\":true,\"x\":[21],\"xaxis\":\"x\",\"y\":[\"Israel\"],\"yaxis\":\"y\",\"type\":\"scatter\"},{\"customdata\":[[\"Encinitas\"]],\"hovertemplate\":\"City=%{customdata[0]}<br>Years Taken to become Unicorn=%{x}<br>Country=%{y}<extra></extra>\",\"legendgroup\":\"Encinitas\",\"marker\":{\"color\":\"#B6E880\",\"symbol\":\"circle\"},\"mode\":\"markers\",\"name\":\"Encinitas\",\"orientation\":\"h\",\"showlegend\":true,\"x\":[6],\"xaxis\":\"x\",\"y\":[\"United States\"],\"yaxis\":\"y\",\"type\":\"scatter\"},{\"customdata\":[[\"Barcelona\"]],\"hovertemplate\":\"City=%{customdata[0]}<br>Years Taken to become Unicorn=%{x}<br>Country=%{y}<extra></extra>\",\"legendgroup\":\"Barcelona\",\"marker\":{\"color\":\"#FF97FF\",\"symbol\":\"circle\"},\"mode\":\"markers\",\"name\":\"Barcelona\",\"orientation\":\"h\",\"showlegend\":true,\"x\":[7],\"xaxis\":\"x\",\"y\":[\"Spain\"],\"yaxis\":\"y\",\"type\":\"scatter\"},{\"customdata\":[[\"Long Beach\"],[\"Long Beach\"]],\"hovertemplate\":\"City=%{customdata[0]}<br>Years Taken to become Unicorn=%{x}<br>Country=%{y}<extra></extra>\",\"legendgroup\":\"Long Beach\",\"marker\":{\"color\":\"#FECB52\",\"symbol\":\"circle\"},\"mode\":\"markers\",\"name\":\"Long Beach\",\"orientation\":\"h\",\"showlegend\":true,\"x\":[4,6],\"xaxis\":\"x\",\"y\":[\"United States\",\"United States\"],\"yaxis\":\"y\",\"type\":\"scatter\"},{\"customdata\":[[\"Berkeley\"],[\"Berkeley\"]],\"hovertemplate\":\"City=%{customdata[0]}<br>Years Taken to become Unicorn=%{x}<br>Country=%{y}<extra></extra>\",\"legendgroup\":\"Berkeley\",\"marker\":{\"color\":\"#636efa\",\"symbol\":\"circle\"},\"mode\":\"markers\",\"name\":\"Berkeley\",\"orientation\":\"h\",\"showlegend\":true,\"x\":[10,2],\"xaxis\":\"x\",\"y\":[\"United States\",\"United States\"],\"yaxis\":\"y\",\"type\":\"scatter\"},{\"customdata\":[[\"Sherman Oaks\"]],\"hovertemplate\":\"City=%{customdata[0]}<br>Years Taken to become Unicorn=%{x}<br>Country=%{y}<extra></extra>\",\"legendgroup\":\"Sherman Oaks\",\"marker\":{\"color\":\"#EF553B\",\"symbol\":\"circle\"},\"mode\":\"markers\",\"name\":\"Sherman Oaks\",\"orientation\":\"h\",\"showlegend\":true,\"x\":[3],\"xaxis\":\"x\",\"y\":[\"United States\"],\"yaxis\":\"y\",\"type\":\"scatter\"},{\"customdata\":[[\"Boise\"]],\"hovertemplate\":\"City=%{customdata[0]}<br>Years Taken to become Unicorn=%{x}<br>Country=%{y}<extra></extra>\",\"legendgroup\":\"Boise\",\"marker\":{\"color\":\"#00cc96\",\"symbol\":\"circle\"},\"mode\":\"markers\",\"name\":\"Boise\",\"orientation\":\"h\",\"showlegend\":true,\"x\":[5],\"xaxis\":\"x\",\"y\":[\"United States\"],\"yaxis\":\"y\",\"type\":\"scatter\"},{\"customdata\":[[\"Aberdeen\"]],\"hovertemplate\":\"City=%{customdata[0]}<br>Years Taken to become Unicorn=%{x}<br>Country=%{y}<extra></extra>\",\"legendgroup\":\"Aberdeen\",\"marker\":{\"color\":\"#ab63fa\",\"symbol\":\"circle\"},\"mode\":\"markers\",\"name\":\"Aberdeen\",\"orientation\":\"h\",\"showlegend\":true,\"x\":[10],\"xaxis\":\"x\",\"y\":[\"United Kingdom\"],\"yaxis\":\"y\",\"type\":\"scatter\"},{\"customdata\":[[\"Tsuruoka\"]],\"hovertemplate\":\"City=%{customdata[0]}<br>Years Taken to become Unicorn=%{x}<br>Country=%{y}<extra></extra>\",\"legendgroup\":\"Tsuruoka\",\"marker\":{\"color\":\"#FFA15A\",\"symbol\":\"circle\"},\"mode\":\"markers\",\"name\":\"Tsuruoka\",\"orientation\":\"h\",\"showlegend\":true,\"x\":[14],\"xaxis\":\"x\",\"y\":[\"Japan\"],\"yaxis\":\"y\",\"type\":\"scatter\"},{\"customdata\":[[\"Washington\"],[\"Washington\"]],\"hovertemplate\":\"City=%{customdata[0]}<br>Years Taken to become Unicorn=%{x}<br>Country=%{y}<extra></extra>\",\"legendgroup\":\"Washington\",\"marker\":{\"color\":\"#19d3f3\",\"symbol\":\"circle\"},\"mode\":\"markers\",\"name\":\"Washington\",\"orientation\":\"h\",\"showlegend\":true,\"x\":[11,4],\"xaxis\":\"x\",\"y\":[\"United States\",\"United States\"],\"yaxis\":\"y\",\"type\":\"scatter\"},{\"customdata\":[[\"Prague\"]],\"hovertemplate\":\"City=%{customdata[0]}<br>Years Taken to become Unicorn=%{x}<br>Country=%{y}<extra></extra>\",\"legendgroup\":\"Prague\",\"marker\":{\"color\":\"#FF6692\",\"symbol\":\"circle\"},\"mode\":\"markers\",\"name\":\"Prague\",\"orientation\":\"h\",\"showlegend\":true,\"x\":[2],\"xaxis\":\"x\",\"y\":[\"Czech Republic\"],\"yaxis\":\"y\",\"type\":\"scatter\"},{\"customdata\":[[\"Oslo\"],[\"Oslo\"],[\"Oslo\"]],\"hovertemplate\":\"City=%{customdata[0]}<br>Years Taken to become Unicorn=%{x}<br>Country=%{y}<extra></extra>\",\"legendgroup\":\"Oslo\",\"marker\":{\"color\":\"#B6E880\",\"symbol\":\"circle\"},\"mode\":\"markers\",\"name\":\"Oslo\",\"orientation\":\"h\",\"showlegend\":true,\"x\":[8,14,4],\"xaxis\":\"x\",\"y\":[\"Norway\",\"Norway\",\"Norway\"],\"yaxis\":\"y\",\"type\":\"scatter\"},{\"customdata\":[[\"Princeton\"]],\"hovertemplate\":\"City=%{customdata[0]}<br>Years Taken to become Unicorn=%{x}<br>Country=%{y}<extra></extra>\",\"legendgroup\":\"Princeton\",\"marker\":{\"color\":\"#FF97FF\",\"symbol\":\"circle\"},\"mode\":\"markers\",\"name\":\"Princeton\",\"orientation\":\"h\",\"showlegend\":true,\"x\":[3],\"xaxis\":\"x\",\"y\":[\"United States\"],\"yaxis\":\"y\",\"type\":\"scatter\"},{\"customdata\":[[\"Jaipur\"]],\"hovertemplate\":\"City=%{customdata[0]}<br>Years Taken to become Unicorn=%{x}<br>Country=%{y}<extra></extra>\",\"legendgroup\":\"Jaipur\",\"marker\":{\"color\":\"#FECB52\",\"symbol\":\"circle\"},\"mode\":\"markers\",\"name\":\"Jaipur\",\"orientation\":\"h\",\"showlegend\":true,\"x\":[13],\"xaxis\":\"x\",\"y\":[\"India\"],\"yaxis\":\"y\",\"type\":\"scatter\"},{\"customdata\":[[\"Salt Lake City\"]],\"hovertemplate\":\"City=%{customdata[0]}<br>Years Taken to become Unicorn=%{x}<br>Country=%{y}<extra></extra>\",\"legendgroup\":\"Salt Lake City\",\"marker\":{\"color\":\"#636efa\",\"symbol\":\"circle\"},\"mode\":\"markers\",\"name\":\"Salt Lake City\",\"orientation\":\"h\",\"showlegend\":true,\"x\":[20],\"xaxis\":\"x\",\"y\":[\"United States\"],\"yaxis\":\"y\",\"type\":\"scatter\"},{\"customdata\":[[\"Washington DC\"],[\"Washington DC\"]],\"hovertemplate\":\"City=%{customdata[0]}<br>Years Taken to become Unicorn=%{x}<br>Country=%{y}<extra></extra>\",\"legendgroup\":\"Washington DC\",\"marker\":{\"color\":\"#EF553B\",\"symbol\":\"circle\"},\"mode\":\"markers\",\"name\":\"Washington DC\",\"orientation\":\"h\",\"showlegend\":true,\"x\":[2,7],\"xaxis\":\"x\",\"y\":[\"United States\",\"United States\"],\"yaxis\":\"y\",\"type\":\"scatter\"},{\"customdata\":[[\"Tustin\"]],\"hovertemplate\":\"City=%{customdata[0]}<br>Years Taken to become Unicorn=%{x}<br>Country=%{y}<extra></extra>\",\"legendgroup\":\"Tustin\",\"marker\":{\"color\":\"#00cc96\",\"symbol\":\"circle\"},\"mode\":\"markers\",\"name\":\"Tustin\",\"orientation\":\"h\",\"showlegend\":true,\"x\":[13],\"xaxis\":\"x\",\"y\":[\"United States\"],\"yaxis\":\"y\",\"type\":\"scatter\"},{\"customdata\":[[\"Qingdao\"]],\"hovertemplate\":\"City=%{customdata[0]}<br>Years Taken to become Unicorn=%{x}<br>Country=%{y}<extra></extra>\",\"legendgroup\":\"Qingdao\",\"marker\":{\"color\":\"#ab63fa\",\"symbol\":\"circle\"},\"mode\":\"markers\",\"name\":\"Qingdao\",\"orientation\":\"h\",\"showlegend\":true,\"x\":[5],\"xaxis\":\"x\",\"y\":[\"China\"],\"yaxis\":\"y\",\"type\":\"scatter\"},{\"customdata\":[[\"Roubaix\"]],\"hovertemplate\":\"City=%{customdata[0]}<br>Years Taken to become Unicorn=%{x}<br>Country=%{y}<extra></extra>\",\"legendgroup\":\"Roubaix\",\"marker\":{\"color\":\"#FFA15A\",\"symbol\":\"circle\"},\"mode\":\"markers\",\"name\":\"Roubaix\",\"orientation\":\"h\",\"showlegend\":true,\"x\":[17],\"xaxis\":\"x\",\"y\":[\"France\"],\"yaxis\":\"y\",\"type\":\"scatter\"},{\"customdata\":[[\"Islandia\"]],\"hovertemplate\":\"City=%{customdata[0]}<br>Years Taken to become Unicorn=%{x}<br>Country=%{y}<extra></extra>\",\"legendgroup\":\"Islandia\",\"marker\":{\"color\":\"#19d3f3\",\"symbol\":\"circle\"},\"mode\":\"markers\",\"name\":\"Islandia\",\"orientation\":\"h\",\"showlegend\":true,\"x\":[10],\"xaxis\":\"x\",\"y\":[\"United States\"],\"yaxis\":\"y\",\"type\":\"scatter\"},{\"customdata\":[[\"Prilly\"]],\"hovertemplate\":\"City=%{customdata[0]}<br>Years Taken to become Unicorn=%{x}<br>Country=%{y}<extra></extra>\",\"legendgroup\":\"Prilly\",\"marker\":{\"color\":\"#FF6692\",\"symbol\":\"circle\"},\"mode\":\"markers\",\"name\":\"Prilly\",\"orientation\":\"h\",\"showlegend\":true,\"x\":[17],\"xaxis\":\"x\",\"y\":[\"Switzerland\"],\"yaxis\":\"y\",\"type\":\"scatter\"},{\"customdata\":[[\"Maharashtra\"]],\"hovertemplate\":\"City=%{customdata[0]}<br>Years Taken to become Unicorn=%{x}<br>Country=%{y}<extra></extra>\",\"legendgroup\":\"Maharashtra\",\"marker\":{\"color\":\"#B6E880\",\"symbol\":\"circle\"},\"mode\":\"markers\",\"name\":\"Maharashtra\",\"orientation\":\"h\",\"showlegend\":true,\"x\":[4],\"xaxis\":\"x\",\"y\":[\"India\"],\"yaxis\":\"y\",\"type\":\"scatter\"},{\"customdata\":[[\"Andheri\"]],\"hovertemplate\":\"City=%{customdata[0]}<br>Years Taken to become Unicorn=%{x}<br>Country=%{y}<extra></extra>\",\"legendgroup\":\"Andheri\",\"marker\":{\"color\":\"#FF97FF\",\"symbol\":\"circle\"},\"mode\":\"markers\",\"name\":\"Andheri\",\"orientation\":\"h\",\"showlegend\":true,\"x\":[10],\"xaxis\":\"x\",\"y\":[\"India\"],\"yaxis\":\"y\",\"type\":\"scatter\"},{\"customdata\":[[\"Waterloo\"],[\"Waterloo\"]],\"hovertemplate\":\"City=%{customdata[0]}<br>Years Taken to become Unicorn=%{x}<br>Country=%{y}<extra></extra>\",\"legendgroup\":\"Waterloo\",\"marker\":{\"color\":\"#FECB52\",\"symbol\":\"circle\"},\"mode\":\"markers\",\"name\":\"Waterloo\",\"orientation\":\"h\",\"showlegend\":true,\"x\":[21,2],\"xaxis\":\"x\",\"y\":[\"Canada\",\"Canada\"],\"yaxis\":\"y\",\"type\":\"scatter\"},{\"customdata\":[[\"Crewe\"]],\"hovertemplate\":\"City=%{customdata[0]}<br>Years Taken to become Unicorn=%{x}<br>Country=%{y}<extra></extra>\",\"legendgroup\":\"Crewe\",\"marker\":{\"color\":\"#636efa\",\"symbol\":\"circle\"},\"mode\":\"markers\",\"name\":\"Crewe\",\"orientation\":\"h\",\"showlegend\":true,\"x\":[27],\"xaxis\":\"x\",\"y\":[\"United Kingdom\"],\"yaxis\":\"y\",\"type\":\"scatter\"},{\"customdata\":[[\"Seongnam-Si\"]],\"hovertemplate\":\"City=%{customdata[0]}<br>Years Taken to become Unicorn=%{x}<br>Country=%{y}<extra></extra>\",\"legendgroup\":\"Seongnam-Si\",\"marker\":{\"color\":\"#EF553B\",\"symbol\":\"circle\"},\"mode\":\"markers\",\"name\":\"Seongnam-Si\",\"orientation\":\"h\",\"showlegend\":true,\"x\":[19],\"xaxis\":\"x\",\"y\":[\"South Korea\"],\"yaxis\":\"y\",\"type\":\"scatter\"},{\"customdata\":[[\"Fort Mill\"]],\"hovertemplate\":\"City=%{customdata[0]}<br>Years Taken to become Unicorn=%{x}<br>Country=%{y}<extra></extra>\",\"legendgroup\":\"Fort Mill\",\"marker\":{\"color\":\"#00cc96\",\"symbol\":\"circle\"},\"mode\":\"markers\",\"name\":\"Fort Mill\",\"orientation\":\"h\",\"showlegend\":true,\"x\":[15],\"xaxis\":\"x\",\"y\":[\"United States\"],\"yaxis\":\"y\",\"type\":\"scatter\"},{\"customdata\":[[\"Lausanne\"]],\"hovertemplate\":\"City=%{customdata[0]}<br>Years Taken to become Unicorn=%{x}<br>Country=%{y}<extra></extra>\",\"legendgroup\":\"Lausanne\",\"marker\":{\"color\":\"#ab63fa\",\"symbol\":\"circle\"},\"mode\":\"markers\",\"name\":\"Lausanne\",\"orientation\":\"h\",\"showlegend\":true,\"x\":[4],\"xaxis\":\"x\",\"y\":[\"Switzerland\"],\"yaxis\":\"y\",\"type\":\"scatter\"},{\"customdata\":[[\"Boca Raton\"]],\"hovertemplate\":\"City=%{customdata[0]}<br>Years Taken to become Unicorn=%{x}<br>Country=%{y}<extra></extra>\",\"legendgroup\":\"Boca Raton\",\"marker\":{\"color\":\"#FFA15A\",\"symbol\":\"circle\"},\"mode\":\"markers\",\"name\":\"Boca Raton\",\"orientation\":\"h\",\"showlegend\":true,\"x\":[7],\"xaxis\":\"x\",\"y\":[\"United States\"],\"yaxis\":\"y\",\"type\":\"scatter\"},{\"customdata\":[[\"Midrand\"]],\"hovertemplate\":\"City=%{customdata[0]}<br>Years Taken to become Unicorn=%{x}<br>Country=%{y}<extra></extra>\",\"legendgroup\":\"Midrand\",\"marker\":{\"color\":\"#19d3f3\",\"symbol\":\"circle\"},\"mode\":\"markers\",\"name\":\"Midrand\",\"orientation\":\"h\",\"showlegend\":true,\"x\":[17],\"xaxis\":\"x\",\"y\":[\"South Africa\"],\"yaxis\":\"y\",\"type\":\"scatter\"},{\"customdata\":[[\"Manila\"]],\"hovertemplate\":\"City=%{customdata[0]}<br>Years Taken to become Unicorn=%{x}<br>Country=%{y}<extra></extra>\",\"legendgroup\":\"Manila\",\"marker\":{\"color\":\"#FF6692\",\"symbol\":\"circle\"},\"mode\":\"markers\",\"name\":\"Manila\",\"orientation\":\"h\",\"showlegend\":true,\"x\":[2],\"xaxis\":\"x\",\"y\":[\"Philippines\"],\"yaxis\":\"y\",\"type\":\"scatter\"},{\"customdata\":[[\"Espoo\"]],\"hovertemplate\":\"City=%{customdata[0]}<br>Years Taken to become Unicorn=%{x}<br>Country=%{y}<extra></extra>\",\"legendgroup\":\"Espoo\",\"marker\":{\"color\":\"#B6E880\",\"symbol\":\"circle\"},\"mode\":\"markers\",\"name\":\"Espoo\",\"orientation\":\"h\",\"showlegend\":true,\"x\":[2],\"xaxis\":\"x\",\"y\":[\"Finland\"],\"yaxis\":\"y\",\"type\":\"scatter\"},{\"customdata\":[[\"Wuxi\"]],\"hovertemplate\":\"City=%{customdata[0]}<br>Years Taken to become Unicorn=%{x}<br>Country=%{y}<extra></extra>\",\"legendgroup\":\"Wuxi\",\"marker\":{\"color\":\"#FF97FF\",\"symbol\":\"circle\"},\"mode\":\"markers\",\"name\":\"Wuxi\",\"orientation\":\"h\",\"showlegend\":true,\"x\":[8],\"xaxis\":\"x\",\"y\":[\"China\"],\"yaxis\":\"y\",\"type\":\"scatter\"},{\"customdata\":[[\"Charlotte\"],[\"Charlotte\"]],\"hovertemplate\":\"City=%{customdata[0]}<br>Years Taken to become Unicorn=%{x}<br>Country=%{y}<extra></extra>\",\"legendgroup\":\"Charlotte\",\"marker\":{\"color\":\"#FECB52\",\"symbol\":\"circle\"},\"mode\":\"markers\",\"name\":\"Charlotte\",\"orientation\":\"h\",\"showlegend\":true,\"x\":[7,5],\"xaxis\":\"x\",\"y\":[\"United States\",\"United States\"],\"yaxis\":\"y\",\"type\":\"scatter\"},{\"customdata\":[[\"Osasco\"]],\"hovertemplate\":\"City=%{customdata[0]}<br>Years Taken to become Unicorn=%{x}<br>Country=%{y}<extra></extra>\",\"legendgroup\":\"Osasco\",\"marker\":{\"color\":\"#636efa\",\"symbol\":\"circle\"},\"mode\":\"markers\",\"name\":\"Osasco\",\"orientation\":\"h\",\"showlegend\":true,\"x\":[7],\"xaxis\":\"x\",\"y\":[\"Brazil\"],\"yaxis\":\"y\",\"type\":\"scatter\"},{\"customdata\":[[\"Menlo Park\"],[\"Menlo Park\"]],\"hovertemplate\":\"City=%{customdata[0]}<br>Years Taken to become Unicorn=%{x}<br>Country=%{y}<extra></extra>\",\"legendgroup\":\"Menlo Park\",\"marker\":{\"color\":\"#EF553B\",\"symbol\":\"circle\"},\"mode\":\"markers\",\"name\":\"Menlo Park\",\"orientation\":\"h\",\"showlegend\":true,\"x\":[4,4],\"xaxis\":\"x\",\"y\":[\"United States\",\"United States\"],\"yaxis\":\"y\",\"type\":\"scatter\"},{\"customdata\":[[\"Evry\"]],\"hovertemplate\":\"City=%{customdata[0]}<br>Years Taken to become Unicorn=%{x}<br>Country=%{y}<extra></extra>\",\"legendgroup\":\"Evry\",\"marker\":{\"color\":\"#00cc96\",\"symbol\":\"circle\"},\"mode\":\"markers\",\"name\":\"Evry\",\"orientation\":\"h\",\"showlegend\":true,\"x\":[8],\"xaxis\":\"x\",\"y\":[\"France\"],\"yaxis\":\"y\",\"type\":\"scatter\"},{\"customdata\":[[\"Leawood\"]],\"hovertemplate\":\"City=%{customdata[0]}<br>Years Taken to become Unicorn=%{x}<br>Country=%{y}<extra></extra>\",\"legendgroup\":\"Leawood\",\"marker\":{\"color\":\"#ab63fa\",\"symbol\":\"circle\"},\"mode\":\"markers\",\"name\":\"Leawood\",\"orientation\":\"h\",\"showlegend\":true,\"x\":[11],\"xaxis\":\"x\",\"y\":[\"United States\"],\"yaxis\":\"y\",\"type\":\"scatter\"},{\"customdata\":[[\"Dongguan\"]],\"hovertemplate\":\"City=%{customdata[0]}<br>Years Taken to become Unicorn=%{x}<br>Country=%{y}<extra></extra>\",\"legendgroup\":\"Dongguan\",\"marker\":{\"color\":\"#FFA15A\",\"symbol\":\"circle\"},\"mode\":\"markers\",\"name\":\"Dongguan\",\"orientation\":\"h\",\"showlegend\":true,\"x\":[5],\"xaxis\":\"x\",\"y\":[\"China\"],\"yaxis\":\"y\",\"type\":\"scatter\"},{\"customdata\":[[\"Vodnjan\"]],\"hovertemplate\":\"City=%{customdata[0]}<br>Years Taken to become Unicorn=%{x}<br>Country=%{y}<extra></extra>\",\"legendgroup\":\"Vodnjan\",\"marker\":{\"color\":\"#19d3f3\",\"symbol\":\"circle\"},\"mode\":\"markers\",\"name\":\"Vodnjan\",\"orientation\":\"h\",\"showlegend\":true,\"x\":[14],\"xaxis\":\"x\",\"y\":[\"Croatia\"],\"yaxis\":\"y\",\"type\":\"scatter\"},{\"customdata\":[[\"Englewood\"]],\"hovertemplate\":\"City=%{customdata[0]}<br>Years Taken to become Unicorn=%{x}<br>Country=%{y}<extra></extra>\",\"legendgroup\":\"Englewood\",\"marker\":{\"color\":\"#FF6692\",\"symbol\":\"circle\"},\"mode\":\"markers\",\"name\":\"Englewood\",\"orientation\":\"h\",\"showlegend\":true,\"x\":[6],\"xaxis\":\"x\",\"y\":[\"United States\"],\"yaxis\":\"y\",\"type\":\"scatter\"},{\"customdata\":[[\"Colorado Springs\"]],\"hovertemplate\":\"City=%{customdata[0]}<br>Years Taken to become Unicorn=%{x}<br>Country=%{y}<extra></extra>\",\"legendgroup\":\"Colorado Springs\",\"marker\":{\"color\":\"#B6E880\",\"symbol\":\"circle\"},\"mode\":\"markers\",\"name\":\"Colorado Springs\",\"orientation\":\"h\",\"showlegend\":true,\"x\":[6],\"xaxis\":\"x\",\"y\":[\"United States\"],\"yaxis\":\"y\",\"type\":\"scatter\"},{\"customdata\":[[\"Parana\"]],\"hovertemplate\":\"City=%{customdata[0]}<br>Years Taken to become Unicorn=%{x}<br>Country=%{y}<extra></extra>\",\"legendgroup\":\"Parana\",\"marker\":{\"color\":\"#FF97FF\",\"symbol\":\"circle\"},\"mode\":\"markers\",\"name\":\"Parana\",\"orientation\":\"h\",\"showlegend\":true,\"x\":[12],\"xaxis\":\"x\",\"y\":[\"Brazil\"],\"yaxis\":\"y\",\"type\":\"scatter\"},{\"customdata\":[[\"Ra'anana\"]],\"hovertemplate\":\"City=%{customdata[0]}<br>Years Taken to become Unicorn=%{x}<br>Country=%{y}<extra></extra>\",\"legendgroup\":\"Ra'anana\",\"marker\":{\"color\":\"#FECB52\",\"symbol\":\"circle\"},\"mode\":\"markers\",\"name\":\"Ra'anana\",\"orientation\":\"h\",\"showlegend\":true,\"x\":[6],\"xaxis\":\"x\",\"y\":[\"Israel\"],\"yaxis\":\"y\",\"type\":\"scatter\"},{\"customdata\":[[\"Wilmington\"]],\"hovertemplate\":\"City=%{customdata[0]}<br>Years Taken to become Unicorn=%{x}<br>Country=%{y}<extra></extra>\",\"legendgroup\":\"Wilmington\",\"marker\":{\"color\":\"#636efa\",\"symbol\":\"circle\"},\"mode\":\"markers\",\"name\":\"Wilmington\",\"orientation\":\"h\",\"showlegend\":true,\"x\":[7],\"xaxis\":\"x\",\"y\":[\"United States\"],\"yaxis\":\"y\",\"type\":\"scatter\"},{\"customdata\":[[\"Ramat Gan\"]],\"hovertemplate\":\"City=%{customdata[0]}<br>Years Taken to become Unicorn=%{x}<br>Country=%{y}<extra></extra>\",\"legendgroup\":\"Ramat Gan\",\"marker\":{\"color\":\"#EF553B\",\"symbol\":\"circle\"},\"mode\":\"markers\",\"name\":\"Ramat Gan\",\"orientation\":\"h\",\"showlegend\":true,\"x\":[6],\"xaxis\":\"x\",\"y\":[\"Israel\"],\"yaxis\":\"y\",\"type\":\"scatter\"},{\"customdata\":[[\"Suzhou\"]],\"hovertemplate\":\"City=%{customdata[0]}<br>Years Taken to become Unicorn=%{x}<br>Country=%{y}<extra></extra>\",\"legendgroup\":\"Suzhou\",\"marker\":{\"color\":\"#00cc96\",\"symbol\":\"circle\"},\"mode\":\"markers\",\"name\":\"Suzhou\",\"orientation\":\"h\",\"showlegend\":true,\"x\":[10],\"xaxis\":\"x\",\"y\":[\"China\"],\"yaxis\":\"y\",\"type\":\"scatter\"},{\"customdata\":[[\"Madison\"]],\"hovertemplate\":\"City=%{customdata[0]}<br>Years Taken to become Unicorn=%{x}<br>Country=%{y}<extra></extra>\",\"legendgroup\":\"Madison\",\"marker\":{\"color\":\"#ab63fa\",\"symbol\":\"circle\"},\"mode\":\"markers\",\"name\":\"Madison\",\"orientation\":\"h\",\"showlegend\":true,\"x\":[7],\"xaxis\":\"x\",\"y\":[\"United States\"],\"yaxis\":\"y\",\"type\":\"scatter\"},{\"customdata\":[[\"Cedar Park\"]],\"hovertemplate\":\"City=%{customdata[0]}<br>Years Taken to become Unicorn=%{x}<br>Country=%{y}<extra></extra>\",\"legendgroup\":\"Cedar Park\",\"marker\":{\"color\":\"#FFA15A\",\"symbol\":\"circle\"},\"mode\":\"markers\",\"name\":\"Cedar Park\",\"orientation\":\"h\",\"showlegend\":true,\"x\":[7],\"xaxis\":\"x\",\"y\":[\"United States\"],\"yaxis\":\"y\",\"type\":\"scatter\"},{\"customdata\":[[\"Chongqing\"]],\"hovertemplate\":\"City=%{customdata[0]}<br>Years Taken to become Unicorn=%{x}<br>Country=%{y}<extra></extra>\",\"legendgroup\":\"Chongqing\",\"marker\":{\"color\":\"#19d3f3\",\"symbol\":\"circle\"},\"mode\":\"markers\",\"name\":\"Chongqing\",\"orientation\":\"h\",\"showlegend\":true,\"x\":[3],\"xaxis\":\"x\",\"y\":[\"China\"],\"yaxis\":\"y\",\"type\":\"scatter\"},{\"customdata\":[[\"Berkeley Heights\"]],\"hovertemplate\":\"City=%{customdata[0]}<br>Years Taken to become Unicorn=%{x}<br>Country=%{y}<extra></extra>\",\"legendgroup\":\"Berkeley Heights\",\"marker\":{\"color\":\"#FF6692\",\"symbol\":\"circle\"},\"mode\":\"markers\",\"name\":\"Berkeley Heights\",\"orientation\":\"h\",\"showlegend\":true,\"x\":[12],\"xaxis\":\"x\",\"y\":[\"United States\"],\"yaxis\":\"y\",\"type\":\"scatter\"},{\"customdata\":[[\"Aarhus\"]],\"hovertemplate\":\"City=%{customdata[0]}<br>Years Taken to become Unicorn=%{x}<br>Country=%{y}<extra></extra>\",\"legendgroup\":\"Aarhus\",\"marker\":{\"color\":\"#B6E880\",\"symbol\":\"circle\"},\"mode\":\"markers\",\"name\":\"Aarhus\",\"orientation\":\"h\",\"showlegend\":true,\"x\":[6],\"xaxis\":\"x\",\"y\":[\"Denmark\"],\"yaxis\":\"y\",\"type\":\"scatter\"},{\"customdata\":[[\"Brisbane\"]],\"hovertemplate\":\"City=%{customdata[0]}<br>Years Taken to become Unicorn=%{x}<br>Country=%{y}<extra></extra>\",\"legendgroup\":\"Brisbane\",\"marker\":{\"color\":\"#FF97FF\",\"symbol\":\"circle\"},\"mode\":\"markers\",\"name\":\"Brisbane\",\"orientation\":\"h\",\"showlegend\":true,\"x\":[6],\"xaxis\":\"x\",\"y\":[\"Australia\"],\"yaxis\":\"y\",\"type\":\"scatter\"},{\"customdata\":[[\"Arlington\"]],\"hovertemplate\":\"City=%{customdata[0]}<br>Years Taken to become Unicorn=%{x}<br>Country=%{y}<extra></extra>\",\"legendgroup\":\"Arlington\",\"marker\":{\"color\":\"#FECB52\",\"symbol\":\"circle\"},\"mode\":\"markers\",\"name\":\"Arlington\",\"orientation\":\"h\",\"showlegend\":true,\"x\":[16],\"xaxis\":\"x\",\"y\":[\"United States\"],\"yaxis\":\"y\",\"type\":\"scatter\"},{\"customdata\":[[\"Montpellier\"]],\"hovertemplate\":\"City=%{customdata[0]}<br>Years Taken to become Unicorn=%{x}<br>Country=%{y}<extra></extra>\",\"legendgroup\":\"Montpellier\",\"marker\":{\"color\":\"#636efa\",\"symbol\":\"circle\"},\"mode\":\"markers\",\"name\":\"Montpellier\",\"orientation\":\"h\",\"showlegend\":true,\"x\":[5],\"xaxis\":\"x\",\"y\":[\"France\"],\"yaxis\":\"y\",\"type\":\"scatter\"},{\"customdata\":[[\"Bellingham\"]],\"hovertemplate\":\"City=%{customdata[0]}<br>Years Taken to become Unicorn=%{x}<br>Country=%{y}<extra></extra>\",\"legendgroup\":\"Bellingham\",\"marker\":{\"color\":\"#EF553B\",\"symbol\":\"circle\"},\"mode\":\"markers\",\"name\":\"Bellingham\",\"orientation\":\"h\",\"showlegend\":true,\"x\":[1],\"xaxis\":\"x\",\"y\":[\"United States\"],\"yaxis\":\"y\",\"type\":\"scatter\"},{\"customdata\":[[\"Herndon\"]],\"hovertemplate\":\"City=%{customdata[0]}<br>Years Taken to become Unicorn=%{x}<br>Country=%{y}<extra></extra>\",\"legendgroup\":\"Herndon\",\"marker\":{\"color\":\"#00cc96\",\"symbol\":\"circle\"},\"mode\":\"markers\",\"name\":\"Herndon\",\"orientation\":\"h\",\"showlegend\":true,\"x\":[5],\"xaxis\":\"x\",\"y\":[\"United States\"],\"yaxis\":\"y\",\"type\":\"scatter\"},{\"customdata\":[[\"Tampa\"]],\"hovertemplate\":\"City=%{customdata[0]}<br>Years Taken to become Unicorn=%{x}<br>Country=%{y}<extra></extra>\",\"legendgroup\":\"Tampa\",\"marker\":{\"color\":\"#ab63fa\",\"symbol\":\"circle\"},\"mode\":\"markers\",\"name\":\"Tampa\",\"orientation\":\"h\",\"showlegend\":true,\"x\":[14],\"xaxis\":\"x\",\"y\":[\"United States\"],\"yaxis\":\"y\",\"type\":\"scatter\"},{\"customdata\":[[\"Alexandria\"]],\"hovertemplate\":\"City=%{customdata[0]}<br>Years Taken to become Unicorn=%{x}<br>Country=%{y}<extra></extra>\",\"legendgroup\":\"Alexandria\",\"marker\":{\"color\":\"#FFA15A\",\"symbol\":\"circle\"},\"mode\":\"markers\",\"name\":\"Alexandria\",\"orientation\":\"h\",\"showlegend\":true,\"x\":[10],\"xaxis\":\"x\",\"y\":[\"Australia\"],\"yaxis\":\"y\",\"type\":\"scatter\"},{\"customdata\":[[\"Ottawa\"]],\"hovertemplate\":\"City=%{customdata[0]}<br>Years Taken to become Unicorn=%{x}<br>Country=%{y}<extra></extra>\",\"legendgroup\":\"Ottawa\",\"marker\":{\"color\":\"#19d3f3\",\"symbol\":\"circle\"},\"mode\":\"markers\",\"name\":\"Ottawa\",\"orientation\":\"h\",\"showlegend\":true,\"x\":[17],\"xaxis\":\"x\",\"y\":[\"Canada\"],\"yaxis\":\"y\",\"type\":\"scatter\"},{\"customdata\":[[\"Petah Tikva\"]],\"hovertemplate\":\"City=%{customdata[0]}<br>Years Taken to become Unicorn=%{x}<br>Country=%{y}<extra></extra>\",\"legendgroup\":\"Petah Tikva\",\"marker\":{\"color\":\"#FF6692\",\"symbol\":\"circle\"},\"mode\":\"markers\",\"name\":\"Petah Tikva\",\"orientation\":\"h\",\"showlegend\":true,\"x\":[7],\"xaxis\":\"x\",\"y\":[\"Israel\"],\"yaxis\":\"y\",\"type\":\"scatter\"},{\"customdata\":[[\"Hyderabad\"]],\"hovertemplate\":\"City=%{customdata[0]}<br>Years Taken to become Unicorn=%{x}<br>Country=%{y}<extra></extra>\",\"legendgroup\":\"Hyderabad\",\"marker\":{\"color\":\"#B6E880\",\"symbol\":\"circle\"},\"mode\":\"markers\",\"name\":\"Hyderabad\",\"orientation\":\"h\",\"showlegend\":true,\"x\":[7],\"xaxis\":\"x\",\"y\":[\"India\"],\"yaxis\":\"y\",\"type\":\"scatter\"},{\"customdata\":[[\"Zurich\"]],\"hovertemplate\":\"City=%{customdata[0]}<br>Years Taken to become Unicorn=%{x}<br>Country=%{y}<extra></extra>\",\"legendgroup\":\"Zurich\",\"marker\":{\"color\":\"#FF97FF\",\"symbol\":\"circle\"},\"mode\":\"markers\",\"name\":\"Zurich\",\"orientation\":\"h\",\"showlegend\":true,\"x\":[13],\"xaxis\":\"x\",\"y\":[\"Switzerland\"],\"yaxis\":\"y\",\"type\":\"scatter\"},{\"customdata\":[[\"Milan\"]],\"hovertemplate\":\"City=%{customdata[0]}<br>Years Taken to become Unicorn=%{x}<br>Country=%{y}<extra></extra>\",\"legendgroup\":\"Milan\",\"marker\":{\"color\":\"#FECB52\",\"symbol\":\"circle\"},\"mode\":\"markers\",\"name\":\"Milan\",\"orientation\":\"h\",\"showlegend\":true,\"x\":[3],\"xaxis\":\"x\",\"y\":[\"Italy\"],\"yaxis\":\"y\",\"type\":\"scatter\"}],                        {\"template\":{\"data\":{\"bar\":[{\"error_x\":{\"color\":\"#2a3f5f\"},\"error_y\":{\"color\":\"#2a3f5f\"},\"marker\":{\"line\":{\"color\":\"#E5ECF6\",\"width\":0.5},\"pattern\":{\"fillmode\":\"overlay\",\"size\":10,\"solidity\":0.2}},\"type\":\"bar\"}],\"barpolar\":[{\"marker\":{\"line\":{\"color\":\"#E5ECF6\",\"width\":0.5},\"pattern\":{\"fillmode\":\"overlay\",\"size\":10,\"solidity\":0.2}},\"type\":\"barpolar\"}],\"carpet\":[{\"aaxis\":{\"endlinecolor\":\"#2a3f5f\",\"gridcolor\":\"white\",\"linecolor\":\"white\",\"minorgridcolor\":\"white\",\"startlinecolor\":\"#2a3f5f\"},\"baxis\":{\"endlinecolor\":\"#2a3f5f\",\"gridcolor\":\"white\",\"linecolor\":\"white\",\"minorgridcolor\":\"white\",\"startlinecolor\":\"#2a3f5f\"},\"type\":\"carpet\"}],\"choropleth\":[{\"colorbar\":{\"outlinewidth\":0,\"ticks\":\"\"},\"type\":\"choropleth\"}],\"contour\":[{\"colorbar\":{\"outlinewidth\":0,\"ticks\":\"\"},\"colorscale\":[[0.0,\"#0d0887\"],[0.1111111111111111,\"#46039f\"],[0.2222222222222222,\"#7201a8\"],[0.3333333333333333,\"#9c179e\"],[0.4444444444444444,\"#bd3786\"],[0.5555555555555556,\"#d8576b\"],[0.6666666666666666,\"#ed7953\"],[0.7777777777777778,\"#fb9f3a\"],[0.8888888888888888,\"#fdca26\"],[1.0,\"#f0f921\"]],\"type\":\"contour\"}],\"contourcarpet\":[{\"colorbar\":{\"outlinewidth\":0,\"ticks\":\"\"},\"type\":\"contourcarpet\"}],\"heatmap\":[{\"colorbar\":{\"outlinewidth\":0,\"ticks\":\"\"},\"colorscale\":[[0.0,\"#0d0887\"],[0.1111111111111111,\"#46039f\"],[0.2222222222222222,\"#7201a8\"],[0.3333333333333333,\"#9c179e\"],[0.4444444444444444,\"#bd3786\"],[0.5555555555555556,\"#d8576b\"],[0.6666666666666666,\"#ed7953\"],[0.7777777777777778,\"#fb9f3a\"],[0.8888888888888888,\"#fdca26\"],[1.0,\"#f0f921\"]],\"type\":\"heatmap\"}],\"heatmapgl\":[{\"colorbar\":{\"outlinewidth\":0,\"ticks\":\"\"},\"colorscale\":[[0.0,\"#0d0887\"],[0.1111111111111111,\"#46039f\"],[0.2222222222222222,\"#7201a8\"],[0.3333333333333333,\"#9c179e\"],[0.4444444444444444,\"#bd3786\"],[0.5555555555555556,\"#d8576b\"],[0.6666666666666666,\"#ed7953\"],[0.7777777777777778,\"#fb9f3a\"],[0.8888888888888888,\"#fdca26\"],[1.0,\"#f0f921\"]],\"type\":\"heatmapgl\"}],\"histogram\":[{\"marker\":{\"pattern\":{\"fillmode\":\"overlay\",\"size\":10,\"solidity\":0.2}},\"type\":\"histogram\"}],\"histogram2d\":[{\"colorbar\":{\"outlinewidth\":0,\"ticks\":\"\"},\"colorscale\":[[0.0,\"#0d0887\"],[0.1111111111111111,\"#46039f\"],[0.2222222222222222,\"#7201a8\"],[0.3333333333333333,\"#9c179e\"],[0.4444444444444444,\"#bd3786\"],[0.5555555555555556,\"#d8576b\"],[0.6666666666666666,\"#ed7953\"],[0.7777777777777778,\"#fb9f3a\"],[0.8888888888888888,\"#fdca26\"],[1.0,\"#f0f921\"]],\"type\":\"histogram2d\"}],\"histogram2dcontour\":[{\"colorbar\":{\"outlinewidth\":0,\"ticks\":\"\"},\"colorscale\":[[0.0,\"#0d0887\"],[0.1111111111111111,\"#46039f\"],[0.2222222222222222,\"#7201a8\"],[0.3333333333333333,\"#9c179e\"],[0.4444444444444444,\"#bd3786\"],[0.5555555555555556,\"#d8576b\"],[0.6666666666666666,\"#ed7953\"],[0.7777777777777778,\"#fb9f3a\"],[0.8888888888888888,\"#fdca26\"],[1.0,\"#f0f921\"]],\"type\":\"histogram2dcontour\"}],\"mesh3d\":[{\"colorbar\":{\"outlinewidth\":0,\"ticks\":\"\"},\"type\":\"mesh3d\"}],\"parcoords\":[{\"line\":{\"colorbar\":{\"outlinewidth\":0,\"ticks\":\"\"}},\"type\":\"parcoords\"}],\"pie\":[{\"automargin\":true,\"type\":\"pie\"}],\"scatter\":[{\"marker\":{\"colorbar\":{\"outlinewidth\":0,\"ticks\":\"\"}},\"type\":\"scatter\"}],\"scatter3d\":[{\"line\":{\"colorbar\":{\"outlinewidth\":0,\"ticks\":\"\"}},\"marker\":{\"colorbar\":{\"outlinewidth\":0,\"ticks\":\"\"}},\"type\":\"scatter3d\"}],\"scattercarpet\":[{\"marker\":{\"colorbar\":{\"outlinewidth\":0,\"ticks\":\"\"}},\"type\":\"scattercarpet\"}],\"scattergeo\":[{\"marker\":{\"colorbar\":{\"outlinewidth\":0,\"ticks\":\"\"}},\"type\":\"scattergeo\"}],\"scattergl\":[{\"marker\":{\"colorbar\":{\"outlinewidth\":0,\"ticks\":\"\"}},\"type\":\"scattergl\"}],\"scattermapbox\":[{\"marker\":{\"colorbar\":{\"outlinewidth\":0,\"ticks\":\"\"}},\"type\":\"scattermapbox\"}],\"scatterpolar\":[{\"marker\":{\"colorbar\":{\"outlinewidth\":0,\"ticks\":\"\"}},\"type\":\"scatterpolar\"}],\"scatterpolargl\":[{\"marker\":{\"colorbar\":{\"outlinewidth\":0,\"ticks\":\"\"}},\"type\":\"scatterpolargl\"}],\"scatterternary\":[{\"marker\":{\"colorbar\":{\"outlinewidth\":0,\"ticks\":\"\"}},\"type\":\"scatterternary\"}],\"surface\":[{\"colorbar\":{\"outlinewidth\":0,\"ticks\":\"\"},\"colorscale\":[[0.0,\"#0d0887\"],[0.1111111111111111,\"#46039f\"],[0.2222222222222222,\"#7201a8\"],[0.3333333333333333,\"#9c179e\"],[0.4444444444444444,\"#bd3786\"],[0.5555555555555556,\"#d8576b\"],[0.6666666666666666,\"#ed7953\"],[0.7777777777777778,\"#fb9f3a\"],[0.8888888888888888,\"#fdca26\"],[1.0,\"#f0f921\"]],\"type\":\"surface\"}],\"table\":[{\"cells\":{\"fill\":{\"color\":\"#EBF0F8\"},\"line\":{\"color\":\"white\"}},\"header\":{\"fill\":{\"color\":\"#C8D4E3\"},\"line\":{\"color\":\"white\"}},\"type\":\"table\"}]},\"layout\":{\"annotationdefaults\":{\"arrowcolor\":\"#2a3f5f\",\"arrowhead\":0,\"arrowwidth\":1},\"autotypenumbers\":\"strict\",\"coloraxis\":{\"colorbar\":{\"outlinewidth\":0,\"ticks\":\"\"}},\"colorscale\":{\"diverging\":[[0,\"#8e0152\"],[0.1,\"#c51b7d\"],[0.2,\"#de77ae\"],[0.3,\"#f1b6da\"],[0.4,\"#fde0ef\"],[0.5,\"#f7f7f7\"],[0.6,\"#e6f5d0\"],[0.7,\"#b8e186\"],[0.8,\"#7fbc41\"],[0.9,\"#4d9221\"],[1,\"#276419\"]],\"sequential\":[[0.0,\"#0d0887\"],[0.1111111111111111,\"#46039f\"],[0.2222222222222222,\"#7201a8\"],[0.3333333333333333,\"#9c179e\"],[0.4444444444444444,\"#bd3786\"],[0.5555555555555556,\"#d8576b\"],[0.6666666666666666,\"#ed7953\"],[0.7777777777777778,\"#fb9f3a\"],[0.8888888888888888,\"#fdca26\"],[1.0,\"#f0f921\"]],\"sequentialminus\":[[0.0,\"#0d0887\"],[0.1111111111111111,\"#46039f\"],[0.2222222222222222,\"#7201a8\"],[0.3333333333333333,\"#9c179e\"],[0.4444444444444444,\"#bd3786\"],[0.5555555555555556,\"#d8576b\"],[0.6666666666666666,\"#ed7953\"],[0.7777777777777778,\"#fb9f3a\"],[0.8888888888888888,\"#fdca26\"],[1.0,\"#f0f921\"]]},\"colorway\":[\"#636efa\",\"#EF553B\",\"#00cc96\",\"#ab63fa\",\"#FFA15A\",\"#19d3f3\",\"#FF6692\",\"#B6E880\",\"#FF97FF\",\"#FECB52\"],\"font\":{\"color\":\"#2a3f5f\"},\"geo\":{\"bgcolor\":\"white\",\"lakecolor\":\"white\",\"landcolor\":\"#E5ECF6\",\"showlakes\":true,\"showland\":true,\"subunitcolor\":\"white\"},\"hoverlabel\":{\"align\":\"left\"},\"hovermode\":\"closest\",\"mapbox\":{\"style\":\"light\"},\"paper_bgcolor\":\"white\",\"plot_bgcolor\":\"#E5ECF6\",\"polar\":{\"angularaxis\":{\"gridcolor\":\"white\",\"linecolor\":\"white\",\"ticks\":\"\"},\"bgcolor\":\"#E5ECF6\",\"radialaxis\":{\"gridcolor\":\"white\",\"linecolor\":\"white\",\"ticks\":\"\"}},\"scene\":{\"xaxis\":{\"backgroundcolor\":\"#E5ECF6\",\"gridcolor\":\"white\",\"gridwidth\":2,\"linecolor\":\"white\",\"showbackground\":true,\"ticks\":\"\",\"zerolinecolor\":\"white\"},\"yaxis\":{\"backgroundcolor\":\"#E5ECF6\",\"gridcolor\":\"white\",\"gridwidth\":2,\"linecolor\":\"white\",\"showbackground\":true,\"ticks\":\"\",\"zerolinecolor\":\"white\"},\"zaxis\":{\"backgroundcolor\":\"#E5ECF6\",\"gridcolor\":\"white\",\"gridwidth\":2,\"linecolor\":\"white\",\"showbackground\":true,\"ticks\":\"\",\"zerolinecolor\":\"white\"}},\"shapedefaults\":{\"line\":{\"color\":\"#2a3f5f\"}},\"ternary\":{\"aaxis\":{\"gridcolor\":\"white\",\"linecolor\":\"white\",\"ticks\":\"\"},\"baxis\":{\"gridcolor\":\"white\",\"linecolor\":\"white\",\"ticks\":\"\"},\"bgcolor\":\"#E5ECF6\",\"caxis\":{\"gridcolor\":\"white\",\"linecolor\":\"white\",\"ticks\":\"\"}},\"title\":{\"x\":0.05},\"xaxis\":{\"automargin\":true,\"gridcolor\":\"white\",\"linecolor\":\"white\",\"ticks\":\"\",\"title\":{\"standoff\":15},\"zerolinecolor\":\"white\",\"zerolinewidth\":2},\"yaxis\":{\"automargin\":true,\"gridcolor\":\"white\",\"linecolor\":\"white\",\"ticks\":\"\",\"title\":{\"standoff\":15},\"zerolinecolor\":\"white\",\"zerolinewidth\":2}}},\"xaxis\":{\"anchor\":\"y\",\"domain\":[0.0,1.0],\"title\":{\"text\":\"Years Taken to become Unicorn\"}},\"yaxis\":{\"anchor\":\"x\",\"domain\":[0.0,1.0],\"title\":{\"text\":\"Country\"}},\"legend\":{\"title\":{\"text\":\"City\"},\"tracegroupgap\":0},\"title\":{\"text\":\"Years taken to become Unicorn wrt Country and City\"}},                        {\"responsive\": true}                    ).then(function(){\n",
       "                            \n",
       "var gd = document.getElementById('0ca6fd97-6506-4564-999b-ef6ca1116b3f');\n",
       "var x = new MutationObserver(function (mutations, observer) {{\n",
       "        var display = window.getComputedStyle(gd).display;\n",
       "        if (!display || display === 'none') {{\n",
       "            console.log([gd, 'removed!']);\n",
       "            Plotly.purge(gd);\n",
       "            observer.disconnect();\n",
       "        }}\n",
       "}});\n",
       "\n",
       "// Listen for the removal of the full notebook cells\n",
       "var notebookContainer = gd.closest('#notebook-container');\n",
       "if (notebookContainer) {{\n",
       "    x.observe(notebookContainer, {childList: true});\n",
       "}}\n",
       "\n",
       "// Listen for the clearing of the current output cell\n",
       "var outputEl = gd.closest('.output');\n",
       "if (outputEl) {{\n",
       "    x.observe(outputEl, {childList: true});\n",
       "}}\n",
       "\n",
       "                        })                };                            </script>        </div>\n",
       "</body>\n",
       "</html>"
      ]
     },
     "metadata": {},
     "output_type": "display_data"
    }
   ],
   "source": [
    "fig=px.scatter(df,x='Years Taken to become Unicorn',y='Country',hover_data=['City'],color='City',title=\"Years taken to become Unicorn wrt Country and City\")\n",
    "fig.show()"
   ]
  },
  {
   "cell_type": "markdown",
   "metadata": {
    "id": "JGGkTttTQtWo"
   },
   "source": [
    "Average Years taken to become Unicorn wrt City"
   ]
  },
  {
   "cell_type": "code",
   "execution_count": null,
   "metadata": {
    "colab": {
     "base_uri": "https://localhost:8080/",
     "height": 731
    },
    "executionInfo": {
     "elapsed": 432,
     "status": "ok",
     "timestamp": 1677266854217,
     "user": {
      "displayName": "Shloke Maheshwari",
      "userId": "14292175972920513536"
     },
     "user_tz": -330
    },
    "id": "3NPvBw6G5NfA",
    "outputId": "41c87c9b-154f-4195-b990-c108eaf676de"
   },
   "outputs": [
    {
     "data": {
      "text/html": [
       "\n",
       "  <div id=\"df-e0ef166a-1495-45bd-8c7f-daa9579614d5\">\n",
       "    <div class=\"colab-df-container\">\n",
       "      <div>\n",
       "<style scoped>\n",
       "    .dataframe tbody tr th:only-of-type {\n",
       "        vertical-align: middle;\n",
       "    }\n",
       "\n",
       "    .dataframe tbody tr th {\n",
       "        vertical-align: top;\n",
       "    }\n",
       "\n",
       "    .dataframe thead tr th {\n",
       "        text-align: left;\n",
       "    }\n",
       "\n",
       "    .dataframe thead tr:last-of-type th {\n",
       "        text-align: right;\n",
       "    }\n",
       "</style>\n",
       "<table border=\"1\" class=\"dataframe\">\n",
       "  <thead>\n",
       "    <tr>\n",
       "      <th></th>\n",
       "      <th>Years Taken to become Unicorn</th>\n",
       "    </tr>\n",
       "    <tr>\n",
       "      <th></th>\n",
       "      <th>mean</th>\n",
       "    </tr>\n",
       "    <tr>\n",
       "      <th>City</th>\n",
       "      <th></th>\n",
       "    </tr>\n",
       "  </thead>\n",
       "  <tbody>\n",
       "    <tr>\n",
       "      <th>Hyderabad</th>\n",
       "      <td>7.000000</td>\n",
       "    </tr>\n",
       "    <tr>\n",
       "      <th>Gurgaon</th>\n",
       "      <td>6.875000</td>\n",
       "    </tr>\n",
       "    <tr>\n",
       "      <th>San Diego</th>\n",
       "      <td>6.833333</td>\n",
       "    </tr>\n",
       "    <tr>\n",
       "      <th>Austin</th>\n",
       "      <td>6.800000</td>\n",
       "    </tr>\n",
       "    <tr>\n",
       "      <th>Gurugram</th>\n",
       "      <td>6.750000</td>\n",
       "    </tr>\n",
       "    <tr>\n",
       "      <th>Scottsdale</th>\n",
       "      <td>6.666667</td>\n",
       "    </tr>\n",
       "    <tr>\n",
       "      <th>Bellevue</th>\n",
       "      <td>6.600000</td>\n",
       "    </tr>\n",
       "    <tr>\n",
       "      <th>Shenzhen</th>\n",
       "      <td>6.529412</td>\n",
       "    </tr>\n",
       "    <tr>\n",
       "      <th>New York</th>\n",
       "      <td>6.527473</td>\n",
       "    </tr>\n",
       "    <tr>\n",
       "      <th>Irvine</th>\n",
       "      <td>6.500000</td>\n",
       "    </tr>\n",
       "    <tr>\n",
       "      <th>Burlingame</th>\n",
       "      <td>6.500000</td>\n",
       "    </tr>\n",
       "    <tr>\n",
       "      <th>Curitiba</th>\n",
       "      <td>6.500000</td>\n",
       "    </tr>\n",
       "    <tr>\n",
       "      <th>Culver City</th>\n",
       "      <td>6.500000</td>\n",
       "    </tr>\n",
       "    <tr>\n",
       "      <th>Vancouver</th>\n",
       "      <td>6.400000</td>\n",
       "    </tr>\n",
       "    <tr>\n",
       "      <th>Hangzhou</th>\n",
       "      <td>6.384615</td>\n",
       "    </tr>\n",
       "    <tr>\n",
       "      <th>San Francisco</th>\n",
       "      <td>6.377778</td>\n",
       "    </tr>\n",
       "    <tr>\n",
       "      <th>Seattle</th>\n",
       "      <td>6.285714</td>\n",
       "    </tr>\n",
       "    <tr>\n",
       "      <th>Miami</th>\n",
       "      <td>6.200000</td>\n",
       "    </tr>\n",
       "    <tr>\n",
       "      <th>Sunnyvale</th>\n",
       "      <td>6.166667</td>\n",
       "    </tr>\n",
       "    <tr>\n",
       "      <th>Atlanta</th>\n",
       "      <td>6.142857</td>\n",
       "    </tr>\n",
       "  </tbody>\n",
       "</table>\n",
       "</div>\n",
       "      <button class=\"colab-df-convert\" onclick=\"convertToInteractive('df-e0ef166a-1495-45bd-8c7f-daa9579614d5')\"\n",
       "              title=\"Convert this dataframe to an interactive table.\"\n",
       "              style=\"display:none;\">\n",
       "        \n",
       "  <svg xmlns=\"http://www.w3.org/2000/svg\" height=\"24px\"viewBox=\"0 0 24 24\"\n",
       "       width=\"24px\">\n",
       "    <path d=\"M0 0h24v24H0V0z\" fill=\"none\"/>\n",
       "    <path d=\"M18.56 5.44l.94 2.06.94-2.06 2.06-.94-2.06-.94-.94-2.06-.94 2.06-2.06.94zm-11 1L8.5 8.5l.94-2.06 2.06-.94-2.06-.94L8.5 2.5l-.94 2.06-2.06.94zm10 10l.94 2.06.94-2.06 2.06-.94-2.06-.94-.94-2.06-.94 2.06-2.06.94z\"/><path d=\"M17.41 7.96l-1.37-1.37c-.4-.4-.92-.59-1.43-.59-.52 0-1.04.2-1.43.59L10.3 9.45l-7.72 7.72c-.78.78-.78 2.05 0 2.83L4 21.41c.39.39.9.59 1.41.59.51 0 1.02-.2 1.41-.59l7.78-7.78 2.81-2.81c.8-.78.8-2.07 0-2.86zM5.41 20L4 18.59l7.72-7.72 1.47 1.35L5.41 20z\"/>\n",
       "  </svg>\n",
       "      </button>\n",
       "      \n",
       "  <style>\n",
       "    .colab-df-container {\n",
       "      display:flex;\n",
       "      flex-wrap:wrap;\n",
       "      gap: 12px;\n",
       "    }\n",
       "\n",
       "    .colab-df-convert {\n",
       "      background-color: #E8F0FE;\n",
       "      border: none;\n",
       "      border-radius: 50%;\n",
       "      cursor: pointer;\n",
       "      display: none;\n",
       "      fill: #1967D2;\n",
       "      height: 32px;\n",
       "      padding: 0 0 0 0;\n",
       "      width: 32px;\n",
       "    }\n",
       "\n",
       "    .colab-df-convert:hover {\n",
       "      background-color: #E2EBFA;\n",
       "      box-shadow: 0px 1px 2px rgba(60, 64, 67, 0.3), 0px 1px 3px 1px rgba(60, 64, 67, 0.15);\n",
       "      fill: #174EA6;\n",
       "    }\n",
       "\n",
       "    [theme=dark] .colab-df-convert {\n",
       "      background-color: #3B4455;\n",
       "      fill: #D2E3FC;\n",
       "    }\n",
       "\n",
       "    [theme=dark] .colab-df-convert:hover {\n",
       "      background-color: #434B5C;\n",
       "      box-shadow: 0px 1px 3px 1px rgba(0, 0, 0, 0.15);\n",
       "      filter: drop-shadow(0px 1px 2px rgba(0, 0, 0, 0.3));\n",
       "      fill: #FFFFFF;\n",
       "    }\n",
       "  </style>\n",
       "\n",
       "      <script>\n",
       "        const buttonEl =\n",
       "          document.querySelector('#df-e0ef166a-1495-45bd-8c7f-daa9579614d5 button.colab-df-convert');\n",
       "        buttonEl.style.display =\n",
       "          google.colab.kernel.accessAllowed ? 'block' : 'none';\n",
       "\n",
       "        async function convertToInteractive(key) {\n",
       "          const element = document.querySelector('#df-e0ef166a-1495-45bd-8c7f-daa9579614d5');\n",
       "          const dataTable =\n",
       "            await google.colab.kernel.invokeFunction('convertToInteractive',\n",
       "                                                     [key], {});\n",
       "          if (!dataTable) return;\n",
       "\n",
       "          const docLinkHtml = 'Like what you see? Visit the ' +\n",
       "            '<a target=\"_blank\" href=https://colab.research.google.com/notebooks/data_table.ipynb>data table notebook</a>'\n",
       "            + ' to learn more about interactive tables.';\n",
       "          element.innerHTML = '';\n",
       "          dataTable['output_type'] = 'display_data';\n",
       "          await google.colab.output.renderOutput(dataTable, element);\n",
       "          const docLink = document.createElement('div');\n",
       "          docLink.innerHTML = docLinkHtml;\n",
       "          element.appendChild(docLink);\n",
       "        }\n",
       "      </script>\n",
       "    </div>\n",
       "  </div>\n",
       "  "
      ],
      "text/plain": [
       "              Years Taken to become Unicorn\n",
       "                                       mean\n",
       "City                                       \n",
       "Hyderabad                          7.000000\n",
       "Gurgaon                            6.875000\n",
       "San Diego                          6.833333\n",
       "Austin                             6.800000\n",
       "Gurugram                           6.750000\n",
       "Scottsdale                         6.666667\n",
       "Bellevue                           6.600000\n",
       "Shenzhen                           6.529412\n",
       "New York                           6.527473\n",
       "Irvine                             6.500000\n",
       "Burlingame                         6.500000\n",
       "Curitiba                           6.500000\n",
       "Culver City                        6.500000\n",
       "Vancouver                          6.400000\n",
       "Hangzhou                           6.384615\n",
       "San Francisco                      6.377778\n",
       "Seattle                            6.285714\n",
       "Miami                              6.200000\n",
       "Sunnyvale                          6.166667\n",
       "Atlanta                            6.142857"
      ]
     },
     "execution_count": 170,
     "metadata": {},
     "output_type": "execute_result"
    }
   ],
   "source": [
    "temp=df.groupby(by=['City']).agg({'Years Taken to become Unicorn':['mean']})\n",
    "temp=temp.sort_values([('Years Taken to become Unicorn', 'mean')], ascending=False)[115:135]\n",
    "temp"
   ]
  },
  {
   "cell_type": "code",
   "execution_count": null,
   "metadata": {
    "colab": {
     "base_uri": "https://localhost:8080/",
     "height": 542
    },
    "executionInfo": {
     "elapsed": 381,
     "status": "ok",
     "timestamp": 1677266909620,
     "user": {
      "displayName": "Shloke Maheshwari",
      "userId": "14292175972920513536"
     },
     "user_tz": -330
    },
    "id": "kpsjs2rW5ey0",
    "outputId": "3a2f7708-6eb9-4e81-86cd-b81f51ca0633"
   },
   "outputs": [
    {
     "data": {
      "text/html": [
       "<html>\n",
       "<head><meta charset=\"utf-8\" /></head>\n",
       "<body>\n",
       "    <div>            <script src=\"https://cdnjs.cloudflare.com/ajax/libs/mathjax/2.7.5/MathJax.js?config=TeX-AMS-MML_SVG\"></script><script type=\"text/javascript\">if (window.MathJax) {MathJax.Hub.Config({SVG: {font: \"STIX-Web\"}});}</script>                <script type=\"text/javascript\">window.PlotlyConfig = {MathJaxConfig: 'local'};</script>\n",
       "        <script src=\"https://cdn.plot.ly/plotly-2.8.3.min.js\"></script>                <div id=\"48fd1bba-55eb-4b12-aa63-b80155db639b\" class=\"plotly-graph-div\" style=\"height:525px; width:100%;\"></div>            <script type=\"text/javascript\">                                    window.PLOTLYENV=window.PLOTLYENV || {};                                    if (document.getElementById(\"48fd1bba-55eb-4b12-aa63-b80155db639b\")) {                    Plotly.newPlot(                        \"48fd1bba-55eb-4b12-aa63-b80155db639b\",                        [{\"hovertemplate\":\"City=%{x}<br>Years Taken=%{marker.color}<br>size=%{marker.size}<extra></extra>\",\"legendgroup\":\"\",\"marker\":{\"color\":[7.0,6.875,6.833333333333333,6.8,6.75,6.666666666666667,6.6,6.529411764705882,6.527472527472527,6.5,6.5,6.5,6.5,6.4,6.384615384615385,6.377777777777778,6.285714285714286,6.2,6.166666666666667,6.142857142857143],\"coloraxis\":\"coloraxis\",\"size\":[7.0,6.875,6.833333333333333,6.8,6.75,6.666666666666667,6.6,6.529411764705882,6.527472527472527,6.5,6.5,6.5,6.5,6.4,6.384615384615385,6.377777777777778,6.285714285714286,6.2,6.166666666666667,6.142857142857143],\"sizemode\":\"area\",\"sizeref\":0.0175,\"symbol\":\"circle\"},\"mode\":\"markers\",\"name\":\"\",\"orientation\":\"v\",\"showlegend\":false,\"x\":[\"Hyderabad\",\"Gurgaon\",\"San Diego\",\"Austin\",\"Gurugram\",\"Scottsdale\",\"Bellevue\",\"Shenzhen\",\"New York\",\"Irvine\",\"Burlingame\",\"Curitiba\",\"Culver City\",\"Vancouver\",\"Hangzhou\",\"San Francisco\",\"Seattle\",\"Miami\",\"Sunnyvale\",\"Atlanta\"],\"xaxis\":\"x\",\"y\":[7.0,6.875,6.833333333333333,6.8,6.75,6.666666666666667,6.6,6.529411764705882,6.527472527472527,6.5,6.5,6.5,6.5,6.4,6.384615384615385,6.377777777777778,6.285714285714286,6.2,6.166666666666667,6.142857142857143],\"yaxis\":\"y\",\"type\":\"scatter\"}],                        {\"template\":{\"data\":{\"bar\":[{\"error_x\":{\"color\":\"#2a3f5f\"},\"error_y\":{\"color\":\"#2a3f5f\"},\"marker\":{\"line\":{\"color\":\"#E5ECF6\",\"width\":0.5},\"pattern\":{\"fillmode\":\"overlay\",\"size\":10,\"solidity\":0.2}},\"type\":\"bar\"}],\"barpolar\":[{\"marker\":{\"line\":{\"color\":\"#E5ECF6\",\"width\":0.5},\"pattern\":{\"fillmode\":\"overlay\",\"size\":10,\"solidity\":0.2}},\"type\":\"barpolar\"}],\"carpet\":[{\"aaxis\":{\"endlinecolor\":\"#2a3f5f\",\"gridcolor\":\"white\",\"linecolor\":\"white\",\"minorgridcolor\":\"white\",\"startlinecolor\":\"#2a3f5f\"},\"baxis\":{\"endlinecolor\":\"#2a3f5f\",\"gridcolor\":\"white\",\"linecolor\":\"white\",\"minorgridcolor\":\"white\",\"startlinecolor\":\"#2a3f5f\"},\"type\":\"carpet\"}],\"choropleth\":[{\"colorbar\":{\"outlinewidth\":0,\"ticks\":\"\"},\"type\":\"choropleth\"}],\"contour\":[{\"colorbar\":{\"outlinewidth\":0,\"ticks\":\"\"},\"colorscale\":[[0.0,\"#0d0887\"],[0.1111111111111111,\"#46039f\"],[0.2222222222222222,\"#7201a8\"],[0.3333333333333333,\"#9c179e\"],[0.4444444444444444,\"#bd3786\"],[0.5555555555555556,\"#d8576b\"],[0.6666666666666666,\"#ed7953\"],[0.7777777777777778,\"#fb9f3a\"],[0.8888888888888888,\"#fdca26\"],[1.0,\"#f0f921\"]],\"type\":\"contour\"}],\"contourcarpet\":[{\"colorbar\":{\"outlinewidth\":0,\"ticks\":\"\"},\"type\":\"contourcarpet\"}],\"heatmap\":[{\"colorbar\":{\"outlinewidth\":0,\"ticks\":\"\"},\"colorscale\":[[0.0,\"#0d0887\"],[0.1111111111111111,\"#46039f\"],[0.2222222222222222,\"#7201a8\"],[0.3333333333333333,\"#9c179e\"],[0.4444444444444444,\"#bd3786\"],[0.5555555555555556,\"#d8576b\"],[0.6666666666666666,\"#ed7953\"],[0.7777777777777778,\"#fb9f3a\"],[0.8888888888888888,\"#fdca26\"],[1.0,\"#f0f921\"]],\"type\":\"heatmap\"}],\"heatmapgl\":[{\"colorbar\":{\"outlinewidth\":0,\"ticks\":\"\"},\"colorscale\":[[0.0,\"#0d0887\"],[0.1111111111111111,\"#46039f\"],[0.2222222222222222,\"#7201a8\"],[0.3333333333333333,\"#9c179e\"],[0.4444444444444444,\"#bd3786\"],[0.5555555555555556,\"#d8576b\"],[0.6666666666666666,\"#ed7953\"],[0.7777777777777778,\"#fb9f3a\"],[0.8888888888888888,\"#fdca26\"],[1.0,\"#f0f921\"]],\"type\":\"heatmapgl\"}],\"histogram\":[{\"marker\":{\"pattern\":{\"fillmode\":\"overlay\",\"size\":10,\"solidity\":0.2}},\"type\":\"histogram\"}],\"histogram2d\":[{\"colorbar\":{\"outlinewidth\":0,\"ticks\":\"\"},\"colorscale\":[[0.0,\"#0d0887\"],[0.1111111111111111,\"#46039f\"],[0.2222222222222222,\"#7201a8\"],[0.3333333333333333,\"#9c179e\"],[0.4444444444444444,\"#bd3786\"],[0.5555555555555556,\"#d8576b\"],[0.6666666666666666,\"#ed7953\"],[0.7777777777777778,\"#fb9f3a\"],[0.8888888888888888,\"#fdca26\"],[1.0,\"#f0f921\"]],\"type\":\"histogram2d\"}],\"histogram2dcontour\":[{\"colorbar\":{\"outlinewidth\":0,\"ticks\":\"\"},\"colorscale\":[[0.0,\"#0d0887\"],[0.1111111111111111,\"#46039f\"],[0.2222222222222222,\"#7201a8\"],[0.3333333333333333,\"#9c179e\"],[0.4444444444444444,\"#bd3786\"],[0.5555555555555556,\"#d8576b\"],[0.6666666666666666,\"#ed7953\"],[0.7777777777777778,\"#fb9f3a\"],[0.8888888888888888,\"#fdca26\"],[1.0,\"#f0f921\"]],\"type\":\"histogram2dcontour\"}],\"mesh3d\":[{\"colorbar\":{\"outlinewidth\":0,\"ticks\":\"\"},\"type\":\"mesh3d\"}],\"parcoords\":[{\"line\":{\"colorbar\":{\"outlinewidth\":0,\"ticks\":\"\"}},\"type\":\"parcoords\"}],\"pie\":[{\"automargin\":true,\"type\":\"pie\"}],\"scatter\":[{\"marker\":{\"colorbar\":{\"outlinewidth\":0,\"ticks\":\"\"}},\"type\":\"scatter\"}],\"scatter3d\":[{\"line\":{\"colorbar\":{\"outlinewidth\":0,\"ticks\":\"\"}},\"marker\":{\"colorbar\":{\"outlinewidth\":0,\"ticks\":\"\"}},\"type\":\"scatter3d\"}],\"scattercarpet\":[{\"marker\":{\"colorbar\":{\"outlinewidth\":0,\"ticks\":\"\"}},\"type\":\"scattercarpet\"}],\"scattergeo\":[{\"marker\":{\"colorbar\":{\"outlinewidth\":0,\"ticks\":\"\"}},\"type\":\"scattergeo\"}],\"scattergl\":[{\"marker\":{\"colorbar\":{\"outlinewidth\":0,\"ticks\":\"\"}},\"type\":\"scattergl\"}],\"scattermapbox\":[{\"marker\":{\"colorbar\":{\"outlinewidth\":0,\"ticks\":\"\"}},\"type\":\"scattermapbox\"}],\"scatterpolar\":[{\"marker\":{\"colorbar\":{\"outlinewidth\":0,\"ticks\":\"\"}},\"type\":\"scatterpolar\"}],\"scatterpolargl\":[{\"marker\":{\"colorbar\":{\"outlinewidth\":0,\"ticks\":\"\"}},\"type\":\"scatterpolargl\"}],\"scatterternary\":[{\"marker\":{\"colorbar\":{\"outlinewidth\":0,\"ticks\":\"\"}},\"type\":\"scatterternary\"}],\"surface\":[{\"colorbar\":{\"outlinewidth\":0,\"ticks\":\"\"},\"colorscale\":[[0.0,\"#0d0887\"],[0.1111111111111111,\"#46039f\"],[0.2222222222222222,\"#7201a8\"],[0.3333333333333333,\"#9c179e\"],[0.4444444444444444,\"#bd3786\"],[0.5555555555555556,\"#d8576b\"],[0.6666666666666666,\"#ed7953\"],[0.7777777777777778,\"#fb9f3a\"],[0.8888888888888888,\"#fdca26\"],[1.0,\"#f0f921\"]],\"type\":\"surface\"}],\"table\":[{\"cells\":{\"fill\":{\"color\":\"#EBF0F8\"},\"line\":{\"color\":\"white\"}},\"header\":{\"fill\":{\"color\":\"#C8D4E3\"},\"line\":{\"color\":\"white\"}},\"type\":\"table\"}]},\"layout\":{\"annotationdefaults\":{\"arrowcolor\":\"#2a3f5f\",\"arrowhead\":0,\"arrowwidth\":1},\"autotypenumbers\":\"strict\",\"coloraxis\":{\"colorbar\":{\"outlinewidth\":0,\"ticks\":\"\"}},\"colorscale\":{\"diverging\":[[0,\"#8e0152\"],[0.1,\"#c51b7d\"],[0.2,\"#de77ae\"],[0.3,\"#f1b6da\"],[0.4,\"#fde0ef\"],[0.5,\"#f7f7f7\"],[0.6,\"#e6f5d0\"],[0.7,\"#b8e186\"],[0.8,\"#7fbc41\"],[0.9,\"#4d9221\"],[1,\"#276419\"]],\"sequential\":[[0.0,\"#0d0887\"],[0.1111111111111111,\"#46039f\"],[0.2222222222222222,\"#7201a8\"],[0.3333333333333333,\"#9c179e\"],[0.4444444444444444,\"#bd3786\"],[0.5555555555555556,\"#d8576b\"],[0.6666666666666666,\"#ed7953\"],[0.7777777777777778,\"#fb9f3a\"],[0.8888888888888888,\"#fdca26\"],[1.0,\"#f0f921\"]],\"sequentialminus\":[[0.0,\"#0d0887\"],[0.1111111111111111,\"#46039f\"],[0.2222222222222222,\"#7201a8\"],[0.3333333333333333,\"#9c179e\"],[0.4444444444444444,\"#bd3786\"],[0.5555555555555556,\"#d8576b\"],[0.6666666666666666,\"#ed7953\"],[0.7777777777777778,\"#fb9f3a\"],[0.8888888888888888,\"#fdca26\"],[1.0,\"#f0f921\"]]},\"colorway\":[\"#636efa\",\"#EF553B\",\"#00cc96\",\"#ab63fa\",\"#FFA15A\",\"#19d3f3\",\"#FF6692\",\"#B6E880\",\"#FF97FF\",\"#FECB52\"],\"font\":{\"color\":\"#2a3f5f\"},\"geo\":{\"bgcolor\":\"white\",\"lakecolor\":\"white\",\"landcolor\":\"#E5ECF6\",\"showlakes\":true,\"showland\":true,\"subunitcolor\":\"white\"},\"hoverlabel\":{\"align\":\"left\"},\"hovermode\":\"closest\",\"mapbox\":{\"style\":\"light\"},\"paper_bgcolor\":\"white\",\"plot_bgcolor\":\"#E5ECF6\",\"polar\":{\"angularaxis\":{\"gridcolor\":\"white\",\"linecolor\":\"white\",\"ticks\":\"\"},\"bgcolor\":\"#E5ECF6\",\"radialaxis\":{\"gridcolor\":\"white\",\"linecolor\":\"white\",\"ticks\":\"\"}},\"scene\":{\"xaxis\":{\"backgroundcolor\":\"#E5ECF6\",\"gridcolor\":\"white\",\"gridwidth\":2,\"linecolor\":\"white\",\"showbackground\":true,\"ticks\":\"\",\"zerolinecolor\":\"white\"},\"yaxis\":{\"backgroundcolor\":\"#E5ECF6\",\"gridcolor\":\"white\",\"gridwidth\":2,\"linecolor\":\"white\",\"showbackground\":true,\"ticks\":\"\",\"zerolinecolor\":\"white\"},\"zaxis\":{\"backgroundcolor\":\"#E5ECF6\",\"gridcolor\":\"white\",\"gridwidth\":2,\"linecolor\":\"white\",\"showbackground\":true,\"ticks\":\"\",\"zerolinecolor\":\"white\"}},\"shapedefaults\":{\"line\":{\"color\":\"#2a3f5f\"}},\"ternary\":{\"aaxis\":{\"gridcolor\":\"white\",\"linecolor\":\"white\",\"ticks\":\"\"},\"baxis\":{\"gridcolor\":\"white\",\"linecolor\":\"white\",\"ticks\":\"\"},\"bgcolor\":\"#E5ECF6\",\"caxis\":{\"gridcolor\":\"white\",\"linecolor\":\"white\",\"ticks\":\"\"}},\"title\":{\"x\":0.05},\"xaxis\":{\"automargin\":true,\"gridcolor\":\"white\",\"linecolor\":\"white\",\"ticks\":\"\",\"title\":{\"standoff\":15},\"zerolinecolor\":\"white\",\"zerolinewidth\":2},\"yaxis\":{\"automargin\":true,\"gridcolor\":\"white\",\"linecolor\":\"white\",\"ticks\":\"\",\"title\":{\"standoff\":15},\"zerolinecolor\":\"white\",\"zerolinewidth\":2}}},\"xaxis\":{\"anchor\":\"y\",\"domain\":[0.0,1.0],\"title\":{\"text\":\"City\"}},\"yaxis\":{\"anchor\":\"x\",\"domain\":[0.0,1.0],\"title\":{\"text\":\"Years Taken\"}},\"coloraxis\":{\"colorbar\":{\"title\":{\"text\":\"Years Taken\"}},\"colorscale\":[[0.0,\"#0d0887\"],[0.1111111111111111,\"#46039f\"],[0.2222222222222222,\"#7201a8\"],[0.3333333333333333,\"#9c179e\"],[0.4444444444444444,\"#bd3786\"],[0.5555555555555556,\"#d8576b\"],[0.6666666666666666,\"#ed7953\"],[0.7777777777777778,\"#fb9f3a\"],[0.8888888888888888,\"#fdca26\"],[1.0,\"#f0f921\"]]},\"legend\":{\"tracegroupgap\":0,\"itemsizing\":\"constant\"},\"title\":{\"text\":\"Average years taken to become Unicorn wrt City\"}},                        {\"responsive\": true}                    ).then(function(){\n",
       "                            \n",
       "var gd = document.getElementById('48fd1bba-55eb-4b12-aa63-b80155db639b');\n",
       "var x = new MutationObserver(function (mutations, observer) {{\n",
       "        var display = window.getComputedStyle(gd).display;\n",
       "        if (!display || display === 'none') {{\n",
       "            console.log([gd, 'removed!']);\n",
       "            Plotly.purge(gd);\n",
       "            observer.disconnect();\n",
       "        }}\n",
       "}});\n",
       "\n",
       "// Listen for the removal of the full notebook cells\n",
       "var notebookContainer = gd.closest('#notebook-container');\n",
       "if (notebookContainer) {{\n",
       "    x.observe(notebookContainer, {childList: true});\n",
       "}}\n",
       "\n",
       "// Listen for the clearing of the current output cell\n",
       "var outputEl = gd.closest('.output');\n",
       "if (outputEl) {{\n",
       "    x.observe(outputEl, {childList: true});\n",
       "}}\n",
       "\n",
       "                        })                };                            </script>        </div>\n",
       "</body>\n",
       "</html>"
      ]
     },
     "metadata": {},
     "output_type": "display_data"
    }
   ],
   "source": [
    "fig=px.scatter(y=temp[('Years Taken to become Unicorn','mean')],x=temp.index,size=temp[('Years Taken to become Unicorn', 'mean')],color=temp[('Years Taken to become Unicorn', 'mean')],title=\"Average years taken to become Unicorn wrt City\",labels={\"y\":\"Years Taken\",\"x\":\"City\", \"color\": \"Years Taken\"})\n",
    "fig.show()"
   ]
  },
  {
   "cell_type": "markdown",
   "metadata": {
    "id": "sBI_68at52b4"
   },
   "source": [
    "Top Cities wrt Total Money raised"
   ]
  },
  {
   "cell_type": "code",
   "execution_count": null,
   "metadata": {
    "colab": {
     "base_uri": "https://localhost:8080/",
     "height": 390
    },
    "executionInfo": {
     "elapsed": 429,
     "status": "ok",
     "timestamp": 1677271608540,
     "user": {
      "displayName": "Shloke Maheshwari",
      "userId": "14292175972920513536"
     },
     "user_tz": -330
    },
    "id": "CrMBx5Vn5992",
    "outputId": "40ae959b-8b10-48fa-bd6c-e367e98fecf0"
   },
   "outputs": [
    {
     "data": {
      "text/html": [
       "\n",
       "  <div id=\"df-48365e16-39d8-4c4e-a488-3749ae8152f1\">\n",
       "    <div class=\"colab-df-container\">\n",
       "      <div>\n",
       "<style scoped>\n",
       "    .dataframe tbody tr th:only-of-type {\n",
       "        vertical-align: middle;\n",
       "    }\n",
       "\n",
       "    .dataframe tbody tr th {\n",
       "        vertical-align: top;\n",
       "    }\n",
       "\n",
       "    .dataframe thead tr th {\n",
       "        text-align: left;\n",
       "    }\n",
       "\n",
       "    .dataframe thead tr:last-of-type th {\n",
       "        text-align: right;\n",
       "    }\n",
       "</style>\n",
       "<table border=\"1\" class=\"dataframe\">\n",
       "  <thead>\n",
       "    <tr>\n",
       "      <th></th>\n",
       "      <th>Total Raised</th>\n",
       "    </tr>\n",
       "    <tr>\n",
       "      <th></th>\n",
       "      <th>sum</th>\n",
       "    </tr>\n",
       "    <tr>\n",
       "      <th>City</th>\n",
       "      <th></th>\n",
       "    </tr>\n",
       "  </thead>\n",
       "  <tbody>\n",
       "    <tr>\n",
       "      <th>San Francisco</th>\n",
       "      <td>6.886007e+10</td>\n",
       "    </tr>\n",
       "    <tr>\n",
       "      <th>Beijing</th>\n",
       "      <td>5.234898e+10</td>\n",
       "    </tr>\n",
       "    <tr>\n",
       "      <th>New York</th>\n",
       "      <td>3.570246e+10</td>\n",
       "    </tr>\n",
       "    <tr>\n",
       "      <th>Shanghai</th>\n",
       "      <td>2.642820e+10</td>\n",
       "    </tr>\n",
       "    <tr>\n",
       "      <th>London</th>\n",
       "      <td>2.413281e+10</td>\n",
       "    </tr>\n",
       "    <tr>\n",
       "      <th>Bengaluru</th>\n",
       "      <td>2.229692e+10</td>\n",
       "    </tr>\n",
       "    <tr>\n",
       "      <th>Berlin</th>\n",
       "      <td>1.323375e+10</td>\n",
       "    </tr>\n",
       "    <tr>\n",
       "      <th>Stockholm</th>\n",
       "      <td>1.134985e+10</td>\n",
       "    </tr>\n",
       "    <tr>\n",
       "      <th>Paris</th>\n",
       "      <td>1.011609e+10</td>\n",
       "    </tr>\n",
       "  </tbody>\n",
       "</table>\n",
       "</div>\n",
       "      <button class=\"colab-df-convert\" onclick=\"convertToInteractive('df-48365e16-39d8-4c4e-a488-3749ae8152f1')\"\n",
       "              title=\"Convert this dataframe to an interactive table.\"\n",
       "              style=\"display:none;\">\n",
       "        \n",
       "  <svg xmlns=\"http://www.w3.org/2000/svg\" height=\"24px\"viewBox=\"0 0 24 24\"\n",
       "       width=\"24px\">\n",
       "    <path d=\"M0 0h24v24H0V0z\" fill=\"none\"/>\n",
       "    <path d=\"M18.56 5.44l.94 2.06.94-2.06 2.06-.94-2.06-.94-.94-2.06-.94 2.06-2.06.94zm-11 1L8.5 8.5l.94-2.06 2.06-.94-2.06-.94L8.5 2.5l-.94 2.06-2.06.94zm10 10l.94 2.06.94-2.06 2.06-.94-2.06-.94-.94-2.06-.94 2.06-2.06.94z\"/><path d=\"M17.41 7.96l-1.37-1.37c-.4-.4-.92-.59-1.43-.59-.52 0-1.04.2-1.43.59L10.3 9.45l-7.72 7.72c-.78.78-.78 2.05 0 2.83L4 21.41c.39.39.9.59 1.41.59.51 0 1.02-.2 1.41-.59l7.78-7.78 2.81-2.81c.8-.78.8-2.07 0-2.86zM5.41 20L4 18.59l7.72-7.72 1.47 1.35L5.41 20z\"/>\n",
       "  </svg>\n",
       "      </button>\n",
       "      \n",
       "  <style>\n",
       "    .colab-df-container {\n",
       "      display:flex;\n",
       "      flex-wrap:wrap;\n",
       "      gap: 12px;\n",
       "    }\n",
       "\n",
       "    .colab-df-convert {\n",
       "      background-color: #E8F0FE;\n",
       "      border: none;\n",
       "      border-radius: 50%;\n",
       "      cursor: pointer;\n",
       "      display: none;\n",
       "      fill: #1967D2;\n",
       "      height: 32px;\n",
       "      padding: 0 0 0 0;\n",
       "      width: 32px;\n",
       "    }\n",
       "\n",
       "    .colab-df-convert:hover {\n",
       "      background-color: #E2EBFA;\n",
       "      box-shadow: 0px 1px 2px rgba(60, 64, 67, 0.3), 0px 1px 3px 1px rgba(60, 64, 67, 0.15);\n",
       "      fill: #174EA6;\n",
       "    }\n",
       "\n",
       "    [theme=dark] .colab-df-convert {\n",
       "      background-color: #3B4455;\n",
       "      fill: #D2E3FC;\n",
       "    }\n",
       "\n",
       "    [theme=dark] .colab-df-convert:hover {\n",
       "      background-color: #434B5C;\n",
       "      box-shadow: 0px 1px 3px 1px rgba(0, 0, 0, 0.15);\n",
       "      filter: drop-shadow(0px 1px 2px rgba(0, 0, 0, 0.3));\n",
       "      fill: #FFFFFF;\n",
       "    }\n",
       "  </style>\n",
       "\n",
       "      <script>\n",
       "        const buttonEl =\n",
       "          document.querySelector('#df-48365e16-39d8-4c4e-a488-3749ae8152f1 button.colab-df-convert');\n",
       "        buttonEl.style.display =\n",
       "          google.colab.kernel.accessAllowed ? 'block' : 'none';\n",
       "\n",
       "        async function convertToInteractive(key) {\n",
       "          const element = document.querySelector('#df-48365e16-39d8-4c4e-a488-3749ae8152f1');\n",
       "          const dataTable =\n",
       "            await google.colab.kernel.invokeFunction('convertToInteractive',\n",
       "                                                     [key], {});\n",
       "          if (!dataTable) return;\n",
       "\n",
       "          const docLinkHtml = 'Like what you see? Visit the ' +\n",
       "            '<a target=\"_blank\" href=https://colab.research.google.com/notebooks/data_table.ipynb>data table notebook</a>'\n",
       "            + ' to learn more about interactive tables.';\n",
       "          element.innerHTML = '';\n",
       "          dataTable['output_type'] = 'display_data';\n",
       "          await google.colab.output.renderOutput(dataTable, element);\n",
       "          const docLink = document.createElement('div');\n",
       "          docLink.innerHTML = docLinkHtml;\n",
       "          element.appendChild(docLink);\n",
       "        }\n",
       "      </script>\n",
       "    </div>\n",
       "  </div>\n",
       "  "
      ],
      "text/plain": [
       "               Total Raised\n",
       "                        sum\n",
       "City                       \n",
       "San Francisco  6.886007e+10\n",
       "Beijing        5.234898e+10\n",
       "New York       3.570246e+10\n",
       "Shanghai       2.642820e+10\n",
       "London         2.413281e+10\n",
       "Bengaluru      2.229692e+10\n",
       "Berlin         1.323375e+10\n",
       "Stockholm      1.134985e+10\n",
       "Paris          1.011609e+10"
      ]
     },
     "execution_count": 248,
     "metadata": {},
     "output_type": "execute_result"
    }
   ],
   "source": [
    "temp=df.groupby(by=['City']).agg({'Total Raised':['sum']})\n",
    "temp=temp.sort_values([('Total Raised', 'sum')], ascending=False)[:9]\n",
    "temp"
   ]
  },
  {
   "cell_type": "code",
   "execution_count": null,
   "metadata": {
    "colab": {
     "base_uri": "https://localhost:8080/",
     "height": 542
    },
    "executionInfo": {
     "elapsed": 465,
     "status": "ok",
     "timestamp": 1677271609774,
     "user": {
      "displayName": "Shloke Maheshwari",
      "userId": "14292175972920513536"
     },
     "user_tz": -330
    },
    "id": "SS7hWS5tLJna",
    "outputId": "ea94789d-446f-4cee-d842-ec06fe207d01"
   },
   "outputs": [
    {
     "data": {
      "text/html": [
       "<html>\n",
       "<head><meta charset=\"utf-8\" /></head>\n",
       "<body>\n",
       "    <div>            <script src=\"https://cdnjs.cloudflare.com/ajax/libs/mathjax/2.7.5/MathJax.js?config=TeX-AMS-MML_SVG\"></script><script type=\"text/javascript\">if (window.MathJax) {MathJax.Hub.Config({SVG: {font: \"STIX-Web\"}});}</script>                <script type=\"text/javascript\">window.PlotlyConfig = {MathJaxConfig: 'local'};</script>\n",
       "        <script src=\"https://cdn.plot.ly/plotly-2.8.3.min.js\"></script>                <div id=\"84bc5caf-4922-43e1-bdd0-9de643476313\" class=\"plotly-graph-div\" style=\"height:525px; width:100%;\"></div>            <script type=\"text/javascript\">                                    window.PLOTLYENV=window.PLOTLYENV || {};                                    if (document.getElementById(\"84bc5caf-4922-43e1-bdd0-9de643476313\")) {                    Plotly.newPlot(                        \"84bc5caf-4922-43e1-bdd0-9de643476313\",                        [{\"hovertemplate\":\"City=%{x}<br>Total Raised($B)=%{y}<extra></extra>\",\"legendgroup\":\"\",\"line\":{\"color\":\"blue\",\"dash\":\"solid\"},\"marker\":{\"symbol\":\"circle\"},\"mode\":\"lines\",\"name\":\"\",\"orientation\":\"v\",\"showlegend\":false,\"x\":[\"San Francisco\",\"Beijing\",\"New York\",\"Shanghai\",\"London\",\"Bengaluru\",\"Berlin\",\"Stockholm\",\"Paris\"],\"xaxis\":\"x\",\"y\":[68860070000.0,52348980000.0,35702460000.0,26428200000.0,24132810000.0,22296920000.0,13233750000.0,11349850000.0,10116090000.0],\"yaxis\":\"y\",\"type\":\"scatter\"}],                        {\"template\":{\"data\":{\"bar\":[{\"error_x\":{\"color\":\"#2a3f5f\"},\"error_y\":{\"color\":\"#2a3f5f\"},\"marker\":{\"line\":{\"color\":\"#E5ECF6\",\"width\":0.5},\"pattern\":{\"fillmode\":\"overlay\",\"size\":10,\"solidity\":0.2}},\"type\":\"bar\"}],\"barpolar\":[{\"marker\":{\"line\":{\"color\":\"#E5ECF6\",\"width\":0.5},\"pattern\":{\"fillmode\":\"overlay\",\"size\":10,\"solidity\":0.2}},\"type\":\"barpolar\"}],\"carpet\":[{\"aaxis\":{\"endlinecolor\":\"#2a3f5f\",\"gridcolor\":\"white\",\"linecolor\":\"white\",\"minorgridcolor\":\"white\",\"startlinecolor\":\"#2a3f5f\"},\"baxis\":{\"endlinecolor\":\"#2a3f5f\",\"gridcolor\":\"white\",\"linecolor\":\"white\",\"minorgridcolor\":\"white\",\"startlinecolor\":\"#2a3f5f\"},\"type\":\"carpet\"}],\"choropleth\":[{\"colorbar\":{\"outlinewidth\":0,\"ticks\":\"\"},\"type\":\"choropleth\"}],\"contour\":[{\"colorbar\":{\"outlinewidth\":0,\"ticks\":\"\"},\"colorscale\":[[0.0,\"#0d0887\"],[0.1111111111111111,\"#46039f\"],[0.2222222222222222,\"#7201a8\"],[0.3333333333333333,\"#9c179e\"],[0.4444444444444444,\"#bd3786\"],[0.5555555555555556,\"#d8576b\"],[0.6666666666666666,\"#ed7953\"],[0.7777777777777778,\"#fb9f3a\"],[0.8888888888888888,\"#fdca26\"],[1.0,\"#f0f921\"]],\"type\":\"contour\"}],\"contourcarpet\":[{\"colorbar\":{\"outlinewidth\":0,\"ticks\":\"\"},\"type\":\"contourcarpet\"}],\"heatmap\":[{\"colorbar\":{\"outlinewidth\":0,\"ticks\":\"\"},\"colorscale\":[[0.0,\"#0d0887\"],[0.1111111111111111,\"#46039f\"],[0.2222222222222222,\"#7201a8\"],[0.3333333333333333,\"#9c179e\"],[0.4444444444444444,\"#bd3786\"],[0.5555555555555556,\"#d8576b\"],[0.6666666666666666,\"#ed7953\"],[0.7777777777777778,\"#fb9f3a\"],[0.8888888888888888,\"#fdca26\"],[1.0,\"#f0f921\"]],\"type\":\"heatmap\"}],\"heatmapgl\":[{\"colorbar\":{\"outlinewidth\":0,\"ticks\":\"\"},\"colorscale\":[[0.0,\"#0d0887\"],[0.1111111111111111,\"#46039f\"],[0.2222222222222222,\"#7201a8\"],[0.3333333333333333,\"#9c179e\"],[0.4444444444444444,\"#bd3786\"],[0.5555555555555556,\"#d8576b\"],[0.6666666666666666,\"#ed7953\"],[0.7777777777777778,\"#fb9f3a\"],[0.8888888888888888,\"#fdca26\"],[1.0,\"#f0f921\"]],\"type\":\"heatmapgl\"}],\"histogram\":[{\"marker\":{\"pattern\":{\"fillmode\":\"overlay\",\"size\":10,\"solidity\":0.2}},\"type\":\"histogram\"}],\"histogram2d\":[{\"colorbar\":{\"outlinewidth\":0,\"ticks\":\"\"},\"colorscale\":[[0.0,\"#0d0887\"],[0.1111111111111111,\"#46039f\"],[0.2222222222222222,\"#7201a8\"],[0.3333333333333333,\"#9c179e\"],[0.4444444444444444,\"#bd3786\"],[0.5555555555555556,\"#d8576b\"],[0.6666666666666666,\"#ed7953\"],[0.7777777777777778,\"#fb9f3a\"],[0.8888888888888888,\"#fdca26\"],[1.0,\"#f0f921\"]],\"type\":\"histogram2d\"}],\"histogram2dcontour\":[{\"colorbar\":{\"outlinewidth\":0,\"ticks\":\"\"},\"colorscale\":[[0.0,\"#0d0887\"],[0.1111111111111111,\"#46039f\"],[0.2222222222222222,\"#7201a8\"],[0.3333333333333333,\"#9c179e\"],[0.4444444444444444,\"#bd3786\"],[0.5555555555555556,\"#d8576b\"],[0.6666666666666666,\"#ed7953\"],[0.7777777777777778,\"#fb9f3a\"],[0.8888888888888888,\"#fdca26\"],[1.0,\"#f0f921\"]],\"type\":\"histogram2dcontour\"}],\"mesh3d\":[{\"colorbar\":{\"outlinewidth\":0,\"ticks\":\"\"},\"type\":\"mesh3d\"}],\"parcoords\":[{\"line\":{\"colorbar\":{\"outlinewidth\":0,\"ticks\":\"\"}},\"type\":\"parcoords\"}],\"pie\":[{\"automargin\":true,\"type\":\"pie\"}],\"scatter\":[{\"marker\":{\"colorbar\":{\"outlinewidth\":0,\"ticks\":\"\"}},\"type\":\"scatter\"}],\"scatter3d\":[{\"line\":{\"colorbar\":{\"outlinewidth\":0,\"ticks\":\"\"}},\"marker\":{\"colorbar\":{\"outlinewidth\":0,\"ticks\":\"\"}},\"type\":\"scatter3d\"}],\"scattercarpet\":[{\"marker\":{\"colorbar\":{\"outlinewidth\":0,\"ticks\":\"\"}},\"type\":\"scattercarpet\"}],\"scattergeo\":[{\"marker\":{\"colorbar\":{\"outlinewidth\":0,\"ticks\":\"\"}},\"type\":\"scattergeo\"}],\"scattergl\":[{\"marker\":{\"colorbar\":{\"outlinewidth\":0,\"ticks\":\"\"}},\"type\":\"scattergl\"}],\"scattermapbox\":[{\"marker\":{\"colorbar\":{\"outlinewidth\":0,\"ticks\":\"\"}},\"type\":\"scattermapbox\"}],\"scatterpolar\":[{\"marker\":{\"colorbar\":{\"outlinewidth\":0,\"ticks\":\"\"}},\"type\":\"scatterpolar\"}],\"scatterpolargl\":[{\"marker\":{\"colorbar\":{\"outlinewidth\":0,\"ticks\":\"\"}},\"type\":\"scatterpolargl\"}],\"scatterternary\":[{\"marker\":{\"colorbar\":{\"outlinewidth\":0,\"ticks\":\"\"}},\"type\":\"scatterternary\"}],\"surface\":[{\"colorbar\":{\"outlinewidth\":0,\"ticks\":\"\"},\"colorscale\":[[0.0,\"#0d0887\"],[0.1111111111111111,\"#46039f\"],[0.2222222222222222,\"#7201a8\"],[0.3333333333333333,\"#9c179e\"],[0.4444444444444444,\"#bd3786\"],[0.5555555555555556,\"#d8576b\"],[0.6666666666666666,\"#ed7953\"],[0.7777777777777778,\"#fb9f3a\"],[0.8888888888888888,\"#fdca26\"],[1.0,\"#f0f921\"]],\"type\":\"surface\"}],\"table\":[{\"cells\":{\"fill\":{\"color\":\"#EBF0F8\"},\"line\":{\"color\":\"white\"}},\"header\":{\"fill\":{\"color\":\"#C8D4E3\"},\"line\":{\"color\":\"white\"}},\"type\":\"table\"}]},\"layout\":{\"annotationdefaults\":{\"arrowcolor\":\"#2a3f5f\",\"arrowhead\":0,\"arrowwidth\":1},\"autotypenumbers\":\"strict\",\"coloraxis\":{\"colorbar\":{\"outlinewidth\":0,\"ticks\":\"\"}},\"colorscale\":{\"diverging\":[[0,\"#8e0152\"],[0.1,\"#c51b7d\"],[0.2,\"#de77ae\"],[0.3,\"#f1b6da\"],[0.4,\"#fde0ef\"],[0.5,\"#f7f7f7\"],[0.6,\"#e6f5d0\"],[0.7,\"#b8e186\"],[0.8,\"#7fbc41\"],[0.9,\"#4d9221\"],[1,\"#276419\"]],\"sequential\":[[0.0,\"#0d0887\"],[0.1111111111111111,\"#46039f\"],[0.2222222222222222,\"#7201a8\"],[0.3333333333333333,\"#9c179e\"],[0.4444444444444444,\"#bd3786\"],[0.5555555555555556,\"#d8576b\"],[0.6666666666666666,\"#ed7953\"],[0.7777777777777778,\"#fb9f3a\"],[0.8888888888888888,\"#fdca26\"],[1.0,\"#f0f921\"]],\"sequentialminus\":[[0.0,\"#0d0887\"],[0.1111111111111111,\"#46039f\"],[0.2222222222222222,\"#7201a8\"],[0.3333333333333333,\"#9c179e\"],[0.4444444444444444,\"#bd3786\"],[0.5555555555555556,\"#d8576b\"],[0.6666666666666666,\"#ed7953\"],[0.7777777777777778,\"#fb9f3a\"],[0.8888888888888888,\"#fdca26\"],[1.0,\"#f0f921\"]]},\"colorway\":[\"#636efa\",\"#EF553B\",\"#00cc96\",\"#ab63fa\",\"#FFA15A\",\"#19d3f3\",\"#FF6692\",\"#B6E880\",\"#FF97FF\",\"#FECB52\"],\"font\":{\"color\":\"#2a3f5f\"},\"geo\":{\"bgcolor\":\"white\",\"lakecolor\":\"white\",\"landcolor\":\"#E5ECF6\",\"showlakes\":true,\"showland\":true,\"subunitcolor\":\"white\"},\"hoverlabel\":{\"align\":\"left\"},\"hovermode\":\"closest\",\"mapbox\":{\"style\":\"light\"},\"paper_bgcolor\":\"white\",\"plot_bgcolor\":\"#E5ECF6\",\"polar\":{\"angularaxis\":{\"gridcolor\":\"white\",\"linecolor\":\"white\",\"ticks\":\"\"},\"bgcolor\":\"#E5ECF6\",\"radialaxis\":{\"gridcolor\":\"white\",\"linecolor\":\"white\",\"ticks\":\"\"}},\"scene\":{\"xaxis\":{\"backgroundcolor\":\"#E5ECF6\",\"gridcolor\":\"white\",\"gridwidth\":2,\"linecolor\":\"white\",\"showbackground\":true,\"ticks\":\"\",\"zerolinecolor\":\"white\"},\"yaxis\":{\"backgroundcolor\":\"#E5ECF6\",\"gridcolor\":\"white\",\"gridwidth\":2,\"linecolor\":\"white\",\"showbackground\":true,\"ticks\":\"\",\"zerolinecolor\":\"white\"},\"zaxis\":{\"backgroundcolor\":\"#E5ECF6\",\"gridcolor\":\"white\",\"gridwidth\":2,\"linecolor\":\"white\",\"showbackground\":true,\"ticks\":\"\",\"zerolinecolor\":\"white\"}},\"shapedefaults\":{\"line\":{\"color\":\"#2a3f5f\"}},\"ternary\":{\"aaxis\":{\"gridcolor\":\"white\",\"linecolor\":\"white\",\"ticks\":\"\"},\"baxis\":{\"gridcolor\":\"white\",\"linecolor\":\"white\",\"ticks\":\"\"},\"bgcolor\":\"#E5ECF6\",\"caxis\":{\"gridcolor\":\"white\",\"linecolor\":\"white\",\"ticks\":\"\"}},\"title\":{\"x\":0.05},\"xaxis\":{\"automargin\":true,\"gridcolor\":\"white\",\"linecolor\":\"white\",\"ticks\":\"\",\"title\":{\"standoff\":15},\"zerolinecolor\":\"white\",\"zerolinewidth\":2},\"yaxis\":{\"automargin\":true,\"gridcolor\":\"white\",\"linecolor\":\"white\",\"ticks\":\"\",\"title\":{\"standoff\":15},\"zerolinecolor\":\"white\",\"zerolinewidth\":2}}},\"xaxis\":{\"anchor\":\"y\",\"domain\":[0.0,1.0],\"title\":{\"text\":\"City\"}},\"yaxis\":{\"anchor\":\"x\",\"domain\":[0.0,1.0],\"title\":{\"text\":\"Total Raised($B)\"}},\"legend\":{\"tracegroupgap\":0},\"title\":{\"text\":\"Top Cities wrt Total Money raised\"}},                        {\"responsive\": true}                    ).then(function(){\n",
       "                            \n",
       "var gd = document.getElementById('84bc5caf-4922-43e1-bdd0-9de643476313');\n",
       "var x = new MutationObserver(function (mutations, observer) {{\n",
       "        var display = window.getComputedStyle(gd).display;\n",
       "        if (!display || display === 'none') {{\n",
       "            console.log([gd, 'removed!']);\n",
       "            Plotly.purge(gd);\n",
       "            observer.disconnect();\n",
       "        }}\n",
       "}});\n",
       "\n",
       "// Listen for the removal of the full notebook cells\n",
       "var notebookContainer = gd.closest('#notebook-container');\n",
       "if (notebookContainer) {{\n",
       "    x.observe(notebookContainer, {childList: true});\n",
       "}}\n",
       "\n",
       "// Listen for the clearing of the current output cell\n",
       "var outputEl = gd.closest('.output');\n",
       "if (outputEl) {{\n",
       "    x.observe(outputEl, {childList: true});\n",
       "}}\n",
       "\n",
       "                        })                };                            </script>        </div>\n",
       "</body>\n",
       "</html>"
      ]
     },
     "metadata": {},
     "output_type": "display_data"
    }
   ],
   "source": [
    "fig=px.line(y=temp[('Total Raised', 'sum')],x=temp.index,title=\"Top Cities wrt Total Money raised\",labels={\"y\":\"Total Raised($B)\",\"x\":\"City\"})\n",
    "fig.update_traces(line_color=\"blue\")\n",
    "fig.show()"
   ]
  },
  {
   "cell_type": "markdown",
   "metadata": {
    "id": "w9bFs1vc6FU_"
   },
   "source": [
    "INDUSTRY WISE ANALYSIS"
   ]
  },
  {
   "cell_type": "markdown",
   "metadata": {
    "id": "OMY-vZGDIWrh"
   },
   "source": [
    "Top Industries wrt the Total Valuation and Number of Unicorns\n",
    "\n",
    "\n"
   ]
  },
  {
   "cell_type": "code",
   "execution_count": null,
   "metadata": {
    "colab": {
     "base_uri": "https://localhost:8080/",
     "height": 297
    },
    "executionInfo": {
     "elapsed": 495,
     "status": "ok",
     "timestamp": 1677267508034,
     "user": {
      "displayName": "Shloke Maheshwari",
      "userId": "14292175972920513536"
     },
     "user_tz": -330
    },
    "id": "2EtG7aK-IZkG",
    "outputId": "38c84a9a-d1fa-4698-cbb4-64e78d772bc6"
   },
   "outputs": [
    {
     "data": {
      "text/html": [
       "\n",
       "  <div id=\"df-9b213228-477c-40cd-907c-12233806df1b\">\n",
       "    <div class=\"colab-df-container\">\n",
       "      <div>\n",
       "<style scoped>\n",
       "    .dataframe tbody tr th:only-of-type {\n",
       "        vertical-align: middle;\n",
       "    }\n",
       "\n",
       "    .dataframe tbody tr th {\n",
       "        vertical-align: top;\n",
       "    }\n",
       "\n",
       "    .dataframe thead tr th {\n",
       "        text-align: left;\n",
       "    }\n",
       "\n",
       "    .dataframe thead tr:last-of-type th {\n",
       "        text-align: right;\n",
       "    }\n",
       "</style>\n",
       "<table border=\"1\" class=\"dataframe\">\n",
       "  <thead>\n",
       "    <tr>\n",
       "      <th></th>\n",
       "      <th>Company</th>\n",
       "      <th colspan=\"2\" halign=\"left\">Valuation ($B)</th>\n",
       "    </tr>\n",
       "    <tr>\n",
       "      <th></th>\n",
       "      <th>count</th>\n",
       "      <th>sum</th>\n",
       "      <th>mean</th>\n",
       "    </tr>\n",
       "    <tr>\n",
       "      <th>Industry</th>\n",
       "      <th></th>\n",
       "      <th></th>\n",
       "      <th></th>\n",
       "    </tr>\n",
       "  </thead>\n",
       "  <tbody>\n",
       "    <tr>\n",
       "      <th>Fintech</th>\n",
       "      <td>191</td>\n",
       "      <td>765.86</td>\n",
       "      <td>4.009738</td>\n",
       "    </tr>\n",
       "    <tr>\n",
       "      <th>Internet software &amp; services</th>\n",
       "      <td>181</td>\n",
       "      <td>531.70</td>\n",
       "      <td>2.937569</td>\n",
       "    </tr>\n",
       "    <tr>\n",
       "      <th>E-commerce &amp; direct-to-consumer</th>\n",
       "      <td>102</td>\n",
       "      <td>314.44</td>\n",
       "      <td>3.082745</td>\n",
       "    </tr>\n",
       "    <tr>\n",
       "      <th>Artificial Intelligence</th>\n",
       "      <td>75</td>\n",
       "      <td>301.64</td>\n",
       "      <td>4.021867</td>\n",
       "    </tr>\n",
       "    <tr>\n",
       "      <th>Health</th>\n",
       "      <td>66</td>\n",
       "      <td>175.57</td>\n",
       "      <td>2.660152</td>\n",
       "    </tr>\n",
       "    <tr>\n",
       "      <th>Supply chain, logistics, &amp; delivery</th>\n",
       "      <td>53</td>\n",
       "      <td>169.68</td>\n",
       "      <td>3.201509</td>\n",
       "    </tr>\n",
       "  </tbody>\n",
       "</table>\n",
       "</div>\n",
       "      <button class=\"colab-df-convert\" onclick=\"convertToInteractive('df-9b213228-477c-40cd-907c-12233806df1b')\"\n",
       "              title=\"Convert this dataframe to an interactive table.\"\n",
       "              style=\"display:none;\">\n",
       "        \n",
       "  <svg xmlns=\"http://www.w3.org/2000/svg\" height=\"24px\"viewBox=\"0 0 24 24\"\n",
       "       width=\"24px\">\n",
       "    <path d=\"M0 0h24v24H0V0z\" fill=\"none\"/>\n",
       "    <path d=\"M18.56 5.44l.94 2.06.94-2.06 2.06-.94-2.06-.94-.94-2.06-.94 2.06-2.06.94zm-11 1L8.5 8.5l.94-2.06 2.06-.94-2.06-.94L8.5 2.5l-.94 2.06-2.06.94zm10 10l.94 2.06.94-2.06 2.06-.94-2.06-.94-.94-2.06-.94 2.06-2.06.94z\"/><path d=\"M17.41 7.96l-1.37-1.37c-.4-.4-.92-.59-1.43-.59-.52 0-1.04.2-1.43.59L10.3 9.45l-7.72 7.72c-.78.78-.78 2.05 0 2.83L4 21.41c.39.39.9.59 1.41.59.51 0 1.02-.2 1.41-.59l7.78-7.78 2.81-2.81c.8-.78.8-2.07 0-2.86zM5.41 20L4 18.59l7.72-7.72 1.47 1.35L5.41 20z\"/>\n",
       "  </svg>\n",
       "      </button>\n",
       "      \n",
       "  <style>\n",
       "    .colab-df-container {\n",
       "      display:flex;\n",
       "      flex-wrap:wrap;\n",
       "      gap: 12px;\n",
       "    }\n",
       "\n",
       "    .colab-df-convert {\n",
       "      background-color: #E8F0FE;\n",
       "      border: none;\n",
       "      border-radius: 50%;\n",
       "      cursor: pointer;\n",
       "      display: none;\n",
       "      fill: #1967D2;\n",
       "      height: 32px;\n",
       "      padding: 0 0 0 0;\n",
       "      width: 32px;\n",
       "    }\n",
       "\n",
       "    .colab-df-convert:hover {\n",
       "      background-color: #E2EBFA;\n",
       "      box-shadow: 0px 1px 2px rgba(60, 64, 67, 0.3), 0px 1px 3px 1px rgba(60, 64, 67, 0.15);\n",
       "      fill: #174EA6;\n",
       "    }\n",
       "\n",
       "    [theme=dark] .colab-df-convert {\n",
       "      background-color: #3B4455;\n",
       "      fill: #D2E3FC;\n",
       "    }\n",
       "\n",
       "    [theme=dark] .colab-df-convert:hover {\n",
       "      background-color: #434B5C;\n",
       "      box-shadow: 0px 1px 3px 1px rgba(0, 0, 0, 0.15);\n",
       "      filter: drop-shadow(0px 1px 2px rgba(0, 0, 0, 0.3));\n",
       "      fill: #FFFFFF;\n",
       "    }\n",
       "  </style>\n",
       "\n",
       "      <script>\n",
       "        const buttonEl =\n",
       "          document.querySelector('#df-9b213228-477c-40cd-907c-12233806df1b button.colab-df-convert');\n",
       "        buttonEl.style.display =\n",
       "          google.colab.kernel.accessAllowed ? 'block' : 'none';\n",
       "\n",
       "        async function convertToInteractive(key) {\n",
       "          const element = document.querySelector('#df-9b213228-477c-40cd-907c-12233806df1b');\n",
       "          const dataTable =\n",
       "            await google.colab.kernel.invokeFunction('convertToInteractive',\n",
       "                                                     [key], {});\n",
       "          if (!dataTable) return;\n",
       "\n",
       "          const docLinkHtml = 'Like what you see? Visit the ' +\n",
       "            '<a target=\"_blank\" href=https://colab.research.google.com/notebooks/data_table.ipynb>data table notebook</a>'\n",
       "            + ' to learn more about interactive tables.';\n",
       "          element.innerHTML = '';\n",
       "          dataTable['output_type'] = 'display_data';\n",
       "          await google.colab.output.renderOutput(dataTable, element);\n",
       "          const docLink = document.createElement('div');\n",
       "          docLink.innerHTML = docLinkHtml;\n",
       "          element.appendChild(docLink);\n",
       "        }\n",
       "      </script>\n",
       "    </div>\n",
       "  </div>\n",
       "  "
      ],
      "text/plain": [
       "                                    Company Valuation ($B)          \n",
       "                                      count            sum      mean\n",
       "Industry                                                            \n",
       "Fintech                                 191         765.86  4.009738\n",
       "Internet software & services            181         531.70  2.937569\n",
       "E-commerce & direct-to-consumer         102         314.44  3.082745\n",
       "Artificial Intelligence                  75         301.64  4.021867\n",
       "Health                                   66         175.57  2.660152\n",
       "Supply chain, logistics, & delivery      53         169.68  3.201509"
      ]
     },
     "execution_count": 182,
     "metadata": {},
     "output_type": "execute_result"
    }
   ],
   "source": [
    "temp=df.groupby(by=['Industry']).agg({'Company':['count'],'Valuation ($B)': ['sum','mean']})\n",
    "temp=temp.sort_values([('Company', 'count')], ascending=False)[:6]\n",
    "temp"
   ]
  },
  {
   "cell_type": "code",
   "execution_count": null,
   "metadata": {
    "colab": {
     "base_uri": "https://localhost:8080/",
     "height": 542
    },
    "executionInfo": {
     "elapsed": 428,
     "status": "ok",
     "timestamp": 1677267511224,
     "user": {
      "displayName": "Shloke Maheshwari",
      "userId": "14292175972920513536"
     },
     "user_tz": -330
    },
    "id": "pH85Utn0Eyjw",
    "outputId": "0ba55da4-1e8d-408f-b177-29b028d2fa82"
   },
   "outputs": [
    {
     "data": {
      "text/html": [
       "<html>\n",
       "<head><meta charset=\"utf-8\" /></head>\n",
       "<body>\n",
       "    <div>            <script src=\"https://cdnjs.cloudflare.com/ajax/libs/mathjax/2.7.5/MathJax.js?config=TeX-AMS-MML_SVG\"></script><script type=\"text/javascript\">if (window.MathJax) {MathJax.Hub.Config({SVG: {font: \"STIX-Web\"}});}</script>                <script type=\"text/javascript\">window.PlotlyConfig = {MathJaxConfig: 'local'};</script>\n",
       "        <script src=\"https://cdn.plot.ly/plotly-2.8.3.min.js\"></script>                <div id=\"f4494da3-e11b-44d8-8d16-350aa3ae180f\" class=\"plotly-graph-div\" style=\"height:525px; width:100%;\"></div>            <script type=\"text/javascript\">                                    window.PLOTLYENV=window.PLOTLYENV || {};                                    if (document.getElementById(\"f4494da3-e11b-44d8-8d16-350aa3ae180f\")) {                    Plotly.newPlot(                        \"f4494da3-e11b-44d8-8d16-350aa3ae180f\",                        [{\"alignmentgroup\":\"True\",\"hovertemplate\":\"Total Valuation($B)=%{x}<br>Industry=%{y}<br>Numer of Unicorns=%{marker.color}<extra></extra>\",\"legendgroup\":\"\",\"marker\":{\"color\":[191,181,102,75,66,53],\"coloraxis\":\"coloraxis\",\"pattern\":{\"shape\":\"\"}},\"name\":\"\",\"offsetgroup\":\"\",\"orientation\":\"h\",\"showlegend\":false,\"textposition\":\"auto\",\"texttemplate\":\"%{x}\",\"x\":[765.86,531.7,314.44,301.64,175.57,169.68],\"xaxis\":\"x\",\"y\":[\"Fintech\",\"Internet software & services\",\"E-commerce & direct-to-consumer\",\"Artificial Intelligence\",\"Health\",\"Supply chain, logistics, & delivery\"],\"yaxis\":\"y\",\"type\":\"bar\"}],                        {\"template\":{\"data\":{\"bar\":[{\"error_x\":{\"color\":\"#2a3f5f\"},\"error_y\":{\"color\":\"#2a3f5f\"},\"marker\":{\"line\":{\"color\":\"#E5ECF6\",\"width\":0.5},\"pattern\":{\"fillmode\":\"overlay\",\"size\":10,\"solidity\":0.2}},\"type\":\"bar\"}],\"barpolar\":[{\"marker\":{\"line\":{\"color\":\"#E5ECF6\",\"width\":0.5},\"pattern\":{\"fillmode\":\"overlay\",\"size\":10,\"solidity\":0.2}},\"type\":\"barpolar\"}],\"carpet\":[{\"aaxis\":{\"endlinecolor\":\"#2a3f5f\",\"gridcolor\":\"white\",\"linecolor\":\"white\",\"minorgridcolor\":\"white\",\"startlinecolor\":\"#2a3f5f\"},\"baxis\":{\"endlinecolor\":\"#2a3f5f\",\"gridcolor\":\"white\",\"linecolor\":\"white\",\"minorgridcolor\":\"white\",\"startlinecolor\":\"#2a3f5f\"},\"type\":\"carpet\"}],\"choropleth\":[{\"colorbar\":{\"outlinewidth\":0,\"ticks\":\"\"},\"type\":\"choropleth\"}],\"contour\":[{\"colorbar\":{\"outlinewidth\":0,\"ticks\":\"\"},\"colorscale\":[[0.0,\"#0d0887\"],[0.1111111111111111,\"#46039f\"],[0.2222222222222222,\"#7201a8\"],[0.3333333333333333,\"#9c179e\"],[0.4444444444444444,\"#bd3786\"],[0.5555555555555556,\"#d8576b\"],[0.6666666666666666,\"#ed7953\"],[0.7777777777777778,\"#fb9f3a\"],[0.8888888888888888,\"#fdca26\"],[1.0,\"#f0f921\"]],\"type\":\"contour\"}],\"contourcarpet\":[{\"colorbar\":{\"outlinewidth\":0,\"ticks\":\"\"},\"type\":\"contourcarpet\"}],\"heatmap\":[{\"colorbar\":{\"outlinewidth\":0,\"ticks\":\"\"},\"colorscale\":[[0.0,\"#0d0887\"],[0.1111111111111111,\"#46039f\"],[0.2222222222222222,\"#7201a8\"],[0.3333333333333333,\"#9c179e\"],[0.4444444444444444,\"#bd3786\"],[0.5555555555555556,\"#d8576b\"],[0.6666666666666666,\"#ed7953\"],[0.7777777777777778,\"#fb9f3a\"],[0.8888888888888888,\"#fdca26\"],[1.0,\"#f0f921\"]],\"type\":\"heatmap\"}],\"heatmapgl\":[{\"colorbar\":{\"outlinewidth\":0,\"ticks\":\"\"},\"colorscale\":[[0.0,\"#0d0887\"],[0.1111111111111111,\"#46039f\"],[0.2222222222222222,\"#7201a8\"],[0.3333333333333333,\"#9c179e\"],[0.4444444444444444,\"#bd3786\"],[0.5555555555555556,\"#d8576b\"],[0.6666666666666666,\"#ed7953\"],[0.7777777777777778,\"#fb9f3a\"],[0.8888888888888888,\"#fdca26\"],[1.0,\"#f0f921\"]],\"type\":\"heatmapgl\"}],\"histogram\":[{\"marker\":{\"pattern\":{\"fillmode\":\"overlay\",\"size\":10,\"solidity\":0.2}},\"type\":\"histogram\"}],\"histogram2d\":[{\"colorbar\":{\"outlinewidth\":0,\"ticks\":\"\"},\"colorscale\":[[0.0,\"#0d0887\"],[0.1111111111111111,\"#46039f\"],[0.2222222222222222,\"#7201a8\"],[0.3333333333333333,\"#9c179e\"],[0.4444444444444444,\"#bd3786\"],[0.5555555555555556,\"#d8576b\"],[0.6666666666666666,\"#ed7953\"],[0.7777777777777778,\"#fb9f3a\"],[0.8888888888888888,\"#fdca26\"],[1.0,\"#f0f921\"]],\"type\":\"histogram2d\"}],\"histogram2dcontour\":[{\"colorbar\":{\"outlinewidth\":0,\"ticks\":\"\"},\"colorscale\":[[0.0,\"#0d0887\"],[0.1111111111111111,\"#46039f\"],[0.2222222222222222,\"#7201a8\"],[0.3333333333333333,\"#9c179e\"],[0.4444444444444444,\"#bd3786\"],[0.5555555555555556,\"#d8576b\"],[0.6666666666666666,\"#ed7953\"],[0.7777777777777778,\"#fb9f3a\"],[0.8888888888888888,\"#fdca26\"],[1.0,\"#f0f921\"]],\"type\":\"histogram2dcontour\"}],\"mesh3d\":[{\"colorbar\":{\"outlinewidth\":0,\"ticks\":\"\"},\"type\":\"mesh3d\"}],\"parcoords\":[{\"line\":{\"colorbar\":{\"outlinewidth\":0,\"ticks\":\"\"}},\"type\":\"parcoords\"}],\"pie\":[{\"automargin\":true,\"type\":\"pie\"}],\"scatter\":[{\"marker\":{\"colorbar\":{\"outlinewidth\":0,\"ticks\":\"\"}},\"type\":\"scatter\"}],\"scatter3d\":[{\"line\":{\"colorbar\":{\"outlinewidth\":0,\"ticks\":\"\"}},\"marker\":{\"colorbar\":{\"outlinewidth\":0,\"ticks\":\"\"}},\"type\":\"scatter3d\"}],\"scattercarpet\":[{\"marker\":{\"colorbar\":{\"outlinewidth\":0,\"ticks\":\"\"}},\"type\":\"scattercarpet\"}],\"scattergeo\":[{\"marker\":{\"colorbar\":{\"outlinewidth\":0,\"ticks\":\"\"}},\"type\":\"scattergeo\"}],\"scattergl\":[{\"marker\":{\"colorbar\":{\"outlinewidth\":0,\"ticks\":\"\"}},\"type\":\"scattergl\"}],\"scattermapbox\":[{\"marker\":{\"colorbar\":{\"outlinewidth\":0,\"ticks\":\"\"}},\"type\":\"scattermapbox\"}],\"scatterpolar\":[{\"marker\":{\"colorbar\":{\"outlinewidth\":0,\"ticks\":\"\"}},\"type\":\"scatterpolar\"}],\"scatterpolargl\":[{\"marker\":{\"colorbar\":{\"outlinewidth\":0,\"ticks\":\"\"}},\"type\":\"scatterpolargl\"}],\"scatterternary\":[{\"marker\":{\"colorbar\":{\"outlinewidth\":0,\"ticks\":\"\"}},\"type\":\"scatterternary\"}],\"surface\":[{\"colorbar\":{\"outlinewidth\":0,\"ticks\":\"\"},\"colorscale\":[[0.0,\"#0d0887\"],[0.1111111111111111,\"#46039f\"],[0.2222222222222222,\"#7201a8\"],[0.3333333333333333,\"#9c179e\"],[0.4444444444444444,\"#bd3786\"],[0.5555555555555556,\"#d8576b\"],[0.6666666666666666,\"#ed7953\"],[0.7777777777777778,\"#fb9f3a\"],[0.8888888888888888,\"#fdca26\"],[1.0,\"#f0f921\"]],\"type\":\"surface\"}],\"table\":[{\"cells\":{\"fill\":{\"color\":\"#EBF0F8\"},\"line\":{\"color\":\"white\"}},\"header\":{\"fill\":{\"color\":\"#C8D4E3\"},\"line\":{\"color\":\"white\"}},\"type\":\"table\"}]},\"layout\":{\"annotationdefaults\":{\"arrowcolor\":\"#2a3f5f\",\"arrowhead\":0,\"arrowwidth\":1},\"autotypenumbers\":\"strict\",\"coloraxis\":{\"colorbar\":{\"outlinewidth\":0,\"ticks\":\"\"}},\"colorscale\":{\"diverging\":[[0,\"#8e0152\"],[0.1,\"#c51b7d\"],[0.2,\"#de77ae\"],[0.3,\"#f1b6da\"],[0.4,\"#fde0ef\"],[0.5,\"#f7f7f7\"],[0.6,\"#e6f5d0\"],[0.7,\"#b8e186\"],[0.8,\"#7fbc41\"],[0.9,\"#4d9221\"],[1,\"#276419\"]],\"sequential\":[[0.0,\"#0d0887\"],[0.1111111111111111,\"#46039f\"],[0.2222222222222222,\"#7201a8\"],[0.3333333333333333,\"#9c179e\"],[0.4444444444444444,\"#bd3786\"],[0.5555555555555556,\"#d8576b\"],[0.6666666666666666,\"#ed7953\"],[0.7777777777777778,\"#fb9f3a\"],[0.8888888888888888,\"#fdca26\"],[1.0,\"#f0f921\"]],\"sequentialminus\":[[0.0,\"#0d0887\"],[0.1111111111111111,\"#46039f\"],[0.2222222222222222,\"#7201a8\"],[0.3333333333333333,\"#9c179e\"],[0.4444444444444444,\"#bd3786\"],[0.5555555555555556,\"#d8576b\"],[0.6666666666666666,\"#ed7953\"],[0.7777777777777778,\"#fb9f3a\"],[0.8888888888888888,\"#fdca26\"],[1.0,\"#f0f921\"]]},\"colorway\":[\"#636efa\",\"#EF553B\",\"#00cc96\",\"#ab63fa\",\"#FFA15A\",\"#19d3f3\",\"#FF6692\",\"#B6E880\",\"#FF97FF\",\"#FECB52\"],\"font\":{\"color\":\"#2a3f5f\"},\"geo\":{\"bgcolor\":\"white\",\"lakecolor\":\"white\",\"landcolor\":\"#E5ECF6\",\"showlakes\":true,\"showland\":true,\"subunitcolor\":\"white\"},\"hoverlabel\":{\"align\":\"left\"},\"hovermode\":\"closest\",\"mapbox\":{\"style\":\"light\"},\"paper_bgcolor\":\"white\",\"plot_bgcolor\":\"#E5ECF6\",\"polar\":{\"angularaxis\":{\"gridcolor\":\"white\",\"linecolor\":\"white\",\"ticks\":\"\"},\"bgcolor\":\"#E5ECF6\",\"radialaxis\":{\"gridcolor\":\"white\",\"linecolor\":\"white\",\"ticks\":\"\"}},\"scene\":{\"xaxis\":{\"backgroundcolor\":\"#E5ECF6\",\"gridcolor\":\"white\",\"gridwidth\":2,\"linecolor\":\"white\",\"showbackground\":true,\"ticks\":\"\",\"zerolinecolor\":\"white\"},\"yaxis\":{\"backgroundcolor\":\"#E5ECF6\",\"gridcolor\":\"white\",\"gridwidth\":2,\"linecolor\":\"white\",\"showbackground\":true,\"ticks\":\"\",\"zerolinecolor\":\"white\"},\"zaxis\":{\"backgroundcolor\":\"#E5ECF6\",\"gridcolor\":\"white\",\"gridwidth\":2,\"linecolor\":\"white\",\"showbackground\":true,\"ticks\":\"\",\"zerolinecolor\":\"white\"}},\"shapedefaults\":{\"line\":{\"color\":\"#2a3f5f\"}},\"ternary\":{\"aaxis\":{\"gridcolor\":\"white\",\"linecolor\":\"white\",\"ticks\":\"\"},\"baxis\":{\"gridcolor\":\"white\",\"linecolor\":\"white\",\"ticks\":\"\"},\"bgcolor\":\"#E5ECF6\",\"caxis\":{\"gridcolor\":\"white\",\"linecolor\":\"white\",\"ticks\":\"\"}},\"title\":{\"x\":0.05},\"xaxis\":{\"automargin\":true,\"gridcolor\":\"white\",\"linecolor\":\"white\",\"ticks\":\"\",\"title\":{\"standoff\":15},\"zerolinecolor\":\"white\",\"zerolinewidth\":2},\"yaxis\":{\"automargin\":true,\"gridcolor\":\"white\",\"linecolor\":\"white\",\"ticks\":\"\",\"title\":{\"standoff\":15},\"zerolinecolor\":\"white\",\"zerolinewidth\":2}}},\"xaxis\":{\"anchor\":\"y\",\"domain\":[0.0,1.0],\"title\":{\"text\":\"Total Valuation($B)\"}},\"yaxis\":{\"anchor\":\"x\",\"domain\":[0.0,1.0],\"title\":{\"text\":\"Industry\"}},\"coloraxis\":{\"colorbar\":{\"title\":{\"text\":\"Numer of Unicorns\"}},\"colorscale\":[[0.0,\"#0d0887\"],[0.1111111111111111,\"#46039f\"],[0.2222222222222222,\"#7201a8\"],[0.3333333333333333,\"#9c179e\"],[0.4444444444444444,\"#bd3786\"],[0.5555555555555556,\"#d8576b\"],[0.6666666666666666,\"#ed7953\"],[0.7777777777777778,\"#fb9f3a\"],[0.8888888888888888,\"#fdca26\"],[1.0,\"#f0f921\"]]},\"legend\":{\"tracegroupgap\":0},\"title\":{\"text\":\"Top Industries wrt Total Valuation and the Number of Unicorns\"},\"barmode\":\"relative\"},                        {\"responsive\": true}                    ).then(function(){\n",
       "                            \n",
       "var gd = document.getElementById('f4494da3-e11b-44d8-8d16-350aa3ae180f');\n",
       "var x = new MutationObserver(function (mutations, observer) {{\n",
       "        var display = window.getComputedStyle(gd).display;\n",
       "        if (!display || display === 'none') {{\n",
       "            console.log([gd, 'removed!']);\n",
       "            Plotly.purge(gd);\n",
       "            observer.disconnect();\n",
       "        }}\n",
       "}});\n",
       "\n",
       "// Listen for the removal of the full notebook cells\n",
       "var notebookContainer = gd.closest('#notebook-container');\n",
       "if (notebookContainer) {{\n",
       "    x.observe(notebookContainer, {childList: true});\n",
       "}}\n",
       "\n",
       "// Listen for the clearing of the current output cell\n",
       "var outputEl = gd.closest('.output');\n",
       "if (outputEl) {{\n",
       "    x.observe(outputEl, {childList: true});\n",
       "}}\n",
       "\n",
       "                        })                };                            </script>        </div>\n",
       "</body>\n",
       "</html>"
      ]
     },
     "metadata": {},
     "output_type": "display_data"
    }
   ],
   "source": [
    "fig=px.bar(x=temp[('Valuation ($B)','sum')],y=temp.index,title=\"Top Industries wrt Total Valuation and the Number of Unicorns\",text_auto=True,color=temp[('Company', 'count')],labels={\n",
    "                     \"y\": \"Industry\",\n",
    "                     \"x\": \"Total Valuation($B)\",\n",
    "                     \"color\":\"Number of Unicorns\"})\n",
    "\n",
    "fig.show()"
   ]
  },
  {
   "cell_type": "markdown",
   "metadata": {
    "id": "ZjBHo-0pIlGZ"
   },
   "source": [
    "Top Industries wrt Average Valuation"
   ]
  },
  {
   "cell_type": "code",
   "execution_count": null,
   "metadata": {
    "colab": {
     "base_uri": "https://localhost:8080/",
     "height": 297
    },
    "executionInfo": {
     "elapsed": 3,
     "status": "ok",
     "timestamp": 1677258255292,
     "user": {
      "displayName": "Shloke Maheshwari",
      "userId": "14292175972920513536"
     },
     "user_tz": -330
    },
    "id": "E0hXXuB1Ikpw",
    "outputId": "82c4ff76-4da5-4a0d-fc66-a141b736954f"
   },
   "outputs": [
    {
     "data": {
      "text/html": [
       "\n",
       "  <div id=\"df-411de7f0-d59c-48cb-ac0a-983f46d17958\">\n",
       "    <div class=\"colab-df-container\">\n",
       "      <div>\n",
       "<style scoped>\n",
       "    .dataframe tbody tr th:only-of-type {\n",
       "        vertical-align: middle;\n",
       "    }\n",
       "\n",
       "    .dataframe tbody tr th {\n",
       "        vertical-align: top;\n",
       "    }\n",
       "\n",
       "    .dataframe thead tr th {\n",
       "        text-align: left;\n",
       "    }\n",
       "\n",
       "    .dataframe thead tr:last-of-type th {\n",
       "        text-align: right;\n",
       "    }\n",
       "</style>\n",
       "<table border=\"1\" class=\"dataframe\">\n",
       "  <thead>\n",
       "    <tr>\n",
       "      <th></th>\n",
       "      <th>Company</th>\n",
       "      <th colspan=\"2\" halign=\"left\">Valuation ($B)</th>\n",
       "    </tr>\n",
       "    <tr>\n",
       "      <th></th>\n",
       "      <th>count</th>\n",
       "      <th>sum</th>\n",
       "      <th>mean</th>\n",
       "    </tr>\n",
       "    <tr>\n",
       "      <th>Industry</th>\n",
       "      <th></th>\n",
       "      <th></th>\n",
       "      <th></th>\n",
       "    </tr>\n",
       "  </thead>\n",
       "  <tbody>\n",
       "    <tr>\n",
       "      <th>Artificial Intelligence</th>\n",
       "      <td>75</td>\n",
       "      <td>301.64</td>\n",
       "      <td>4.021867</td>\n",
       "    </tr>\n",
       "    <tr>\n",
       "      <th>Fintech</th>\n",
       "      <td>191</td>\n",
       "      <td>765.86</td>\n",
       "      <td>4.009738</td>\n",
       "    </tr>\n",
       "    <tr>\n",
       "      <th>Supply chain, logistics, &amp; delivery</th>\n",
       "      <td>53</td>\n",
       "      <td>169.68</td>\n",
       "      <td>3.201509</td>\n",
       "    </tr>\n",
       "    <tr>\n",
       "      <th>E-commerce &amp; direct-to-consumer</th>\n",
       "      <td>102</td>\n",
       "      <td>314.44</td>\n",
       "      <td>3.082745</td>\n",
       "    </tr>\n",
       "    <tr>\n",
       "      <th>Internet software &amp; services</th>\n",
       "      <td>181</td>\n",
       "      <td>531.70</td>\n",
       "      <td>2.937569</td>\n",
       "    </tr>\n",
       "    <tr>\n",
       "      <th>Health</th>\n",
       "      <td>66</td>\n",
       "      <td>175.57</td>\n",
       "      <td>2.660152</td>\n",
       "    </tr>\n",
       "  </tbody>\n",
       "</table>\n",
       "</div>\n",
       "      <button class=\"colab-df-convert\" onclick=\"convertToInteractive('df-411de7f0-d59c-48cb-ac0a-983f46d17958')\"\n",
       "              title=\"Convert this dataframe to an interactive table.\"\n",
       "              style=\"display:none;\">\n",
       "        \n",
       "  <svg xmlns=\"http://www.w3.org/2000/svg\" height=\"24px\"viewBox=\"0 0 24 24\"\n",
       "       width=\"24px\">\n",
       "    <path d=\"M0 0h24v24H0V0z\" fill=\"none\"/>\n",
       "    <path d=\"M18.56 5.44l.94 2.06.94-2.06 2.06-.94-2.06-.94-.94-2.06-.94 2.06-2.06.94zm-11 1L8.5 8.5l.94-2.06 2.06-.94-2.06-.94L8.5 2.5l-.94 2.06-2.06.94zm10 10l.94 2.06.94-2.06 2.06-.94-2.06-.94-.94-2.06-.94 2.06-2.06.94z\"/><path d=\"M17.41 7.96l-1.37-1.37c-.4-.4-.92-.59-1.43-.59-.52 0-1.04.2-1.43.59L10.3 9.45l-7.72 7.72c-.78.78-.78 2.05 0 2.83L4 21.41c.39.39.9.59 1.41.59.51 0 1.02-.2 1.41-.59l7.78-7.78 2.81-2.81c.8-.78.8-2.07 0-2.86zM5.41 20L4 18.59l7.72-7.72 1.47 1.35L5.41 20z\"/>\n",
       "  </svg>\n",
       "      </button>\n",
       "      \n",
       "  <style>\n",
       "    .colab-df-container {\n",
       "      display:flex;\n",
       "      flex-wrap:wrap;\n",
       "      gap: 12px;\n",
       "    }\n",
       "\n",
       "    .colab-df-convert {\n",
       "      background-color: #E8F0FE;\n",
       "      border: none;\n",
       "      border-radius: 50%;\n",
       "      cursor: pointer;\n",
       "      display: none;\n",
       "      fill: #1967D2;\n",
       "      height: 32px;\n",
       "      padding: 0 0 0 0;\n",
       "      width: 32px;\n",
       "    }\n",
       "\n",
       "    .colab-df-convert:hover {\n",
       "      background-color: #E2EBFA;\n",
       "      box-shadow: 0px 1px 2px rgba(60, 64, 67, 0.3), 0px 1px 3px 1px rgba(60, 64, 67, 0.15);\n",
       "      fill: #174EA6;\n",
       "    }\n",
       "\n",
       "    [theme=dark] .colab-df-convert {\n",
       "      background-color: #3B4455;\n",
       "      fill: #D2E3FC;\n",
       "    }\n",
       "\n",
       "    [theme=dark] .colab-df-convert:hover {\n",
       "      background-color: #434B5C;\n",
       "      box-shadow: 0px 1px 3px 1px rgba(0, 0, 0, 0.15);\n",
       "      filter: drop-shadow(0px 1px 2px rgba(0, 0, 0, 0.3));\n",
       "      fill: #FFFFFF;\n",
       "    }\n",
       "  </style>\n",
       "\n",
       "      <script>\n",
       "        const buttonEl =\n",
       "          document.querySelector('#df-411de7f0-d59c-48cb-ac0a-983f46d17958 button.colab-df-convert');\n",
       "        buttonEl.style.display =\n",
       "          google.colab.kernel.accessAllowed ? 'block' : 'none';\n",
       "\n",
       "        async function convertToInteractive(key) {\n",
       "          const element = document.querySelector('#df-411de7f0-d59c-48cb-ac0a-983f46d17958');\n",
       "          const dataTable =\n",
       "            await google.colab.kernel.invokeFunction('convertToInteractive',\n",
       "                                                     [key], {});\n",
       "          if (!dataTable) return;\n",
       "\n",
       "          const docLinkHtml = 'Like what you see? Visit the ' +\n",
       "            '<a target=\"_blank\" href=https://colab.research.google.com/notebooks/data_table.ipynb>data table notebook</a>'\n",
       "            + ' to learn more about interactive tables.';\n",
       "          element.innerHTML = '';\n",
       "          dataTable['output_type'] = 'display_data';\n",
       "          await google.colab.output.renderOutput(dataTable, element);\n",
       "          const docLink = document.createElement('div');\n",
       "          docLink.innerHTML = docLinkHtml;\n",
       "          element.appendChild(docLink);\n",
       "        }\n",
       "      </script>\n",
       "    </div>\n",
       "  </div>\n",
       "  "
      ],
      "text/plain": [
       "                                    Company Valuation ($B)          \n",
       "                                      count            sum      mean\n",
       "Industry                                                            \n",
       "Artificial Intelligence                  75         301.64  4.021867\n",
       "Fintech                                 191         765.86  4.009738\n",
       "Supply chain, logistics, & delivery      53         169.68  3.201509\n",
       "E-commerce & direct-to-consumer         102         314.44  3.082745\n",
       "Internet software & services            181         531.70  2.937569\n",
       "Health                                   66         175.57  2.660152"
      ]
     },
     "execution_count": 106,
     "metadata": {},
     "output_type": "execute_result"
    }
   ],
   "source": [
    "\n",
    "temp=temp.sort_values([('Valuation ($B)', 'mean')], ascending=False)[:6]\n",
    "temp"
   ]
  },
  {
   "cell_type": "code",
   "execution_count": null,
   "metadata": {
    "colab": {
     "base_uri": "https://localhost:8080/",
     "height": 542
    },
    "executionInfo": {
     "elapsed": 782,
     "status": "ok",
     "timestamp": 1677258259399,
     "user": {
      "displayName": "Shloke Maheshwari",
      "userId": "14292175972920513536"
     },
     "user_tz": -330
    },
    "id": "wskWk4EOBjgf",
    "outputId": "6a122834-5f8c-41c7-99bc-71c4b1a2a823"
   },
   "outputs": [
    {
     "data": {
      "text/html": [
       "<html>\n",
       "<head><meta charset=\"utf-8\" /></head>\n",
       "<body>\n",
       "    <div>            <script src=\"https://cdnjs.cloudflare.com/ajax/libs/mathjax/2.7.5/MathJax.js?config=TeX-AMS-MML_SVG\"></script><script type=\"text/javascript\">if (window.MathJax) {MathJax.Hub.Config({SVG: {font: \"STIX-Web\"}});}</script>                <script type=\"text/javascript\">window.PlotlyConfig = {MathJaxConfig: 'local'};</script>\n",
       "        <script src=\"https://cdn.plot.ly/plotly-2.8.3.min.js\"></script>                <div id=\"3d1e67b3-b4f3-46a0-8b7d-1ecc701fa488\" class=\"plotly-graph-div\" style=\"height:525px; width:100%;\"></div>            <script type=\"text/javascript\">                                    window.PLOTLYENV=window.PLOTLYENV || {};                                    if (document.getElementById(\"3d1e67b3-b4f3-46a0-8b7d-1ecc701fa488\")) {                    Plotly.newPlot(                        \"3d1e67b3-b4f3-46a0-8b7d-1ecc701fa488\",                        [{\"alignmentgroup\":\"True\",\"hovertemplate\":\"Average Valuation($B)=%{x}<br>Industry=%{y}<extra></extra>\",\"legendgroup\":\"\",\"marker\":{\"color\":\"#636efa\",\"pattern\":{\"shape\":\"\"}},\"name\":\"\",\"offsetgroup\":\"\",\"orientation\":\"h\",\"showlegend\":false,\"textposition\":\"auto\",\"texttemplate\":\"%{x}\",\"x\":[4.021866666666667,4.009738219895288,3.201509433962264,3.0827450980392155,2.937569060773481,2.660151515151515],\"xaxis\":\"x\",\"y\":[\"Artificial Intelligence\",\"Fintech\",\"Supply chain, logistics, & delivery\",\"E-commerce & direct-to-consumer\",\"Internet software & services\",\"Health\"],\"yaxis\":\"y\",\"type\":\"bar\"}],                        {\"template\":{\"data\":{\"bar\":[{\"error_x\":{\"color\":\"#2a3f5f\"},\"error_y\":{\"color\":\"#2a3f5f\"},\"marker\":{\"line\":{\"color\":\"#E5ECF6\",\"width\":0.5},\"pattern\":{\"fillmode\":\"overlay\",\"size\":10,\"solidity\":0.2}},\"type\":\"bar\"}],\"barpolar\":[{\"marker\":{\"line\":{\"color\":\"#E5ECF6\",\"width\":0.5},\"pattern\":{\"fillmode\":\"overlay\",\"size\":10,\"solidity\":0.2}},\"type\":\"barpolar\"}],\"carpet\":[{\"aaxis\":{\"endlinecolor\":\"#2a3f5f\",\"gridcolor\":\"white\",\"linecolor\":\"white\",\"minorgridcolor\":\"white\",\"startlinecolor\":\"#2a3f5f\"},\"baxis\":{\"endlinecolor\":\"#2a3f5f\",\"gridcolor\":\"white\",\"linecolor\":\"white\",\"minorgridcolor\":\"white\",\"startlinecolor\":\"#2a3f5f\"},\"type\":\"carpet\"}],\"choropleth\":[{\"colorbar\":{\"outlinewidth\":0,\"ticks\":\"\"},\"type\":\"choropleth\"}],\"contour\":[{\"colorbar\":{\"outlinewidth\":0,\"ticks\":\"\"},\"colorscale\":[[0.0,\"#0d0887\"],[0.1111111111111111,\"#46039f\"],[0.2222222222222222,\"#7201a8\"],[0.3333333333333333,\"#9c179e\"],[0.4444444444444444,\"#bd3786\"],[0.5555555555555556,\"#d8576b\"],[0.6666666666666666,\"#ed7953\"],[0.7777777777777778,\"#fb9f3a\"],[0.8888888888888888,\"#fdca26\"],[1.0,\"#f0f921\"]],\"type\":\"contour\"}],\"contourcarpet\":[{\"colorbar\":{\"outlinewidth\":0,\"ticks\":\"\"},\"type\":\"contourcarpet\"}],\"heatmap\":[{\"colorbar\":{\"outlinewidth\":0,\"ticks\":\"\"},\"colorscale\":[[0.0,\"#0d0887\"],[0.1111111111111111,\"#46039f\"],[0.2222222222222222,\"#7201a8\"],[0.3333333333333333,\"#9c179e\"],[0.4444444444444444,\"#bd3786\"],[0.5555555555555556,\"#d8576b\"],[0.6666666666666666,\"#ed7953\"],[0.7777777777777778,\"#fb9f3a\"],[0.8888888888888888,\"#fdca26\"],[1.0,\"#f0f921\"]],\"type\":\"heatmap\"}],\"heatmapgl\":[{\"colorbar\":{\"outlinewidth\":0,\"ticks\":\"\"},\"colorscale\":[[0.0,\"#0d0887\"],[0.1111111111111111,\"#46039f\"],[0.2222222222222222,\"#7201a8\"],[0.3333333333333333,\"#9c179e\"],[0.4444444444444444,\"#bd3786\"],[0.5555555555555556,\"#d8576b\"],[0.6666666666666666,\"#ed7953\"],[0.7777777777777778,\"#fb9f3a\"],[0.8888888888888888,\"#fdca26\"],[1.0,\"#f0f921\"]],\"type\":\"heatmapgl\"}],\"histogram\":[{\"marker\":{\"pattern\":{\"fillmode\":\"overlay\",\"size\":10,\"solidity\":0.2}},\"type\":\"histogram\"}],\"histogram2d\":[{\"colorbar\":{\"outlinewidth\":0,\"ticks\":\"\"},\"colorscale\":[[0.0,\"#0d0887\"],[0.1111111111111111,\"#46039f\"],[0.2222222222222222,\"#7201a8\"],[0.3333333333333333,\"#9c179e\"],[0.4444444444444444,\"#bd3786\"],[0.5555555555555556,\"#d8576b\"],[0.6666666666666666,\"#ed7953\"],[0.7777777777777778,\"#fb9f3a\"],[0.8888888888888888,\"#fdca26\"],[1.0,\"#f0f921\"]],\"type\":\"histogram2d\"}],\"histogram2dcontour\":[{\"colorbar\":{\"outlinewidth\":0,\"ticks\":\"\"},\"colorscale\":[[0.0,\"#0d0887\"],[0.1111111111111111,\"#46039f\"],[0.2222222222222222,\"#7201a8\"],[0.3333333333333333,\"#9c179e\"],[0.4444444444444444,\"#bd3786\"],[0.5555555555555556,\"#d8576b\"],[0.6666666666666666,\"#ed7953\"],[0.7777777777777778,\"#fb9f3a\"],[0.8888888888888888,\"#fdca26\"],[1.0,\"#f0f921\"]],\"type\":\"histogram2dcontour\"}],\"mesh3d\":[{\"colorbar\":{\"outlinewidth\":0,\"ticks\":\"\"},\"type\":\"mesh3d\"}],\"parcoords\":[{\"line\":{\"colorbar\":{\"outlinewidth\":0,\"ticks\":\"\"}},\"type\":\"parcoords\"}],\"pie\":[{\"automargin\":true,\"type\":\"pie\"}],\"scatter\":[{\"marker\":{\"colorbar\":{\"outlinewidth\":0,\"ticks\":\"\"}},\"type\":\"scatter\"}],\"scatter3d\":[{\"line\":{\"colorbar\":{\"outlinewidth\":0,\"ticks\":\"\"}},\"marker\":{\"colorbar\":{\"outlinewidth\":0,\"ticks\":\"\"}},\"type\":\"scatter3d\"}],\"scattercarpet\":[{\"marker\":{\"colorbar\":{\"outlinewidth\":0,\"ticks\":\"\"}},\"type\":\"scattercarpet\"}],\"scattergeo\":[{\"marker\":{\"colorbar\":{\"outlinewidth\":0,\"ticks\":\"\"}},\"type\":\"scattergeo\"}],\"scattergl\":[{\"marker\":{\"colorbar\":{\"outlinewidth\":0,\"ticks\":\"\"}},\"type\":\"scattergl\"}],\"scattermapbox\":[{\"marker\":{\"colorbar\":{\"outlinewidth\":0,\"ticks\":\"\"}},\"type\":\"scattermapbox\"}],\"scatterpolar\":[{\"marker\":{\"colorbar\":{\"outlinewidth\":0,\"ticks\":\"\"}},\"type\":\"scatterpolar\"}],\"scatterpolargl\":[{\"marker\":{\"colorbar\":{\"outlinewidth\":0,\"ticks\":\"\"}},\"type\":\"scatterpolargl\"}],\"scatterternary\":[{\"marker\":{\"colorbar\":{\"outlinewidth\":0,\"ticks\":\"\"}},\"type\":\"scatterternary\"}],\"surface\":[{\"colorbar\":{\"outlinewidth\":0,\"ticks\":\"\"},\"colorscale\":[[0.0,\"#0d0887\"],[0.1111111111111111,\"#46039f\"],[0.2222222222222222,\"#7201a8\"],[0.3333333333333333,\"#9c179e\"],[0.4444444444444444,\"#bd3786\"],[0.5555555555555556,\"#d8576b\"],[0.6666666666666666,\"#ed7953\"],[0.7777777777777778,\"#fb9f3a\"],[0.8888888888888888,\"#fdca26\"],[1.0,\"#f0f921\"]],\"type\":\"surface\"}],\"table\":[{\"cells\":{\"fill\":{\"color\":\"#EBF0F8\"},\"line\":{\"color\":\"white\"}},\"header\":{\"fill\":{\"color\":\"#C8D4E3\"},\"line\":{\"color\":\"white\"}},\"type\":\"table\"}]},\"layout\":{\"annotationdefaults\":{\"arrowcolor\":\"#2a3f5f\",\"arrowhead\":0,\"arrowwidth\":1},\"autotypenumbers\":\"strict\",\"coloraxis\":{\"colorbar\":{\"outlinewidth\":0,\"ticks\":\"\"}},\"colorscale\":{\"diverging\":[[0,\"#8e0152\"],[0.1,\"#c51b7d\"],[0.2,\"#de77ae\"],[0.3,\"#f1b6da\"],[0.4,\"#fde0ef\"],[0.5,\"#f7f7f7\"],[0.6,\"#e6f5d0\"],[0.7,\"#b8e186\"],[0.8,\"#7fbc41\"],[0.9,\"#4d9221\"],[1,\"#276419\"]],\"sequential\":[[0.0,\"#0d0887\"],[0.1111111111111111,\"#46039f\"],[0.2222222222222222,\"#7201a8\"],[0.3333333333333333,\"#9c179e\"],[0.4444444444444444,\"#bd3786\"],[0.5555555555555556,\"#d8576b\"],[0.6666666666666666,\"#ed7953\"],[0.7777777777777778,\"#fb9f3a\"],[0.8888888888888888,\"#fdca26\"],[1.0,\"#f0f921\"]],\"sequentialminus\":[[0.0,\"#0d0887\"],[0.1111111111111111,\"#46039f\"],[0.2222222222222222,\"#7201a8\"],[0.3333333333333333,\"#9c179e\"],[0.4444444444444444,\"#bd3786\"],[0.5555555555555556,\"#d8576b\"],[0.6666666666666666,\"#ed7953\"],[0.7777777777777778,\"#fb9f3a\"],[0.8888888888888888,\"#fdca26\"],[1.0,\"#f0f921\"]]},\"colorway\":[\"#636efa\",\"#EF553B\",\"#00cc96\",\"#ab63fa\",\"#FFA15A\",\"#19d3f3\",\"#FF6692\",\"#B6E880\",\"#FF97FF\",\"#FECB52\"],\"font\":{\"color\":\"#2a3f5f\"},\"geo\":{\"bgcolor\":\"white\",\"lakecolor\":\"white\",\"landcolor\":\"#E5ECF6\",\"showlakes\":true,\"showland\":true,\"subunitcolor\":\"white\"},\"hoverlabel\":{\"align\":\"left\"},\"hovermode\":\"closest\",\"mapbox\":{\"style\":\"light\"},\"paper_bgcolor\":\"white\",\"plot_bgcolor\":\"#E5ECF6\",\"polar\":{\"angularaxis\":{\"gridcolor\":\"white\",\"linecolor\":\"white\",\"ticks\":\"\"},\"bgcolor\":\"#E5ECF6\",\"radialaxis\":{\"gridcolor\":\"white\",\"linecolor\":\"white\",\"ticks\":\"\"}},\"scene\":{\"xaxis\":{\"backgroundcolor\":\"#E5ECF6\",\"gridcolor\":\"white\",\"gridwidth\":2,\"linecolor\":\"white\",\"showbackground\":true,\"ticks\":\"\",\"zerolinecolor\":\"white\"},\"yaxis\":{\"backgroundcolor\":\"#E5ECF6\",\"gridcolor\":\"white\",\"gridwidth\":2,\"linecolor\":\"white\",\"showbackground\":true,\"ticks\":\"\",\"zerolinecolor\":\"white\"},\"zaxis\":{\"backgroundcolor\":\"#E5ECF6\",\"gridcolor\":\"white\",\"gridwidth\":2,\"linecolor\":\"white\",\"showbackground\":true,\"ticks\":\"\",\"zerolinecolor\":\"white\"}},\"shapedefaults\":{\"line\":{\"color\":\"#2a3f5f\"}},\"ternary\":{\"aaxis\":{\"gridcolor\":\"white\",\"linecolor\":\"white\",\"ticks\":\"\"},\"baxis\":{\"gridcolor\":\"white\",\"linecolor\":\"white\",\"ticks\":\"\"},\"bgcolor\":\"#E5ECF6\",\"caxis\":{\"gridcolor\":\"white\",\"linecolor\":\"white\",\"ticks\":\"\"}},\"title\":{\"x\":0.05},\"xaxis\":{\"automargin\":true,\"gridcolor\":\"white\",\"linecolor\":\"white\",\"ticks\":\"\",\"title\":{\"standoff\":15},\"zerolinecolor\":\"white\",\"zerolinewidth\":2},\"yaxis\":{\"automargin\":true,\"gridcolor\":\"white\",\"linecolor\":\"white\",\"ticks\":\"\",\"title\":{\"standoff\":15},\"zerolinecolor\":\"white\",\"zerolinewidth\":2}}},\"xaxis\":{\"anchor\":\"y\",\"domain\":[0.0,1.0],\"title\":{\"text\":\"Average Valuation($B)\"}},\"yaxis\":{\"anchor\":\"x\",\"domain\":[0.0,1.0],\"title\":{\"text\":\"Industry\"}},\"legend\":{\"tracegroupgap\":0},\"title\":{\"text\":\"Top Industries wrt Average Valuation\"},\"barmode\":\"relative\"},                        {\"responsive\": true}                    ).then(function(){\n",
       "                            \n",
       "var gd = document.getElementById('3d1e67b3-b4f3-46a0-8b7d-1ecc701fa488');\n",
       "var x = new MutationObserver(function (mutations, observer) {{\n",
       "        var display = window.getComputedStyle(gd).display;\n",
       "        if (!display || display === 'none') {{\n",
       "            console.log([gd, 'removed!']);\n",
       "            Plotly.purge(gd);\n",
       "            observer.disconnect();\n",
       "        }}\n",
       "}});\n",
       "\n",
       "// Listen for the removal of the full notebook cells\n",
       "var notebookContainer = gd.closest('#notebook-container');\n",
       "if (notebookContainer) {{\n",
       "    x.observe(notebookContainer, {childList: true});\n",
       "}}\n",
       "\n",
       "// Listen for the clearing of the current output cell\n",
       "var outputEl = gd.closest('.output');\n",
       "if (outputEl) {{\n",
       "    x.observe(outputEl, {childList: true});\n",
       "}}\n",
       "\n",
       "                        })                };                            </script>        </div>\n",
       "</body>\n",
       "</html>"
      ]
     },
     "metadata": {},
     "output_type": "display_data"
    }
   ],
   "source": [
    "fig=px.bar(x=temp[('Valuation ($B)', 'mean')],y=temp.index,title=\"Top Industries wrt Average Valuation\",text_auto=True,labels={\n",
    "                     \"y\": \"Industry\", \"x\": \"Average Valuation($B)\",\n",
    "                   })\n",
    "\n",
    "fig.show()"
   ]
  },
  {
   "cell_type": "markdown",
   "metadata": {
    "id": "bpi1EbIg6luu"
   },
   "source": [
    "Years taken to become Unicorn wrt Country and Industry"
   ]
  },
  {
   "cell_type": "code",
   "execution_count": null,
   "metadata": {
    "colab": {
     "base_uri": "https://localhost:8080/",
     "height": 542
    },
    "executionInfo": {
     "elapsed": 639,
     "status": "ok",
     "timestamp": 1677267230863,
     "user": {
      "displayName": "Shloke Maheshwari",
      "userId": "14292175972920513536"
     },
     "user_tz": -330
    },
    "id": "A4WqAhWr6tOn",
    "outputId": "0ac22397-596e-4432-dd6b-3300f6a14630"
   },
   "outputs": [
    {
     "data": {
      "text/html": [
       "<html>\n",
       "<head><meta charset=\"utf-8\" /></head>\n",
       "<body>\n",
       "    <div>            <script src=\"https://cdnjs.cloudflare.com/ajax/libs/mathjax/2.7.5/MathJax.js?config=TeX-AMS-MML_SVG\"></script><script type=\"text/javascript\">if (window.MathJax) {MathJax.Hub.Config({SVG: {font: \"STIX-Web\"}});}</script>                <script type=\"text/javascript\">window.PlotlyConfig = {MathJaxConfig: 'local'};</script>\n",
       "        <script src=\"https://cdn.plot.ly/plotly-2.8.3.min.js\"></script>                <div id=\"400817d7-fd91-4385-bc70-f196e64ffdf9\" class=\"plotly-graph-div\" style=\"height:525px; width:100%;\"></div>            <script type=\"text/javascript\">                                    window.PLOTLYENV=window.PLOTLYENV || {};                                    if (document.getElementById(\"400817d7-fd91-4385-bc70-f196e64ffdf9\")) {                    Plotly.newPlot(                        \"400817d7-fd91-4385-bc70-f196e64ffdf9\",                        [{\"customdata\":[[\"Artificial Intelligence\"],[\"Artificial Intelligence\"],[\"Artificial Intelligence\"],[\"Artificial Intelligence\"],[\"Artificial Intelligence\"],[\"Artificial Intelligence\"],[\"Artificial Intelligence\"],[\"Artificial Intelligence\"],[\"Artificial Intelligence\"],[\"Artificial Intelligence\"],[\"Artificial Intelligence\"],[\"Artificial Intelligence\"],[\"Artificial Intelligence\"],[\"Artificial Intelligence\"],[\"Artificial Intelligence\"],[\"Artificial Intelligence\"],[\"Artificial Intelligence\"],[\"Artificial Intelligence\"],[\"Artificial Intelligence\"],[\"Artificial Intelligence\"],[\"Artificial Intelligence\"],[\"Artificial Intelligence\"],[\"Artificial Intelligence\"],[\"Artificial Intelligence\"],[\"Artificial Intelligence\"],[\"Artificial Intelligence\"],[\"Artificial Intelligence\"],[\"Artificial Intelligence\"],[\"Artificial Intelligence\"],[\"Artificial Intelligence\"],[\"Artificial Intelligence\"],[\"Artificial Intelligence\"],[\"Artificial Intelligence\"],[\"Artificial Intelligence\"],[\"Artificial Intelligence\"],[\"Artificial Intelligence\"],[\"Artificial Intelligence\"],[\"Artificial Intelligence\"],[\"Artificial Intelligence\"],[\"Artificial Intelligence\"],[\"Artificial Intelligence\"],[\"Artificial Intelligence\"],[\"Artificial Intelligence\"],[\"Artificial Intelligence\"],[\"Artificial Intelligence\"],[\"Artificial Intelligence\"],[\"Artificial Intelligence\"],[\"Artificial Intelligence\"],[\"Artificial Intelligence\"],[\"Artificial Intelligence\"],[\"Artificial Intelligence\"],[\"Artificial Intelligence\"],[\"Artificial Intelligence\"],[\"Artificial Intelligence\"],[\"Artificial Intelligence\"],[\"Artificial Intelligence\"],[\"Artificial Intelligence\"],[\"Artificial Intelligence\"],[\"Artificial Intelligence\"],[\"Artificial Intelligence\"],[\"Artificial Intelligence\"],[\"Artificial Intelligence\"],[\"Artificial Intelligence\"],[\"Artificial Intelligence\"],[\"Artificial Intelligence\"],[\"Artificial Intelligence\"],[\"Artificial Intelligence\"],[\"Artificial Intelligence\"],[\"Artificial Intelligence\"],[\"Artificial Intelligence\"],[\"Artificial Intelligence\"],[\"Artificial Intelligence\"],[\"Artificial Intelligence\"],[\"Artificial Intelligence\"],[\"Artificial Intelligence\"]],\"hovertemplate\":\"Industry=%{customdata[0]}<br>Years Taken to become Unicorn=%{x}<br>Country=%{y}<extra></extra>\",\"legendgroup\":\"Artificial Intelligence\",\"marker\":{\"color\":\"#636efa\",\"symbol\":\"circle\"},\"mode\":\"markers\",\"name\":\"Artificial Intelligence\",\"orientation\":\"h\",\"showlegend\":true,\"x\":[5,2,5,15,7,8,2,4,10,2,9,6,3,3,4,2,11,14,1,13,7,6,5,13,39,4,3,8,7,5,5,6,10,11,7,6,7,9,4,6,5,4,10,5,2,10,5,2,4,8,2,1,2,4,5,3,4,12,5,10,8,7,5,7,5,14,8,2,6,10,5,2,2,6,4],\"xaxis\":\"x\",\"y\":[\"China\",\"United States\",\"United States\",\"United States\",\"United States\",\"United States\",\"United States\",\"China\",\"United States\",\"United States\",\"United States\",\"China\",\"United States\",\"China\",\"United States\",\"United Kingdom\",\"United States\",\"United States\",\"United States\",\"United States\",\"China\",\"China\",\"United States\",\"United States\",\"United States\",\"Japan\",\"China\",\"United States\",\"China\",\"China\",\"United States\",\"Israel\",\"United States\",\"Bermuda\",\"United States\",\"Chile\",\"Estonia\",\"United States\",\"China\",\"China\",\"China\",\"China\",\"United States\",\"Canada\",\"China\",\"United States\",\"China\",\"United States\",\"Israel\",\"Israel\",\"United Kingdom\",\"China\",\"China\",\"United States\",\"China\",\"France\",\"United States\",\"United States\",\"United States\",\"United States\",\"United States\",\"France\",\"Canada\",\"United Kingdom\",\"United States\",\"Brazil\",\"United States\",\"United States\",\"United States\",\"United States\",\"United States\",\"United States\",\"China\",\"United States\",\"Chile\"],\"yaxis\":\"y\",\"type\":\"scatter\"},{\"customdata\":[[\"Other\"],[\"Other\"],[\"Other\"],[\"Other\"],[\"Other\"],[\"Other\"],[\"Other\"],[\"Other\"],[\"Other\"],[\"Other\"],[\"Other\"],[\"Other\"],[\"Other\"],[\"Other\"],[\"Other\"],[\"Other\"],[\"Other\"],[\"Other\"],[\"Other\"],[\"Other\"],[\"Other\"],[\"Other\"],[\"Other\"],[\"Other\"],[\"Other\"],[\"Other\"],[\"Other\"],[\"Other\"],[\"Other\"],[\"Other\"],[\"Other\"],[\"Other\"],[\"Other\"],[\"Other\"],[\"Other\"],[\"Other\"],[\"Other\"],[\"Other\"],[\"Other\"],[\"Other\"],[\"Other\"],[\"Other\"],[\"Other\"],[\"Other\"],[\"Other\"],[\"Other\"],[\"Other\"],[\"Other\"],[\"Other\"],[\"Other\"],[\"Other\"],[\"Other\"]],\"hovertemplate\":\"Industry=%{customdata[0]}<br>Years Taken to become Unicorn=%{x}<br>Country=%{y}<extra></extra>\",\"legendgroup\":\"Other\",\"marker\":{\"color\":\"#EF553B\",\"symbol\":\"circle\"},\"mode\":\"markers\",\"name\":\"Other\",\"orientation\":\"h\",\"showlegend\":true,\"x\":[10,27,2,7,3,1,26,4,6,4,8,10,8,13,4,7,10,6,4,5,7,8,9,6,8,5,10,37,4,15,5,10,1,14,11,5,4,17,9,15,2,8,5,0,6,5,10,7,5,0,9,8],\"xaxis\":\"x\",\"y\":[\"United States\",\"United States\",\"United States\",\"China\",\"Sweden\",\"United States\",\"United Kingdom\",\"United States\",\"United States\",\"United States\",\"United States\",\"China\",\"Brazil\",\"United Arab Emirates\",\"United States\",\"France\",\"United States\",\"United States\",\"United Kingdom\",\"United Kingdom\",\"Luxembourg\",\"United States\",\"United States\",\"United States\",\"China\",\"United States\",\"Israel\",\"India\",\"United States\",\"South Korea\",\"China\",\"United Kingdom\",\"Canada\",\"Japan\",\"United States\",\"United States\",\"Colombia\",\"France\",\"United States\",\"United States\",\"Philippines\",\"France\",\"United Arab Emirates\",\"Japan\",\"United States\",\"United States\",\"United States\",\"United States\",\"United States\",\"India\",\"United States\",\"Germany\"],\"yaxis\":\"y\",\"type\":\"scatter\"},{\"customdata\":[[\"Fintech\"],[\"Fintech\"],[\"Fintech\"],[\"Fintech\"],[\"Fintech\"],[\"Fintech\"],[\"Fintech\"],[\"Fintech\"],[\"Fintech\"],[\"Fintech\"],[\"Fintech\"],[\"Fintech\"],[\"Fintech\"],[\"Fintech\"],[\"Fintech\"],[\"Fintech\"],[\"Fintech\"],[\"Fintech\"],[\"Fintech\"],[\"Fintech\"],[\"Fintech\"],[\"Fintech\"],[\"Fintech\"],[\"Fintech\"],[\"Fintech\"],[\"Fintech\"],[\"Fintech\"],[\"Fintech\"],[\"Fintech\"],[\"Fintech\"],[\"Fintech\"],[\"Fintech\"],[\"Fintech\"],[\"Fintech\"],[\"Fintech\"],[\"Fintech\"],[\"Fintech\"],[\"Fintech\"],[\"Fintech\"],[\"Fintech\"],[\"Fintech\"],[\"Fintech\"],[\"Fintech\"],[\"Fintech\"],[\"Fintech\"],[\"Fintech\"],[\"Fintech\"],[\"Fintech\"],[\"Fintech\"],[\"Fintech\"],[\"Fintech\"],[\"Fintech\"],[\"Fintech\"],[\"Fintech\"],[\"Fintech\"],[\"Fintech\"],[\"Fintech\"],[\"Fintech\"],[\"Fintech\"],[\"Fintech\"],[\"Fintech\"],[\"Fintech\"],[\"Fintech\"],[\"Fintech\"],[\"Fintech\"],[\"Fintech\"],[\"Fintech\"],[\"Fintech\"],[\"Fintech\"],[\"Fintech\"],[\"Fintech\"],[\"Fintech\"],[\"Fintech\"],[\"Fintech\"],[\"Fintech\"],[\"Fintech\"],[\"Fintech\"],[\"Fintech\"],[\"Fintech\"],[\"Fintech\"],[\"Fintech\"],[\"Fintech\"],[\"Fintech\"],[\"Fintech\"],[\"Fintech\"],[\"Fintech\"],[\"Fintech\"],[\"Fintech\"],[\"Fintech\"],[\"Fintech\"],[\"Fintech\"],[\"Fintech\"],[\"Fintech\"],[\"Fintech\"],[\"Fintech\"],[\"Fintech\"],[\"Fintech\"],[\"Fintech\"],[\"Fintech\"],[\"Fintech\"],[\"Fintech\"],[\"Fintech\"],[\"Fintech\"],[\"Fintech\"],[\"Fintech\"],[\"Fintech\"],[\"Fintech\"],[\"Fintech\"],[\"Fintech\"],[\"Fintech\"],[\"Fintech\"],[\"Fintech\"],[\"Fintech\"],[\"Fintech\"],[\"Fintech\"],[\"Fintech\"],[\"Fintech\"],[\"Fintech\"],[\"Fintech\"],[\"Fintech\"],[\"Fintech\"],[\"Fintech\"],[\"Fintech\"],[\"Fintech\"],[\"Fintech\"],[\"Fintech\"],[\"Fintech\"],[\"Fintech\"],[\"Fintech\"],[\"Fintech\"],[\"Fintech\"],[\"Fintech\"],[\"Fintech\"],[\"Fintech\"],[\"Fintech\"],[\"Fintech\"],[\"Fintech\"],[\"Fintech\"],[\"Fintech\"],[\"Fintech\"],[\"Fintech\"],[\"Fintech\"],[\"Fintech\"],[\"Fintech\"],[\"Fintech\"],[\"Fintech\"],[\"Fintech\"],[\"Fintech\"],[\"Fintech\"],[\"Fintech\"],[\"Fintech\"],[\"Fintech\"],[\"Fintech\"],[\"Fintech\"],[\"Fintech\"],[\"Fintech\"],[\"Fintech\"],[\"Fintech\"],[\"Fintech\"],[\"Fintech\"],[\"Fintech\"],[\"Fintech\"],[\"Fintech\"],[\"Fintech\"],[\"Fintech\"],[\"Fintech\"],[\"Fintech\"],[\"Fintech\"],[\"Fintech\"],[\"Fintech\"],[\"Fintech\"],[\"Fintech\"],[\"Fintech\"],[\"Fintech\"],[\"Fintech\"],[\"Fintech\"],[\"Fintech\"],[\"Fintech\"],[\"Fintech\"],[\"Fintech\"],[\"Fintech\"],[\"Fintech\"],[\"Fintech\"],[\"Fintech\"],[\"Fintech\"],[\"Fintech\"],[\"Fintech\"],[\"Fintech\"],[\"Fintech\"],[\"Fintech\"],[\"Fintech\"]],\"hovertemplate\":\"Industry=%{customdata[0]}<br>Years Taken to become Unicorn=%{x}<br>Country=%{y}<extra></extra>\",\"legendgroup\":\"Fintech\",\"marker\":{\"color\":\"#00cc96\",\"symbol\":\"circle\"},\"mode\":\"markers\",\"name\":\"Fintech\",\"orientation\":\"h\",\"showlegend\":true,\"x\":[4,6,7,3,6,7,6,1,7,4,4,3,6,3,10,3,2,3,7,5,7,6,28,16,2,2,8,22,6,10,3,4,10,11,2,6,8,6,6,7,7,3,3,3,5,4,10,2,11,5,5,7,7,4,14,25,5,4,10,4,4,5,5,8,2,3,9,9,6,4,3,11,6,9,6,8,6,7,12,8,11,3,20,6,2,6,2,8,9,5,4,3,3,6,3,7,11,4,21,6,3,5,5,5,17,8,2,9,3,4,6,9,4,3,1,8,0,4,7,6,6,4,3,6,7,6,5,6,10,8,11,8,4,5,6,4,8,13,8,5,3,1,6,13,5,19,5,5,4,5,3,8,27,7,5,8,8,11,7,5,15,5,3,5,3,3,5,9,3,6,5,16,6,17,9,7,5,3,4,5,12,16,3,6,7,1,10,13,7,4,3],\"xaxis\":\"x\",\"y\":[\"United States\",\"Sweden\",\"United Kingdom\",\"United Kingdom\",\"United States\",\"United States\",\"United States\",\"United States\",\"United States\",\"United States\",\"United States\",\"United States\",\"Germany\",\"United Kingdom\",\"United States\",\"United States\",\"United States\",\"Canada\",\"India\",\"South Korea\",\"United States\",\"United States\",\"India\",\"Netherlands\",\"United States\",\"United States\",\"United States\",\"India\",\"Germany\",\"United Kingdom\",\"United States\",\"Australia\",\"Netherlands\",\"United Kingdom\",\"United Kingdom\",\"France\",\"Brazil\",\"Denmark\",\"United States\",\"Austria\",\"United Kingdom\",\"United States\",\"United States\",\"United States\",\"India\",\"United States\",\"United States\",\"United States\",\"India\",\"United States\",\"United States\",\"Canada\",\"United States\",\"United States\",\"United States\",\"United Kingdom\",\"United States\",\"United States\",\"United States\",\"India\",\"United States\",\"United States\",\"United States\",\"United States\",\"Indonesia\",\"India\",\"United States\",\"United States\",\"United States\",\"Argentina\",\"China\",\"India\",\"United States\",\"United Kingdom\",\"United States\",\"Vietnam\",\"United States\",\"Mexico\",\"United States\",\"Brazil\",\"United Kingdom\",\"United States\",\"Israel\",\"Canada\",\"United States\",\"United Kingdom\",\"United States\",\"Netherlands\",\"Mexico\",\"Israel\",\"United States\",\"Nigeria\",\"United States\",\"Philippines\",\"United Kingdom\",\"United Kingdom\",\"United States\",\"India\",\"United States\",\"United States\",\"United States\",\"France\",\"Germany\",\"Germany\",\"United States\",\"Japan\",\"United States\",\"United States\",\"Ireland\",\"China\",\"United States\",\"United States\",\"United States\",\"United States\",\"United States\",\"Thailand\",\"United States\",\"United States\",\"France\",\"United States\",\"United States\",\"Belgium\",\"United States\",\"United States\",\"Germany\",\"Brazil\",\"United States\",\"United States\",\"United States\",\"Mexico\",\"United States\",\"United States\",\"United States\",\"United States\",\"China\",\"United Kingdom\",\"United States\",\"United States\",\"United States\",\"United States\",\"United States\",\"United States\",\"United States\",\"United States\",\"China\",\"United States\",\"United Kingdom\",\"United States\",\"India\",\"India\",\"United Kingdom\",\"United States\",\"United Kingdom\",\"United States\",\"Japan\",\"United Kingdom\",\"United States\",\"United States\",\"Brazil\",\"United States\",\"United Kingdom\",\"China\",\"United States\",\"United States\",\"United States\",\"United States\",\"United States\",\"United States\",\"United States\",\"Denmark\",\"United States\",\"United States\",\"United States\",\"Canada\",\"South Korea\",\"Indonesia\",\"United Kingdom\",\"Indonesia\",\"United States\",\"France\",\"India\",\"United Kingdom\",\"United States\",\"India\",\"United Kingdom\",\"Mexico\",\"France\",\"United States\",\"United States\",\"United Kingdom\",\"Italy\"],\"yaxis\":\"y\",\"type\":\"scatter\"},{\"customdata\":[[\"Internet software & services\"],[\"Internet software & services\"],[\"Internet software & services\"],[\"Internet software & services\"],[\"Internet software & services\"],[\"Internet software & services\"],[\"Internet software & services\"],[\"Internet software & services\"],[\"Internet software & services\"],[\"Internet software & services\"],[\"Internet software & services\"],[\"Internet software & services\"],[\"Internet software & services\"],[\"Internet software & services\"],[\"Internet software & services\"],[\"Internet software & services\"],[\"Internet software & services\"],[\"Internet software & services\"],[\"Internet software & services\"],[\"Internet software & services\"],[\"Internet software & services\"],[\"Internet software & services\"],[\"Internet software & services\"],[\"Internet software & services\"],[\"Internet software & services\"],[\"Internet software & services\"],[\"Internet software & services\"],[\"Internet software & services\"],[\"Internet software & services\"],[\"Internet software & services\"],[\"Internet software & services\"],[\"Internet software & services\"],[\"Internet software & services\"],[\"Internet software & services\"],[\"Internet software & services\"],[\"Internet software & services\"],[\"Internet software & services\"],[\"Internet software & services\"],[\"Internet software & services\"],[\"Internet software & services\"],[\"Internet software & services\"],[\"Internet software & services\"],[\"Internet software & services\"],[\"Internet software & services\"],[\"Internet software & services\"],[\"Internet software & services\"],[\"Internet software & services\"],[\"Internet software & services\"],[\"Internet software & services\"],[\"Internet software & services\"],[\"Internet software & services\"],[\"Internet software & services\"],[\"Internet software & services\"],[\"Internet software & services\"],[\"Internet software & services\"],[\"Internet software & services\"],[\"Internet software & services\"],[\"Internet software & services\"],[\"Internet software & services\"],[\"Internet software & services\"],[\"Internet software & services\"],[\"Internet software & services\"],[\"Internet software & services\"],[\"Internet software & services\"],[\"Internet software & services\"],[\"Internet software & services\"],[\"Internet software & services\"],[\"Internet software & services\"],[\"Internet software & services\"],[\"Internet software & services\"],[\"Internet software & services\"],[\"Internet software & services\"],[\"Internet software & services\"],[\"Internet software & services\"],[\"Internet software & services\"],[\"Internet software & services\"],[\"Internet software & services\"],[\"Internet software & services\"],[\"Internet software & services\"],[\"Internet software & services\"],[\"Internet software & services\"],[\"Internet software & services\"],[\"Internet software & services\"],[\"Internet software & services\"],[\"Internet software & services\"],[\"Internet software & services\"],[\"Internet software & services\"],[\"Internet software & services\"],[\"Internet software & services\"],[\"Internet software & services\"],[\"Internet software & services\"],[\"Internet software & services\"],[\"Internet software & services\"],[\"Internet software & services\"],[\"Internet software & services\"],[\"Internet software & services\"],[\"Internet software & services\"],[\"Internet software & services\"],[\"Internet software & services\"],[\"Internet software & services\"],[\"Internet software & services\"],[\"Internet software & services\"],[\"Internet software & services\"],[\"Internet software & services\"],[\"Internet software & services\"],[\"Internet software & services\"],[\"Internet software & services\"],[\"Internet software & services\"],[\"Internet software & services\"],[\"Internet software & services\"],[\"Internet software & services\"],[\"Internet software & services\"],[\"Internet software & services\"],[\"Internet software & services\"],[\"Internet software & services\"],[\"Internet software & services\"],[\"Internet software & services\"],[\"Internet software & services\"],[\"Internet software & services\"],[\"Internet software & services\"],[\"Internet software & services\"],[\"Internet software & services\"],[\"Internet software & services\"],[\"Internet software & services\"],[\"Internet software & services\"],[\"Internet software & services\"],[\"Internet software & services\"],[\"Internet software & services\"],[\"Internet software & services\"],[\"Internet software & services\"],[\"Internet software & services\"],[\"Internet software & services\"],[\"Internet software & services\"],[\"Internet software & services\"],[\"Internet software & services\"],[\"Internet software & services\"],[\"Internet software & services\"],[\"Internet software & services\"],[\"Internet software & services\"],[\"Internet software & services\"],[\"Internet software & services\"],[\"Internet software & services\"],[\"Internet software & services\"],[\"Internet software & services\"],[\"Internet software & services\"],[\"Internet software & services\"],[\"Internet software & services\"],[\"Internet software & services\"],[\"Internet software & services\"],[\"Internet software & services\"],[\"Internet software & services\"],[\"Internet software & services\"],[\"Internet software & services\"],[\"Internet software & services\"],[\"Internet software & services\"],[\"Internet software & services\"],[\"Internet software & services\"],[\"Internet software & services\"],[\"Internet software & services\"],[\"Internet software & services\"],[\"Internet software & services\"],[\"Internet software & services\"],[\"Internet software & services\"],[\"Internet software & services\"],[\"Internet software & services\"],[\"Internet software & services\"],[\"Internet software & services\"],[\"Internet software & services\"],[\"Internet software & services\"],[\"Internet software & services\"],[\"Internet software & services\"],[\"Internet software & services\"],[\"Internet software & services\"],[\"Internet software & services\"],[\"Internet software & services\"],[\"Internet software & services\"],[\"Internet software & services\"],[\"Internet software & services\"],[\"Internet software & services\"],[\"Internet software & services\"],[\"Internet software & services\"]],\"hovertemplate\":\"Industry=%{customdata[0]}<br>Years Taken to become Unicorn=%{x}<br>Country=%{y}<extra></extra>\",\"legendgroup\":\"Internet software & services\",\"marker\":{\"color\":\"#ab63fa\",\"symbol\":\"circle\"},\"mode\":\"markers\",\"name\":\"Internet software & services\",\"orientation\":\"h\",\"showlegend\":true,\"x\":[6,11,10,18,5,8,12,7,4,17,6,8,12,6,3,6,9,17,8,6,3,6,6,5,8,8,6,10,7,21,10,8,3,8,4,5,6,20,5,4,4,8,7,8,13,8,18,11,8,7,8,7,2,6,6,5,9,13,8,6,6,11,4,6,3,3,12,16,9,8,7,9,4,9,8,8,8,11,19,8,10,7,5,11,10,9,6,21,8,7,10,8,6,9,13,17,5,11,10,13,11,10,4,7,6,5,5,1,3,4,8,3,9,11,13,12,10,10,10,7,5,10,7,3,7,3,5,7,10,21,13,9,9,3,4,5,9,4,9,4,2,7,4,3,3,12,4,1,13,11,7,6,15,6,8,5,6,6,8,7,7,11,1,6,5,4,6,6,12,9,1,7,2,13,15,7,10,2,5,7,14],\"xaxis\":\"x\",\"y\":[\"Australia\",\"United States\",\"United States\",\"United States\",\"United States\",\"United States\",\"United States\",\"United States\",\"United States\",\"United States\",\"United States\",\"United States\",\"India\",\"United States\",\"United States\",\"Germany\",\"United States\",\"United States\",\"United States\",\"United States\",\"United States\",\"India\",\"United States\",\"United States\",\"United States\",\"United States\",\"United States\",\"United States\",\"United States\",\"Canada\",\"Ireland\",\"United States\",\"United States\",\"United States\",\"United States\",\"United States\",\"India\",\"United States\",\"United States\",\"United States\",\"United States\",\"United States\",\"United States\",\"United States\",\"India\",\"United States\",\"United States\",\"United States\",\"Germany\",\"United States\",\"United States\",\"United States\",\"Vietnam\",\"United States\",\"United States\",\"United States\",\"France\",\"United States\",\"United States\",\"United States\",\"United States\",\"China\",\"United States\",\"United States\",\"India\",\"India\",\"Spain\",\"Belgium\",\"United States\",\"United States\",\"United States\",\"United States\",\"United States\",\"United States\",\"United States\",\"United States\",\"China\",\"United States\",\"China\",\"United States\",\"United States\",\"United States\",\"Finland\",\"United States\",\"United States\",\"United States\",\"United States\",\"United States\",\"United States\",\"United States\",\"United States\",\"United States\",\"Israel\",\"United States\",\"Canada\",\"Australia\",\"United States\",\"United States\",\"United States\",\"United States\",\"United States\",\"Australia\",\"United States\",\"United States\",\"United States\",\"United States\",\"United States\",\"United States\",\"United States\",\"China\",\"United States\",\"Canada\",\"United States\",\"France\",\"United States\",\"Sweden\",\"United States\",\"United States\",\"United States\",\"United States\",\"United States\",\"United States\",\"United States\",\"China\",\"United States\",\"United States\",\"United States\",\"Ireland\",\"Turkey\",\"Ireland\",\"United States\",\"United States\",\"United States\",\"United States\",\"United States\",\"United States\",\"United States\",\"United States\",\"United States\",\"United States\",\"India\",\"United States\",\"Germany\",\"United States\",\"China\",\"United States\",\"United States\",\"China\",\"United States\",\"United States\",\"United States\",\"United States\",\"United States\",\"Israel\",\"United States\",\"United States\",\"United States\",\"China\",\"United States\",\"United States\",\"United States\",\"Canada\",\"United States\",\"Australia\",\"United States\",\"United States\",\"China\",\"China\",\"United States\",\"United States\",\"United States\",\"India\",\"United States\",\"United States\",\"United States\",\"India\",\"United States\",\"Canada\",\"India\",\"United States\",\"United States\"],\"yaxis\":\"y\",\"type\":\"scatter\"},{\"customdata\":[[\"Supply chain, logistics, & delivery\"],[\"Supply chain, logistics, & delivery\"],[\"Supply chain, logistics, & delivery\"],[\"Supply chain, logistics, & delivery\"],[\"Supply chain, logistics, & delivery\"],[\"Supply chain, logistics, & delivery\"],[\"Supply chain, logistics, & delivery\"],[\"Supply chain, logistics, & delivery\"],[\"Supply chain, logistics, & delivery\"],[\"Supply chain, logistics, & delivery\"],[\"Supply chain, logistics, & delivery\"],[\"Supply chain, logistics, & delivery\"],[\"Supply chain, logistics, & delivery\"],[\"Supply chain, logistics, & delivery\"],[\"Supply chain, logistics, & delivery\"],[\"Supply chain, logistics, & delivery\"],[\"Supply chain, logistics, & delivery\"],[\"Supply chain, logistics, & delivery\"],[\"Supply chain, logistics, & delivery\"],[\"Supply chain, logistics, & delivery\"],[\"Supply chain, logistics, & delivery\"],[\"Supply chain, logistics, & delivery\"],[\"Supply chain, logistics, & delivery\"],[\"Supply chain, logistics, & delivery\"],[\"Supply chain, logistics, & delivery\"],[\"Supply chain, logistics, & delivery\"],[\"Supply chain, logistics, & delivery\"],[\"Supply chain, logistics, & delivery\"],[\"Supply chain, logistics, & delivery\"],[\"Supply chain, logistics, & delivery\"],[\"Supply chain, logistics, & delivery\"],[\"Supply chain, logistics, & delivery\"],[\"Supply chain, logistics, & delivery\"],[\"Supply chain, logistics, & delivery\"],[\"Supply chain, logistics, & delivery\"],[\"Supply chain, logistics, & delivery\"],[\"Supply chain, logistics, & delivery\"],[\"Supply chain, logistics, & delivery\"],[\"Supply chain, logistics, & delivery\"],[\"Supply chain, logistics, & delivery\"],[\"Supply chain, logistics, & delivery\"],[\"Supply chain, logistics, & delivery\"],[\"Supply chain, logistics, & delivery\"],[\"Supply chain, logistics, & delivery\"],[\"Supply chain, logistics, & delivery\"],[\"Supply chain, logistics, & delivery\"],[\"Supply chain, logistics, & delivery\"],[\"Supply chain, logistics, & delivery\"],[\"Supply chain, logistics, & delivery\"],[\"Supply chain, logistics, & delivery\"],[\"Supply chain, logistics, & delivery\"],[\"Supply chain, logistics, & delivery\"],[\"Supply chain, logistics, & delivery\"]],\"hovertemplate\":\"Industry=%{customdata[0]}<br>Years Taken to become Unicorn=%{x}<br>Country=%{y}<extra></extra>\",\"legendgroup\":\"Supply chain, logistics, & delivery\",\"marker\":{\"color\":\"#FFA15A\",\"symbol\":\"circle\"},\"mode\":\"markers\",\"name\":\"Supply chain, logistics, & delivery\",\"orientation\":\"h\",\"showlegend\":true,\"x\":[2,6,4,6,5,17,3,6,7,2,8,5,3,7,6,16,6,4,12,6,6,5,7,3,6,8,4,11,5,2,10,4,6,6,5,5,20,4,7,3,8,4,7,8,8,7,8,3,6,11,6,17,13],\"xaxis\":\"x\",\"y\":[\"United States\",\"Indonesia\",\"India\",\"Hong Kong\",\"United States\",\"Finland\",\"Colombia\",\"United States\",\"South Korea\",\"India\",\"India\",\"United States\",\"United States\",\"United States\",\"United States\",\"China\",\"Brazil\",\"United States\",\"United States\",\"China\",\"India\",\"United States\",\"China\",\"China\",\"United States\",\"United States\",\"United States\",\"China\",\"Germany\",\"Czech Republic\",\"India\",\"China\",\"United States\",\"Germany\",\"China\",\"India\",\"China\",\"China\",\"Brazil\",\"United States\",\"United Kingdom\",\"Thailand\",\"United States\",\"United States\",\"Israel\",\"United States\",\"India\",\"United Arab Emirates\",\"India\",\"China\",\"Brazil\",\"Canada\",\"Switzerland\"],\"yaxis\":\"y\",\"type\":\"scatter\"},{\"customdata\":[[\"Data management & analytics\"],[\"Data management & analytics\"],[\"Data management & analytics\"],[\"Data management & analytics\"],[\"Data management & analytics\"],[\"Data management & analytics\"],[\"Data management & analytics\"],[\"Data management & analytics\"],[\"Data management & analytics\"],[\"Data management & analytics\"],[\"Data management & analytics\"],[\"Data management & analytics\"],[\"Data management & analytics\"],[\"Data management & analytics\"],[\"Data management & analytics\"],[\"Data management & analytics\"],[\"Data management & analytics\"],[\"Data management & analytics\"],[\"Data management & analytics\"],[\"Data management & analytics\"],[\"Data management & analytics\"],[\"Data management & analytics\"],[\"Data management & analytics\"],[\"Data management & analytics\"],[\"Data management & analytics\"],[\"Data management & analytics\"],[\"Data management & analytics\"],[\"Data management & analytics\"],[\"Data management & analytics\"],[\"Data management & analytics\"],[\"Data management & analytics\"],[\"Data management & analytics\"],[\"Data management & analytics\"],[\"Data management & analytics\"],[\"Data management & analytics\"],[\"Data management & analytics\"],[\"Data management & analytics\"],[\"Data management & analytics\"],[\"Data management & analytics\"]],\"hovertemplate\":\"Industry=%{customdata[0]}<br>Years Taken to become Unicorn=%{x}<br>Country=%{y}<extra></extra>\",\"legendgroup\":\"Data management & analytics\",\"marker\":{\"color\":\"#19d3f3\",\"symbol\":\"circle\"},\"mode\":\"markers\",\"name\":\"Data management & analytics\",\"orientation\":\"h\",\"showlegend\":true,\"x\":[6,7,8,11,4,6,5,3,5,4,3,6,9,14,12,9,0,6,10,8,5,9,2,10,10,3,5,8,8,11,16,17,4,6,12,2,22,8,4],\"xaxis\":\"x\",\"y\":[\"United States\",\"Germany\",\"United States\",\"Belgium\",\"United States\",\"United States\",\"United States\",\"United States\",\"United States\",\"United States\",\"United States\",\"United States\",\"United States\",\"United States\",\"United States\",\"United States\",\"United States\",\"United States\",\"United States\",\"China\",\"Norway\",\"United States\",\"China\",\"United Kingdom\",\"United States\",\"Israel\",\"United States\",\"United States\",\"United States\",\"United States\",\"United States\",\"Switzerland\",\"United States\",\"United States\",\"United States\",\"United States\",\"India\",\"United States\",\"Norway\"],\"yaxis\":\"y\",\"type\":\"scatter\"},{\"customdata\":[[\"E-commerce & direct-to-consumer\"],[\"E-commerce & direct-to-consumer\"],[\"E-commerce & direct-to-consumer\"],[\"E-commerce & direct-to-consumer\"],[\"E-commerce & direct-to-consumer\"],[\"E-commerce & direct-to-consumer\"],[\"E-commerce & direct-to-consumer\"],[\"E-commerce & direct-to-consumer\"],[\"E-commerce & direct-to-consumer\"],[\"E-commerce & direct-to-consumer\"],[\"E-commerce & direct-to-consumer\"],[\"E-commerce & direct-to-consumer\"],[\"E-commerce & direct-to-consumer\"],[\"E-commerce & direct-to-consumer\"],[\"E-commerce & direct-to-consumer\"],[\"E-commerce & direct-to-consumer\"],[\"E-commerce & direct-to-consumer\"],[\"E-commerce & direct-to-consumer\"],[\"E-commerce & direct-to-consumer\"],[\"E-commerce & direct-to-consumer\"],[\"E-commerce & direct-to-consumer\"],[\"E-commerce & direct-to-consumer\"],[\"E-commerce & direct-to-consumer\"],[\"E-commerce & direct-to-consumer\"],[\"E-commerce & direct-to-consumer\"],[\"E-commerce & direct-to-consumer\"],[\"E-commerce & direct-to-consumer\"],[\"E-commerce & direct-to-consumer\"],[\"E-commerce & direct-to-consumer\"],[\"E-commerce & direct-to-consumer\"],[\"E-commerce & direct-to-consumer\"],[\"E-commerce & direct-to-consumer\"],[\"E-commerce & direct-to-consumer\"],[\"E-commerce & direct-to-consumer\"],[\"E-commerce & direct-to-consumer\"],[\"E-commerce & direct-to-consumer\"],[\"E-commerce & direct-to-consumer\"],[\"E-commerce & direct-to-consumer\"],[\"E-commerce & direct-to-consumer\"],[\"E-commerce & direct-to-consumer\"],[\"E-commerce & direct-to-consumer\"],[\"E-commerce & direct-to-consumer\"],[\"E-commerce & direct-to-consumer\"],[\"E-commerce & direct-to-consumer\"],[\"E-commerce & direct-to-consumer\"],[\"E-commerce & direct-to-consumer\"],[\"E-commerce & direct-to-consumer\"],[\"E-commerce & direct-to-consumer\"],[\"E-commerce & direct-to-consumer\"],[\"E-commerce & direct-to-consumer\"],[\"E-commerce & direct-to-consumer\"],[\"E-commerce & direct-to-consumer\"],[\"E-commerce & direct-to-consumer\"],[\"E-commerce & direct-to-consumer\"],[\"E-commerce & direct-to-consumer\"],[\"E-commerce & direct-to-consumer\"],[\"E-commerce & direct-to-consumer\"],[\"E-commerce & direct-to-consumer\"],[\"E-commerce & direct-to-consumer\"],[\"E-commerce & direct-to-consumer\"],[\"E-commerce & direct-to-consumer\"],[\"E-commerce & direct-to-consumer\"],[\"E-commerce & direct-to-consumer\"],[\"E-commerce & direct-to-consumer\"],[\"E-commerce & direct-to-consumer\"],[\"E-commerce & direct-to-consumer\"],[\"E-commerce & direct-to-consumer\"],[\"E-commerce & direct-to-consumer\"],[\"E-commerce & direct-to-consumer\"],[\"E-commerce & direct-to-consumer\"],[\"E-commerce & direct-to-consumer\"],[\"E-commerce & direct-to-consumer\"],[\"E-commerce & direct-to-consumer\"],[\"E-commerce & direct-to-consumer\"],[\"E-commerce & direct-to-consumer\"],[\"E-commerce & direct-to-consumer\"],[\"E-commerce & direct-to-consumer\"],[\"E-commerce & direct-to-consumer\"],[\"E-commerce & direct-to-consumer\"],[\"E-commerce & direct-to-consumer\"],[\"E-commerce & direct-to-consumer\"],[\"E-commerce & direct-to-consumer\"],[\"E-commerce & direct-to-consumer\"],[\"E-commerce & direct-to-consumer\"],[\"E-commerce & direct-to-consumer\"],[\"E-commerce & direct-to-consumer\"],[\"E-commerce & direct-to-consumer\"],[\"E-commerce & direct-to-consumer\"],[\"E-commerce & direct-to-consumer\"],[\"E-commerce & direct-to-consumer\"],[\"E-commerce & direct-to-consumer\"],[\"E-commerce & direct-to-consumer\"],[\"E-commerce & direct-to-consumer\"],[\"E-commerce & direct-to-consumer\"],[\"E-commerce & direct-to-consumer\"],[\"E-commerce & direct-to-consumer\"],[\"E-commerce & direct-to-consumer\"],[\"E-commerce & direct-to-consumer\"],[\"E-commerce & direct-to-consumer\"],[\"E-commerce & direct-to-consumer\"],[\"E-commerce & direct-to-consumer\"],[\"E-commerce & direct-to-consumer\"]],\"hovertemplate\":\"Industry=%{customdata[0]}<br>Years Taken to become Unicorn=%{x}<br>Country=%{y}<extra></extra>\",\"legendgroup\":\"E-commerce & direct-to-consumer\",\"marker\":{\"color\":\"#FF6692\",\"symbol\":\"circle\"},\"mode\":\"markers\",\"name\":\"E-commerce & direct-to-consumer\",\"orientation\":\"h\",\"showlegend\":true,\"x\":[17,3,10,7,4,1,4,11,6,7,15,7,7,6,11,2,4,6,6,3,4,5,8,9,5,7,2,10,5,1,2,0,8,11,5,6,3,18,10,7,3,5,3,8,6,12,6,4,6,7,10,2,6,4,5,2,8,4,4,10,4,14,3,5,3,8,13,6,0,1,7,6,4,10,7,0,5,6,6,4,4,4,4,6,2,5,5,9,5,9,4,6,12,7,9,14,16,8,6,4,10,1],\"xaxis\":\"x\",\"y\":[\"United States\",\"China\",\"China\",\"United States\",\"United States\",\"China\",\"Mexico\",\"China\",\"Turkey\",\"China\",\"China\",\"France\",\"Brazil\",\"India\",\"Lithuania\",\"France\",\"China\",\"United States\",\"United States\",\"United States\",\"United States\",\"United States\",\"United States\",\"France\",\"India\",\"United States\",\"United States\",\"Brazil\",\"China\",\"Germany\",\"Brazil\",\"Germany\",\"France\",\"India\",\"India\",\"South Korea\",\"France\",\"South Korea\",\"India\",\"India\",\"China\",\"China\",\"United States\",\"Indonesia\",\"India\",\"France\",\"Malaysia\",\"India\",\"United States\",\"China\",\"China\",\"United States\",\"Brazil\",\"United States\",\"United States\",\"China\",\"United Kingdom\",\"China\",\"United States\",\"India\",\"United Kingdom\",\"South Korea\",\"United States\",\"United States\",\"United States\",\"Norway\",\"India\",\"India\",\"United States\",\"Mexico\",\"India\",\"United States\",\"China\",\"United States\",\"United States\",\"India\",\"India\",\"China\",\"India\",\"United States\",\"China\",\"China\",\"China\",\"China\",\"China\",\"China\",\"China\",\"China\",\"China\",\"Netherlands\",\"China\",\"United States\",\"Brazil\",\"United States\",\"United States\",\"Norway\",\"Germany\",\"United States\",\"India\",\"United States\",\"Australia\",\"Germany\"],\"yaxis\":\"y\",\"type\":\"scatter\"},{\"customdata\":[[\"Edtech\"],[\"Edtech\"],[\"Edtech\"],[\"Edtech\"],[\"Edtech\"],[\"Edtech\"],[\"Edtech\"],[\"Edtech\"],[\"Edtech\"],[\"Edtech\"],[\"Edtech\"],[\"Edtech\"],[\"Edtech\"],[\"Edtech\"],[\"Edtech\"],[\"Edtech\"],[\"Edtech\"],[\"Edtech\"],[\"Edtech\"],[\"Edtech\"],[\"Edtech\"],[\"Edtech\"],[\"Edtech\"],[\"Edtech\"],[\"Edtech\"],[\"Edtech\"],[\"Edtech\"]],\"hovertemplate\":\"Industry=%{customdata[0]}<br>Years Taken to become Unicorn=%{x}<br>Country=%{y}<extra></extra>\",\"legendgroup\":\"Edtech\",\"marker\":{\"color\":\"#B6E880\",\"symbol\":\"circle\"},\"mode\":\"markers\",\"name\":\"Edtech\",\"orientation\":\"h\",\"showlegend\":true,\"x\":[9,5,3,6,14,4,5,11,4,5,9,6,6,6,9,4,6,5,10,14,17,8,5,15,10,10,7],\"xaxis\":\"x\",\"y\":[\"India\",\"China\",\"China\",\"United States\",\"United States\",\"Austria\",\"India\",\"India\",\"China\",\"Canada\",\"United States\",\"United States\",\"United States\",\"China\",\"United States\",\"China\",\"India\",\"China\",\"India\",\"China\",\"China\",\"China\",\"China\",\"United States\",\"China\",\"Israel\",\"India\"],\"yaxis\":\"y\",\"type\":\"scatter\"},{\"customdata\":[[\"Hardware\"],[\"Hardware\"],[\"Hardware\"],[\"Hardware\"],[\"Hardware\"],[\"Hardware\"],[\"Hardware\"],[\"Hardware\"],[\"Hardware\"],[\"Hardware\"],[\"Hardware\"],[\"Hardware\"],[\"Hardware\"],[\"Hardware\"],[\"Hardware\"],[\"Hardware\"],[\"Hardware\"],[\"Hardware\"],[\"Hardware\"],[\"Hardware\"],[\"Hardware\"],[\"Hardware\"],[\"Hardware\"],[\"Hardware\"],[\"Hardware\"],[\"Hardware\"],[\"Hardware\"],[\"Hardware\"],[\"Hardware\"],[\"Hardware\"],[\"Hardware\"],[\"Hardware\"]],\"hovertemplate\":\"Industry=%{customdata[0]}<br>Years Taken to become Unicorn=%{x}<br>Country=%{y}<extra></extra>\",\"legendgroup\":\"Hardware\",\"marker\":{\"color\":\"#FF97FF\",\"symbol\":\"circle\"},\"mode\":\"markers\",\"name\":\"Hardware\",\"orientation\":\"h\",\"showlegend\":true,\"x\":[9,3,18,3,11,4,2,4,5,2,1,7,4,7,5,4,6,7,3,12,3,7,5,8,3,7,3,7,4,7,3,8],\"xaxis\":\"x\",\"y\":[\"China\",\"China\",\"United Kingdom\",\"China\",\"China\",\"China\",\"United States\",\"United States\",\"United States\",\"United States\",\"China\",\"United States\",\"United States\",\"France\",\"United States\",\"United States\",\"China\",\"France\",\"Israel\",\"China\",\"China\",\"United States\",\"China\",\"China\",\"China\",\"Netherlands\",\"China\",\"United States\",\"China\",\"China\",\"Germany\",\"China\"],\"yaxis\":\"y\",\"type\":\"scatter\"},{\"customdata\":[[\"Consumer & retail\"],[\"Consumer & retail\"],[\"Consumer & retail\"],[\"Consumer & retail\"],[\"Consumer & retail\"],[\"Consumer & retail\"],[\"Consumer & retail\"],[\"Consumer & retail\"],[\"Consumer & retail\"],[\"Consumer & retail\"],[\"Consumer & retail\"],[\"Consumer & retail\"],[\"Consumer & retail\"],[\"Consumer & retail\"],[\"Consumer & retail\"],[\"Consumer & retail\"],[\"Consumer & retail\"],[\"Consumer & retail\"],[\"Consumer & retail\"],[\"Consumer & retail\"],[\"Consumer & retail\"],[\"Consumer & retail\"],[\"Consumer & retail\"]],\"hovertemplate\":\"Industry=%{customdata[0]}<br>Years Taken to become Unicorn=%{x}<br>Country=%{y}<extra></extra>\",\"legendgroup\":\"Consumer & retail\",\"marker\":{\"color\":\"#FECB52\",\"symbol\":\"circle\"},\"mode\":\"markers\",\"name\":\"Consumer & retail\",\"orientation\":\"h\",\"showlegend\":true,\"x\":[4,2,19,8,3,13,7,4,5,11,37,4,10,5,7,6,5,2,3,1,1,5,4],\"xaxis\":\"x\",\"y\":[\"China\",\"United States\",\"China\",\"United States\",\"United States\",\"Hong Kong\",\"United States\",\"China\",\"United States\",\"United States\",\"South Africa\",\"China\",\"United Kingdom\",\"United States\",\"South Korea\",\"United States\",\"China\",\"United States\",\"China\",\"China\",\"Germany\",\"United States\",\"Indonesia\"],\"yaxis\":\"y\",\"type\":\"scatter\"},{\"customdata\":[[\"Health\"],[\"Health\"],[\"Health\"],[\"Health\"],[\"Health\"],[\"Health\"],[\"Health\"],[\"Health\"],[\"Health\"],[\"Health\"],[\"Health\"],[\"Health\"],[\"Health\"],[\"Health\"],[\"Health\"],[\"Health\"],[\"Health\"],[\"Health\"],[\"Health\"],[\"Health\"],[\"Health\"],[\"Health\"],[\"Health\"],[\"Health\"],[\"Health\"],[\"Health\"],[\"Health\"],[\"Health\"],[\"Health\"],[\"Health\"],[\"Health\"],[\"Health\"],[\"Health\"],[\"Health\"],[\"Health\"],[\"Health\"],[\"Health\"],[\"Health\"],[\"Health\"],[\"Health\"],[\"Health\"],[\"Health\"],[\"Health\"],[\"Health\"],[\"Health\"],[\"Health\"],[\"Health\"],[\"Health\"],[\"Health\"],[\"Health\"],[\"Health\"],[\"Health\"],[\"Health\"],[\"Health\"],[\"Health\"],[\"Health\"],[\"Health\"],[\"Health\"],[\"Health\"],[\"Health\"],[\"Health\"],[\"Health\"],[\"Health\"],[\"Health\"],[\"Health\"],[\"Health\"]],\"hovertemplate\":\"Industry=%{customdata[0]}<br>Years Taken to become Unicorn=%{x}<br>Country=%{y}<extra></extra>\",\"legendgroup\":\"Health\",\"marker\":{\"color\":\"#636efa\",\"symbol\":\"circle\"},\"mode\":\"markers\",\"name\":\"Health\",\"orientation\":\"h\",\"showlegend\":true,\"x\":[1,10,3,25,5,3,6,3,6,5,8,7,4,19,15,98,6,7,5,6,6,9,5,22,7,5,6,7,8,8,7,2,5,5,5,6,7,5,6,12,7,10,21,1,2,3,4,6,4,19,4,7,18,4,5,4,9,2,5,28,6,7,7,7,1,11],\"xaxis\":\"x\",\"y\":[\"United States\",\"United States\",\"United States\",\"United States\",\"China\",\"United States\",\"United States\",\"United States\",\"China\",\"United States\",\"United States\",\"United States\",\"China\",\"United States\",\"United States\",\"Germany\",\"United States\",\"United States\",\"United Kingdom\",\"United States\",\"United States\",\"United States\",\"United States\",\"China\",\"Sweden\",\"United States\",\"United States\",\"United States\",\"United States\",\"United States\",\"United States\",\"United States\",\"United States\",\"United States\",\"India\",\"United States\",\"United States\",\"United States\",\"China\",\"United States\",\"United States\",\"United States\",\"Israel\",\"United States\",\"United States\",\"India\",\"United States\",\"France\",\"United States\",\"South Korea\",\"Switzerland\",\"United States\",\"China\",\"China\",\"United States\",\"United States\",\"United States\",\"China\",\"United States\",\"United States\",\"Ireland\",\"United States\",\"United States\",\"France\",\"United States\",\"United States\"],\"yaxis\":\"y\",\"type\":\"scatter\"},{\"customdata\":[[\"Auto & transportation\"],[\"Auto & transportation\"],[\"Auto & transportation\"],[\"Auto & transportation\"],[\"Auto & transportation\"],[\"Auto & transportation\"],[\"Auto & transportation\"],[\"Auto & transportation\"],[\"Auto & transportation\"],[\"Auto & transportation\"],[\"Auto & transportation\"],[\"Auto & transportation\"],[\"Auto & transportation\"],[\"Auto & transportation\"],[\"Auto & transportation\"],[\"Auto & transportation\"],[\"Auto & transportation\"],[\"Auto & transportation\"],[\"Auto & transportation\"],[\"Auto & transportation\"],[\"Auto & transportation\"],[\"Auto & transportation\"],[\"Auto & transportation\"],[\"Auto & transportation\"],[\"Auto & transportation\"],[\"Auto & transportation\"]],\"hovertemplate\":\"Industry=%{customdata[0]}<br>Years Taken to become Unicorn=%{x}<br>Country=%{y}<extra></extra>\",\"legendgroup\":\"Auto & transportation\",\"marker\":{\"color\":\"#EF553B\",\"symbol\":\"circle\"},\"mode\":\"markers\",\"name\":\"Auto & transportation\",\"orientation\":\"h\",\"showlegend\":true,\"x\":[8,3,5,2,4,0,3,4,4,6,8,7,2,7,9,4,1,3,6,3,5,7,7,2,3,3],\"xaxis\":\"x\",\"y\":[\"China\",\"United States\",\"Estonia\",\"China\",\"China\",\"India\",\"China\",\"China\",\"China\",\"Germany\",\"United States\",\"China\",\"China\",\"China\",\"France\",\"China\",\"China\",\"China\",\"United Kingdom\",\"China\",\"Sweden\",\"Spain\",\"China\",\"China\",\"China\",\"China\"],\"yaxis\":\"y\",\"type\":\"scatter\"},{\"customdata\":[[\"Cybersecurity\"],[\"Cybersecurity\"],[\"Cybersecurity\"],[\"Cybersecurity\"],[\"Cybersecurity\"],[\"Cybersecurity\"],[\"Cybersecurity\"],[\"Cybersecurity\"],[\"Cybersecurity\"],[\"Cybersecurity\"],[\"Cybersecurity\"],[\"Cybersecurity\"],[\"Cybersecurity\"],[\"Cybersecurity\"],[\"Cybersecurity\"],[\"Cybersecurity\"],[\"Cybersecurity\"],[\"Cybersecurity\"],[\"Cybersecurity\"],[\"Cybersecurity\"],[\"Cybersecurity\"],[\"Cybersecurity\"],[\"Cybersecurity\"],[\"Cybersecurity\"],[\"Cybersecurity\"],[\"Cybersecurity\"],[\"Cybersecurity\"],[\"Cybersecurity\"],[\"Cybersecurity\"],[\"Cybersecurity\"],[\"Cybersecurity\"],[\"Cybersecurity\"],[\"Cybersecurity\"],[\"Cybersecurity\"],[\"Cybersecurity\"],[\"Cybersecurity\"],[\"Cybersecurity\"],[\"Cybersecurity\"],[\"Cybersecurity\"],[\"Cybersecurity\"],[\"Cybersecurity\"],[\"Cybersecurity\"],[\"Cybersecurity\"],[\"Cybersecurity\"],[\"Cybersecurity\"],[\"Cybersecurity\"],[\"Cybersecurity\"],[\"Cybersecurity\"]],\"hovertemplate\":\"Industry=%{customdata[0]}<br>Years Taken to become Unicorn=%{x}<br>Country=%{y}<extra></extra>\",\"legendgroup\":\"Cybersecurity\",\"marker\":{\"color\":\"#00cc96\",\"symbol\":\"circle\"},\"mode\":\"markers\",\"name\":\"Cybersecurity\",\"orientation\":\"h\",\"showlegend\":true,\"x\":[8,5,6,6,16,1,9,8,4,7,2,7,16,5,2,8,7,8,8,19,3,10,2,5,4,11,3,3,3,6,6,5,6,4,20,21,3,6,6,6,1,7,5,14,1,7,8,5],\"xaxis\":\"x\",\"y\":[\"United States\",\"United States\",\"United States\",\"United States\",\"Canada\",\"Israel\",\"United States\",\"United States\",\"United States\",\"United States\",\"United States\",\"Israel\",\"Switzerland\",\"Israel\",\"United States\",\"United States\",\"United States\",\"United States\",\"United States\",\"United States\",\"Israel\",\"Canada\",\"United States\",\"United States\",\"United States\",\"United States\",\"United States\",\"United States\",\"United States\",\"United States\",\"China\",\"United States\",\"United States\",\"United States\",\"United States\",\"Canada\",\"United States\",\"United States\",\"Israel\",\"United States\",\"United States\",\"United States\",\"United States\",\"United States\",\"United States\",\"Israel\",\"United States\",\"United States\"],\"yaxis\":\"y\",\"type\":\"scatter\"},{\"customdata\":[[\"Mobile & telecommunications\"],[\"Mobile & telecommunications\"],[\"Mobile & telecommunications\"],[\"Mobile & telecommunications\"],[\"Mobile & telecommunications\"],[\"Mobile & telecommunications\"],[\"Mobile & telecommunications\"],[\"Mobile & telecommunications\"],[\"Mobile & telecommunications\"],[\"Mobile & telecommunications\"],[\"Mobile & telecommunications\"],[\"Mobile & telecommunications\"],[\"Mobile & telecommunications\"],[\"Mobile & telecommunications\"],[\"Mobile & telecommunications\"],[\"Mobile & telecommunications\"],[\"Mobile & telecommunications\"],[\"Mobile & telecommunications\"],[\"Mobile & telecommunications\"],[\"Mobile & telecommunications\"],[\"Mobile & telecommunications\"],[\"Mobile & telecommunications\"],[\"Mobile & telecommunications\"],[\"Mobile & telecommunications\"],[\"Mobile & telecommunications\"],[\"Mobile & telecommunications\"],[\"Mobile & telecommunications\"],[\"Mobile & telecommunications\"],[\"Mobile & telecommunications\"],[\"Mobile & telecommunications\"],[\"Mobile & telecommunications\"],[\"Mobile & telecommunications\"]],\"hovertemplate\":\"Industry=%{customdata[0]}<br>Years Taken to become Unicorn=%{x}<br>Country=%{y}<extra></extra>\",\"legendgroup\":\"Mobile & telecommunications\",\"marker\":{\"color\":\"#ab63fa\",\"symbol\":\"circle\"},\"mode\":\"markers\",\"name\":\"Mobile & telecommunications\",\"orientation\":\"h\",\"showlegend\":true,\"x\":[2,4,5,2,4,9,8,4,2,2,14,9,6,7,1,5,8,-4,6,5,8,4,5,8,7,4,17,4,2,20,9,14],\"xaxis\":\"x\",\"y\":[\"United States\",\"United States\",\"Israel\",\"South Korea\",\"United States\",\"Netherlands\",\"United States\",\"China\",\"China\",\"Turkey\",\"China\",\"United States\",\"China\",\"Japan\",\"China\",\"China\",\"United States\",\"China\",\"United States\",\"United Kingdom\",\"China\",\"United States\",\"United States\",\"United States\",\"India\",\"China\",\"South Africa\",\"China\",\"Finland\",\"Brazil\",\"China\",\"Croatia\"],\"yaxis\":\"y\",\"type\":\"scatter\"},{\"customdata\":[[\"Travel\"],[\"Travel\"],[\"Travel\"],[\"Travel\"],[\"Travel\"],[\"Travel\"],[\"Travel\"],[\"Travel\"],[\"Travel\"],[\"Travel\"],[\"Travel\"],[\"Travel\"],[\"Travel\"],[\"Travel\"]],\"hovertemplate\":\"Industry=%{customdata[0]}<br>Years Taken to become Unicorn=%{x}<br>Country=%{y}<extra></extra>\",\"legendgroup\":\"Travel\",\"marker\":{\"color\":\"#FFA15A\",\"symbol\":\"circle\"},\"mode\":\"markers\",\"name\":\"Travel\",\"orientation\":\"h\",\"showlegend\":true,\"x\":[6,3,14,5,9,3,4,5,4,7,10,5,14,3],\"xaxis\":\"x\",\"y\":[\"India\",\"United States\",\"Canada\",\"Indonesia\",\"China\",\"Germany\",\"China\",\"China\",\"Hong Kong\",\"Spain\",\"Germany\",\"Germany\",\"South Korea\",\"Sweden\"],\"yaxis\":\"y\",\"type\":\"scatter\"}],                        {\"template\":{\"data\":{\"bar\":[{\"error_x\":{\"color\":\"#2a3f5f\"},\"error_y\":{\"color\":\"#2a3f5f\"},\"marker\":{\"line\":{\"color\":\"#E5ECF6\",\"width\":0.5},\"pattern\":{\"fillmode\":\"overlay\",\"size\":10,\"solidity\":0.2}},\"type\":\"bar\"}],\"barpolar\":[{\"marker\":{\"line\":{\"color\":\"#E5ECF6\",\"width\":0.5},\"pattern\":{\"fillmode\":\"overlay\",\"size\":10,\"solidity\":0.2}},\"type\":\"barpolar\"}],\"carpet\":[{\"aaxis\":{\"endlinecolor\":\"#2a3f5f\",\"gridcolor\":\"white\",\"linecolor\":\"white\",\"minorgridcolor\":\"white\",\"startlinecolor\":\"#2a3f5f\"},\"baxis\":{\"endlinecolor\":\"#2a3f5f\",\"gridcolor\":\"white\",\"linecolor\":\"white\",\"minorgridcolor\":\"white\",\"startlinecolor\":\"#2a3f5f\"},\"type\":\"carpet\"}],\"choropleth\":[{\"colorbar\":{\"outlinewidth\":0,\"ticks\":\"\"},\"type\":\"choropleth\"}],\"contour\":[{\"colorbar\":{\"outlinewidth\":0,\"ticks\":\"\"},\"colorscale\":[[0.0,\"#0d0887\"],[0.1111111111111111,\"#46039f\"],[0.2222222222222222,\"#7201a8\"],[0.3333333333333333,\"#9c179e\"],[0.4444444444444444,\"#bd3786\"],[0.5555555555555556,\"#d8576b\"],[0.6666666666666666,\"#ed7953\"],[0.7777777777777778,\"#fb9f3a\"],[0.8888888888888888,\"#fdca26\"],[1.0,\"#f0f921\"]],\"type\":\"contour\"}],\"contourcarpet\":[{\"colorbar\":{\"outlinewidth\":0,\"ticks\":\"\"},\"type\":\"contourcarpet\"}],\"heatmap\":[{\"colorbar\":{\"outlinewidth\":0,\"ticks\":\"\"},\"colorscale\":[[0.0,\"#0d0887\"],[0.1111111111111111,\"#46039f\"],[0.2222222222222222,\"#7201a8\"],[0.3333333333333333,\"#9c179e\"],[0.4444444444444444,\"#bd3786\"],[0.5555555555555556,\"#d8576b\"],[0.6666666666666666,\"#ed7953\"],[0.7777777777777778,\"#fb9f3a\"],[0.8888888888888888,\"#fdca26\"],[1.0,\"#f0f921\"]],\"type\":\"heatmap\"}],\"heatmapgl\":[{\"colorbar\":{\"outlinewidth\":0,\"ticks\":\"\"},\"colorscale\":[[0.0,\"#0d0887\"],[0.1111111111111111,\"#46039f\"],[0.2222222222222222,\"#7201a8\"],[0.3333333333333333,\"#9c179e\"],[0.4444444444444444,\"#bd3786\"],[0.5555555555555556,\"#d8576b\"],[0.6666666666666666,\"#ed7953\"],[0.7777777777777778,\"#fb9f3a\"],[0.8888888888888888,\"#fdca26\"],[1.0,\"#f0f921\"]],\"type\":\"heatmapgl\"}],\"histogram\":[{\"marker\":{\"pattern\":{\"fillmode\":\"overlay\",\"size\":10,\"solidity\":0.2}},\"type\":\"histogram\"}],\"histogram2d\":[{\"colorbar\":{\"outlinewidth\":0,\"ticks\":\"\"},\"colorscale\":[[0.0,\"#0d0887\"],[0.1111111111111111,\"#46039f\"],[0.2222222222222222,\"#7201a8\"],[0.3333333333333333,\"#9c179e\"],[0.4444444444444444,\"#bd3786\"],[0.5555555555555556,\"#d8576b\"],[0.6666666666666666,\"#ed7953\"],[0.7777777777777778,\"#fb9f3a\"],[0.8888888888888888,\"#fdca26\"],[1.0,\"#f0f921\"]],\"type\":\"histogram2d\"}],\"histogram2dcontour\":[{\"colorbar\":{\"outlinewidth\":0,\"ticks\":\"\"},\"colorscale\":[[0.0,\"#0d0887\"],[0.1111111111111111,\"#46039f\"],[0.2222222222222222,\"#7201a8\"],[0.3333333333333333,\"#9c179e\"],[0.4444444444444444,\"#bd3786\"],[0.5555555555555556,\"#d8576b\"],[0.6666666666666666,\"#ed7953\"],[0.7777777777777778,\"#fb9f3a\"],[0.8888888888888888,\"#fdca26\"],[1.0,\"#f0f921\"]],\"type\":\"histogram2dcontour\"}],\"mesh3d\":[{\"colorbar\":{\"outlinewidth\":0,\"ticks\":\"\"},\"type\":\"mesh3d\"}],\"parcoords\":[{\"line\":{\"colorbar\":{\"outlinewidth\":0,\"ticks\":\"\"}},\"type\":\"parcoords\"}],\"pie\":[{\"automargin\":true,\"type\":\"pie\"}],\"scatter\":[{\"marker\":{\"colorbar\":{\"outlinewidth\":0,\"ticks\":\"\"}},\"type\":\"scatter\"}],\"scatter3d\":[{\"line\":{\"colorbar\":{\"outlinewidth\":0,\"ticks\":\"\"}},\"marker\":{\"colorbar\":{\"outlinewidth\":0,\"ticks\":\"\"}},\"type\":\"scatter3d\"}],\"scattercarpet\":[{\"marker\":{\"colorbar\":{\"outlinewidth\":0,\"ticks\":\"\"}},\"type\":\"scattercarpet\"}],\"scattergeo\":[{\"marker\":{\"colorbar\":{\"outlinewidth\":0,\"ticks\":\"\"}},\"type\":\"scattergeo\"}],\"scattergl\":[{\"marker\":{\"colorbar\":{\"outlinewidth\":0,\"ticks\":\"\"}},\"type\":\"scattergl\"}],\"scattermapbox\":[{\"marker\":{\"colorbar\":{\"outlinewidth\":0,\"ticks\":\"\"}},\"type\":\"scattermapbox\"}],\"scatterpolar\":[{\"marker\":{\"colorbar\":{\"outlinewidth\":0,\"ticks\":\"\"}},\"type\":\"scatterpolar\"}],\"scatterpolargl\":[{\"marker\":{\"colorbar\":{\"outlinewidth\":0,\"ticks\":\"\"}},\"type\":\"scatterpolargl\"}],\"scatterternary\":[{\"marker\":{\"colorbar\":{\"outlinewidth\":0,\"ticks\":\"\"}},\"type\":\"scatterternary\"}],\"surface\":[{\"colorbar\":{\"outlinewidth\":0,\"ticks\":\"\"},\"colorscale\":[[0.0,\"#0d0887\"],[0.1111111111111111,\"#46039f\"],[0.2222222222222222,\"#7201a8\"],[0.3333333333333333,\"#9c179e\"],[0.4444444444444444,\"#bd3786\"],[0.5555555555555556,\"#d8576b\"],[0.6666666666666666,\"#ed7953\"],[0.7777777777777778,\"#fb9f3a\"],[0.8888888888888888,\"#fdca26\"],[1.0,\"#f0f921\"]],\"type\":\"surface\"}],\"table\":[{\"cells\":{\"fill\":{\"color\":\"#EBF0F8\"},\"line\":{\"color\":\"white\"}},\"header\":{\"fill\":{\"color\":\"#C8D4E3\"},\"line\":{\"color\":\"white\"}},\"type\":\"table\"}]},\"layout\":{\"annotationdefaults\":{\"arrowcolor\":\"#2a3f5f\",\"arrowhead\":0,\"arrowwidth\":1},\"autotypenumbers\":\"strict\",\"coloraxis\":{\"colorbar\":{\"outlinewidth\":0,\"ticks\":\"\"}},\"colorscale\":{\"diverging\":[[0,\"#8e0152\"],[0.1,\"#c51b7d\"],[0.2,\"#de77ae\"],[0.3,\"#f1b6da\"],[0.4,\"#fde0ef\"],[0.5,\"#f7f7f7\"],[0.6,\"#e6f5d0\"],[0.7,\"#b8e186\"],[0.8,\"#7fbc41\"],[0.9,\"#4d9221\"],[1,\"#276419\"]],\"sequential\":[[0.0,\"#0d0887\"],[0.1111111111111111,\"#46039f\"],[0.2222222222222222,\"#7201a8\"],[0.3333333333333333,\"#9c179e\"],[0.4444444444444444,\"#bd3786\"],[0.5555555555555556,\"#d8576b\"],[0.6666666666666666,\"#ed7953\"],[0.7777777777777778,\"#fb9f3a\"],[0.8888888888888888,\"#fdca26\"],[1.0,\"#f0f921\"]],\"sequentialminus\":[[0.0,\"#0d0887\"],[0.1111111111111111,\"#46039f\"],[0.2222222222222222,\"#7201a8\"],[0.3333333333333333,\"#9c179e\"],[0.4444444444444444,\"#bd3786\"],[0.5555555555555556,\"#d8576b\"],[0.6666666666666666,\"#ed7953\"],[0.7777777777777778,\"#fb9f3a\"],[0.8888888888888888,\"#fdca26\"],[1.0,\"#f0f921\"]]},\"colorway\":[\"#636efa\",\"#EF553B\",\"#00cc96\",\"#ab63fa\",\"#FFA15A\",\"#19d3f3\",\"#FF6692\",\"#B6E880\",\"#FF97FF\",\"#FECB52\"],\"font\":{\"color\":\"#2a3f5f\"},\"geo\":{\"bgcolor\":\"white\",\"lakecolor\":\"white\",\"landcolor\":\"#E5ECF6\",\"showlakes\":true,\"showland\":true,\"subunitcolor\":\"white\"},\"hoverlabel\":{\"align\":\"left\"},\"hovermode\":\"closest\",\"mapbox\":{\"style\":\"light\"},\"paper_bgcolor\":\"white\",\"plot_bgcolor\":\"#E5ECF6\",\"polar\":{\"angularaxis\":{\"gridcolor\":\"white\",\"linecolor\":\"white\",\"ticks\":\"\"},\"bgcolor\":\"#E5ECF6\",\"radialaxis\":{\"gridcolor\":\"white\",\"linecolor\":\"white\",\"ticks\":\"\"}},\"scene\":{\"xaxis\":{\"backgroundcolor\":\"#E5ECF6\",\"gridcolor\":\"white\",\"gridwidth\":2,\"linecolor\":\"white\",\"showbackground\":true,\"ticks\":\"\",\"zerolinecolor\":\"white\"},\"yaxis\":{\"backgroundcolor\":\"#E5ECF6\",\"gridcolor\":\"white\",\"gridwidth\":2,\"linecolor\":\"white\",\"showbackground\":true,\"ticks\":\"\",\"zerolinecolor\":\"white\"},\"zaxis\":{\"backgroundcolor\":\"#E5ECF6\",\"gridcolor\":\"white\",\"gridwidth\":2,\"linecolor\":\"white\",\"showbackground\":true,\"ticks\":\"\",\"zerolinecolor\":\"white\"}},\"shapedefaults\":{\"line\":{\"color\":\"#2a3f5f\"}},\"ternary\":{\"aaxis\":{\"gridcolor\":\"white\",\"linecolor\":\"white\",\"ticks\":\"\"},\"baxis\":{\"gridcolor\":\"white\",\"linecolor\":\"white\",\"ticks\":\"\"},\"bgcolor\":\"#E5ECF6\",\"caxis\":{\"gridcolor\":\"white\",\"linecolor\":\"white\",\"ticks\":\"\"}},\"title\":{\"x\":0.05},\"xaxis\":{\"automargin\":true,\"gridcolor\":\"white\",\"linecolor\":\"white\",\"ticks\":\"\",\"title\":{\"standoff\":15},\"zerolinecolor\":\"white\",\"zerolinewidth\":2},\"yaxis\":{\"automargin\":true,\"gridcolor\":\"white\",\"linecolor\":\"white\",\"ticks\":\"\",\"title\":{\"standoff\":15},\"zerolinecolor\":\"white\",\"zerolinewidth\":2}}},\"xaxis\":{\"anchor\":\"y\",\"domain\":[0.0,1.0],\"title\":{\"text\":\"Years Taken to become Unicorn\"}},\"yaxis\":{\"anchor\":\"x\",\"domain\":[0.0,1.0],\"title\":{\"text\":\"Country\"}},\"legend\":{\"title\":{\"text\":\"Industry\"},\"tracegroupgap\":0},\"title\":{\"text\":\"Years taken to become Unicorn wrt Country and Industry\"}},                        {\"responsive\": true}                    ).then(function(){\n",
       "                            \n",
       "var gd = document.getElementById('400817d7-fd91-4385-bc70-f196e64ffdf9');\n",
       "var x = new MutationObserver(function (mutations, observer) {{\n",
       "        var display = window.getComputedStyle(gd).display;\n",
       "        if (!display || display === 'none') {{\n",
       "            console.log([gd, 'removed!']);\n",
       "            Plotly.purge(gd);\n",
       "            observer.disconnect();\n",
       "        }}\n",
       "}});\n",
       "\n",
       "// Listen for the removal of the full notebook cells\n",
       "var notebookContainer = gd.closest('#notebook-container');\n",
       "if (notebookContainer) {{\n",
       "    x.observe(notebookContainer, {childList: true});\n",
       "}}\n",
       "\n",
       "// Listen for the clearing of the current output cell\n",
       "var outputEl = gd.closest('.output');\n",
       "if (outputEl) {{\n",
       "    x.observe(outputEl, {childList: true});\n",
       "}}\n",
       "\n",
       "                        })                };                            </script>        </div>\n",
       "</body>\n",
       "</html>"
      ]
     },
     "metadata": {},
     "output_type": "display_data"
    }
   ],
   "source": [
    "fig=px.scatter(df,x='Years Taken to become Unicorn',y='Country',hover_data=['Industry'],color='Industry',title=\"Years taken to become Unicorn wrt Country and Industry\")\n",
    "fig.show()"
   ]
  },
  {
   "cell_type": "markdown",
   "metadata": {
    "id": "-jP4_OUD672g"
   },
   "source": [
    "Average Years taken to become Unicorn wrt Industry"
   ]
  },
  {
   "cell_type": "code",
   "execution_count": null,
   "metadata": {
    "colab": {
     "base_uri": "https://localhost:8080/",
     "height": 514
    },
    "executionInfo": {
     "elapsed": 440,
     "status": "ok",
     "timestamp": 1677271748750,
     "user": {
      "displayName": "Shloke Maheshwari",
      "userId": "14292175972920513536"
     },
     "user_tz": -330
    },
    "id": "orKkF3UC7AQ-",
    "outputId": "2fefa333-f0e6-4e6b-817c-3cb5e7b14bde"
   },
   "outputs": [
    {
     "data": {
      "text/html": [
       "\n",
       "  <div id=\"df-f59f03f1-a4f1-4c99-bdca-e4137f83193d\">\n",
       "    <div class=\"colab-df-container\">\n",
       "      <div>\n",
       "<style scoped>\n",
       "    .dataframe tbody tr th:only-of-type {\n",
       "        vertical-align: middle;\n",
       "    }\n",
       "\n",
       "    .dataframe tbody tr th {\n",
       "        vertical-align: top;\n",
       "    }\n",
       "\n",
       "    .dataframe thead tr th {\n",
       "        text-align: left;\n",
       "    }\n",
       "\n",
       "    .dataframe thead tr:last-of-type th {\n",
       "        text-align: right;\n",
       "    }\n",
       "</style>\n",
       "<table border=\"1\" class=\"dataframe\">\n",
       "  <thead>\n",
       "    <tr>\n",
       "      <th></th>\n",
       "      <th>Years Taken to become Unicorn</th>\n",
       "    </tr>\n",
       "    <tr>\n",
       "      <th></th>\n",
       "      <th>mean</th>\n",
       "    </tr>\n",
       "    <tr>\n",
       "      <th>Industry</th>\n",
       "      <th></th>\n",
       "    </tr>\n",
       "  </thead>\n",
       "  <tbody>\n",
       "    <tr>\n",
       "      <th>Internet software &amp; services</th>\n",
       "      <td>7.950276</td>\n",
       "    </tr>\n",
       "    <tr>\n",
       "      <th>Edtech</th>\n",
       "      <td>7.888889</td>\n",
       "    </tr>\n",
       "    <tr>\n",
       "      <th>Data management &amp; analytics</th>\n",
       "      <td>7.641026</td>\n",
       "    </tr>\n",
       "    <tr>\n",
       "      <th>Consumer &amp; retail</th>\n",
       "      <td>7.217391</td>\n",
       "    </tr>\n",
       "    <tr>\n",
       "      <th>Cybersecurity</th>\n",
       "      <td>6.937500</td>\n",
       "    </tr>\n",
       "    <tr>\n",
       "      <th>Supply chain, logistics, &amp; delivery</th>\n",
       "      <td>6.867925</td>\n",
       "    </tr>\n",
       "    <tr>\n",
       "      <th>Fintech</th>\n",
       "      <td>6.748691</td>\n",
       "    </tr>\n",
       "    <tr>\n",
       "      <th>Travel</th>\n",
       "      <td>6.571429</td>\n",
       "    </tr>\n",
       "    <tr>\n",
       "      <th>Artificial Intelligence</th>\n",
       "      <td>6.506667</td>\n",
       "    </tr>\n",
       "    <tr>\n",
       "      <th>Mobile &amp; telecommunications</th>\n",
       "      <td>6.281250</td>\n",
       "    </tr>\n",
       "    <tr>\n",
       "      <th>E-commerce &amp; direct-to-consumer</th>\n",
       "      <td>6.274510</td>\n",
       "    </tr>\n",
       "    <tr>\n",
       "      <th>Hardware</th>\n",
       "      <td>5.687500</td>\n",
       "    </tr>\n",
       "    <tr>\n",
       "      <th>Auto &amp; transportation</th>\n",
       "      <td>4.461538</td>\n",
       "    </tr>\n",
       "  </tbody>\n",
       "</table>\n",
       "</div>\n",
       "      <button class=\"colab-df-convert\" onclick=\"convertToInteractive('df-f59f03f1-a4f1-4c99-bdca-e4137f83193d')\"\n",
       "              title=\"Convert this dataframe to an interactive table.\"\n",
       "              style=\"display:none;\">\n",
       "        \n",
       "  <svg xmlns=\"http://www.w3.org/2000/svg\" height=\"24px\"viewBox=\"0 0 24 24\"\n",
       "       width=\"24px\">\n",
       "    <path d=\"M0 0h24v24H0V0z\" fill=\"none\"/>\n",
       "    <path d=\"M18.56 5.44l.94 2.06.94-2.06 2.06-.94-2.06-.94-.94-2.06-.94 2.06-2.06.94zm-11 1L8.5 8.5l.94-2.06 2.06-.94-2.06-.94L8.5 2.5l-.94 2.06-2.06.94zm10 10l.94 2.06.94-2.06 2.06-.94-2.06-.94-.94-2.06-.94 2.06-2.06.94z\"/><path d=\"M17.41 7.96l-1.37-1.37c-.4-.4-.92-.59-1.43-.59-.52 0-1.04.2-1.43.59L10.3 9.45l-7.72 7.72c-.78.78-.78 2.05 0 2.83L4 21.41c.39.39.9.59 1.41.59.51 0 1.02-.2 1.41-.59l7.78-7.78 2.81-2.81c.8-.78.8-2.07 0-2.86zM5.41 20L4 18.59l7.72-7.72 1.47 1.35L5.41 20z\"/>\n",
       "  </svg>\n",
       "      </button>\n",
       "      \n",
       "  <style>\n",
       "    .colab-df-container {\n",
       "      display:flex;\n",
       "      flex-wrap:wrap;\n",
       "      gap: 12px;\n",
       "    }\n",
       "\n",
       "    .colab-df-convert {\n",
       "      background-color: #E8F0FE;\n",
       "      border: none;\n",
       "      border-radius: 50%;\n",
       "      cursor: pointer;\n",
       "      display: none;\n",
       "      fill: #1967D2;\n",
       "      height: 32px;\n",
       "      padding: 0 0 0 0;\n",
       "      width: 32px;\n",
       "    }\n",
       "\n",
       "    .colab-df-convert:hover {\n",
       "      background-color: #E2EBFA;\n",
       "      box-shadow: 0px 1px 2px rgba(60, 64, 67, 0.3), 0px 1px 3px 1px rgba(60, 64, 67, 0.15);\n",
       "      fill: #174EA6;\n",
       "    }\n",
       "\n",
       "    [theme=dark] .colab-df-convert {\n",
       "      background-color: #3B4455;\n",
       "      fill: #D2E3FC;\n",
       "    }\n",
       "\n",
       "    [theme=dark] .colab-df-convert:hover {\n",
       "      background-color: #434B5C;\n",
       "      box-shadow: 0px 1px 3px 1px rgba(0, 0, 0, 0.15);\n",
       "      filter: drop-shadow(0px 1px 2px rgba(0, 0, 0, 0.3));\n",
       "      fill: #FFFFFF;\n",
       "    }\n",
       "  </style>\n",
       "\n",
       "      <script>\n",
       "        const buttonEl =\n",
       "          document.querySelector('#df-f59f03f1-a4f1-4c99-bdca-e4137f83193d button.colab-df-convert');\n",
       "        buttonEl.style.display =\n",
       "          google.colab.kernel.accessAllowed ? 'block' : 'none';\n",
       "\n",
       "        async function convertToInteractive(key) {\n",
       "          const element = document.querySelector('#df-f59f03f1-a4f1-4c99-bdca-e4137f83193d');\n",
       "          const dataTable =\n",
       "            await google.colab.kernel.invokeFunction('convertToInteractive',\n",
       "                                                     [key], {});\n",
       "          if (!dataTable) return;\n",
       "\n",
       "          const docLinkHtml = 'Like what you see? Visit the ' +\n",
       "            '<a target=\"_blank\" href=https://colab.research.google.com/notebooks/data_table.ipynb>data table notebook</a>'\n",
       "            + ' to learn more about interactive tables.';\n",
       "          element.innerHTML = '';\n",
       "          dataTable['output_type'] = 'display_data';\n",
       "          await google.colab.output.renderOutput(dataTable, element);\n",
       "          const docLink = document.createElement('div');\n",
       "          docLink.innerHTML = docLinkHtml;\n",
       "          element.appendChild(docLink);\n",
       "        }\n",
       "      </script>\n",
       "    </div>\n",
       "  </div>\n",
       "  "
      ],
      "text/plain": [
       "                                    Years Taken to become Unicorn\n",
       "                                                             mean\n",
       "Industry                                                         \n",
       "Internet software & services                             7.950276\n",
       "Edtech                                                   7.888889\n",
       "Data management & analytics                              7.641026\n",
       "Consumer & retail                                        7.217391\n",
       "Cybersecurity                                            6.937500\n",
       "Supply chain, logistics, & delivery                      6.867925\n",
       "Fintech                                                  6.748691\n",
       "Travel                                                   6.571429\n",
       "Artificial Intelligence                                  6.506667\n",
       "Mobile & telecommunications                              6.281250\n",
       "E-commerce & direct-to-consumer                          6.274510\n",
       "Hardware                                                 5.687500\n",
       "Auto & transportation                                    4.461538"
      ]
     },
     "execution_count": 250,
     "metadata": {},
     "output_type": "execute_result"
    }
   ],
   "source": [
    "temp=df.groupby(by=['Industry']).agg({'Years Taken to become Unicorn':['mean']})\n",
    "temp=temp.sort_values([('Years Taken to become Unicorn', 'mean')], ascending=False)[2:15]\n",
    "temp"
   ]
  },
  {
   "cell_type": "code",
   "execution_count": null,
   "metadata": {
    "colab": {
     "base_uri": "https://localhost:8080/",
     "height": 542
    },
    "executionInfo": {
     "elapsed": 390,
     "status": "ok",
     "timestamp": 1677271823546,
     "user": {
      "displayName": "Shloke Maheshwari",
      "userId": "14292175972920513536"
     },
     "user_tz": -330
    },
    "id": "-0ejSuRzL1kD",
    "outputId": "62d7840a-bca1-468e-fe9f-6dabcc279093"
   },
   "outputs": [
    {
     "data": {
      "text/html": [
       "<html>\n",
       "<head><meta charset=\"utf-8\" /></head>\n",
       "<body>\n",
       "    <div>            <script src=\"https://cdnjs.cloudflare.com/ajax/libs/mathjax/2.7.5/MathJax.js?config=TeX-AMS-MML_SVG\"></script><script type=\"text/javascript\">if (window.MathJax) {MathJax.Hub.Config({SVG: {font: \"STIX-Web\"}});}</script>                <script type=\"text/javascript\">window.PlotlyConfig = {MathJaxConfig: 'local'};</script>\n",
       "        <script src=\"https://cdn.plot.ly/plotly-2.8.3.min.js\"></script>                <div id=\"caefb6cc-aec8-49ae-9370-bfc0b3eef35c\" class=\"plotly-graph-div\" style=\"height:525px; width:100%;\"></div>            <script type=\"text/javascript\">                                    window.PLOTLYENV=window.PLOTLYENV || {};                                    if (document.getElementById(\"caefb6cc-aec8-49ae-9370-bfc0b3eef35c\")) {                    Plotly.newPlot(                        \"caefb6cc-aec8-49ae-9370-bfc0b3eef35c\",                        [{\"hovertemplate\":\"Industry=%{x}<br>Years Taken=%{y}<br>size=%{marker.size}<extra></extra>\",\"legendgroup\":\"Internet software & services\",\"marker\":{\"color\":\"#636efa\",\"size\":[7.9502762430939224],\"sizemode\":\"area\",\"sizeref\":0.008833640270104358,\"symbol\":\"circle\"},\"mode\":\"markers\",\"name\":\"Internet software & services\",\"orientation\":\"v\",\"showlegend\":true,\"x\":[\"Internet software & services\"],\"xaxis\":\"x\",\"y\":[7.9502762430939224],\"yaxis\":\"y\",\"type\":\"scatter\"},{\"hovertemplate\":\"Industry=%{x}<br>Years Taken=%{y}<br>size=%{marker.size}<extra></extra>\",\"legendgroup\":\"Edtech\",\"marker\":{\"color\":\"#EF553B\",\"size\":[7.888888888888889],\"sizemode\":\"area\",\"sizeref\":0.008833640270104358,\"symbol\":\"circle\"},\"mode\":\"markers\",\"name\":\"Edtech\",\"orientation\":\"v\",\"showlegend\":true,\"x\":[\"Edtech\"],\"xaxis\":\"x\",\"y\":[7.888888888888889],\"yaxis\":\"y\",\"type\":\"scatter\"},{\"hovertemplate\":\"Industry=%{x}<br>Years Taken=%{y}<br>size=%{marker.size}<extra></extra>\",\"legendgroup\":\"Data management & analytics\",\"marker\":{\"color\":\"#00cc96\",\"size\":[7.641025641025641],\"sizemode\":\"area\",\"sizeref\":0.008833640270104358,\"symbol\":\"circle\"},\"mode\":\"markers\",\"name\":\"Data management & analytics\",\"orientation\":\"v\",\"showlegend\":true,\"x\":[\"Data management & analytics\"],\"xaxis\":\"x\",\"y\":[7.641025641025641],\"yaxis\":\"y\",\"type\":\"scatter\"},{\"hovertemplate\":\"Industry=%{x}<br>Years Taken=%{y}<br>size=%{marker.size}<extra></extra>\",\"legendgroup\":\"Consumer & retail\",\"marker\":{\"color\":\"#ab63fa\",\"size\":[7.217391304347826],\"sizemode\":\"area\",\"sizeref\":0.008833640270104358,\"symbol\":\"circle\"},\"mode\":\"markers\",\"name\":\"Consumer & retail\",\"orientation\":\"v\",\"showlegend\":true,\"x\":[\"Consumer & retail\"],\"xaxis\":\"x\",\"y\":[7.217391304347826],\"yaxis\":\"y\",\"type\":\"scatter\"},{\"hovertemplate\":\"Industry=%{x}<br>Years Taken=%{y}<br>size=%{marker.size}<extra></extra>\",\"legendgroup\":\"Cybersecurity\",\"marker\":{\"color\":\"#FFA15A\",\"size\":[6.9375],\"sizemode\":\"area\",\"sizeref\":0.008833640270104358,\"symbol\":\"circle\"},\"mode\":\"markers\",\"name\":\"Cybersecurity\",\"orientation\":\"v\",\"showlegend\":true,\"x\":[\"Cybersecurity\"],\"xaxis\":\"x\",\"y\":[6.9375],\"yaxis\":\"y\",\"type\":\"scatter\"},{\"hovertemplate\":\"Industry=%{x}<br>Years Taken=%{y}<br>size=%{marker.size}<extra></extra>\",\"legendgroup\":\"Supply chain, logistics, & delivery\",\"marker\":{\"color\":\"#19d3f3\",\"size\":[6.867924528301887],\"sizemode\":\"area\",\"sizeref\":0.008833640270104358,\"symbol\":\"circle\"},\"mode\":\"markers\",\"name\":\"Supply chain, logistics, & delivery\",\"orientation\":\"v\",\"showlegend\":true,\"x\":[\"Supply chain, logistics, & delivery\"],\"xaxis\":\"x\",\"y\":[6.867924528301887],\"yaxis\":\"y\",\"type\":\"scatter\"},{\"hovertemplate\":\"Industry=%{x}<br>Years Taken=%{y}<br>size=%{marker.size}<extra></extra>\",\"legendgroup\":\"Fintech\",\"marker\":{\"color\":\"#FF6692\",\"size\":[6.7486910994764395],\"sizemode\":\"area\",\"sizeref\":0.008833640270104358,\"symbol\":\"circle\"},\"mode\":\"markers\",\"name\":\"Fintech\",\"orientation\":\"v\",\"showlegend\":true,\"x\":[\"Fintech\"],\"xaxis\":\"x\",\"y\":[6.7486910994764395],\"yaxis\":\"y\",\"type\":\"scatter\"},{\"hovertemplate\":\"Industry=%{x}<br>Years Taken=%{y}<br>size=%{marker.size}<extra></extra>\",\"legendgroup\":\"Travel\",\"marker\":{\"color\":\"#B6E880\",\"size\":[6.571428571428571],\"sizemode\":\"area\",\"sizeref\":0.008833640270104358,\"symbol\":\"circle\"},\"mode\":\"markers\",\"name\":\"Travel\",\"orientation\":\"v\",\"showlegend\":true,\"x\":[\"Travel\"],\"xaxis\":\"x\",\"y\":[6.571428571428571],\"yaxis\":\"y\",\"type\":\"scatter\"},{\"hovertemplate\":\"Industry=%{x}<br>Years Taken=%{y}<br>size=%{marker.size}<extra></extra>\",\"legendgroup\":\"Artificial Intelligence\",\"marker\":{\"color\":\"#FF97FF\",\"size\":[6.506666666666667],\"sizemode\":\"area\",\"sizeref\":0.008833640270104358,\"symbol\":\"circle\"},\"mode\":\"markers\",\"name\":\"Artificial Intelligence\",\"orientation\":\"v\",\"showlegend\":true,\"x\":[\"Artificial Intelligence\"],\"xaxis\":\"x\",\"y\":[6.506666666666667],\"yaxis\":\"y\",\"type\":\"scatter\"},{\"hovertemplate\":\"Industry=%{x}<br>Years Taken=%{y}<br>size=%{marker.size}<extra></extra>\",\"legendgroup\":\"Mobile & telecommunications\",\"marker\":{\"color\":\"#FECB52\",\"size\":[6.28125],\"sizemode\":\"area\",\"sizeref\":0.008833640270104358,\"symbol\":\"circle\"},\"mode\":\"markers\",\"name\":\"Mobile & telecommunications\",\"orientation\":\"v\",\"showlegend\":true,\"x\":[\"Mobile & telecommunications\"],\"xaxis\":\"x\",\"y\":[6.28125],\"yaxis\":\"y\",\"type\":\"scatter\"},{\"hovertemplate\":\"Industry=%{x}<br>Years Taken=%{y}<br>size=%{marker.size}<extra></extra>\",\"legendgroup\":\"E-commerce & direct-to-consumer\",\"marker\":{\"color\":\"#636efa\",\"size\":[6.2745098039215685],\"sizemode\":\"area\",\"sizeref\":0.008833640270104358,\"symbol\":\"circle\"},\"mode\":\"markers\",\"name\":\"E-commerce & direct-to-consumer\",\"orientation\":\"v\",\"showlegend\":true,\"x\":[\"E-commerce & direct-to-consumer\"],\"xaxis\":\"x\",\"y\":[6.2745098039215685],\"yaxis\":\"y\",\"type\":\"scatter\"},{\"hovertemplate\":\"Industry=%{x}<br>Years Taken=%{y}<br>size=%{marker.size}<extra></extra>\",\"legendgroup\":\"Hardware\",\"marker\":{\"color\":\"#EF553B\",\"size\":[5.6875],\"sizemode\":\"area\",\"sizeref\":0.008833640270104358,\"symbol\":\"circle\"},\"mode\":\"markers\",\"name\":\"Hardware\",\"orientation\":\"v\",\"showlegend\":true,\"x\":[\"Hardware\"],\"xaxis\":\"x\",\"y\":[5.6875],\"yaxis\":\"y\",\"type\":\"scatter\"},{\"hovertemplate\":\"Industry=%{x}<br>Years Taken=%{y}<br>size=%{marker.size}<extra></extra>\",\"legendgroup\":\"Auto & transportation\",\"marker\":{\"color\":\"#00cc96\",\"size\":[4.461538461538462],\"sizemode\":\"area\",\"sizeref\":0.008833640270104358,\"symbol\":\"circle\"},\"mode\":\"markers\",\"name\":\"Auto & transportation\",\"orientation\":\"v\",\"showlegend\":true,\"x\":[\"Auto & transportation\"],\"xaxis\":\"x\",\"y\":[4.461538461538462],\"yaxis\":\"y\",\"type\":\"scatter\"}],                        {\"template\":{\"data\":{\"bar\":[{\"error_x\":{\"color\":\"#2a3f5f\"},\"error_y\":{\"color\":\"#2a3f5f\"},\"marker\":{\"line\":{\"color\":\"#E5ECF6\",\"width\":0.5},\"pattern\":{\"fillmode\":\"overlay\",\"size\":10,\"solidity\":0.2}},\"type\":\"bar\"}],\"barpolar\":[{\"marker\":{\"line\":{\"color\":\"#E5ECF6\",\"width\":0.5},\"pattern\":{\"fillmode\":\"overlay\",\"size\":10,\"solidity\":0.2}},\"type\":\"barpolar\"}],\"carpet\":[{\"aaxis\":{\"endlinecolor\":\"#2a3f5f\",\"gridcolor\":\"white\",\"linecolor\":\"white\",\"minorgridcolor\":\"white\",\"startlinecolor\":\"#2a3f5f\"},\"baxis\":{\"endlinecolor\":\"#2a3f5f\",\"gridcolor\":\"white\",\"linecolor\":\"white\",\"minorgridcolor\":\"white\",\"startlinecolor\":\"#2a3f5f\"},\"type\":\"carpet\"}],\"choropleth\":[{\"colorbar\":{\"outlinewidth\":0,\"ticks\":\"\"},\"type\":\"choropleth\"}],\"contour\":[{\"colorbar\":{\"outlinewidth\":0,\"ticks\":\"\"},\"colorscale\":[[0.0,\"#0d0887\"],[0.1111111111111111,\"#46039f\"],[0.2222222222222222,\"#7201a8\"],[0.3333333333333333,\"#9c179e\"],[0.4444444444444444,\"#bd3786\"],[0.5555555555555556,\"#d8576b\"],[0.6666666666666666,\"#ed7953\"],[0.7777777777777778,\"#fb9f3a\"],[0.8888888888888888,\"#fdca26\"],[1.0,\"#f0f921\"]],\"type\":\"contour\"}],\"contourcarpet\":[{\"colorbar\":{\"outlinewidth\":0,\"ticks\":\"\"},\"type\":\"contourcarpet\"}],\"heatmap\":[{\"colorbar\":{\"outlinewidth\":0,\"ticks\":\"\"},\"colorscale\":[[0.0,\"#0d0887\"],[0.1111111111111111,\"#46039f\"],[0.2222222222222222,\"#7201a8\"],[0.3333333333333333,\"#9c179e\"],[0.4444444444444444,\"#bd3786\"],[0.5555555555555556,\"#d8576b\"],[0.6666666666666666,\"#ed7953\"],[0.7777777777777778,\"#fb9f3a\"],[0.8888888888888888,\"#fdca26\"],[1.0,\"#f0f921\"]],\"type\":\"heatmap\"}],\"heatmapgl\":[{\"colorbar\":{\"outlinewidth\":0,\"ticks\":\"\"},\"colorscale\":[[0.0,\"#0d0887\"],[0.1111111111111111,\"#46039f\"],[0.2222222222222222,\"#7201a8\"],[0.3333333333333333,\"#9c179e\"],[0.4444444444444444,\"#bd3786\"],[0.5555555555555556,\"#d8576b\"],[0.6666666666666666,\"#ed7953\"],[0.7777777777777778,\"#fb9f3a\"],[0.8888888888888888,\"#fdca26\"],[1.0,\"#f0f921\"]],\"type\":\"heatmapgl\"}],\"histogram\":[{\"marker\":{\"pattern\":{\"fillmode\":\"overlay\",\"size\":10,\"solidity\":0.2}},\"type\":\"histogram\"}],\"histogram2d\":[{\"colorbar\":{\"outlinewidth\":0,\"ticks\":\"\"},\"colorscale\":[[0.0,\"#0d0887\"],[0.1111111111111111,\"#46039f\"],[0.2222222222222222,\"#7201a8\"],[0.3333333333333333,\"#9c179e\"],[0.4444444444444444,\"#bd3786\"],[0.5555555555555556,\"#d8576b\"],[0.6666666666666666,\"#ed7953\"],[0.7777777777777778,\"#fb9f3a\"],[0.8888888888888888,\"#fdca26\"],[1.0,\"#f0f921\"]],\"type\":\"histogram2d\"}],\"histogram2dcontour\":[{\"colorbar\":{\"outlinewidth\":0,\"ticks\":\"\"},\"colorscale\":[[0.0,\"#0d0887\"],[0.1111111111111111,\"#46039f\"],[0.2222222222222222,\"#7201a8\"],[0.3333333333333333,\"#9c179e\"],[0.4444444444444444,\"#bd3786\"],[0.5555555555555556,\"#d8576b\"],[0.6666666666666666,\"#ed7953\"],[0.7777777777777778,\"#fb9f3a\"],[0.8888888888888888,\"#fdca26\"],[1.0,\"#f0f921\"]],\"type\":\"histogram2dcontour\"}],\"mesh3d\":[{\"colorbar\":{\"outlinewidth\":0,\"ticks\":\"\"},\"type\":\"mesh3d\"}],\"parcoords\":[{\"line\":{\"colorbar\":{\"outlinewidth\":0,\"ticks\":\"\"}},\"type\":\"parcoords\"}],\"pie\":[{\"automargin\":true,\"type\":\"pie\"}],\"scatter\":[{\"marker\":{\"colorbar\":{\"outlinewidth\":0,\"ticks\":\"\"}},\"type\":\"scatter\"}],\"scatter3d\":[{\"line\":{\"colorbar\":{\"outlinewidth\":0,\"ticks\":\"\"}},\"marker\":{\"colorbar\":{\"outlinewidth\":0,\"ticks\":\"\"}},\"type\":\"scatter3d\"}],\"scattercarpet\":[{\"marker\":{\"colorbar\":{\"outlinewidth\":0,\"ticks\":\"\"}},\"type\":\"scattercarpet\"}],\"scattergeo\":[{\"marker\":{\"colorbar\":{\"outlinewidth\":0,\"ticks\":\"\"}},\"type\":\"scattergeo\"}],\"scattergl\":[{\"marker\":{\"colorbar\":{\"outlinewidth\":0,\"ticks\":\"\"}},\"type\":\"scattergl\"}],\"scattermapbox\":[{\"marker\":{\"colorbar\":{\"outlinewidth\":0,\"ticks\":\"\"}},\"type\":\"scattermapbox\"}],\"scatterpolar\":[{\"marker\":{\"colorbar\":{\"outlinewidth\":0,\"ticks\":\"\"}},\"type\":\"scatterpolar\"}],\"scatterpolargl\":[{\"marker\":{\"colorbar\":{\"outlinewidth\":0,\"ticks\":\"\"}},\"type\":\"scatterpolargl\"}],\"scatterternary\":[{\"marker\":{\"colorbar\":{\"outlinewidth\":0,\"ticks\":\"\"}},\"type\":\"scatterternary\"}],\"surface\":[{\"colorbar\":{\"outlinewidth\":0,\"ticks\":\"\"},\"colorscale\":[[0.0,\"#0d0887\"],[0.1111111111111111,\"#46039f\"],[0.2222222222222222,\"#7201a8\"],[0.3333333333333333,\"#9c179e\"],[0.4444444444444444,\"#bd3786\"],[0.5555555555555556,\"#d8576b\"],[0.6666666666666666,\"#ed7953\"],[0.7777777777777778,\"#fb9f3a\"],[0.8888888888888888,\"#fdca26\"],[1.0,\"#f0f921\"]],\"type\":\"surface\"}],\"table\":[{\"cells\":{\"fill\":{\"color\":\"#EBF0F8\"},\"line\":{\"color\":\"white\"}},\"header\":{\"fill\":{\"color\":\"#C8D4E3\"},\"line\":{\"color\":\"white\"}},\"type\":\"table\"}]},\"layout\":{\"annotationdefaults\":{\"arrowcolor\":\"#2a3f5f\",\"arrowhead\":0,\"arrowwidth\":1},\"autotypenumbers\":\"strict\",\"coloraxis\":{\"colorbar\":{\"outlinewidth\":0,\"ticks\":\"\"}},\"colorscale\":{\"diverging\":[[0,\"#8e0152\"],[0.1,\"#c51b7d\"],[0.2,\"#de77ae\"],[0.3,\"#f1b6da\"],[0.4,\"#fde0ef\"],[0.5,\"#f7f7f7\"],[0.6,\"#e6f5d0\"],[0.7,\"#b8e186\"],[0.8,\"#7fbc41\"],[0.9,\"#4d9221\"],[1,\"#276419\"]],\"sequential\":[[0.0,\"#0d0887\"],[0.1111111111111111,\"#46039f\"],[0.2222222222222222,\"#7201a8\"],[0.3333333333333333,\"#9c179e\"],[0.4444444444444444,\"#bd3786\"],[0.5555555555555556,\"#d8576b\"],[0.6666666666666666,\"#ed7953\"],[0.7777777777777778,\"#fb9f3a\"],[0.8888888888888888,\"#fdca26\"],[1.0,\"#f0f921\"]],\"sequentialminus\":[[0.0,\"#0d0887\"],[0.1111111111111111,\"#46039f\"],[0.2222222222222222,\"#7201a8\"],[0.3333333333333333,\"#9c179e\"],[0.4444444444444444,\"#bd3786\"],[0.5555555555555556,\"#d8576b\"],[0.6666666666666666,\"#ed7953\"],[0.7777777777777778,\"#fb9f3a\"],[0.8888888888888888,\"#fdca26\"],[1.0,\"#f0f921\"]]},\"colorway\":[\"#636efa\",\"#EF553B\",\"#00cc96\",\"#ab63fa\",\"#FFA15A\",\"#19d3f3\",\"#FF6692\",\"#B6E880\",\"#FF97FF\",\"#FECB52\"],\"font\":{\"color\":\"#2a3f5f\"},\"geo\":{\"bgcolor\":\"white\",\"lakecolor\":\"white\",\"landcolor\":\"#E5ECF6\",\"showlakes\":true,\"showland\":true,\"subunitcolor\":\"white\"},\"hoverlabel\":{\"align\":\"left\"},\"hovermode\":\"closest\",\"mapbox\":{\"style\":\"light\"},\"paper_bgcolor\":\"white\",\"plot_bgcolor\":\"#E5ECF6\",\"polar\":{\"angularaxis\":{\"gridcolor\":\"white\",\"linecolor\":\"white\",\"ticks\":\"\"},\"bgcolor\":\"#E5ECF6\",\"radialaxis\":{\"gridcolor\":\"white\",\"linecolor\":\"white\",\"ticks\":\"\"}},\"scene\":{\"xaxis\":{\"backgroundcolor\":\"#E5ECF6\",\"gridcolor\":\"white\",\"gridwidth\":2,\"linecolor\":\"white\",\"showbackground\":true,\"ticks\":\"\",\"zerolinecolor\":\"white\"},\"yaxis\":{\"backgroundcolor\":\"#E5ECF6\",\"gridcolor\":\"white\",\"gridwidth\":2,\"linecolor\":\"white\",\"showbackground\":true,\"ticks\":\"\",\"zerolinecolor\":\"white\"},\"zaxis\":{\"backgroundcolor\":\"#E5ECF6\",\"gridcolor\":\"white\",\"gridwidth\":2,\"linecolor\":\"white\",\"showbackground\":true,\"ticks\":\"\",\"zerolinecolor\":\"white\"}},\"shapedefaults\":{\"line\":{\"color\":\"#2a3f5f\"}},\"ternary\":{\"aaxis\":{\"gridcolor\":\"white\",\"linecolor\":\"white\",\"ticks\":\"\"},\"baxis\":{\"gridcolor\":\"white\",\"linecolor\":\"white\",\"ticks\":\"\"},\"bgcolor\":\"#E5ECF6\",\"caxis\":{\"gridcolor\":\"white\",\"linecolor\":\"white\",\"ticks\":\"\"}},\"title\":{\"x\":0.05},\"xaxis\":{\"automargin\":true,\"gridcolor\":\"white\",\"linecolor\":\"white\",\"ticks\":\"\",\"title\":{\"standoff\":15},\"zerolinecolor\":\"white\",\"zerolinewidth\":2},\"yaxis\":{\"automargin\":true,\"gridcolor\":\"white\",\"linecolor\":\"white\",\"ticks\":\"\",\"title\":{\"standoff\":15},\"zerolinecolor\":\"white\",\"zerolinewidth\":2}}},\"xaxis\":{\"anchor\":\"y\",\"domain\":[0.0,1.0],\"title\":{\"text\":\"Industry\"}},\"yaxis\":{\"anchor\":\"x\",\"domain\":[0.0,1.0],\"title\":{\"text\":\"Years Taken\"}},\"legend\":{\"title\":{\"text\":\"Industry\"},\"tracegroupgap\":0,\"itemsizing\":\"constant\"},\"title\":{\"text\":\"Average years taken to become Unicorn wrt Industry\"}},                        {\"responsive\": true}                    ).then(function(){\n",
       "                            \n",
       "var gd = document.getElementById('caefb6cc-aec8-49ae-9370-bfc0b3eef35c');\n",
       "var x = new MutationObserver(function (mutations, observer) {{\n",
       "        var display = window.getComputedStyle(gd).display;\n",
       "        if (!display || display === 'none') {{\n",
       "            console.log([gd, 'removed!']);\n",
       "            Plotly.purge(gd);\n",
       "            observer.disconnect();\n",
       "        }}\n",
       "}});\n",
       "\n",
       "// Listen for the removal of the full notebook cells\n",
       "var notebookContainer = gd.closest('#notebook-container');\n",
       "if (notebookContainer) {{\n",
       "    x.observe(notebookContainer, {childList: true});\n",
       "}}\n",
       "\n",
       "// Listen for the clearing of the current output cell\n",
       "var outputEl = gd.closest('.output');\n",
       "if (outputEl) {{\n",
       "    x.observe(outputEl, {childList: true});\n",
       "}}\n",
       "\n",
       "                        })                };                            </script>        </div>\n",
       "</body>\n",
       "</html>"
      ]
     },
     "metadata": {},
     "output_type": "display_data"
    }
   ],
   "source": [
    "fig=px.scatter(y=temp[('Years Taken to become Unicorn','mean')],x=temp.index,size=temp[('Years Taken to become Unicorn', 'mean')],size_max=30,color=temp.index,title=\"Average years taken to become Unicorn wrt Industry\",labels={\"y\":\"Years Taken\",\"x\":\"Industry\", \"color\": \"Industry\"})\n",
    "fig.show()"
   ]
  },
  {
   "cell_type": "markdown",
   "metadata": {
    "id": "cGwHrd6z7Y1u"
   },
   "source": [
    "Top Industries wrt Total Money raised"
   ]
  },
  {
   "cell_type": "code",
   "execution_count": null,
   "metadata": {
    "colab": {
     "base_uri": "https://localhost:8080/",
     "height": 421
    },
    "executionInfo": {
     "elapsed": 437,
     "status": "ok",
     "timestamp": 1677271943125,
     "user": {
      "displayName": "Shloke Maheshwari",
      "userId": "14292175972920513536"
     },
     "user_tz": -330
    },
    "id": "BX9wMphN7ey_",
    "outputId": "ce52288b-bebf-404a-f754-5b7a94f53edc"
   },
   "outputs": [
    {
     "data": {
      "text/html": [
       "\n",
       "  <div id=\"df-cdc0cf2b-bbaf-44a3-a083-1bb3bbe47510\">\n",
       "    <div class=\"colab-df-container\">\n",
       "      <div>\n",
       "<style scoped>\n",
       "    .dataframe tbody tr th:only-of-type {\n",
       "        vertical-align: middle;\n",
       "    }\n",
       "\n",
       "    .dataframe tbody tr th {\n",
       "        vertical-align: top;\n",
       "    }\n",
       "\n",
       "    .dataframe thead tr th {\n",
       "        text-align: left;\n",
       "    }\n",
       "\n",
       "    .dataframe thead tr:last-of-type th {\n",
       "        text-align: right;\n",
       "    }\n",
       "</style>\n",
       "<table border=\"1\" class=\"dataframe\">\n",
       "  <thead>\n",
       "    <tr>\n",
       "      <th></th>\n",
       "      <th>Total Raised</th>\n",
       "    </tr>\n",
       "    <tr>\n",
       "      <th></th>\n",
       "      <th>sum</th>\n",
       "    </tr>\n",
       "    <tr>\n",
       "      <th>Industry</th>\n",
       "      <th></th>\n",
       "    </tr>\n",
       "  </thead>\n",
       "  <tbody>\n",
       "    <tr>\n",
       "      <th>Fintech</th>\n",
       "      <td>9.820808e+10</td>\n",
       "    </tr>\n",
       "    <tr>\n",
       "      <th>E-commerce &amp; direct-to-consumer</th>\n",
       "      <td>7.176884e+10</td>\n",
       "    </tr>\n",
       "    <tr>\n",
       "      <th>Internet software &amp; services</th>\n",
       "      <td>7.070157e+10</td>\n",
       "    </tr>\n",
       "    <tr>\n",
       "      <th>Artificial Intelligence</th>\n",
       "      <td>4.249475e+10</td>\n",
       "    </tr>\n",
       "    <tr>\n",
       "      <th>Other</th>\n",
       "      <td>4.237474e+10</td>\n",
       "    </tr>\n",
       "    <tr>\n",
       "      <th>Supply chain, logistics, &amp; delivery</th>\n",
       "      <td>4.107390e+10</td>\n",
       "    </tr>\n",
       "    <tr>\n",
       "      <th>Auto &amp; transportation</th>\n",
       "      <td>3.426302e+10</td>\n",
       "    </tr>\n",
       "    <tr>\n",
       "      <th>Health</th>\n",
       "      <td>3.360410e+10</td>\n",
       "    </tr>\n",
       "    <tr>\n",
       "      <th>Hardware</th>\n",
       "      <td>2.437135e+10</td>\n",
       "    </tr>\n",
       "    <tr>\n",
       "      <th>Cybersecurity</th>\n",
       "      <td>2.222740e+10</td>\n",
       "    </tr>\n",
       "  </tbody>\n",
       "</table>\n",
       "</div>\n",
       "      <button class=\"colab-df-convert\" onclick=\"convertToInteractive('df-cdc0cf2b-bbaf-44a3-a083-1bb3bbe47510')\"\n",
       "              title=\"Convert this dataframe to an interactive table.\"\n",
       "              style=\"display:none;\">\n",
       "        \n",
       "  <svg xmlns=\"http://www.w3.org/2000/svg\" height=\"24px\"viewBox=\"0 0 24 24\"\n",
       "       width=\"24px\">\n",
       "    <path d=\"M0 0h24v24H0V0z\" fill=\"none\"/>\n",
       "    <path d=\"M18.56 5.44l.94 2.06.94-2.06 2.06-.94-2.06-.94-.94-2.06-.94 2.06-2.06.94zm-11 1L8.5 8.5l.94-2.06 2.06-.94-2.06-.94L8.5 2.5l-.94 2.06-2.06.94zm10 10l.94 2.06.94-2.06 2.06-.94-2.06-.94-.94-2.06-.94 2.06-2.06.94z\"/><path d=\"M17.41 7.96l-1.37-1.37c-.4-.4-.92-.59-1.43-.59-.52 0-1.04.2-1.43.59L10.3 9.45l-7.72 7.72c-.78.78-.78 2.05 0 2.83L4 21.41c.39.39.9.59 1.41.59.51 0 1.02-.2 1.41-.59l7.78-7.78 2.81-2.81c.8-.78.8-2.07 0-2.86zM5.41 20L4 18.59l7.72-7.72 1.47 1.35L5.41 20z\"/>\n",
       "  </svg>\n",
       "      </button>\n",
       "      \n",
       "  <style>\n",
       "    .colab-df-container {\n",
       "      display:flex;\n",
       "      flex-wrap:wrap;\n",
       "      gap: 12px;\n",
       "    }\n",
       "\n",
       "    .colab-df-convert {\n",
       "      background-color: #E8F0FE;\n",
       "      border: none;\n",
       "      border-radius: 50%;\n",
       "      cursor: pointer;\n",
       "      display: none;\n",
       "      fill: #1967D2;\n",
       "      height: 32px;\n",
       "      padding: 0 0 0 0;\n",
       "      width: 32px;\n",
       "    }\n",
       "\n",
       "    .colab-df-convert:hover {\n",
       "      background-color: #E2EBFA;\n",
       "      box-shadow: 0px 1px 2px rgba(60, 64, 67, 0.3), 0px 1px 3px 1px rgba(60, 64, 67, 0.15);\n",
       "      fill: #174EA6;\n",
       "    }\n",
       "\n",
       "    [theme=dark] .colab-df-convert {\n",
       "      background-color: #3B4455;\n",
       "      fill: #D2E3FC;\n",
       "    }\n",
       "\n",
       "    [theme=dark] .colab-df-convert:hover {\n",
       "      background-color: #434B5C;\n",
       "      box-shadow: 0px 1px 3px 1px rgba(0, 0, 0, 0.15);\n",
       "      filter: drop-shadow(0px 1px 2px rgba(0, 0, 0, 0.3));\n",
       "      fill: #FFFFFF;\n",
       "    }\n",
       "  </style>\n",
       "\n",
       "      <script>\n",
       "        const buttonEl =\n",
       "          document.querySelector('#df-cdc0cf2b-bbaf-44a3-a083-1bb3bbe47510 button.colab-df-convert');\n",
       "        buttonEl.style.display =\n",
       "          google.colab.kernel.accessAllowed ? 'block' : 'none';\n",
       "\n",
       "        async function convertToInteractive(key) {\n",
       "          const element = document.querySelector('#df-cdc0cf2b-bbaf-44a3-a083-1bb3bbe47510');\n",
       "          const dataTable =\n",
       "            await google.colab.kernel.invokeFunction('convertToInteractive',\n",
       "                                                     [key], {});\n",
       "          if (!dataTable) return;\n",
       "\n",
       "          const docLinkHtml = 'Like what you see? Visit the ' +\n",
       "            '<a target=\"_blank\" href=https://colab.research.google.com/notebooks/data_table.ipynb>data table notebook</a>'\n",
       "            + ' to learn more about interactive tables.';\n",
       "          element.innerHTML = '';\n",
       "          dataTable['output_type'] = 'display_data';\n",
       "          await google.colab.output.renderOutput(dataTable, element);\n",
       "          const docLink = document.createElement('div');\n",
       "          docLink.innerHTML = docLinkHtml;\n",
       "          element.appendChild(docLink);\n",
       "        }\n",
       "      </script>\n",
       "    </div>\n",
       "  </div>\n",
       "  "
      ],
      "text/plain": [
       "                                     Total Raised\n",
       "                                              sum\n",
       "Industry                                         \n",
       "Fintech                              9.820808e+10\n",
       "E-commerce & direct-to-consumer      7.176884e+10\n",
       "Internet software & services         7.070157e+10\n",
       "Artificial Intelligence              4.249475e+10\n",
       "Other                                4.237474e+10\n",
       "Supply chain, logistics, & delivery  4.107390e+10\n",
       "Auto & transportation                3.426302e+10\n",
       "Health                               3.360410e+10\n",
       "Hardware                             2.437135e+10\n",
       "Cybersecurity                        2.222740e+10"
      ]
     },
     "execution_count": 256,
     "metadata": {},
     "output_type": "execute_result"
    }
   ],
   "source": [
    "temp=df.groupby(by=['Industry']).agg({'Total Raised':['sum']})\n",
    "temp=temp.sort_values([('Total Raised', 'sum')], ascending=False)[:10]\n",
    "temp\n"
   ]
  },
  {
   "cell_type": "code",
   "execution_count": null,
   "metadata": {
    "colab": {
     "base_uri": "https://localhost:8080/",
     "height": 542
    },
    "executionInfo": {
     "elapsed": 446,
     "status": "ok",
     "timestamp": 1677271945016,
     "user": {
      "displayName": "Shloke Maheshwari",
      "userId": "14292175972920513536"
     },
     "user_tz": -330
    },
    "id": "qN_0ZPZ9MdMW",
    "outputId": "cff17e9e-800e-4205-a68e-4d8c16beceb1"
   },
   "outputs": [
    {
     "data": {
      "text/html": [
       "<html>\n",
       "<head><meta charset=\"utf-8\" /></head>\n",
       "<body>\n",
       "    <div>            <script src=\"https://cdnjs.cloudflare.com/ajax/libs/mathjax/2.7.5/MathJax.js?config=TeX-AMS-MML_SVG\"></script><script type=\"text/javascript\">if (window.MathJax) {MathJax.Hub.Config({SVG: {font: \"STIX-Web\"}});}</script>                <script type=\"text/javascript\">window.PlotlyConfig = {MathJaxConfig: 'local'};</script>\n",
       "        <script src=\"https://cdn.plot.ly/plotly-2.8.3.min.js\"></script>                <div id=\"662d776d-1961-43b3-b2ee-c78988f64e56\" class=\"plotly-graph-div\" style=\"height:525px; width:100%;\"></div>            <script type=\"text/javascript\">                                    window.PLOTLYENV=window.PLOTLYENV || {};                                    if (document.getElementById(\"662d776d-1961-43b3-b2ee-c78988f64e56\")) {                    Plotly.newPlot(                        \"662d776d-1961-43b3-b2ee-c78988f64e56\",                        [{\"hovertemplate\":\"Industry=%{x}<br>Total Raised($B)=%{y}<extra></extra>\",\"legendgroup\":\"\",\"line\":{\"color\":\"blue\",\"dash\":\"solid\"},\"marker\":{\"symbol\":\"circle\"},\"mode\":\"lines\",\"name\":\"\",\"orientation\":\"v\",\"showlegend\":false,\"x\":[\"Fintech\",\"E-commerce & direct-to-consumer\",\"Internet software & services\",\"Artificial Intelligence\",\"Other\",\"Supply chain, logistics, & delivery\",\"Auto & transportation\",\"Health\",\"Hardware\",\"Cybersecurity\"],\"xaxis\":\"x\",\"y\":[98208080000.0,71768840000.0,70701570000.0,42494750000.0,42374740000.0,41073900000.0,34263020000.0,33604100000.0,24371350000.0,22227400000.0],\"yaxis\":\"y\",\"type\":\"scatter\"}],                        {\"template\":{\"data\":{\"bar\":[{\"error_x\":{\"color\":\"#2a3f5f\"},\"error_y\":{\"color\":\"#2a3f5f\"},\"marker\":{\"line\":{\"color\":\"#E5ECF6\",\"width\":0.5},\"pattern\":{\"fillmode\":\"overlay\",\"size\":10,\"solidity\":0.2}},\"type\":\"bar\"}],\"barpolar\":[{\"marker\":{\"line\":{\"color\":\"#E5ECF6\",\"width\":0.5},\"pattern\":{\"fillmode\":\"overlay\",\"size\":10,\"solidity\":0.2}},\"type\":\"barpolar\"}],\"carpet\":[{\"aaxis\":{\"endlinecolor\":\"#2a3f5f\",\"gridcolor\":\"white\",\"linecolor\":\"white\",\"minorgridcolor\":\"white\",\"startlinecolor\":\"#2a3f5f\"},\"baxis\":{\"endlinecolor\":\"#2a3f5f\",\"gridcolor\":\"white\",\"linecolor\":\"white\",\"minorgridcolor\":\"white\",\"startlinecolor\":\"#2a3f5f\"},\"type\":\"carpet\"}],\"choropleth\":[{\"colorbar\":{\"outlinewidth\":0,\"ticks\":\"\"},\"type\":\"choropleth\"}],\"contour\":[{\"colorbar\":{\"outlinewidth\":0,\"ticks\":\"\"},\"colorscale\":[[0.0,\"#0d0887\"],[0.1111111111111111,\"#46039f\"],[0.2222222222222222,\"#7201a8\"],[0.3333333333333333,\"#9c179e\"],[0.4444444444444444,\"#bd3786\"],[0.5555555555555556,\"#d8576b\"],[0.6666666666666666,\"#ed7953\"],[0.7777777777777778,\"#fb9f3a\"],[0.8888888888888888,\"#fdca26\"],[1.0,\"#f0f921\"]],\"type\":\"contour\"}],\"contourcarpet\":[{\"colorbar\":{\"outlinewidth\":0,\"ticks\":\"\"},\"type\":\"contourcarpet\"}],\"heatmap\":[{\"colorbar\":{\"outlinewidth\":0,\"ticks\":\"\"},\"colorscale\":[[0.0,\"#0d0887\"],[0.1111111111111111,\"#46039f\"],[0.2222222222222222,\"#7201a8\"],[0.3333333333333333,\"#9c179e\"],[0.4444444444444444,\"#bd3786\"],[0.5555555555555556,\"#d8576b\"],[0.6666666666666666,\"#ed7953\"],[0.7777777777777778,\"#fb9f3a\"],[0.8888888888888888,\"#fdca26\"],[1.0,\"#f0f921\"]],\"type\":\"heatmap\"}],\"heatmapgl\":[{\"colorbar\":{\"outlinewidth\":0,\"ticks\":\"\"},\"colorscale\":[[0.0,\"#0d0887\"],[0.1111111111111111,\"#46039f\"],[0.2222222222222222,\"#7201a8\"],[0.3333333333333333,\"#9c179e\"],[0.4444444444444444,\"#bd3786\"],[0.5555555555555556,\"#d8576b\"],[0.6666666666666666,\"#ed7953\"],[0.7777777777777778,\"#fb9f3a\"],[0.8888888888888888,\"#fdca26\"],[1.0,\"#f0f921\"]],\"type\":\"heatmapgl\"}],\"histogram\":[{\"marker\":{\"pattern\":{\"fillmode\":\"overlay\",\"size\":10,\"solidity\":0.2}},\"type\":\"histogram\"}],\"histogram2d\":[{\"colorbar\":{\"outlinewidth\":0,\"ticks\":\"\"},\"colorscale\":[[0.0,\"#0d0887\"],[0.1111111111111111,\"#46039f\"],[0.2222222222222222,\"#7201a8\"],[0.3333333333333333,\"#9c179e\"],[0.4444444444444444,\"#bd3786\"],[0.5555555555555556,\"#d8576b\"],[0.6666666666666666,\"#ed7953\"],[0.7777777777777778,\"#fb9f3a\"],[0.8888888888888888,\"#fdca26\"],[1.0,\"#f0f921\"]],\"type\":\"histogram2d\"}],\"histogram2dcontour\":[{\"colorbar\":{\"outlinewidth\":0,\"ticks\":\"\"},\"colorscale\":[[0.0,\"#0d0887\"],[0.1111111111111111,\"#46039f\"],[0.2222222222222222,\"#7201a8\"],[0.3333333333333333,\"#9c179e\"],[0.4444444444444444,\"#bd3786\"],[0.5555555555555556,\"#d8576b\"],[0.6666666666666666,\"#ed7953\"],[0.7777777777777778,\"#fb9f3a\"],[0.8888888888888888,\"#fdca26\"],[1.0,\"#f0f921\"]],\"type\":\"histogram2dcontour\"}],\"mesh3d\":[{\"colorbar\":{\"outlinewidth\":0,\"ticks\":\"\"},\"type\":\"mesh3d\"}],\"parcoords\":[{\"line\":{\"colorbar\":{\"outlinewidth\":0,\"ticks\":\"\"}},\"type\":\"parcoords\"}],\"pie\":[{\"automargin\":true,\"type\":\"pie\"}],\"scatter\":[{\"marker\":{\"colorbar\":{\"outlinewidth\":0,\"ticks\":\"\"}},\"type\":\"scatter\"}],\"scatter3d\":[{\"line\":{\"colorbar\":{\"outlinewidth\":0,\"ticks\":\"\"}},\"marker\":{\"colorbar\":{\"outlinewidth\":0,\"ticks\":\"\"}},\"type\":\"scatter3d\"}],\"scattercarpet\":[{\"marker\":{\"colorbar\":{\"outlinewidth\":0,\"ticks\":\"\"}},\"type\":\"scattercarpet\"}],\"scattergeo\":[{\"marker\":{\"colorbar\":{\"outlinewidth\":0,\"ticks\":\"\"}},\"type\":\"scattergeo\"}],\"scattergl\":[{\"marker\":{\"colorbar\":{\"outlinewidth\":0,\"ticks\":\"\"}},\"type\":\"scattergl\"}],\"scattermapbox\":[{\"marker\":{\"colorbar\":{\"outlinewidth\":0,\"ticks\":\"\"}},\"type\":\"scattermapbox\"}],\"scatterpolar\":[{\"marker\":{\"colorbar\":{\"outlinewidth\":0,\"ticks\":\"\"}},\"type\":\"scatterpolar\"}],\"scatterpolargl\":[{\"marker\":{\"colorbar\":{\"outlinewidth\":0,\"ticks\":\"\"}},\"type\":\"scatterpolargl\"}],\"scatterternary\":[{\"marker\":{\"colorbar\":{\"outlinewidth\":0,\"ticks\":\"\"}},\"type\":\"scatterternary\"}],\"surface\":[{\"colorbar\":{\"outlinewidth\":0,\"ticks\":\"\"},\"colorscale\":[[0.0,\"#0d0887\"],[0.1111111111111111,\"#46039f\"],[0.2222222222222222,\"#7201a8\"],[0.3333333333333333,\"#9c179e\"],[0.4444444444444444,\"#bd3786\"],[0.5555555555555556,\"#d8576b\"],[0.6666666666666666,\"#ed7953\"],[0.7777777777777778,\"#fb9f3a\"],[0.8888888888888888,\"#fdca26\"],[1.0,\"#f0f921\"]],\"type\":\"surface\"}],\"table\":[{\"cells\":{\"fill\":{\"color\":\"#EBF0F8\"},\"line\":{\"color\":\"white\"}},\"header\":{\"fill\":{\"color\":\"#C8D4E3\"},\"line\":{\"color\":\"white\"}},\"type\":\"table\"}]},\"layout\":{\"annotationdefaults\":{\"arrowcolor\":\"#2a3f5f\",\"arrowhead\":0,\"arrowwidth\":1},\"autotypenumbers\":\"strict\",\"coloraxis\":{\"colorbar\":{\"outlinewidth\":0,\"ticks\":\"\"}},\"colorscale\":{\"diverging\":[[0,\"#8e0152\"],[0.1,\"#c51b7d\"],[0.2,\"#de77ae\"],[0.3,\"#f1b6da\"],[0.4,\"#fde0ef\"],[0.5,\"#f7f7f7\"],[0.6,\"#e6f5d0\"],[0.7,\"#b8e186\"],[0.8,\"#7fbc41\"],[0.9,\"#4d9221\"],[1,\"#276419\"]],\"sequential\":[[0.0,\"#0d0887\"],[0.1111111111111111,\"#46039f\"],[0.2222222222222222,\"#7201a8\"],[0.3333333333333333,\"#9c179e\"],[0.4444444444444444,\"#bd3786\"],[0.5555555555555556,\"#d8576b\"],[0.6666666666666666,\"#ed7953\"],[0.7777777777777778,\"#fb9f3a\"],[0.8888888888888888,\"#fdca26\"],[1.0,\"#f0f921\"]],\"sequentialminus\":[[0.0,\"#0d0887\"],[0.1111111111111111,\"#46039f\"],[0.2222222222222222,\"#7201a8\"],[0.3333333333333333,\"#9c179e\"],[0.4444444444444444,\"#bd3786\"],[0.5555555555555556,\"#d8576b\"],[0.6666666666666666,\"#ed7953\"],[0.7777777777777778,\"#fb9f3a\"],[0.8888888888888888,\"#fdca26\"],[1.0,\"#f0f921\"]]},\"colorway\":[\"#636efa\",\"#EF553B\",\"#00cc96\",\"#ab63fa\",\"#FFA15A\",\"#19d3f3\",\"#FF6692\",\"#B6E880\",\"#FF97FF\",\"#FECB52\"],\"font\":{\"color\":\"#2a3f5f\"},\"geo\":{\"bgcolor\":\"white\",\"lakecolor\":\"white\",\"landcolor\":\"#E5ECF6\",\"showlakes\":true,\"showland\":true,\"subunitcolor\":\"white\"},\"hoverlabel\":{\"align\":\"left\"},\"hovermode\":\"closest\",\"mapbox\":{\"style\":\"light\"},\"paper_bgcolor\":\"white\",\"plot_bgcolor\":\"#E5ECF6\",\"polar\":{\"angularaxis\":{\"gridcolor\":\"white\",\"linecolor\":\"white\",\"ticks\":\"\"},\"bgcolor\":\"#E5ECF6\",\"radialaxis\":{\"gridcolor\":\"white\",\"linecolor\":\"white\",\"ticks\":\"\"}},\"scene\":{\"xaxis\":{\"backgroundcolor\":\"#E5ECF6\",\"gridcolor\":\"white\",\"gridwidth\":2,\"linecolor\":\"white\",\"showbackground\":true,\"ticks\":\"\",\"zerolinecolor\":\"white\"},\"yaxis\":{\"backgroundcolor\":\"#E5ECF6\",\"gridcolor\":\"white\",\"gridwidth\":2,\"linecolor\":\"white\",\"showbackground\":true,\"ticks\":\"\",\"zerolinecolor\":\"white\"},\"zaxis\":{\"backgroundcolor\":\"#E5ECF6\",\"gridcolor\":\"white\",\"gridwidth\":2,\"linecolor\":\"white\",\"showbackground\":true,\"ticks\":\"\",\"zerolinecolor\":\"white\"}},\"shapedefaults\":{\"line\":{\"color\":\"#2a3f5f\"}},\"ternary\":{\"aaxis\":{\"gridcolor\":\"white\",\"linecolor\":\"white\",\"ticks\":\"\"},\"baxis\":{\"gridcolor\":\"white\",\"linecolor\":\"white\",\"ticks\":\"\"},\"bgcolor\":\"#E5ECF6\",\"caxis\":{\"gridcolor\":\"white\",\"linecolor\":\"white\",\"ticks\":\"\"}},\"title\":{\"x\":0.05},\"xaxis\":{\"automargin\":true,\"gridcolor\":\"white\",\"linecolor\":\"white\",\"ticks\":\"\",\"title\":{\"standoff\":15},\"zerolinecolor\":\"white\",\"zerolinewidth\":2},\"yaxis\":{\"automargin\":true,\"gridcolor\":\"white\",\"linecolor\":\"white\",\"ticks\":\"\",\"title\":{\"standoff\":15},\"zerolinecolor\":\"white\",\"zerolinewidth\":2}}},\"xaxis\":{\"anchor\":\"y\",\"domain\":[0.0,1.0],\"title\":{\"text\":\"Industry\"}},\"yaxis\":{\"anchor\":\"x\",\"domain\":[0.0,1.0],\"title\":{\"text\":\"Total Raised($B)\"}},\"legend\":{\"tracegroupgap\":0},\"title\":{\"text\":\"Top Industries wrt Total Money raised\"}},                        {\"responsive\": true}                    ).then(function(){\n",
       "                            \n",
       "var gd = document.getElementById('662d776d-1961-43b3-b2ee-c78988f64e56');\n",
       "var x = new MutationObserver(function (mutations, observer) {{\n",
       "        var display = window.getComputedStyle(gd).display;\n",
       "        if (!display || display === 'none') {{\n",
       "            console.log([gd, 'removed!']);\n",
       "            Plotly.purge(gd);\n",
       "            observer.disconnect();\n",
       "        }}\n",
       "}});\n",
       "\n",
       "// Listen for the removal of the full notebook cells\n",
       "var notebookContainer = gd.closest('#notebook-container');\n",
       "if (notebookContainer) {{\n",
       "    x.observe(notebookContainer, {childList: true});\n",
       "}}\n",
       "\n",
       "// Listen for the clearing of the current output cell\n",
       "var outputEl = gd.closest('.output');\n",
       "if (outputEl) {{\n",
       "    x.observe(outputEl, {childList: true});\n",
       "}}\n",
       "\n",
       "                        })                };                            </script>        </div>\n",
       "</body>\n",
       "</html>"
      ]
     },
     "metadata": {},
     "output_type": "display_data"
    }
   ],
   "source": [
    "fig=px.line(y=temp[('Total Raised', 'sum')],x=temp.index,title=\"Top Industries wrt Total Money raised\",labels={\"y\":\"Total Raised($B)\",\"x\":\"Industry\"})\n",
    "fig.update_traces(line_color=\"blue\")\n",
    "fig.show()"
   ]
  },
  {
   "cell_type": "markdown",
   "metadata": {
    "id": "dvCF0qwV8EV1"
   },
   "source": [
    "INVESTORS,TIME and OTHER ANALYSIS"
   ]
  },
  {
   "cell_type": "markdown",
   "metadata": {
    "id": "CZ6X3rvHKS99"
   },
   "source": [
    "Number of Unicorns wrt Year Joined"
   ]
  },
  {
   "cell_type": "code",
   "execution_count": null,
   "metadata": {
    "colab": {
     "base_uri": "https://localhost:8080/",
     "height": 266
    },
    "executionInfo": {
     "elapsed": 635,
     "status": "ok",
     "timestamp": 1677268063484,
     "user": {
      "displayName": "Shloke Maheshwari",
      "userId": "14292175972920513536"
     },
     "user_tz": -330
    },
    "id": "P7v3i7_HDRjZ",
    "outputId": "14c969a5-2523-4369-979d-353aa687b6be"
   },
   "outputs": [
    {
     "data": {
      "text/html": [
       "\n",
       "  <div id=\"df-ba480f4a-e084-4647-828e-d6b4694008cc\">\n",
       "    <div class=\"colab-df-container\">\n",
       "      <div>\n",
       "<style scoped>\n",
       "    .dataframe tbody tr th:only-of-type {\n",
       "        vertical-align: middle;\n",
       "    }\n",
       "\n",
       "    .dataframe tbody tr th {\n",
       "        vertical-align: top;\n",
       "    }\n",
       "\n",
       "    .dataframe thead tr th {\n",
       "        text-align: left;\n",
       "    }\n",
       "\n",
       "    .dataframe thead tr:last-of-type th {\n",
       "        text-align: right;\n",
       "    }\n",
       "</style>\n",
       "<table border=\"1\" class=\"dataframe\">\n",
       "  <thead>\n",
       "    <tr>\n",
       "      <th></th>\n",
       "      <th>Company</th>\n",
       "    </tr>\n",
       "    <tr>\n",
       "      <th></th>\n",
       "      <th>count</th>\n",
       "    </tr>\n",
       "    <tr>\n",
       "      <th>Year</th>\n",
       "      <th></th>\n",
       "    </tr>\n",
       "  </thead>\n",
       "  <tbody>\n",
       "    <tr>\n",
       "      <th>2021</th>\n",
       "      <td>469</td>\n",
       "    </tr>\n",
       "    <tr>\n",
       "      <th>2020</th>\n",
       "      <td>101</td>\n",
       "    </tr>\n",
       "    <tr>\n",
       "      <th>2018</th>\n",
       "      <td>98</td>\n",
       "    </tr>\n",
       "    <tr>\n",
       "      <th>2019</th>\n",
       "      <td>98</td>\n",
       "    </tr>\n",
       "    <tr>\n",
       "      <th>2022</th>\n",
       "      <td>81</td>\n",
       "    </tr>\n",
       "  </tbody>\n",
       "</table>\n",
       "</div>\n",
       "      <button class=\"colab-df-convert\" onclick=\"convertToInteractive('df-ba480f4a-e084-4647-828e-d6b4694008cc')\"\n",
       "              title=\"Convert this dataframe to an interactive table.\"\n",
       "              style=\"display:none;\">\n",
       "        \n",
       "  <svg xmlns=\"http://www.w3.org/2000/svg\" height=\"24px\"viewBox=\"0 0 24 24\"\n",
       "       width=\"24px\">\n",
       "    <path d=\"M0 0h24v24H0V0z\" fill=\"none\"/>\n",
       "    <path d=\"M18.56 5.44l.94 2.06.94-2.06 2.06-.94-2.06-.94-.94-2.06-.94 2.06-2.06.94zm-11 1L8.5 8.5l.94-2.06 2.06-.94-2.06-.94L8.5 2.5l-.94 2.06-2.06.94zm10 10l.94 2.06.94-2.06 2.06-.94-2.06-.94-.94-2.06-.94 2.06-2.06.94z\"/><path d=\"M17.41 7.96l-1.37-1.37c-.4-.4-.92-.59-1.43-.59-.52 0-1.04.2-1.43.59L10.3 9.45l-7.72 7.72c-.78.78-.78 2.05 0 2.83L4 21.41c.39.39.9.59 1.41.59.51 0 1.02-.2 1.41-.59l7.78-7.78 2.81-2.81c.8-.78.8-2.07 0-2.86zM5.41 20L4 18.59l7.72-7.72 1.47 1.35L5.41 20z\"/>\n",
       "  </svg>\n",
       "      </button>\n",
       "      \n",
       "  <style>\n",
       "    .colab-df-container {\n",
       "      display:flex;\n",
       "      flex-wrap:wrap;\n",
       "      gap: 12px;\n",
       "    }\n",
       "\n",
       "    .colab-df-convert {\n",
       "      background-color: #E8F0FE;\n",
       "      border: none;\n",
       "      border-radius: 50%;\n",
       "      cursor: pointer;\n",
       "      display: none;\n",
       "      fill: #1967D2;\n",
       "      height: 32px;\n",
       "      padding: 0 0 0 0;\n",
       "      width: 32px;\n",
       "    }\n",
       "\n",
       "    .colab-df-convert:hover {\n",
       "      background-color: #E2EBFA;\n",
       "      box-shadow: 0px 1px 2px rgba(60, 64, 67, 0.3), 0px 1px 3px 1px rgba(60, 64, 67, 0.15);\n",
       "      fill: #174EA6;\n",
       "    }\n",
       "\n",
       "    [theme=dark] .colab-df-convert {\n",
       "      background-color: #3B4455;\n",
       "      fill: #D2E3FC;\n",
       "    }\n",
       "\n",
       "    [theme=dark] .colab-df-convert:hover {\n",
       "      background-color: #434B5C;\n",
       "      box-shadow: 0px 1px 3px 1px rgba(0, 0, 0, 0.15);\n",
       "      filter: drop-shadow(0px 1px 2px rgba(0, 0, 0, 0.3));\n",
       "      fill: #FFFFFF;\n",
       "    }\n",
       "  </style>\n",
       "\n",
       "      <script>\n",
       "        const buttonEl =\n",
       "          document.querySelector('#df-ba480f4a-e084-4647-828e-d6b4694008cc button.colab-df-convert');\n",
       "        buttonEl.style.display =\n",
       "          google.colab.kernel.accessAllowed ? 'block' : 'none';\n",
       "\n",
       "        async function convertToInteractive(key) {\n",
       "          const element = document.querySelector('#df-ba480f4a-e084-4647-828e-d6b4694008cc');\n",
       "          const dataTable =\n",
       "            await google.colab.kernel.invokeFunction('convertToInteractive',\n",
       "                                                     [key], {});\n",
       "          if (!dataTable) return;\n",
       "\n",
       "          const docLinkHtml = 'Like what you see? Visit the ' +\n",
       "            '<a target=\"_blank\" href=https://colab.research.google.com/notebooks/data_table.ipynb>data table notebook</a>'\n",
       "            + ' to learn more about interactive tables.';\n",
       "          element.innerHTML = '';\n",
       "          dataTable['output_type'] = 'display_data';\n",
       "          await google.colab.output.renderOutput(dataTable, element);\n",
       "          const docLink = document.createElement('div');\n",
       "          docLink.innerHTML = docLinkHtml;\n",
       "          element.appendChild(docLink);\n",
       "        }\n",
       "      </script>\n",
       "    </div>\n",
       "  </div>\n",
       "  "
      ],
      "text/plain": [
       "     Company\n",
       "       count\n",
       "Year        \n",
       "2021     469\n",
       "2020     101\n",
       "2018      98\n",
       "2019      98\n",
       "2022      81"
      ]
     },
     "execution_count": 187,
     "metadata": {},
     "output_type": "execute_result"
    }
   ],
   "source": [
    "temp=df.groupby(by=['Year']).agg({'Company':['count']})\n",
    "temp=temp.sort_values([('Company', 'count')], ascending=False)[:5]\n",
    "temp"
   ]
  },
  {
   "cell_type": "code",
   "execution_count": null,
   "metadata": {
    "colab": {
     "base_uri": "https://localhost:8080/",
     "height": 542
    },
    "executionInfo": {
     "elapsed": 634,
     "status": "ok",
     "timestamp": 1677268064800,
     "user": {
      "displayName": "Shloke Maheshwari",
      "userId": "14292175972920513536"
     },
     "user_tz": -330
    },
    "id": "Rbe7RRwJYn23",
    "outputId": "f48f92a3-e258-4e45-f75a-c89f16d6797c"
   },
   "outputs": [
    {
     "data": {
      "text/html": [
       "<html>\n",
       "<head><meta charset=\"utf-8\" /></head>\n",
       "<body>\n",
       "    <div>            <script src=\"https://cdnjs.cloudflare.com/ajax/libs/mathjax/2.7.5/MathJax.js?config=TeX-AMS-MML_SVG\"></script><script type=\"text/javascript\">if (window.MathJax) {MathJax.Hub.Config({SVG: {font: \"STIX-Web\"}});}</script>                <script type=\"text/javascript\">window.PlotlyConfig = {MathJaxConfig: 'local'};</script>\n",
       "        <script src=\"https://cdn.plot.ly/plotly-2.8.3.min.js\"></script>                <div id=\"9576b986-dcc4-4290-a936-b742212f15f2\" class=\"plotly-graph-div\" style=\"height:525px; width:100%;\"></div>            <script type=\"text/javascript\">                                    window.PLOTLYENV=window.PLOTLYENV || {};                                    if (document.getElementById(\"9576b986-dcc4-4290-a936-b742212f15f2\")) {                    Plotly.newPlot(                        \"9576b986-dcc4-4290-a936-b742212f15f2\",                        [{\"domain\":{\"x\":[0.0,1.0],\"y\":[0.0,1.0]},\"hovertemplate\":\"label=%{label}<br>value=%{value}<extra></extra>\",\"labels\":[2021,2020,2018,2019,2022],\"legendgroup\":\"\",\"name\":\"\",\"showlegend\":true,\"values\":[469,101,98,98,81],\"type\":\"pie\",\"textfont\":{\"size\":20},\"textinfo\":\"value\"}],                        {\"template\":{\"data\":{\"bar\":[{\"error_x\":{\"color\":\"#2a3f5f\"},\"error_y\":{\"color\":\"#2a3f5f\"},\"marker\":{\"line\":{\"color\":\"#E5ECF6\",\"width\":0.5},\"pattern\":{\"fillmode\":\"overlay\",\"size\":10,\"solidity\":0.2}},\"type\":\"bar\"}],\"barpolar\":[{\"marker\":{\"line\":{\"color\":\"#E5ECF6\",\"width\":0.5},\"pattern\":{\"fillmode\":\"overlay\",\"size\":10,\"solidity\":0.2}},\"type\":\"barpolar\"}],\"carpet\":[{\"aaxis\":{\"endlinecolor\":\"#2a3f5f\",\"gridcolor\":\"white\",\"linecolor\":\"white\",\"minorgridcolor\":\"white\",\"startlinecolor\":\"#2a3f5f\"},\"baxis\":{\"endlinecolor\":\"#2a3f5f\",\"gridcolor\":\"white\",\"linecolor\":\"white\",\"minorgridcolor\":\"white\",\"startlinecolor\":\"#2a3f5f\"},\"type\":\"carpet\"}],\"choropleth\":[{\"colorbar\":{\"outlinewidth\":0,\"ticks\":\"\"},\"type\":\"choropleth\"}],\"contour\":[{\"colorbar\":{\"outlinewidth\":0,\"ticks\":\"\"},\"colorscale\":[[0.0,\"#0d0887\"],[0.1111111111111111,\"#46039f\"],[0.2222222222222222,\"#7201a8\"],[0.3333333333333333,\"#9c179e\"],[0.4444444444444444,\"#bd3786\"],[0.5555555555555556,\"#d8576b\"],[0.6666666666666666,\"#ed7953\"],[0.7777777777777778,\"#fb9f3a\"],[0.8888888888888888,\"#fdca26\"],[1.0,\"#f0f921\"]],\"type\":\"contour\"}],\"contourcarpet\":[{\"colorbar\":{\"outlinewidth\":0,\"ticks\":\"\"},\"type\":\"contourcarpet\"}],\"heatmap\":[{\"colorbar\":{\"outlinewidth\":0,\"ticks\":\"\"},\"colorscale\":[[0.0,\"#0d0887\"],[0.1111111111111111,\"#46039f\"],[0.2222222222222222,\"#7201a8\"],[0.3333333333333333,\"#9c179e\"],[0.4444444444444444,\"#bd3786\"],[0.5555555555555556,\"#d8576b\"],[0.6666666666666666,\"#ed7953\"],[0.7777777777777778,\"#fb9f3a\"],[0.8888888888888888,\"#fdca26\"],[1.0,\"#f0f921\"]],\"type\":\"heatmap\"}],\"heatmapgl\":[{\"colorbar\":{\"outlinewidth\":0,\"ticks\":\"\"},\"colorscale\":[[0.0,\"#0d0887\"],[0.1111111111111111,\"#46039f\"],[0.2222222222222222,\"#7201a8\"],[0.3333333333333333,\"#9c179e\"],[0.4444444444444444,\"#bd3786\"],[0.5555555555555556,\"#d8576b\"],[0.6666666666666666,\"#ed7953\"],[0.7777777777777778,\"#fb9f3a\"],[0.8888888888888888,\"#fdca26\"],[1.0,\"#f0f921\"]],\"type\":\"heatmapgl\"}],\"histogram\":[{\"marker\":{\"pattern\":{\"fillmode\":\"overlay\",\"size\":10,\"solidity\":0.2}},\"type\":\"histogram\"}],\"histogram2d\":[{\"colorbar\":{\"outlinewidth\":0,\"ticks\":\"\"},\"colorscale\":[[0.0,\"#0d0887\"],[0.1111111111111111,\"#46039f\"],[0.2222222222222222,\"#7201a8\"],[0.3333333333333333,\"#9c179e\"],[0.4444444444444444,\"#bd3786\"],[0.5555555555555556,\"#d8576b\"],[0.6666666666666666,\"#ed7953\"],[0.7777777777777778,\"#fb9f3a\"],[0.8888888888888888,\"#fdca26\"],[1.0,\"#f0f921\"]],\"type\":\"histogram2d\"}],\"histogram2dcontour\":[{\"colorbar\":{\"outlinewidth\":0,\"ticks\":\"\"},\"colorscale\":[[0.0,\"#0d0887\"],[0.1111111111111111,\"#46039f\"],[0.2222222222222222,\"#7201a8\"],[0.3333333333333333,\"#9c179e\"],[0.4444444444444444,\"#bd3786\"],[0.5555555555555556,\"#d8576b\"],[0.6666666666666666,\"#ed7953\"],[0.7777777777777778,\"#fb9f3a\"],[0.8888888888888888,\"#fdca26\"],[1.0,\"#f0f921\"]],\"type\":\"histogram2dcontour\"}],\"mesh3d\":[{\"colorbar\":{\"outlinewidth\":0,\"ticks\":\"\"},\"type\":\"mesh3d\"}],\"parcoords\":[{\"line\":{\"colorbar\":{\"outlinewidth\":0,\"ticks\":\"\"}},\"type\":\"parcoords\"}],\"pie\":[{\"automargin\":true,\"type\":\"pie\"}],\"scatter\":[{\"marker\":{\"colorbar\":{\"outlinewidth\":0,\"ticks\":\"\"}},\"type\":\"scatter\"}],\"scatter3d\":[{\"line\":{\"colorbar\":{\"outlinewidth\":0,\"ticks\":\"\"}},\"marker\":{\"colorbar\":{\"outlinewidth\":0,\"ticks\":\"\"}},\"type\":\"scatter3d\"}],\"scattercarpet\":[{\"marker\":{\"colorbar\":{\"outlinewidth\":0,\"ticks\":\"\"}},\"type\":\"scattercarpet\"}],\"scattergeo\":[{\"marker\":{\"colorbar\":{\"outlinewidth\":0,\"ticks\":\"\"}},\"type\":\"scattergeo\"}],\"scattergl\":[{\"marker\":{\"colorbar\":{\"outlinewidth\":0,\"ticks\":\"\"}},\"type\":\"scattergl\"}],\"scattermapbox\":[{\"marker\":{\"colorbar\":{\"outlinewidth\":0,\"ticks\":\"\"}},\"type\":\"scattermapbox\"}],\"scatterpolar\":[{\"marker\":{\"colorbar\":{\"outlinewidth\":0,\"ticks\":\"\"}},\"type\":\"scatterpolar\"}],\"scatterpolargl\":[{\"marker\":{\"colorbar\":{\"outlinewidth\":0,\"ticks\":\"\"}},\"type\":\"scatterpolargl\"}],\"scatterternary\":[{\"marker\":{\"colorbar\":{\"outlinewidth\":0,\"ticks\":\"\"}},\"type\":\"scatterternary\"}],\"surface\":[{\"colorbar\":{\"outlinewidth\":0,\"ticks\":\"\"},\"colorscale\":[[0.0,\"#0d0887\"],[0.1111111111111111,\"#46039f\"],[0.2222222222222222,\"#7201a8\"],[0.3333333333333333,\"#9c179e\"],[0.4444444444444444,\"#bd3786\"],[0.5555555555555556,\"#d8576b\"],[0.6666666666666666,\"#ed7953\"],[0.7777777777777778,\"#fb9f3a\"],[0.8888888888888888,\"#fdca26\"],[1.0,\"#f0f921\"]],\"type\":\"surface\"}],\"table\":[{\"cells\":{\"fill\":{\"color\":\"#EBF0F8\"},\"line\":{\"color\":\"white\"}},\"header\":{\"fill\":{\"color\":\"#C8D4E3\"},\"line\":{\"color\":\"white\"}},\"type\":\"table\"}]},\"layout\":{\"annotationdefaults\":{\"arrowcolor\":\"#2a3f5f\",\"arrowhead\":0,\"arrowwidth\":1},\"autotypenumbers\":\"strict\",\"coloraxis\":{\"colorbar\":{\"outlinewidth\":0,\"ticks\":\"\"}},\"colorscale\":{\"diverging\":[[0,\"#8e0152\"],[0.1,\"#c51b7d\"],[0.2,\"#de77ae\"],[0.3,\"#f1b6da\"],[0.4,\"#fde0ef\"],[0.5,\"#f7f7f7\"],[0.6,\"#e6f5d0\"],[0.7,\"#b8e186\"],[0.8,\"#7fbc41\"],[0.9,\"#4d9221\"],[1,\"#276419\"]],\"sequential\":[[0.0,\"#0d0887\"],[0.1111111111111111,\"#46039f\"],[0.2222222222222222,\"#7201a8\"],[0.3333333333333333,\"#9c179e\"],[0.4444444444444444,\"#bd3786\"],[0.5555555555555556,\"#d8576b\"],[0.6666666666666666,\"#ed7953\"],[0.7777777777777778,\"#fb9f3a\"],[0.8888888888888888,\"#fdca26\"],[1.0,\"#f0f921\"]],\"sequentialminus\":[[0.0,\"#0d0887\"],[0.1111111111111111,\"#46039f\"],[0.2222222222222222,\"#7201a8\"],[0.3333333333333333,\"#9c179e\"],[0.4444444444444444,\"#bd3786\"],[0.5555555555555556,\"#d8576b\"],[0.6666666666666666,\"#ed7953\"],[0.7777777777777778,\"#fb9f3a\"],[0.8888888888888888,\"#fdca26\"],[1.0,\"#f0f921\"]]},\"colorway\":[\"#636efa\",\"#EF553B\",\"#00cc96\",\"#ab63fa\",\"#FFA15A\",\"#19d3f3\",\"#FF6692\",\"#B6E880\",\"#FF97FF\",\"#FECB52\"],\"font\":{\"color\":\"#2a3f5f\"},\"geo\":{\"bgcolor\":\"white\",\"lakecolor\":\"white\",\"landcolor\":\"#E5ECF6\",\"showlakes\":true,\"showland\":true,\"subunitcolor\":\"white\"},\"hoverlabel\":{\"align\":\"left\"},\"hovermode\":\"closest\",\"mapbox\":{\"style\":\"light\"},\"paper_bgcolor\":\"white\",\"plot_bgcolor\":\"#E5ECF6\",\"polar\":{\"angularaxis\":{\"gridcolor\":\"white\",\"linecolor\":\"white\",\"ticks\":\"\"},\"bgcolor\":\"#E5ECF6\",\"radialaxis\":{\"gridcolor\":\"white\",\"linecolor\":\"white\",\"ticks\":\"\"}},\"scene\":{\"xaxis\":{\"backgroundcolor\":\"#E5ECF6\",\"gridcolor\":\"white\",\"gridwidth\":2,\"linecolor\":\"white\",\"showbackground\":true,\"ticks\":\"\",\"zerolinecolor\":\"white\"},\"yaxis\":{\"backgroundcolor\":\"#E5ECF6\",\"gridcolor\":\"white\",\"gridwidth\":2,\"linecolor\":\"white\",\"showbackground\":true,\"ticks\":\"\",\"zerolinecolor\":\"white\"},\"zaxis\":{\"backgroundcolor\":\"#E5ECF6\",\"gridcolor\":\"white\",\"gridwidth\":2,\"linecolor\":\"white\",\"showbackground\":true,\"ticks\":\"\",\"zerolinecolor\":\"white\"}},\"shapedefaults\":{\"line\":{\"color\":\"#2a3f5f\"}},\"ternary\":{\"aaxis\":{\"gridcolor\":\"white\",\"linecolor\":\"white\",\"ticks\":\"\"},\"baxis\":{\"gridcolor\":\"white\",\"linecolor\":\"white\",\"ticks\":\"\"},\"bgcolor\":\"#E5ECF6\",\"caxis\":{\"gridcolor\":\"white\",\"linecolor\":\"white\",\"ticks\":\"\"}},\"title\":{\"x\":0.05},\"xaxis\":{\"automargin\":true,\"gridcolor\":\"white\",\"linecolor\":\"white\",\"ticks\":\"\",\"title\":{\"standoff\":15},\"zerolinecolor\":\"white\",\"zerolinewidth\":2},\"yaxis\":{\"automargin\":true,\"gridcolor\":\"white\",\"linecolor\":\"white\",\"ticks\":\"\",\"title\":{\"standoff\":15},\"zerolinecolor\":\"white\",\"zerolinewidth\":2}}},\"legend\":{\"tracegroupgap\":0},\"title\":{\"text\":\"Years wrt the highest number of Companies that became Unicorns\"}},                        {\"responsive\": true}                    ).then(function(){\n",
       "                            \n",
       "var gd = document.getElementById('9576b986-dcc4-4290-a936-b742212f15f2');\n",
       "var x = new MutationObserver(function (mutations, observer) {{\n",
       "        var display = window.getComputedStyle(gd).display;\n",
       "        if (!display || display === 'none') {{\n",
       "            console.log([gd, 'removed!']);\n",
       "            Plotly.purge(gd);\n",
       "            observer.disconnect();\n",
       "        }}\n",
       "}});\n",
       "\n",
       "// Listen for the removal of the full notebook cells\n",
       "var notebookContainer = gd.closest('#notebook-container');\n",
       "if (notebookContainer) {{\n",
       "    x.observe(notebookContainer, {childList: true});\n",
       "}}\n",
       "\n",
       "// Listen for the clearing of the current output cell\n",
       "var outputEl = gd.closest('.output');\n",
       "if (outputEl) {{\n",
       "    x.observe(outputEl, {childList: true});\n",
       "}}\n",
       "\n",
       "                        })                };                            </script>        </div>\n",
       "</body>\n",
       "</html>"
      ]
     },
     "metadata": {},
     "output_type": "display_data"
    }
   ],
   "source": [
    "fig=px.pie(values=temp[('Company', 'count')],names=temp.index,title=\"Years wrt the highest number of Companies that became Unicorns\")\n",
    "fig.update_traces(textinfo='value',textfont_size=20)\n",
    "fig.show()"
   ]
  },
  {
   "cell_type": "markdown",
   "metadata": {
    "id": "HtgGP5aaKb06"
   },
   "source": [
    "Founded Years wrt number of Companies that became Unicorn"
   ]
  },
  {
   "cell_type": "code",
   "execution_count": null,
   "metadata": {
    "colab": {
     "base_uri": "https://localhost:8080/",
     "height": 421
    },
    "executionInfo": {
     "elapsed": 6,
     "status": "ok",
     "timestamp": 1677268366802,
     "user": {
      "displayName": "Shloke Maheshwari",
      "userId": "14292175972920513536"
     },
     "user_tz": -330
    },
    "id": "O4x1535RKfKt",
    "outputId": "8208968a-eabb-4384-a3c6-da435b53e865"
   },
   "outputs": [
    {
     "data": {
      "text/html": [
       "\n",
       "  <div id=\"df-2bd35ee8-69e7-4081-803c-454f0a8b2cfa\">\n",
       "    <div class=\"colab-df-container\">\n",
       "      <div>\n",
       "<style scoped>\n",
       "    .dataframe tbody tr th:only-of-type {\n",
       "        vertical-align: middle;\n",
       "    }\n",
       "\n",
       "    .dataframe tbody tr th {\n",
       "        vertical-align: top;\n",
       "    }\n",
       "\n",
       "    .dataframe thead tr th {\n",
       "        text-align: left;\n",
       "    }\n",
       "\n",
       "    .dataframe thead tr:last-of-type th {\n",
       "        text-align: right;\n",
       "    }\n",
       "</style>\n",
       "<table border=\"1\" class=\"dataframe\">\n",
       "  <thead>\n",
       "    <tr>\n",
       "      <th></th>\n",
       "      <th>Company</th>\n",
       "    </tr>\n",
       "    <tr>\n",
       "      <th></th>\n",
       "      <th>count</th>\n",
       "    </tr>\n",
       "    <tr>\n",
       "      <th>Founded Year</th>\n",
       "      <th></th>\n",
       "    </tr>\n",
       "  </thead>\n",
       "  <tbody>\n",
       "    <tr>\n",
       "      <th>2015</th>\n",
       "      <td>139</td>\n",
       "    </tr>\n",
       "    <tr>\n",
       "      <th>2014</th>\n",
       "      <td>103</td>\n",
       "    </tr>\n",
       "    <tr>\n",
       "      <th>2016</th>\n",
       "      <td>98</td>\n",
       "    </tr>\n",
       "    <tr>\n",
       "      <th>2012</th>\n",
       "      <td>86</td>\n",
       "    </tr>\n",
       "    <tr>\n",
       "      <th>2013</th>\n",
       "      <td>82</td>\n",
       "    </tr>\n",
       "    <tr>\n",
       "      <th>2011</th>\n",
       "      <td>74</td>\n",
       "    </tr>\n",
       "    <tr>\n",
       "      <th>2017</th>\n",
       "      <td>65</td>\n",
       "    </tr>\n",
       "    <tr>\n",
       "      <th>2018</th>\n",
       "      <td>52</td>\n",
       "    </tr>\n",
       "    <tr>\n",
       "      <th>2010</th>\n",
       "      <td>35</td>\n",
       "    </tr>\n",
       "    <tr>\n",
       "      <th>2019</th>\n",
       "      <td>33</td>\n",
       "    </tr>\n",
       "  </tbody>\n",
       "</table>\n",
       "</div>\n",
       "      <button class=\"colab-df-convert\" onclick=\"convertToInteractive('df-2bd35ee8-69e7-4081-803c-454f0a8b2cfa')\"\n",
       "              title=\"Convert this dataframe to an interactive table.\"\n",
       "              style=\"display:none;\">\n",
       "        \n",
       "  <svg xmlns=\"http://www.w3.org/2000/svg\" height=\"24px\"viewBox=\"0 0 24 24\"\n",
       "       width=\"24px\">\n",
       "    <path d=\"M0 0h24v24H0V0z\" fill=\"none\"/>\n",
       "    <path d=\"M18.56 5.44l.94 2.06.94-2.06 2.06-.94-2.06-.94-.94-2.06-.94 2.06-2.06.94zm-11 1L8.5 8.5l.94-2.06 2.06-.94-2.06-.94L8.5 2.5l-.94 2.06-2.06.94zm10 10l.94 2.06.94-2.06 2.06-.94-2.06-.94-.94-2.06-.94 2.06-2.06.94z\"/><path d=\"M17.41 7.96l-1.37-1.37c-.4-.4-.92-.59-1.43-.59-.52 0-1.04.2-1.43.59L10.3 9.45l-7.72 7.72c-.78.78-.78 2.05 0 2.83L4 21.41c.39.39.9.59 1.41.59.51 0 1.02-.2 1.41-.59l7.78-7.78 2.81-2.81c.8-.78.8-2.07 0-2.86zM5.41 20L4 18.59l7.72-7.72 1.47 1.35L5.41 20z\"/>\n",
       "  </svg>\n",
       "      </button>\n",
       "      \n",
       "  <style>\n",
       "    .colab-df-container {\n",
       "      display:flex;\n",
       "      flex-wrap:wrap;\n",
       "      gap: 12px;\n",
       "    }\n",
       "\n",
       "    .colab-df-convert {\n",
       "      background-color: #E8F0FE;\n",
       "      border: none;\n",
       "      border-radius: 50%;\n",
       "      cursor: pointer;\n",
       "      display: none;\n",
       "      fill: #1967D2;\n",
       "      height: 32px;\n",
       "      padding: 0 0 0 0;\n",
       "      width: 32px;\n",
       "    }\n",
       "\n",
       "    .colab-df-convert:hover {\n",
       "      background-color: #E2EBFA;\n",
       "      box-shadow: 0px 1px 2px rgba(60, 64, 67, 0.3), 0px 1px 3px 1px rgba(60, 64, 67, 0.15);\n",
       "      fill: #174EA6;\n",
       "    }\n",
       "\n",
       "    [theme=dark] .colab-df-convert {\n",
       "      background-color: #3B4455;\n",
       "      fill: #D2E3FC;\n",
       "    }\n",
       "\n",
       "    [theme=dark] .colab-df-convert:hover {\n",
       "      background-color: #434B5C;\n",
       "      box-shadow: 0px 1px 3px 1px rgba(0, 0, 0, 0.15);\n",
       "      filter: drop-shadow(0px 1px 2px rgba(0, 0, 0, 0.3));\n",
       "      fill: #FFFFFF;\n",
       "    }\n",
       "  </style>\n",
       "\n",
       "      <script>\n",
       "        const buttonEl =\n",
       "          document.querySelector('#df-2bd35ee8-69e7-4081-803c-454f0a8b2cfa button.colab-df-convert');\n",
       "        buttonEl.style.display =\n",
       "          google.colab.kernel.accessAllowed ? 'block' : 'none';\n",
       "\n",
       "        async function convertToInteractive(key) {\n",
       "          const element = document.querySelector('#df-2bd35ee8-69e7-4081-803c-454f0a8b2cfa');\n",
       "          const dataTable =\n",
       "            await google.colab.kernel.invokeFunction('convertToInteractive',\n",
       "                                                     [key], {});\n",
       "          if (!dataTable) return;\n",
       "\n",
       "          const docLinkHtml = 'Like what you see? Visit the ' +\n",
       "            '<a target=\"_blank\" href=https://colab.research.google.com/notebooks/data_table.ipynb>data table notebook</a>'\n",
       "            + ' to learn more about interactive tables.';\n",
       "          element.innerHTML = '';\n",
       "          dataTable['output_type'] = 'display_data';\n",
       "          await google.colab.output.renderOutput(dataTable, element);\n",
       "          const docLink = document.createElement('div');\n",
       "          docLink.innerHTML = docLinkHtml;\n",
       "          element.appendChild(docLink);\n",
       "        }\n",
       "      </script>\n",
       "    </div>\n",
       "  </div>\n",
       "  "
      ],
      "text/plain": [
       "             Company\n",
       "               count\n",
       "Founded Year        \n",
       "2015             139\n",
       "2014             103\n",
       "2016              98\n",
       "2012              86\n",
       "2013              82\n",
       "2011              74\n",
       "2017              65\n",
       "2018              52\n",
       "2010              35\n",
       "2019              33"
      ]
     },
     "execution_count": 195,
     "metadata": {},
     "output_type": "execute_result"
    }
   ],
   "source": [
    "temp=df.groupby(by=['Founded Year']).agg({'Company':['count']})\n",
    "temp=temp.sort_values([('Company','count')], ascending=False)[:10]\n",
    "temp\n"
   ]
  },
  {
   "cell_type": "code",
   "execution_count": null,
   "metadata": {
    "colab": {
     "base_uri": "https://localhost:8080/",
     "height": 542
    },
    "executionInfo": {
     "elapsed": 1618,
     "status": "ok",
     "timestamp": 1677268365257,
     "user": {
      "displayName": "Shloke Maheshwari",
      "userId": "14292175972920513536"
     },
     "user_tz": -330
    },
    "id": "xj_q1uaBFO8S",
    "outputId": "877077fc-6057-4a4a-ba00-12c6100ea0c9"
   },
   "outputs": [
    {
     "data": {
      "text/html": [
       "<html>\n",
       "<head><meta charset=\"utf-8\" /></head>\n",
       "<body>\n",
       "    <div>            <script src=\"https://cdnjs.cloudflare.com/ajax/libs/mathjax/2.7.5/MathJax.js?config=TeX-AMS-MML_SVG\"></script><script type=\"text/javascript\">if (window.MathJax) {MathJax.Hub.Config({SVG: {font: \"STIX-Web\"}});}</script>                <script type=\"text/javascript\">window.PlotlyConfig = {MathJaxConfig: 'local'};</script>\n",
       "        <script src=\"https://cdn.plot.ly/plotly-2.8.3.min.js\"></script>                <div id=\"4e4bc970-088c-4fa9-81b2-ea03b383c1cf\" class=\"plotly-graph-div\" style=\"height:525px; width:100%;\"></div>            <script type=\"text/javascript\">                                    window.PLOTLYENV=window.PLOTLYENV || {};                                    if (document.getElementById(\"4e4bc970-088c-4fa9-81b2-ea03b383c1cf\")) {                    Plotly.newPlot(                        \"4e4bc970-088c-4fa9-81b2-ea03b383c1cf\",                        [{\"alignmentgroup\":\"True\",\"hovertemplate\":\"Founded Years=%{x}<br>Number of Unicorns=%{y}<extra></extra>\",\"legendgroup\":\"\",\"marker\":{\"color\":\"#636efa\",\"pattern\":{\"shape\":\"\"}},\"name\":\"\",\"offsetgroup\":\"\",\"orientation\":\"v\",\"showlegend\":false,\"textposition\":\"auto\",\"texttemplate\":\"%{y}\",\"x\":[2015,2014,2016,2012,2013,2011,2017,2018,2010,2019],\"xaxis\":\"x\",\"y\":[139,103,98,86,82,74,65,52,35,33],\"yaxis\":\"y\",\"type\":\"bar\"}],                        {\"template\":{\"data\":{\"bar\":[{\"error_x\":{\"color\":\"#2a3f5f\"},\"error_y\":{\"color\":\"#2a3f5f\"},\"marker\":{\"line\":{\"color\":\"#E5ECF6\",\"width\":0.5},\"pattern\":{\"fillmode\":\"overlay\",\"size\":10,\"solidity\":0.2}},\"type\":\"bar\"}],\"barpolar\":[{\"marker\":{\"line\":{\"color\":\"#E5ECF6\",\"width\":0.5},\"pattern\":{\"fillmode\":\"overlay\",\"size\":10,\"solidity\":0.2}},\"type\":\"barpolar\"}],\"carpet\":[{\"aaxis\":{\"endlinecolor\":\"#2a3f5f\",\"gridcolor\":\"white\",\"linecolor\":\"white\",\"minorgridcolor\":\"white\",\"startlinecolor\":\"#2a3f5f\"},\"baxis\":{\"endlinecolor\":\"#2a3f5f\",\"gridcolor\":\"white\",\"linecolor\":\"white\",\"minorgridcolor\":\"white\",\"startlinecolor\":\"#2a3f5f\"},\"type\":\"carpet\"}],\"choropleth\":[{\"colorbar\":{\"outlinewidth\":0,\"ticks\":\"\"},\"type\":\"choropleth\"}],\"contour\":[{\"colorbar\":{\"outlinewidth\":0,\"ticks\":\"\"},\"colorscale\":[[0.0,\"#0d0887\"],[0.1111111111111111,\"#46039f\"],[0.2222222222222222,\"#7201a8\"],[0.3333333333333333,\"#9c179e\"],[0.4444444444444444,\"#bd3786\"],[0.5555555555555556,\"#d8576b\"],[0.6666666666666666,\"#ed7953\"],[0.7777777777777778,\"#fb9f3a\"],[0.8888888888888888,\"#fdca26\"],[1.0,\"#f0f921\"]],\"type\":\"contour\"}],\"contourcarpet\":[{\"colorbar\":{\"outlinewidth\":0,\"ticks\":\"\"},\"type\":\"contourcarpet\"}],\"heatmap\":[{\"colorbar\":{\"outlinewidth\":0,\"ticks\":\"\"},\"colorscale\":[[0.0,\"#0d0887\"],[0.1111111111111111,\"#46039f\"],[0.2222222222222222,\"#7201a8\"],[0.3333333333333333,\"#9c179e\"],[0.4444444444444444,\"#bd3786\"],[0.5555555555555556,\"#d8576b\"],[0.6666666666666666,\"#ed7953\"],[0.7777777777777778,\"#fb9f3a\"],[0.8888888888888888,\"#fdca26\"],[1.0,\"#f0f921\"]],\"type\":\"heatmap\"}],\"heatmapgl\":[{\"colorbar\":{\"outlinewidth\":0,\"ticks\":\"\"},\"colorscale\":[[0.0,\"#0d0887\"],[0.1111111111111111,\"#46039f\"],[0.2222222222222222,\"#7201a8\"],[0.3333333333333333,\"#9c179e\"],[0.4444444444444444,\"#bd3786\"],[0.5555555555555556,\"#d8576b\"],[0.6666666666666666,\"#ed7953\"],[0.7777777777777778,\"#fb9f3a\"],[0.8888888888888888,\"#fdca26\"],[1.0,\"#f0f921\"]],\"type\":\"heatmapgl\"}],\"histogram\":[{\"marker\":{\"pattern\":{\"fillmode\":\"overlay\",\"size\":10,\"solidity\":0.2}},\"type\":\"histogram\"}],\"histogram2d\":[{\"colorbar\":{\"outlinewidth\":0,\"ticks\":\"\"},\"colorscale\":[[0.0,\"#0d0887\"],[0.1111111111111111,\"#46039f\"],[0.2222222222222222,\"#7201a8\"],[0.3333333333333333,\"#9c179e\"],[0.4444444444444444,\"#bd3786\"],[0.5555555555555556,\"#d8576b\"],[0.6666666666666666,\"#ed7953\"],[0.7777777777777778,\"#fb9f3a\"],[0.8888888888888888,\"#fdca26\"],[1.0,\"#f0f921\"]],\"type\":\"histogram2d\"}],\"histogram2dcontour\":[{\"colorbar\":{\"outlinewidth\":0,\"ticks\":\"\"},\"colorscale\":[[0.0,\"#0d0887\"],[0.1111111111111111,\"#46039f\"],[0.2222222222222222,\"#7201a8\"],[0.3333333333333333,\"#9c179e\"],[0.4444444444444444,\"#bd3786\"],[0.5555555555555556,\"#d8576b\"],[0.6666666666666666,\"#ed7953\"],[0.7777777777777778,\"#fb9f3a\"],[0.8888888888888888,\"#fdca26\"],[1.0,\"#f0f921\"]],\"type\":\"histogram2dcontour\"}],\"mesh3d\":[{\"colorbar\":{\"outlinewidth\":0,\"ticks\":\"\"},\"type\":\"mesh3d\"}],\"parcoords\":[{\"line\":{\"colorbar\":{\"outlinewidth\":0,\"ticks\":\"\"}},\"type\":\"parcoords\"}],\"pie\":[{\"automargin\":true,\"type\":\"pie\"}],\"scatter\":[{\"marker\":{\"colorbar\":{\"outlinewidth\":0,\"ticks\":\"\"}},\"type\":\"scatter\"}],\"scatter3d\":[{\"line\":{\"colorbar\":{\"outlinewidth\":0,\"ticks\":\"\"}},\"marker\":{\"colorbar\":{\"outlinewidth\":0,\"ticks\":\"\"}},\"type\":\"scatter3d\"}],\"scattercarpet\":[{\"marker\":{\"colorbar\":{\"outlinewidth\":0,\"ticks\":\"\"}},\"type\":\"scattercarpet\"}],\"scattergeo\":[{\"marker\":{\"colorbar\":{\"outlinewidth\":0,\"ticks\":\"\"}},\"type\":\"scattergeo\"}],\"scattergl\":[{\"marker\":{\"colorbar\":{\"outlinewidth\":0,\"ticks\":\"\"}},\"type\":\"scattergl\"}],\"scattermapbox\":[{\"marker\":{\"colorbar\":{\"outlinewidth\":0,\"ticks\":\"\"}},\"type\":\"scattermapbox\"}],\"scatterpolar\":[{\"marker\":{\"colorbar\":{\"outlinewidth\":0,\"ticks\":\"\"}},\"type\":\"scatterpolar\"}],\"scatterpolargl\":[{\"marker\":{\"colorbar\":{\"outlinewidth\":0,\"ticks\":\"\"}},\"type\":\"scatterpolargl\"}],\"scatterternary\":[{\"marker\":{\"colorbar\":{\"outlinewidth\":0,\"ticks\":\"\"}},\"type\":\"scatterternary\"}],\"surface\":[{\"colorbar\":{\"outlinewidth\":0,\"ticks\":\"\"},\"colorscale\":[[0.0,\"#0d0887\"],[0.1111111111111111,\"#46039f\"],[0.2222222222222222,\"#7201a8\"],[0.3333333333333333,\"#9c179e\"],[0.4444444444444444,\"#bd3786\"],[0.5555555555555556,\"#d8576b\"],[0.6666666666666666,\"#ed7953\"],[0.7777777777777778,\"#fb9f3a\"],[0.8888888888888888,\"#fdca26\"],[1.0,\"#f0f921\"]],\"type\":\"surface\"}],\"table\":[{\"cells\":{\"fill\":{\"color\":\"#EBF0F8\"},\"line\":{\"color\":\"white\"}},\"header\":{\"fill\":{\"color\":\"#C8D4E3\"},\"line\":{\"color\":\"white\"}},\"type\":\"table\"}]},\"layout\":{\"annotationdefaults\":{\"arrowcolor\":\"#2a3f5f\",\"arrowhead\":0,\"arrowwidth\":1},\"autotypenumbers\":\"strict\",\"coloraxis\":{\"colorbar\":{\"outlinewidth\":0,\"ticks\":\"\"}},\"colorscale\":{\"diverging\":[[0,\"#8e0152\"],[0.1,\"#c51b7d\"],[0.2,\"#de77ae\"],[0.3,\"#f1b6da\"],[0.4,\"#fde0ef\"],[0.5,\"#f7f7f7\"],[0.6,\"#e6f5d0\"],[0.7,\"#b8e186\"],[0.8,\"#7fbc41\"],[0.9,\"#4d9221\"],[1,\"#276419\"]],\"sequential\":[[0.0,\"#0d0887\"],[0.1111111111111111,\"#46039f\"],[0.2222222222222222,\"#7201a8\"],[0.3333333333333333,\"#9c179e\"],[0.4444444444444444,\"#bd3786\"],[0.5555555555555556,\"#d8576b\"],[0.6666666666666666,\"#ed7953\"],[0.7777777777777778,\"#fb9f3a\"],[0.8888888888888888,\"#fdca26\"],[1.0,\"#f0f921\"]],\"sequentialminus\":[[0.0,\"#0d0887\"],[0.1111111111111111,\"#46039f\"],[0.2222222222222222,\"#7201a8\"],[0.3333333333333333,\"#9c179e\"],[0.4444444444444444,\"#bd3786\"],[0.5555555555555556,\"#d8576b\"],[0.6666666666666666,\"#ed7953\"],[0.7777777777777778,\"#fb9f3a\"],[0.8888888888888888,\"#fdca26\"],[1.0,\"#f0f921\"]]},\"colorway\":[\"#636efa\",\"#EF553B\",\"#00cc96\",\"#ab63fa\",\"#FFA15A\",\"#19d3f3\",\"#FF6692\",\"#B6E880\",\"#FF97FF\",\"#FECB52\"],\"font\":{\"color\":\"#2a3f5f\"},\"geo\":{\"bgcolor\":\"white\",\"lakecolor\":\"white\",\"landcolor\":\"#E5ECF6\",\"showlakes\":true,\"showland\":true,\"subunitcolor\":\"white\"},\"hoverlabel\":{\"align\":\"left\"},\"hovermode\":\"closest\",\"mapbox\":{\"style\":\"light\"},\"paper_bgcolor\":\"white\",\"plot_bgcolor\":\"#E5ECF6\",\"polar\":{\"angularaxis\":{\"gridcolor\":\"white\",\"linecolor\":\"white\",\"ticks\":\"\"},\"bgcolor\":\"#E5ECF6\",\"radialaxis\":{\"gridcolor\":\"white\",\"linecolor\":\"white\",\"ticks\":\"\"}},\"scene\":{\"xaxis\":{\"backgroundcolor\":\"#E5ECF6\",\"gridcolor\":\"white\",\"gridwidth\":2,\"linecolor\":\"white\",\"showbackground\":true,\"ticks\":\"\",\"zerolinecolor\":\"white\"},\"yaxis\":{\"backgroundcolor\":\"#E5ECF6\",\"gridcolor\":\"white\",\"gridwidth\":2,\"linecolor\":\"white\",\"showbackground\":true,\"ticks\":\"\",\"zerolinecolor\":\"white\"},\"zaxis\":{\"backgroundcolor\":\"#E5ECF6\",\"gridcolor\":\"white\",\"gridwidth\":2,\"linecolor\":\"white\",\"showbackground\":true,\"ticks\":\"\",\"zerolinecolor\":\"white\"}},\"shapedefaults\":{\"line\":{\"color\":\"#2a3f5f\"}},\"ternary\":{\"aaxis\":{\"gridcolor\":\"white\",\"linecolor\":\"white\",\"ticks\":\"\"},\"baxis\":{\"gridcolor\":\"white\",\"linecolor\":\"white\",\"ticks\":\"\"},\"bgcolor\":\"#E5ECF6\",\"caxis\":{\"gridcolor\":\"white\",\"linecolor\":\"white\",\"ticks\":\"\"}},\"title\":{\"x\":0.05},\"xaxis\":{\"automargin\":true,\"gridcolor\":\"white\",\"linecolor\":\"white\",\"ticks\":\"\",\"title\":{\"standoff\":15},\"zerolinecolor\":\"white\",\"zerolinewidth\":2},\"yaxis\":{\"automargin\":true,\"gridcolor\":\"white\",\"linecolor\":\"white\",\"ticks\":\"\",\"title\":{\"standoff\":15},\"zerolinecolor\":\"white\",\"zerolinewidth\":2}}},\"xaxis\":{\"anchor\":\"y\",\"domain\":[0.0,1.0],\"title\":{\"text\":\"Founded Years\"}},\"yaxis\":{\"anchor\":\"x\",\"domain\":[0.0,1.0],\"title\":{\"text\":\"Number of Unicorns\"}},\"legend\":{\"tracegroupgap\":0},\"title\":{\"text\":\"Founded Years wrt number of Companies that became Unicorn\"},\"barmode\":\"relative\"},                        {\"responsive\": true}                    ).then(function(){\n",
       "                            \n",
       "var gd = document.getElementById('4e4bc970-088c-4fa9-81b2-ea03b383c1cf');\n",
       "var x = new MutationObserver(function (mutations, observer) {{\n",
       "        var display = window.getComputedStyle(gd).display;\n",
       "        if (!display || display === 'none') {{\n",
       "            console.log([gd, 'removed!']);\n",
       "            Plotly.purge(gd);\n",
       "            observer.disconnect();\n",
       "        }}\n",
       "}});\n",
       "\n",
       "// Listen for the removal of the full notebook cells\n",
       "var notebookContainer = gd.closest('#notebook-container');\n",
       "if (notebookContainer) {{\n",
       "    x.observe(notebookContainer, {childList: true});\n",
       "}}\n",
       "\n",
       "// Listen for the clearing of the current output cell\n",
       "var outputEl = gd.closest('.output');\n",
       "if (outputEl) {{\n",
       "    x.observe(outputEl, {childList: true});\n",
       "}}\n",
       "\n",
       "                        })                };                            </script>        </div>\n",
       "</body>\n",
       "</html>"
      ]
     },
     "metadata": {},
     "output_type": "display_data"
    }
   ],
   "source": [
    "fig=px.bar(y=temp[('Company','count')],x=temp.index,title=\"Founded Years wrt number of Companies that became Unicorn\",text_auto=True,labels={\"x\":\"Founded Years\",\"y\":\"Number of Unicorns\"})\n",
    "fig.show()"
   ]
  },
  {
   "cell_type": "markdown",
   "metadata": {
    "id": "_dM-jMCWLT0j"
   },
   "source": [
    "Top Investors wrt Number of Unicorns they invested in"
   ]
  },
  {
   "cell_type": "code",
   "execution_count": null,
   "metadata": {
    "colab": {
     "base_uri": "https://localhost:8080/"
    },
    "executionInfo": {
     "elapsed": 8,
     "status": "ok",
     "timestamp": 1677259075317,
     "user": {
      "displayName": "Shloke Maheshwari",
      "userId": "14292175972920513536"
     },
     "user_tz": -330
    },
    "id": "tf5S3LCeleMW",
    "outputId": "c80813f9-2659-4385-cc42-2421a173bdf8"
   },
   "outputs": [
    {
     "data": {
      "text/plain": [
       "Accel                          55\n",
       "Tiger Global Management        48\n",
       "Andreessen Horowitz            41\n",
       "Sequoia Capital China          40\n",
       "Insight Partners               39\n",
       "Sequoia Capital                37\n",
       "Lightspeed Venture Partners    32\n",
       "SoftBank Group                 31\n",
       "General Catalyst               30\n",
       "Tencent Holdings               27\n",
       "dtype: int64"
      ]
     },
     "execution_count": 122,
     "metadata": {},
     "output_type": "execute_result"
    }
   ],
   "source": [
    "investors = []\n",
    "for i, row in df.iterrows():\n",
    "   \n",
    "        investors += row[\"Select Inverstors\"].split(', ')\n",
    "investors = pd.Series(investors).value_counts()[:10]\n",
    "investors.sort_values(ascending=False, inplace=True)\n",
    "investors"
   ]
  },
  {
   "cell_type": "code",
   "execution_count": null,
   "metadata": {
    "colab": {
     "base_uri": "https://localhost:8080/",
     "height": 542
    },
    "executionInfo": {
     "elapsed": 650,
     "status": "ok",
     "timestamp": 1677259334553,
     "user": {
      "displayName": "Shloke Maheshwari",
      "userId": "14292175972920513536"
     },
     "user_tz": -330
    },
    "id": "U2fYC7J7mRCI",
    "outputId": "725aaf20-49a1-4161-ecc2-999c6f534006"
   },
   "outputs": [
    {
     "data": {
      "text/html": [
       "<html>\n",
       "<head><meta charset=\"utf-8\" /></head>\n",
       "<body>\n",
       "    <div>            <script src=\"https://cdnjs.cloudflare.com/ajax/libs/mathjax/2.7.5/MathJax.js?config=TeX-AMS-MML_SVG\"></script><script type=\"text/javascript\">if (window.MathJax) {MathJax.Hub.Config({SVG: {font: \"STIX-Web\"}});}</script>                <script type=\"text/javascript\">window.PlotlyConfig = {MathJaxConfig: 'local'};</script>\n",
       "        <script src=\"https://cdn.plot.ly/plotly-2.8.3.min.js\"></script>                <div id=\"dec6ca21-0bcd-4638-a0ef-07acbc70667e\" class=\"plotly-graph-div\" style=\"height:525px; width:100%;\"></div>            <script type=\"text/javascript\">                                    window.PLOTLYENV=window.PLOTLYENV || {};                                    if (document.getElementById(\"dec6ca21-0bcd-4638-a0ef-07acbc70667e\")) {                    Plotly.newPlot(                        \"dec6ca21-0bcd-4638-a0ef-07acbc70667e\",                        [{\"alignmentgroup\":\"True\",\"hovertemplate\":\"Investors=%{x}<br>Number of Unicorns=%{y}<extra></extra>\",\"legendgroup\":\"\",\"marker\":{\"color\":\"#636efa\",\"pattern\":{\"shape\":\"\"}},\"name\":\"\",\"offsetgroup\":\"\",\"orientation\":\"v\",\"showlegend\":false,\"textposition\":\"auto\",\"texttemplate\":\"%{y}\",\"x\":[\"Accel\",\"Tiger Global Management\",\"Andreessen Horowitz\",\"Sequoia Capital China\",\"Insight Partners\",\"Sequoia Capital\",\"Lightspeed Venture Partners\",\"SoftBank Group\",\"General Catalyst\",\"Tencent Holdings\"],\"xaxis\":\"x\",\"y\":[55,48,41,40,39,37,32,31,30,27],\"yaxis\":\"y\",\"type\":\"bar\"}],                        {\"template\":{\"data\":{\"bar\":[{\"error_x\":{\"color\":\"#2a3f5f\"},\"error_y\":{\"color\":\"#2a3f5f\"},\"marker\":{\"line\":{\"color\":\"#E5ECF6\",\"width\":0.5},\"pattern\":{\"fillmode\":\"overlay\",\"size\":10,\"solidity\":0.2}},\"type\":\"bar\"}],\"barpolar\":[{\"marker\":{\"line\":{\"color\":\"#E5ECF6\",\"width\":0.5},\"pattern\":{\"fillmode\":\"overlay\",\"size\":10,\"solidity\":0.2}},\"type\":\"barpolar\"}],\"carpet\":[{\"aaxis\":{\"endlinecolor\":\"#2a3f5f\",\"gridcolor\":\"white\",\"linecolor\":\"white\",\"minorgridcolor\":\"white\",\"startlinecolor\":\"#2a3f5f\"},\"baxis\":{\"endlinecolor\":\"#2a3f5f\",\"gridcolor\":\"white\",\"linecolor\":\"white\",\"minorgridcolor\":\"white\",\"startlinecolor\":\"#2a3f5f\"},\"type\":\"carpet\"}],\"choropleth\":[{\"colorbar\":{\"outlinewidth\":0,\"ticks\":\"\"},\"type\":\"choropleth\"}],\"contour\":[{\"colorbar\":{\"outlinewidth\":0,\"ticks\":\"\"},\"colorscale\":[[0.0,\"#0d0887\"],[0.1111111111111111,\"#46039f\"],[0.2222222222222222,\"#7201a8\"],[0.3333333333333333,\"#9c179e\"],[0.4444444444444444,\"#bd3786\"],[0.5555555555555556,\"#d8576b\"],[0.6666666666666666,\"#ed7953\"],[0.7777777777777778,\"#fb9f3a\"],[0.8888888888888888,\"#fdca26\"],[1.0,\"#f0f921\"]],\"type\":\"contour\"}],\"contourcarpet\":[{\"colorbar\":{\"outlinewidth\":0,\"ticks\":\"\"},\"type\":\"contourcarpet\"}],\"heatmap\":[{\"colorbar\":{\"outlinewidth\":0,\"ticks\":\"\"},\"colorscale\":[[0.0,\"#0d0887\"],[0.1111111111111111,\"#46039f\"],[0.2222222222222222,\"#7201a8\"],[0.3333333333333333,\"#9c179e\"],[0.4444444444444444,\"#bd3786\"],[0.5555555555555556,\"#d8576b\"],[0.6666666666666666,\"#ed7953\"],[0.7777777777777778,\"#fb9f3a\"],[0.8888888888888888,\"#fdca26\"],[1.0,\"#f0f921\"]],\"type\":\"heatmap\"}],\"heatmapgl\":[{\"colorbar\":{\"outlinewidth\":0,\"ticks\":\"\"},\"colorscale\":[[0.0,\"#0d0887\"],[0.1111111111111111,\"#46039f\"],[0.2222222222222222,\"#7201a8\"],[0.3333333333333333,\"#9c179e\"],[0.4444444444444444,\"#bd3786\"],[0.5555555555555556,\"#d8576b\"],[0.6666666666666666,\"#ed7953\"],[0.7777777777777778,\"#fb9f3a\"],[0.8888888888888888,\"#fdca26\"],[1.0,\"#f0f921\"]],\"type\":\"heatmapgl\"}],\"histogram\":[{\"marker\":{\"pattern\":{\"fillmode\":\"overlay\",\"size\":10,\"solidity\":0.2}},\"type\":\"histogram\"}],\"histogram2d\":[{\"colorbar\":{\"outlinewidth\":0,\"ticks\":\"\"},\"colorscale\":[[0.0,\"#0d0887\"],[0.1111111111111111,\"#46039f\"],[0.2222222222222222,\"#7201a8\"],[0.3333333333333333,\"#9c179e\"],[0.4444444444444444,\"#bd3786\"],[0.5555555555555556,\"#d8576b\"],[0.6666666666666666,\"#ed7953\"],[0.7777777777777778,\"#fb9f3a\"],[0.8888888888888888,\"#fdca26\"],[1.0,\"#f0f921\"]],\"type\":\"histogram2d\"}],\"histogram2dcontour\":[{\"colorbar\":{\"outlinewidth\":0,\"ticks\":\"\"},\"colorscale\":[[0.0,\"#0d0887\"],[0.1111111111111111,\"#46039f\"],[0.2222222222222222,\"#7201a8\"],[0.3333333333333333,\"#9c179e\"],[0.4444444444444444,\"#bd3786\"],[0.5555555555555556,\"#d8576b\"],[0.6666666666666666,\"#ed7953\"],[0.7777777777777778,\"#fb9f3a\"],[0.8888888888888888,\"#fdca26\"],[1.0,\"#f0f921\"]],\"type\":\"histogram2dcontour\"}],\"mesh3d\":[{\"colorbar\":{\"outlinewidth\":0,\"ticks\":\"\"},\"type\":\"mesh3d\"}],\"parcoords\":[{\"line\":{\"colorbar\":{\"outlinewidth\":0,\"ticks\":\"\"}},\"type\":\"parcoords\"}],\"pie\":[{\"automargin\":true,\"type\":\"pie\"}],\"scatter\":[{\"marker\":{\"colorbar\":{\"outlinewidth\":0,\"ticks\":\"\"}},\"type\":\"scatter\"}],\"scatter3d\":[{\"line\":{\"colorbar\":{\"outlinewidth\":0,\"ticks\":\"\"}},\"marker\":{\"colorbar\":{\"outlinewidth\":0,\"ticks\":\"\"}},\"type\":\"scatter3d\"}],\"scattercarpet\":[{\"marker\":{\"colorbar\":{\"outlinewidth\":0,\"ticks\":\"\"}},\"type\":\"scattercarpet\"}],\"scattergeo\":[{\"marker\":{\"colorbar\":{\"outlinewidth\":0,\"ticks\":\"\"}},\"type\":\"scattergeo\"}],\"scattergl\":[{\"marker\":{\"colorbar\":{\"outlinewidth\":0,\"ticks\":\"\"}},\"type\":\"scattergl\"}],\"scattermapbox\":[{\"marker\":{\"colorbar\":{\"outlinewidth\":0,\"ticks\":\"\"}},\"type\":\"scattermapbox\"}],\"scatterpolar\":[{\"marker\":{\"colorbar\":{\"outlinewidth\":0,\"ticks\":\"\"}},\"type\":\"scatterpolar\"}],\"scatterpolargl\":[{\"marker\":{\"colorbar\":{\"outlinewidth\":0,\"ticks\":\"\"}},\"type\":\"scatterpolargl\"}],\"scatterternary\":[{\"marker\":{\"colorbar\":{\"outlinewidth\":0,\"ticks\":\"\"}},\"type\":\"scatterternary\"}],\"surface\":[{\"colorbar\":{\"outlinewidth\":0,\"ticks\":\"\"},\"colorscale\":[[0.0,\"#0d0887\"],[0.1111111111111111,\"#46039f\"],[0.2222222222222222,\"#7201a8\"],[0.3333333333333333,\"#9c179e\"],[0.4444444444444444,\"#bd3786\"],[0.5555555555555556,\"#d8576b\"],[0.6666666666666666,\"#ed7953\"],[0.7777777777777778,\"#fb9f3a\"],[0.8888888888888888,\"#fdca26\"],[1.0,\"#f0f921\"]],\"type\":\"surface\"}],\"table\":[{\"cells\":{\"fill\":{\"color\":\"#EBF0F8\"},\"line\":{\"color\":\"white\"}},\"header\":{\"fill\":{\"color\":\"#C8D4E3\"},\"line\":{\"color\":\"white\"}},\"type\":\"table\"}]},\"layout\":{\"annotationdefaults\":{\"arrowcolor\":\"#2a3f5f\",\"arrowhead\":0,\"arrowwidth\":1},\"autotypenumbers\":\"strict\",\"coloraxis\":{\"colorbar\":{\"outlinewidth\":0,\"ticks\":\"\"}},\"colorscale\":{\"diverging\":[[0,\"#8e0152\"],[0.1,\"#c51b7d\"],[0.2,\"#de77ae\"],[0.3,\"#f1b6da\"],[0.4,\"#fde0ef\"],[0.5,\"#f7f7f7\"],[0.6,\"#e6f5d0\"],[0.7,\"#b8e186\"],[0.8,\"#7fbc41\"],[0.9,\"#4d9221\"],[1,\"#276419\"]],\"sequential\":[[0.0,\"#0d0887\"],[0.1111111111111111,\"#46039f\"],[0.2222222222222222,\"#7201a8\"],[0.3333333333333333,\"#9c179e\"],[0.4444444444444444,\"#bd3786\"],[0.5555555555555556,\"#d8576b\"],[0.6666666666666666,\"#ed7953\"],[0.7777777777777778,\"#fb9f3a\"],[0.8888888888888888,\"#fdca26\"],[1.0,\"#f0f921\"]],\"sequentialminus\":[[0.0,\"#0d0887\"],[0.1111111111111111,\"#46039f\"],[0.2222222222222222,\"#7201a8\"],[0.3333333333333333,\"#9c179e\"],[0.4444444444444444,\"#bd3786\"],[0.5555555555555556,\"#d8576b\"],[0.6666666666666666,\"#ed7953\"],[0.7777777777777778,\"#fb9f3a\"],[0.8888888888888888,\"#fdca26\"],[1.0,\"#f0f921\"]]},\"colorway\":[\"#636efa\",\"#EF553B\",\"#00cc96\",\"#ab63fa\",\"#FFA15A\",\"#19d3f3\",\"#FF6692\",\"#B6E880\",\"#FF97FF\",\"#FECB52\"],\"font\":{\"color\":\"#2a3f5f\"},\"geo\":{\"bgcolor\":\"white\",\"lakecolor\":\"white\",\"landcolor\":\"#E5ECF6\",\"showlakes\":true,\"showland\":true,\"subunitcolor\":\"white\"},\"hoverlabel\":{\"align\":\"left\"},\"hovermode\":\"closest\",\"mapbox\":{\"style\":\"light\"},\"paper_bgcolor\":\"white\",\"plot_bgcolor\":\"#E5ECF6\",\"polar\":{\"angularaxis\":{\"gridcolor\":\"white\",\"linecolor\":\"white\",\"ticks\":\"\"},\"bgcolor\":\"#E5ECF6\",\"radialaxis\":{\"gridcolor\":\"white\",\"linecolor\":\"white\",\"ticks\":\"\"}},\"scene\":{\"xaxis\":{\"backgroundcolor\":\"#E5ECF6\",\"gridcolor\":\"white\",\"gridwidth\":2,\"linecolor\":\"white\",\"showbackground\":true,\"ticks\":\"\",\"zerolinecolor\":\"white\"},\"yaxis\":{\"backgroundcolor\":\"#E5ECF6\",\"gridcolor\":\"white\",\"gridwidth\":2,\"linecolor\":\"white\",\"showbackground\":true,\"ticks\":\"\",\"zerolinecolor\":\"white\"},\"zaxis\":{\"backgroundcolor\":\"#E5ECF6\",\"gridcolor\":\"white\",\"gridwidth\":2,\"linecolor\":\"white\",\"showbackground\":true,\"ticks\":\"\",\"zerolinecolor\":\"white\"}},\"shapedefaults\":{\"line\":{\"color\":\"#2a3f5f\"}},\"ternary\":{\"aaxis\":{\"gridcolor\":\"white\",\"linecolor\":\"white\",\"ticks\":\"\"},\"baxis\":{\"gridcolor\":\"white\",\"linecolor\":\"white\",\"ticks\":\"\"},\"bgcolor\":\"#E5ECF6\",\"caxis\":{\"gridcolor\":\"white\",\"linecolor\":\"white\",\"ticks\":\"\"}},\"title\":{\"x\":0.05},\"xaxis\":{\"automargin\":true,\"gridcolor\":\"white\",\"linecolor\":\"white\",\"ticks\":\"\",\"title\":{\"standoff\":15},\"zerolinecolor\":\"white\",\"zerolinewidth\":2},\"yaxis\":{\"automargin\":true,\"gridcolor\":\"white\",\"linecolor\":\"white\",\"ticks\":\"\",\"title\":{\"standoff\":15},\"zerolinecolor\":\"white\",\"zerolinewidth\":2}}},\"xaxis\":{\"anchor\":\"y\",\"domain\":[0.0,1.0],\"title\":{\"text\":\"Investors\"}},\"yaxis\":{\"anchor\":\"x\",\"domain\":[0.0,1.0],\"title\":{\"text\":\"Number of Unicorns\"}},\"legend\":{\"tracegroupgap\":0},\"title\":{\"text\":\"Top Investors wrt the Number of Unicorns they invested in\"},\"barmode\":\"relative\"},                        {\"responsive\": true}                    ).then(function(){\n",
       "                            \n",
       "var gd = document.getElementById('dec6ca21-0bcd-4638-a0ef-07acbc70667e');\n",
       "var x = new MutationObserver(function (mutations, observer) {{\n",
       "        var display = window.getComputedStyle(gd).display;\n",
       "        if (!display || display === 'none') {{\n",
       "            console.log([gd, 'removed!']);\n",
       "            Plotly.purge(gd);\n",
       "            observer.disconnect();\n",
       "        }}\n",
       "}});\n",
       "\n",
       "// Listen for the removal of the full notebook cells\n",
       "var notebookContainer = gd.closest('#notebook-container');\n",
       "if (notebookContainer) {{\n",
       "    x.observe(notebookContainer, {childList: true});\n",
       "}}\n",
       "\n",
       "// Listen for the clearing of the current output cell\n",
       "var outputEl = gd.closest('.output');\n",
       "if (outputEl) {{\n",
       "    x.observe(outputEl, {childList: true});\n",
       "}}\n",
       "\n",
       "                        })                };                            </script>        </div>\n",
       "</body>\n",
       "</html>"
      ]
     },
     "metadata": {},
     "output_type": "display_data"
    }
   ],
   "source": [
    "px.bar (investors.index,investors.values)\n",
    "fig=px.bar(y=investors.values,x=investors.index,title=\"Top Investors wrt the Number of Unicorns they invested in\",text_auto=True,labels={\"x\":\"Investors\",\"y\":\"Number of Unicorns\"})\n",
    "fig.show()"
   ]
  },
  {
   "cell_type": "markdown",
   "metadata": {
    "id": "I2iuJ1YVJ-hO"
   },
   "source": [
    "Total Raised wrt Valuation"
   ]
  },
  {
   "cell_type": "code",
   "execution_count": null,
   "metadata": {
    "colab": {
     "base_uri": "https://localhost:8080/",
     "height": 542
    },
    "executionInfo": {
     "elapsed": 12,
     "status": "ok",
     "timestamp": 1677260110919,
     "user": {
      "displayName": "Shloke Maheshwari",
      "userId": "14292175972920513536"
     },
     "user_tz": -330
    },
    "id": "H-csFHv1KO-1",
    "outputId": "4ef2309d-e63e-4689-eac5-28736a8a112a"
   },
   "outputs": [
    {
     "data": {
      "text/html": [
       "<html>\n",
       "<head><meta charset=\"utf-8\" /></head>\n",
       "<body>\n",
       "    <div>            <script src=\"https://cdnjs.cloudflare.com/ajax/libs/mathjax/2.7.5/MathJax.js?config=TeX-AMS-MML_SVG\"></script><script type=\"text/javascript\">if (window.MathJax) {MathJax.Hub.Config({SVG: {font: \"STIX-Web\"}});}</script>                <script type=\"text/javascript\">window.PlotlyConfig = {MathJaxConfig: 'local'};</script>\n",
       "        <script src=\"https://cdn.plot.ly/plotly-2.8.3.min.js\"></script>                <div id=\"d6a3c3b0-a18c-4e25-ba2c-800d6e9dd3ce\" class=\"plotly-graph-div\" style=\"height:525px; width:100%;\"></div>            <script type=\"text/javascript\">                                    window.PLOTLYENV=window.PLOTLYENV || {};                                    if (document.getElementById(\"d6a3c3b0-a18c-4e25-ba2c-800d6e9dd3ce\")) {                    Plotly.newPlot(                        \"d6a3c3b0-a18c-4e25-ba2c-800d6e9dd3ce\",                        [{\"hovertemplate\":\"<b>%{hovertext}</b><br><br>color=Bytedance<br>Valuation($B)=%{x}<br>Total Raised($B)=%{y}<br>size=%{marker.size}<extra></extra>\",\"hovertext\":[\"Bytedance\"],\"legendgroup\":\"Bytedance\",\"marker\":{\"color\":\"#636efa\",\"size\":[5],\"sizemode\":\"area\",\"sizeref\":0.005510204081632653,\"symbol\":\"circle\"},\"mode\":\"markers\",\"name\":\"Bytedance\",\"orientation\":\"v\",\"showlegend\":true,\"x\":[140.0],\"xaxis\":\"x\",\"y\":[7440000000.0],\"yaxis\":\"y\",\"type\":\"scatter\"},{\"hovertemplate\":\"<b>%{hovertext}</b><br><br>color=SpaceX<br>Valuation($B)=%{x}<br>Total Raised($B)=%{y}<br>size=%{marker.size}<extra></extra>\",\"hovertext\":[\"SpaceX\"],\"legendgroup\":\"SpaceX\",\"marker\":{\"color\":\"#EF553B\",\"size\":[10],\"sizemode\":\"area\",\"sizeref\":0.005510204081632653,\"symbol\":\"circle\"},\"mode\":\"markers\",\"name\":\"SpaceX\",\"orientation\":\"v\",\"showlegend\":true,\"x\":[100.3],\"xaxis\":\"x\",\"y\":[6874000000.0],\"yaxis\":\"y\",\"type\":\"scatter\"},{\"hovertemplate\":\"<b>%{hovertext}</b><br><br>color=Stripe<br>Valuation($B)=%{x}<br>Total Raised($B)=%{y}<br>size=%{marker.size}<extra></extra>\",\"hovertext\":[\"Stripe\"],\"legendgroup\":\"Stripe\",\"marker\":{\"color\":\"#00cc96\",\"size\":[4],\"sizemode\":\"area\",\"sizeref\":0.005510204081632653,\"symbol\":\"circle\"},\"mode\":\"markers\",\"name\":\"Stripe\",\"orientation\":\"v\",\"showlegend\":true,\"x\":[95.0],\"xaxis\":\"x\",\"y\":[2901000000.0],\"yaxis\":\"y\",\"type\":\"scatter\"},{\"hovertemplate\":\"<b>%{hovertext}</b><br><br>color=Klarna<br>Valuation($B)=%{x}<br>Total Raised($B)=%{y}<br>size=%{marker.size}<extra></extra>\",\"hovertext\":[\"Klarna\"],\"legendgroup\":\"Klarna\",\"marker\":{\"color\":\"#ab63fa\",\"size\":[6],\"sizemode\":\"area\",\"sizeref\":0.005510204081632653,\"symbol\":\"circle\"},\"mode\":\"markers\",\"name\":\"Klarna\",\"orientation\":\"v\",\"showlegend\":true,\"x\":[45.6],\"xaxis\":\"x\",\"y\":[3472000000.0],\"yaxis\":\"y\",\"type\":\"scatter\"},{\"hovertemplate\":\"<b>%{hovertext}</b><br><br>color=Epic Games<br>Valuation($B)=%{x}<br>Total Raised($B)=%{y}<br>size=%{marker.size}<extra></extra>\",\"hovertext\":[\"Epic Games\"],\"legendgroup\":\"Epic Games\",\"marker\":{\"color\":\"#FFA15A\",\"size\":[27],\"sizemode\":\"area\",\"sizeref\":0.005510204081632653,\"symbol\":\"circle\"},\"mode\":\"markers\",\"name\":\"Epic Games\",\"orientation\":\"v\",\"showlegend\":true,\"x\":[42.0],\"xaxis\":\"x\",\"y\":[4377000000.0],\"yaxis\":\"y\",\"type\":\"scatter\"},{\"hovertemplate\":\"<b>%{hovertext}</b><br><br>color=Canva<br>Valuation($B)=%{x}<br>Total Raised($B)=%{y}<br>size=%{marker.size}<extra></extra>\",\"hovertext\":[\"Canva\"],\"legendgroup\":\"Canva\",\"marker\":{\"color\":\"#19d3f3\",\"size\":[6],\"sizemode\":\"area\",\"sizeref\":0.005510204081632653,\"symbol\":\"circle\"},\"mode\":\"markers\",\"name\":\"Canva\",\"orientation\":\"v\",\"showlegend\":true,\"x\":[40.0],\"xaxis\":\"x\",\"y\":[571260000.0],\"yaxis\":\"y\",\"type\":\"scatter\"},{\"hovertemplate\":\"<b>%{hovertext}</b><br><br>color=Checkout.com<br>Valuation($B)=%{x}<br>Total Raised($B)=%{y}<br>size=%{marker.size}<extra></extra>\",\"hovertext\":[\"Checkout.com\"],\"legendgroup\":\"Checkout.com\",\"marker\":{\"color\":\"#FF6692\",\"size\":[7],\"sizemode\":\"area\",\"sizeref\":0.005510204081632653,\"symbol\":\"circle\"},\"mode\":\"markers\",\"name\":\"Checkout.com\",\"orientation\":\"v\",\"showlegend\":true,\"x\":[40.0],\"xaxis\":\"x\",\"y\":[1830000000.0],\"yaxis\":\"y\",\"type\":\"scatter\"},{\"hovertemplate\":\"<b>%{hovertext}</b><br><br>color=Instacart<br>Valuation($B)=%{x}<br>Total Raised($B)=%{y}<br>size=%{marker.size}<extra></extra>\",\"hovertext\":[\"Instacart\"],\"legendgroup\":\"Instacart\",\"marker\":{\"color\":\"#B6E880\",\"size\":[2],\"sizemode\":\"area\",\"sizeref\":0.005510204081632653,\"symbol\":\"circle\"},\"mode\":\"markers\",\"name\":\"Instacart\",\"orientation\":\"v\",\"showlegend\":true,\"x\":[39.0],\"xaxis\":\"x\",\"y\":[2686000000.0],\"yaxis\":\"y\",\"type\":\"scatter\"},{\"hovertemplate\":\"<b>%{hovertext}</b><br><br>color=Databricks<br>Valuation($B)=%{x}<br>Total Raised($B)=%{y}<br>size=%{marker.size}<extra></extra>\",\"hovertext\":[\"Databricks\"],\"legendgroup\":\"Databricks\",\"marker\":{\"color\":\"#FF97FF\",\"size\":[6],\"sizemode\":\"area\",\"sizeref\":0.005510204081632653,\"symbol\":\"circle\"},\"mode\":\"markers\",\"name\":\"Databricks\",\"orientation\":\"v\",\"showlegend\":true,\"x\":[38.0],\"xaxis\":\"x\",\"y\":[3497000000.0],\"yaxis\":\"y\",\"type\":\"scatter\"},{\"hovertemplate\":\"<b>%{hovertext}</b><br><br>color=Revolut<br>Valuation($B)=%{x}<br>Total Raised($B)=%{y}<br>size=%{marker.size}<extra></extra>\",\"hovertext\":[\"Revolut\"],\"legendgroup\":\"Revolut\",\"marker\":{\"color\":\"#FECB52\",\"size\":[3],\"sizemode\":\"area\",\"sizeref\":0.005510204081632653,\"symbol\":\"circle\"},\"mode\":\"markers\",\"name\":\"Revolut\",\"orientation\":\"v\",\"showlegend\":true,\"x\":[33.0],\"xaxis\":\"x\",\"y\":[1716000000.0],\"yaxis\":\"y\",\"type\":\"scatter\"},{\"hovertemplate\":\"<b>%{hovertext}</b><br><br>color=Fanatics<br>Valuation($B)=%{x}<br>Total Raised($B)=%{y}<br>size=%{marker.size}<extra></extra>\",\"hovertext\":[\"Fanatics\"],\"legendgroup\":\"Fanatics\",\"marker\":{\"color\":\"#636efa\",\"size\":[17],\"sizemode\":\"area\",\"sizeref\":0.005510204081632653,\"symbol\":\"circle\"},\"mode\":\"markers\",\"name\":\"Fanatics\",\"orientation\":\"v\",\"showlegend\":true,\"x\":[27.0],\"xaxis\":\"x\",\"y\":[4190000000.0000005],\"yaxis\":\"y\",\"type\":\"scatter\"},{\"hovertemplate\":\"<b>%{hovertext}</b><br><br>color=Chime<br>Valuation($B)=%{x}<br>Total Raised($B)=%{y}<br>size=%{marker.size}<extra></extra>\",\"hovertext\":[\"Chime\"],\"legendgroup\":\"Chime\",\"marker\":{\"color\":\"#EF553B\",\"size\":[6],\"sizemode\":\"area\",\"sizeref\":0.005510204081632653,\"symbol\":\"circle\"},\"mode\":\"markers\",\"name\":\"Chime\",\"orientation\":\"v\",\"showlegend\":true,\"x\":[25.0],\"xaxis\":\"x\",\"y\":[2599000000.0],\"yaxis\":\"y\",\"type\":\"scatter\"},{\"hovertemplate\":\"<b>%{hovertext}</b><br><br>color=BYJU's<br>Valuation($B)=%{x}<br>Total Raised($B)=%{y}<br>size=%{marker.size}<extra></extra>\",\"hovertext\":[\"BYJU's\"],\"legendgroup\":\"BYJU's\",\"marker\":{\"color\":\"#00cc96\",\"size\":[9],\"sizemode\":\"area\",\"sizeref\":0.005510204081632653,\"symbol\":\"circle\"},\"mode\":\"markers\",\"name\":\"BYJU's\",\"orientation\":\"v\",\"showlegend\":true,\"x\":[21.0],\"xaxis\":\"x\",\"y\":[5183000000.0],\"yaxis\":\"y\",\"type\":\"scatter\"}],                        {\"template\":{\"data\":{\"bar\":[{\"error_x\":{\"color\":\"#2a3f5f\"},\"error_y\":{\"color\":\"#2a3f5f\"},\"marker\":{\"line\":{\"color\":\"#E5ECF6\",\"width\":0.5},\"pattern\":{\"fillmode\":\"overlay\",\"size\":10,\"solidity\":0.2}},\"type\":\"bar\"}],\"barpolar\":[{\"marker\":{\"line\":{\"color\":\"#E5ECF6\",\"width\":0.5},\"pattern\":{\"fillmode\":\"overlay\",\"size\":10,\"solidity\":0.2}},\"type\":\"barpolar\"}],\"carpet\":[{\"aaxis\":{\"endlinecolor\":\"#2a3f5f\",\"gridcolor\":\"white\",\"linecolor\":\"white\",\"minorgridcolor\":\"white\",\"startlinecolor\":\"#2a3f5f\"},\"baxis\":{\"endlinecolor\":\"#2a3f5f\",\"gridcolor\":\"white\",\"linecolor\":\"white\",\"minorgridcolor\":\"white\",\"startlinecolor\":\"#2a3f5f\"},\"type\":\"carpet\"}],\"choropleth\":[{\"colorbar\":{\"outlinewidth\":0,\"ticks\":\"\"},\"type\":\"choropleth\"}],\"contour\":[{\"colorbar\":{\"outlinewidth\":0,\"ticks\":\"\"},\"colorscale\":[[0.0,\"#0d0887\"],[0.1111111111111111,\"#46039f\"],[0.2222222222222222,\"#7201a8\"],[0.3333333333333333,\"#9c179e\"],[0.4444444444444444,\"#bd3786\"],[0.5555555555555556,\"#d8576b\"],[0.6666666666666666,\"#ed7953\"],[0.7777777777777778,\"#fb9f3a\"],[0.8888888888888888,\"#fdca26\"],[1.0,\"#f0f921\"]],\"type\":\"contour\"}],\"contourcarpet\":[{\"colorbar\":{\"outlinewidth\":0,\"ticks\":\"\"},\"type\":\"contourcarpet\"}],\"heatmap\":[{\"colorbar\":{\"outlinewidth\":0,\"ticks\":\"\"},\"colorscale\":[[0.0,\"#0d0887\"],[0.1111111111111111,\"#46039f\"],[0.2222222222222222,\"#7201a8\"],[0.3333333333333333,\"#9c179e\"],[0.4444444444444444,\"#bd3786\"],[0.5555555555555556,\"#d8576b\"],[0.6666666666666666,\"#ed7953\"],[0.7777777777777778,\"#fb9f3a\"],[0.8888888888888888,\"#fdca26\"],[1.0,\"#f0f921\"]],\"type\":\"heatmap\"}],\"heatmapgl\":[{\"colorbar\":{\"outlinewidth\":0,\"ticks\":\"\"},\"colorscale\":[[0.0,\"#0d0887\"],[0.1111111111111111,\"#46039f\"],[0.2222222222222222,\"#7201a8\"],[0.3333333333333333,\"#9c179e\"],[0.4444444444444444,\"#bd3786\"],[0.5555555555555556,\"#d8576b\"],[0.6666666666666666,\"#ed7953\"],[0.7777777777777778,\"#fb9f3a\"],[0.8888888888888888,\"#fdca26\"],[1.0,\"#f0f921\"]],\"type\":\"heatmapgl\"}],\"histogram\":[{\"marker\":{\"pattern\":{\"fillmode\":\"overlay\",\"size\":10,\"solidity\":0.2}},\"type\":\"histogram\"}],\"histogram2d\":[{\"colorbar\":{\"outlinewidth\":0,\"ticks\":\"\"},\"colorscale\":[[0.0,\"#0d0887\"],[0.1111111111111111,\"#46039f\"],[0.2222222222222222,\"#7201a8\"],[0.3333333333333333,\"#9c179e\"],[0.4444444444444444,\"#bd3786\"],[0.5555555555555556,\"#d8576b\"],[0.6666666666666666,\"#ed7953\"],[0.7777777777777778,\"#fb9f3a\"],[0.8888888888888888,\"#fdca26\"],[1.0,\"#f0f921\"]],\"type\":\"histogram2d\"}],\"histogram2dcontour\":[{\"colorbar\":{\"outlinewidth\":0,\"ticks\":\"\"},\"colorscale\":[[0.0,\"#0d0887\"],[0.1111111111111111,\"#46039f\"],[0.2222222222222222,\"#7201a8\"],[0.3333333333333333,\"#9c179e\"],[0.4444444444444444,\"#bd3786\"],[0.5555555555555556,\"#d8576b\"],[0.6666666666666666,\"#ed7953\"],[0.7777777777777778,\"#fb9f3a\"],[0.8888888888888888,\"#fdca26\"],[1.0,\"#f0f921\"]],\"type\":\"histogram2dcontour\"}],\"mesh3d\":[{\"colorbar\":{\"outlinewidth\":0,\"ticks\":\"\"},\"type\":\"mesh3d\"}],\"parcoords\":[{\"line\":{\"colorbar\":{\"outlinewidth\":0,\"ticks\":\"\"}},\"type\":\"parcoords\"}],\"pie\":[{\"automargin\":true,\"type\":\"pie\"}],\"scatter\":[{\"marker\":{\"colorbar\":{\"outlinewidth\":0,\"ticks\":\"\"}},\"type\":\"scatter\"}],\"scatter3d\":[{\"line\":{\"colorbar\":{\"outlinewidth\":0,\"ticks\":\"\"}},\"marker\":{\"colorbar\":{\"outlinewidth\":0,\"ticks\":\"\"}},\"type\":\"scatter3d\"}],\"scattercarpet\":[{\"marker\":{\"colorbar\":{\"outlinewidth\":0,\"ticks\":\"\"}},\"type\":\"scattercarpet\"}],\"scattergeo\":[{\"marker\":{\"colorbar\":{\"outlinewidth\":0,\"ticks\":\"\"}},\"type\":\"scattergeo\"}],\"scattergl\":[{\"marker\":{\"colorbar\":{\"outlinewidth\":0,\"ticks\":\"\"}},\"type\":\"scattergl\"}],\"scattermapbox\":[{\"marker\":{\"colorbar\":{\"outlinewidth\":0,\"ticks\":\"\"}},\"type\":\"scattermapbox\"}],\"scatterpolar\":[{\"marker\":{\"colorbar\":{\"outlinewidth\":0,\"ticks\":\"\"}},\"type\":\"scatterpolar\"}],\"scatterpolargl\":[{\"marker\":{\"colorbar\":{\"outlinewidth\":0,\"ticks\":\"\"}},\"type\":\"scatterpolargl\"}],\"scatterternary\":[{\"marker\":{\"colorbar\":{\"outlinewidth\":0,\"ticks\":\"\"}},\"type\":\"scatterternary\"}],\"surface\":[{\"colorbar\":{\"outlinewidth\":0,\"ticks\":\"\"},\"colorscale\":[[0.0,\"#0d0887\"],[0.1111111111111111,\"#46039f\"],[0.2222222222222222,\"#7201a8\"],[0.3333333333333333,\"#9c179e\"],[0.4444444444444444,\"#bd3786\"],[0.5555555555555556,\"#d8576b\"],[0.6666666666666666,\"#ed7953\"],[0.7777777777777778,\"#fb9f3a\"],[0.8888888888888888,\"#fdca26\"],[1.0,\"#f0f921\"]],\"type\":\"surface\"}],\"table\":[{\"cells\":{\"fill\":{\"color\":\"#EBF0F8\"},\"line\":{\"color\":\"white\"}},\"header\":{\"fill\":{\"color\":\"#C8D4E3\"},\"line\":{\"color\":\"white\"}},\"type\":\"table\"}]},\"layout\":{\"annotationdefaults\":{\"arrowcolor\":\"#2a3f5f\",\"arrowhead\":0,\"arrowwidth\":1},\"autotypenumbers\":\"strict\",\"coloraxis\":{\"colorbar\":{\"outlinewidth\":0,\"ticks\":\"\"}},\"colorscale\":{\"diverging\":[[0,\"#8e0152\"],[0.1,\"#c51b7d\"],[0.2,\"#de77ae\"],[0.3,\"#f1b6da\"],[0.4,\"#fde0ef\"],[0.5,\"#f7f7f7\"],[0.6,\"#e6f5d0\"],[0.7,\"#b8e186\"],[0.8,\"#7fbc41\"],[0.9,\"#4d9221\"],[1,\"#276419\"]],\"sequential\":[[0.0,\"#0d0887\"],[0.1111111111111111,\"#46039f\"],[0.2222222222222222,\"#7201a8\"],[0.3333333333333333,\"#9c179e\"],[0.4444444444444444,\"#bd3786\"],[0.5555555555555556,\"#d8576b\"],[0.6666666666666666,\"#ed7953\"],[0.7777777777777778,\"#fb9f3a\"],[0.8888888888888888,\"#fdca26\"],[1.0,\"#f0f921\"]],\"sequentialminus\":[[0.0,\"#0d0887\"],[0.1111111111111111,\"#46039f\"],[0.2222222222222222,\"#7201a8\"],[0.3333333333333333,\"#9c179e\"],[0.4444444444444444,\"#bd3786\"],[0.5555555555555556,\"#d8576b\"],[0.6666666666666666,\"#ed7953\"],[0.7777777777777778,\"#fb9f3a\"],[0.8888888888888888,\"#fdca26\"],[1.0,\"#f0f921\"]]},\"colorway\":[\"#636efa\",\"#EF553B\",\"#00cc96\",\"#ab63fa\",\"#FFA15A\",\"#19d3f3\",\"#FF6692\",\"#B6E880\",\"#FF97FF\",\"#FECB52\"],\"font\":{\"color\":\"#2a3f5f\"},\"geo\":{\"bgcolor\":\"white\",\"lakecolor\":\"white\",\"landcolor\":\"#E5ECF6\",\"showlakes\":true,\"showland\":true,\"subunitcolor\":\"white\"},\"hoverlabel\":{\"align\":\"left\"},\"hovermode\":\"closest\",\"mapbox\":{\"style\":\"light\"},\"paper_bgcolor\":\"white\",\"plot_bgcolor\":\"#E5ECF6\",\"polar\":{\"angularaxis\":{\"gridcolor\":\"white\",\"linecolor\":\"white\",\"ticks\":\"\"},\"bgcolor\":\"#E5ECF6\",\"radialaxis\":{\"gridcolor\":\"white\",\"linecolor\":\"white\",\"ticks\":\"\"}},\"scene\":{\"xaxis\":{\"backgroundcolor\":\"#E5ECF6\",\"gridcolor\":\"white\",\"gridwidth\":2,\"linecolor\":\"white\",\"showbackground\":true,\"ticks\":\"\",\"zerolinecolor\":\"white\"},\"yaxis\":{\"backgroundcolor\":\"#E5ECF6\",\"gridcolor\":\"white\",\"gridwidth\":2,\"linecolor\":\"white\",\"showbackground\":true,\"ticks\":\"\",\"zerolinecolor\":\"white\"},\"zaxis\":{\"backgroundcolor\":\"#E5ECF6\",\"gridcolor\":\"white\",\"gridwidth\":2,\"linecolor\":\"white\",\"showbackground\":true,\"ticks\":\"\",\"zerolinecolor\":\"white\"}},\"shapedefaults\":{\"line\":{\"color\":\"#2a3f5f\"}},\"ternary\":{\"aaxis\":{\"gridcolor\":\"white\",\"linecolor\":\"white\",\"ticks\":\"\"},\"baxis\":{\"gridcolor\":\"white\",\"linecolor\":\"white\",\"ticks\":\"\"},\"bgcolor\":\"#E5ECF6\",\"caxis\":{\"gridcolor\":\"white\",\"linecolor\":\"white\",\"ticks\":\"\"}},\"title\":{\"x\":0.05},\"xaxis\":{\"automargin\":true,\"gridcolor\":\"white\",\"linecolor\":\"white\",\"ticks\":\"\",\"title\":{\"standoff\":15},\"zerolinecolor\":\"white\",\"zerolinewidth\":2},\"yaxis\":{\"automargin\":true,\"gridcolor\":\"white\",\"linecolor\":\"white\",\"ticks\":\"\",\"title\":{\"standoff\":15},\"zerolinecolor\":\"white\",\"zerolinewidth\":2}}},\"xaxis\":{\"anchor\":\"y\",\"domain\":[0.0,1.0],\"title\":{\"text\":\"Valuation($B)\"}},\"yaxis\":{\"anchor\":\"x\",\"domain\":[0.0,1.0],\"title\":{\"text\":\"Total Raised($B)\"}},\"legend\":{\"title\":{\"text\":\"color\"},\"tracegroupgap\":0,\"itemsizing\":\"constant\"},\"title\":{\"text\":\"Total Raised wrt the Valuation of Top Unicorns(Size of the bubble: Years taken to become Unicorn)\"}},                        {\"responsive\": true}                    ).then(function(){\n",
       "                            \n",
       "var gd = document.getElementById('d6a3c3b0-a18c-4e25-ba2c-800d6e9dd3ce');\n",
       "var x = new MutationObserver(function (mutations, observer) {{\n",
       "        var display = window.getComputedStyle(gd).display;\n",
       "        if (!display || display === 'none') {{\n",
       "            console.log([gd, 'removed!']);\n",
       "            Plotly.purge(gd);\n",
       "            observer.disconnect();\n",
       "        }}\n",
       "}});\n",
       "\n",
       "// Listen for the removal of the full notebook cells\n",
       "var notebookContainer = gd.closest('#notebook-container');\n",
       "if (notebookContainer) {{\n",
       "    x.observe(notebookContainer, {childList: true});\n",
       "}}\n",
       "\n",
       "// Listen for the clearing of the current output cell\n",
       "var outputEl = gd.closest('.output');\n",
       "if (outputEl) {{\n",
       "    x.observe(outputEl, {childList: true});\n",
       "}}\n",
       "\n",
       "                        })                };                            </script>        </div>\n",
       "</body>\n",
       "</html>"
      ]
     },
     "metadata": {},
     "output_type": "display_data"
    }
   ],
   "source": [
    "temp=df.sort_values(\"Valuation ($B)\", ascending=False)[:13]\n",
    "fig=px.scatter(x=temp['Valuation ($B)'], y=temp['Total Raised'],size=temp['Years Taken to become Unicorn'] ,hover_name=temp['Company'],color=temp['Company'],size_max=70,title=\"Total Raised wrt the Valuation of Top Unicorns(Size of the bubble: Years taken to become Unicorn)\",labels={\"x\":\"Valuation($B)\",\"y\":\"Total Raised($B)\"})\n",
    "fig.show()"
   ]
  }
 ],
 "metadata": {
  "colab": {
   "provenance": []
  },
  "kernelspec": {
   "display_name": "Python 3 (ipykernel)",
   "language": "python",
   "name": "python3"
  },
  "language_info": {
   "codemirror_mode": {
    "name": "ipython",
    "version": 3
   },
   "file_extension": ".py",
   "mimetype": "text/x-python",
   "name": "python",
   "nbconvert_exporter": "python",
   "pygments_lexer": "ipython3",
   "version": "3.12.7"
  }
 },
 "nbformat": 4,
 "nbformat_minor": 4
}
